{
 "cells": [
  {
   "cell_type": "code",
   "execution_count": 1,
   "metadata": {
    "collapsed": false,
    "pycharm": {
     "name": "#%%\n"
    }
   },
   "outputs": [],
   "source": [
    "import numpy as np\n",
    "import pandas as pd\n",
    "import Forward_kinematics\n",
    "import Delta_multipliers\n",
    "import Function_container"
   ]
  },
  {
   "cell_type": "markdown",
   "metadata": {
    "collapsed": false,
    "pycharm": {
     "name": "#%% md\n"
    }
   },
   "source": [
    "DH parameters: Reference and Actual"
   ]
  },
  {
   "cell_type": "code",
   "execution_count": 2,
   "metadata": {
    "collapsed": false,
    "pycharm": {
     "name": "#%%\n"
    }
   },
   "outputs": [
    {
     "name": "stdout",
     "output_type": "stream",
     "text": [
      "DH_ref:\n",
      "           d       a     alpha\n",
      "q1  0.08946  0.0000  1.570796\n",
      "q2  0.00000 -0.4250  0.000000\n",
      "q3  0.00000 -0.3922  0.000000\n",
      "q4  0.10910  0.0000  1.570796\n",
      "q5  0.09465  0.0000 -1.570796\n",
      "q6  0.08230  0.0000  0.000000 \n",
      "\n",
      "DH_act:\n",
      "        d     a     alpha\n",
      "q1  0.09  0.00  1.727876\n",
      "q2  0.00 -0.43  0.000000\n",
      "q3  0.00 -0.40  0.000000\n",
      "q4  0.10  0.00  1.413717\n",
      "q5  0.10  0.00 -1.413717\n",
      "q6  0.10  0.00  0.000000\n"
     ]
    }
   ],
   "source": [
    "DH_ref = pd.DataFrame(\\\n",
    "    np.array([[0.08946, 0, np.pi/2],\n",
    "             [0, -0.425, 0],\n",
    "             [0, -0.3922, 0],\n",
    "             [0.1091, 0, np.pi/2],\n",
    "             [0.09465, 0, -np.pi/2],\n",
    "             [0.0823, 0, 0]]\n",
    "             ),\n",
    "    columns = [\"d\", \"a\", \"alpha\"],\n",
    "    index = [\"q1\", \"q2\", \"q3\", \"q4\", \"q5\", \"q6\"]\n",
    ")\n",
    "DH_ref.head(6)\n",
    "\n",
    "DH_act = pd.DataFrame(\\\n",
    "    np.array([[0.09, 0, np.pi/2 + np.pi/20],\n",
    "             [0, -0.43, 0],\n",
    "             [0, -0.4, 0],\n",
    "             [0.1, 0, np.pi/2 - np.pi/20],\n",
    "             [0.1, 0, -np.pi/2 + np.pi/20],\n",
    "             [0.1, 0, 0]]\n",
    "             ),\n",
    "    columns = [\"d\", \"a\", \"alpha\"],\n",
    "    index = [\"q1\", \"q2\", \"q3\", \"q4\", \"q5\", \"q6\"]\n",
    ")\n",
    "print(\"DH_ref:\\n\",DH_ref,\"\\n\")\n",
    "print(\"DH_act:\\n\",DH_act)"
   ]
  },
  {
   "cell_type": "markdown",
   "metadata": {
    "collapsed": false,
    "pycharm": {
     "name": "#%% md\n"
    }
   },
   "source": [
    "Forward kinematics:"
   ]
  },
  {
   "cell_type": "code",
   "execution_count": 3,
   "metadata": {
    "collapsed": false,
    "pycharm": {
     "name": "#%%\n"
    }
   },
   "outputs": [],
   "source": [
    "q0 = [np.pi/3, np.pi/3, np.pi/3, np.pi/6, np.pi/6, np.pi/2]\n",
    "T_ref = Forward_kinematics.h_transf(DH_ref,q0)\n",
    "T_act = Forward_kinematics.h_transf(DH_act,q0)"
   ]
  },
  {
   "cell_type": "code",
   "execution_count": 14,
   "metadata": {},
   "outputs": [
    {
     "name": "stdout",
     "output_type": "stream",
     "text": [
      "(6, 4, 4)\n"
     ]
    }
   ],
   "source": [
    "print(np.array(T_act).shape)"
   ]
  },
  {
   "cell_type": "code",
   "execution_count": 4,
   "metadata": {},
   "outputs": [
    {
     "name": "stdout",
     "output_type": "stream",
     "text": [
      "[array([[ 5.00000000e-01, -5.30287619e-17,  8.66025404e-01,\n",
      "         0.00000000e+00],\n",
      "       [ 8.66025404e-01,  3.06161700e-17, -5.00000000e-01,\n",
      "         0.00000000e+00],\n",
      "       [ 0.00000000e+00,  1.00000000e+00,  6.12323400e-17,\n",
      "         8.94600000e-02],\n",
      "       [ 0.00000000e+00,  0.00000000e+00,  0.00000000e+00,\n",
      "         1.00000000e+00]]), array([[ 2.50000000e-01, -4.33012702e-01,  8.66025404e-01,\n",
      "        -1.06250000e-01],\n",
      "       [ 4.33012702e-01, -7.50000000e-01, -5.00000000e-01,\n",
      "        -1.84030398e-01],\n",
      "       [ 8.66025404e-01,  5.00000000e-01,  6.12323400e-17,\n",
      "        -2.78600797e-01],\n",
      "       [ 0.00000000e+00,  0.00000000e+00,  0.00000000e+00,\n",
      "         1.00000000e+00]]), array([[-2.50000000e-01, -4.33012702e-01,  8.66025404e-01,\n",
      "        -8.20000000e-03],\n",
      "       [-4.33012702e-01, -7.50000000e-01, -5.00000000e-01,\n",
      "        -1.42028166e-02],\n",
      "       [ 8.66025404e-01, -5.00000000e-01,  6.12323400e-17,\n",
      "        -6.18255960e-01],\n",
      "       [ 0.00000000e+00,  0.00000000e+00,  0.00000000e+00,\n",
      "         1.00000000e+00]]), array([[-4.33012702e-01,  8.66025404e-01,  2.50000000e-01,\n",
      "         8.62833716e-02],\n",
      "       [-7.50000000e-01, -5.00000000e-01,  4.33012702e-01,\n",
      "        -6.87528166e-02],\n",
      "       [ 5.00000000e-01,  8.20357802e-18,  8.66025404e-01,\n",
      "        -6.18255960e-01],\n",
      "       [ 0.00000000e+00,  0.00000000e+00,  0.00000000e+00,\n",
      "         1.00000000e+00]]), array([[ 0.0580127 , -0.25      ,  0.96650635,  0.10994587],\n",
      "       [-0.89951905, -0.4330127 , -0.0580127 , -0.02776816],\n",
      "       [ 0.4330127 , -0.8660254 , -0.25      , -0.53628666],\n",
      "       [ 0.        ,  0.        ,  0.        ,  1.        ]]), array([[-0.25      , -0.0580127 ,  0.96650635,  0.18948934],\n",
      "       [-0.4330127 ,  0.89951905, -0.0580127 , -0.03254261],\n",
      "       [-0.8660254 , -0.4330127 , -0.25      , -0.55686166],\n",
      "       [ 0.        ,  0.        ,  0.        ,  1.        ]])]\n"
     ]
    }
   ],
   "source": [
    "print(T_ref)"
   ]
  },
  {
   "cell_type": "markdown",
   "metadata": {
    "collapsed": false,
    "pycharm": {
     "name": "#%% md\n"
    }
   },
   "source": [
    "Jacobian:"
   ]
  },
  {
   "cell_type": "code",
   "execution_count": 11,
   "metadata": {
    "collapsed": false,
    "pycharm": {
     "name": "#%%\n"
    }
   },
   "outputs": [
    {
     "name": "stdout",
     "output_type": "stream",
     "text": [
      "(6, 24)\n"
     ]
    }
   ],
   "source": [
    "J = Delta_multipliers.Jacobian(T_act, DH_ref)\n",
    "print(J.shape)"
   ]
  },
  {
   "cell_type": "markdown",
   "metadata": {
    "collapsed": false,
    "pycharm": {
     "name": "#%% md\n"
    }
   },
   "source": [
    "Calculation of error vector:"
   ]
  },
  {
   "cell_type": "code",
   "execution_count": 6,
   "metadata": {
    "collapsed": false,
    "pycharm": {
     "name": "#%%\n"
    }
   },
   "outputs": [],
   "source": [
    "#Translation error:\n",
    "dN = np.array([\\\n",
    "    T_ref[5][0,3] - T_act[5][0,3],\n",
    "    T_ref[5][1,3] - T_act[5][1,3],\n",
    "    T_ref[5][2,3] - T_act[5][2,3]\n",
    "]).T\n",
    "#Rotation error:\n",
    "dN1 = np.array([\\\n",
    "    Function_container.angle(T_act[5][0:3,0], T_ref[5][0:3,0]),\n",
    "    Function_container.angle(T_act[5][0:3,1], T_ref[5][0:3,1]),\n",
    "    Function_container.angle(T_act[5][0:3,2], T_ref[5][0:3,2])\n",
    "]).T\n",
    "#Result vector:\n",
    "delta = np.vstack((dN,dN1)).reshape(6,1)"
   ]
  },
  {
   "cell_type": "markdown",
   "metadata": {
    "collapsed": false,
    "pycharm": {
     "name": "#%% md\n"
    }
   },
   "source": [
    "Calculation of kinematic error parameters and modified DH parameters:"
   ]
  },
  {
   "cell_type": "code",
   "execution_count": 10,
   "metadata": {
    "collapsed": false,
    "pycharm": {
     "name": "#%%\n"
    }
   },
   "outputs": [
    {
     "name": "stdout",
     "output_type": "stream",
     "text": [
      "[[-0.02687263 -0.04380761 -0.02917599  0.18447389 -0.11579148 -0.12363192]\n",
      " [-0.02719813  0.08860751  0.02498893  0.12895338  0.17472242  0.01139492]\n",
      " [-0.0024723   0.09537688  0.04241259  0.17707272 -0.32661548 -0.04403672]\n",
      " [ 0.05122862 -0.11589567  0.0006906  -0.11582457 -0.19517383  0.01825059]\n",
      " [ 0.03095725 -0.10121728  0.03671257  0.1755203   0.10258832  0.02984455]\n",
      " [-0.03398347  0.06623243  0.05190111 -0.18061696 -0.1478679  -0.10441743]\n",
      " [ 0.15676996 -0.06746208 -0.09503207  0.01934868  0.07507877  0.03085534]\n",
      " [ 0.14011197  0.12214965 -0.00781517 -0.01791868  0.03438373  0.05880639]\n",
      " [ 0.17257605 -0.18754724 -0.03675779  0.01832164  0.06954909  0.01997416]\n",
      " [-0.12462476 -0.13661392  0.03371348  0.01305431 -0.03670708 -0.05529347]\n",
      " [ 0.16763175  0.0611219   0.02692826 -0.02052922  0.03553474  0.0591723 ]\n",
      " [-0.15938225 -0.07032768 -0.09490662  0.03564271 -0.01307828 -0.06134306]\n",
      " [ 0.0984919   0.05111021  0.1890075  -0.05078717 -0.02999113  0.04514731]\n",
      " [ 0.09040456 -0.10154301  0.17271473 -0.03126767 -0.01879952  0.01891947]\n",
      " [ 0.00235113 -0.1275882   0.16264302 -0.02197819 -0.03898835 -0.01105454]\n",
      " [-0.08739989  0.27344406  0.12250255 -0.04982827 -0.07543974  0.02175959]\n",
      " [ 0.03735558 -0.08663778  0.18540995 -0.03282747 -0.03813248  0.00637052]\n",
      " [-0.05181635  0.01472184  0.18827432 -0.03928806 -0.06966793 -0.00402845]\n",
      " [ 0.03051453  0.0165318  -0.00847887  0.09811813  0.1075666   0.2150316 ]\n",
      " [ 0.02301829 -0.06212232 -0.01387629  0.1085716  -0.13616285  0.16687019]\n",
      " [-0.02096373 -0.0887398  -0.03135194  0.02513256 -0.18360667  0.13609472]\n",
      " [-0.01286955 -0.08142864  0.0007267  -0.10248056  0.4540083   0.14301977]\n",
      " [-0.06359778  0.00597793  0.01652456  0.04186748 -0.14716014  0.16861384]\n",
      " [-0.00854303  0.23294999  0.04695833 -0.09191579  0.01147098  0.23478472]]\n"
     ]
    },
    {
     "data": {
      "text/html": [
       "<div>\n",
       "<style scoped>\n",
       "    .dataframe tbody tr th:only-of-type {\n",
       "        vertical-align: middle;\n",
       "    }\n",
       "\n",
       "    .dataframe tbody tr th {\n",
       "        vertical-align: top;\n",
       "    }\n",
       "\n",
       "    .dataframe thead th {\n",
       "        text-align: right;\n",
       "    }\n",
       "</style>\n",
       "<table border=\"1\" class=\"dataframe\">\n",
       "  <thead>\n",
       "    <tr style=\"text-align: right;\">\n",
       "      <th></th>\n",
       "      <th>d</th>\n",
       "      <th>a</th>\n",
       "      <th>alpha</th>\n",
       "    </tr>\n",
       "  </thead>\n",
       "  <tbody>\n",
       "    <tr>\n",
       "      <th>q1</th>\n",
       "      <td>0.060059</td>\n",
       "      <td>-0.001681</td>\n",
       "      <td>1.666366</td>\n",
       "    </tr>\n",
       "    <tr>\n",
       "      <th>q2</th>\n",
       "      <td>-0.012136</td>\n",
       "      <td>-0.440587</td>\n",
       "      <td>-0.021686</td>\n",
       "    </tr>\n",
       "    <tr>\n",
       "      <th>q3</th>\n",
       "      <td>-0.036708</td>\n",
       "      <td>-0.400573</td>\n",
       "      <td>0.006575</td>\n",
       "    </tr>\n",
       "    <tr>\n",
       "      <th>q4</th>\n",
       "      <td>0.110330</td>\n",
       "      <td>0.034206</td>\n",
       "      <td>1.338178</td>\n",
       "    </tr>\n",
       "    <tr>\n",
       "      <th>q5</th>\n",
       "      <td>0.081992</td>\n",
       "      <td>-0.001833</td>\n",
       "      <td>-1.413777</td>\n",
       "    </tr>\n",
       "    <tr>\n",
       "      <th>q6</th>\n",
       "      <td>0.113188</td>\n",
       "      <td>0.016662</td>\n",
       "      <td>-0.002779</td>\n",
       "    </tr>\n",
       "  </tbody>\n",
       "</table>\n",
       "</div>"
      ],
      "text/plain": [
       "           d         a     alpha\n",
       "q1  0.060059 -0.001681  1.666366\n",
       "q2 -0.012136 -0.440587 -0.021686\n",
       "q3 -0.036708 -0.400573  0.006575\n",
       "q4  0.110330  0.034206  1.338178\n",
       "q5  0.081992 -0.001833 -1.413777\n",
       "q6  0.113188  0.016662 -0.002779"
      ]
     },
     "execution_count": 10,
     "metadata": {},
     "output_type": "execute_result"
    }
   ],
   "source": [
    "X = np.linalg.pinv(J)@delta\n",
    "print(np.linalg.pinv(J))\n",
    "#print(X)\n",
    "q_mod = [q0[i] - X[i,0] for i in range(6)]\n",
    "DH_mod = DH_act.copy()\n",
    "DH_mod['d']-=X[6:12,0]\n",
    "DH_mod['a']-=X[12:18,0]\n",
    "DH_mod['alpha']-=X[18:24,0]\n",
    "DH_mod.head(6)"
   ]
  },
  {
   "cell_type": "markdown",
   "metadata": {
    "collapsed": false,
    "pycharm": {
     "name": "#%% md\n"
    }
   },
   "source": [
    "Comparison error between initial and modified models:"
   ]
  },
  {
   "cell_type": "code",
   "execution_count": 64,
   "metadata": {
    "collapsed": false,
    "pycharm": {
     "name": "#%%\n"
    }
   },
   "outputs": [
    {
     "name": "stdout",
     "output_type": "stream",
     "text": [
      "Initial model translation error 0.08998687849425394\n",
      "Initial model rotation error 0.26820241660723193\n",
      "\n",
      "Modified model translation error 0.11752410949239533\n",
      "Modified model rotation error 0.3649303150154745\n"
     ]
    }
   ],
   "source": [
    "T_mod = Forward_kinematics.h_transf(DH_mod,q_mod)\n",
    "print(\"Initial model translation error\", np.linalg.norm(dN))\n",
    "print(\"Initial model rotation error\", np.linalg.norm(dN1))\n",
    "\n",
    "#Modified model errors:\n",
    "#Translation error:\n",
    "dN = np.array([\\\n",
    "    T_ref[5][0,3]-T_mod[5][0,3],\n",
    "    T_ref[5][1,3]-T_mod[5][1,3],\n",
    "    T_ref[5][2,3]-T_mod[5][2,3]\n",
    "]).T\n",
    "#Rotation error:\n",
    "dN1 = np.array([\\\n",
    "    Function_container.angle(T_mod[5][0:3,0], T_ref[5][0:3,0]),\n",
    "    Function_container.angle(T_mod[5][0:3,1], T_ref[5][0:3,1]),\n",
    "    Function_container.angle(T_mod[5][0:3,2], T_ref[5][0:3,2])\n",
    "]).T\n",
    "print(\"\\nModified model translation error\", np.linalg.norm(dN))\n",
    "print(\"Modified model rotation error\", np.linalg.norm(dN1))"
   ]
  },
  {
   "cell_type": "markdown",
   "metadata": {
    "collapsed": false,
    "pycharm": {
     "name": "#%% md\n"
    }
   },
   "source": []
  }
 ],
 "metadata": {
  "kernelspec": {
   "display_name": "Python 3",
   "language": "python",
   "name": "python3"
  },
  "language_info": {
   "codemirror_mode": {
    "name": "ipython",
    "version": 3
   },
   "file_extension": ".py",
   "mimetype": "text/x-python",
   "name": "python",
   "nbconvert_exporter": "python",
   "pygments_lexer": "ipython3",
   "version": "3.9.15"
  }
 },
 "nbformat": 4,
 "nbformat_minor": 0
}
