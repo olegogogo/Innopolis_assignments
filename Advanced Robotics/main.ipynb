{
 "cells": [
  {
   "cell_type": "code",
   "execution_count": 5,
   "outputs": [],
   "source": [
    "points = [[ 0.00000000e+00, -1.50000000e-01,  1.00000000e-01],\n",
    " [ 1.89687428e-02, -1.64233333e-01,  8.16261318e-02],\n",
    " [ 4.32722132e-02, -1.52229471e-01,  9.44810384e-02],\n",
    " [ 6.30274155e-02, -1.31522387e-01,  1.03478187e-01],\n",
    " [ 3.92378153e-02, -1.13377860e-01,  1.01280219e-01],\n",
    " [ 5.95473985e-02, -1.20044892e-01,  8.02309554e-02],\n",
    " [ 7.79936409e-02, -9.64790393e-02,  8.23254018e-02],\n",
    " [ 6.98253987e-02, -7.02785178e-02,  9.44420222e-02],\n",
    " [ 9.22033747e-02, -5.08230404e-02,  8.98911341e-02],\n",
    " [ 8.91185798e-02, -2.77529646e-02,  1.08818776e-01],\n",
    " [ 1.05191608e-01, -1.29832935e-02,  8.82393061e-02],\n",
    " [ 1.12555161e-01,  3.00471558e-03,  6.39460632e-02],\n",
    " [ 1.08397611e-01,  2.53368311e-02,  4.43503648e-02],\n",
    " [ 8.59582568e-02,  3.66392064e-02,  2.79573264e-02],\n",
    " [ 7.03005740e-02,  5.50136248e-02,  4.57679331e-02],\n",
    " [ 9.41460658e-02,  7.22977897e-02,  5.14819652e-02],\n",
    " [ 1.14833439e-01,  9.36106881e-02,  4.72637949e-02],\n",
    " [ 1.07103640e-01,  1.09692234e-01,  2.31467033e-02],\n",
    " [ 9.48388369e-02,  1.25132984e-01,  5.37903696e-04],\n",
    " [ 1.17835105e-01,  1.42051494e-01, -8.67815365e-03],\n",
    " [ 1.35151641e-01,  1.60625628e-01, -2.46512275e-02],\n",
    " [ 1.59708945e-01,  1.68287798e-01, -9.21652689e-03],\n",
    " [ 1.82982312e-01,  1.81560994e-01,  4.28060767e-03],\n",
    " [ 1.96827066e-01,  2.04714696e-01,  1.74042088e-02],\n",
    " [ 1.93061935e-01,  2.26258799e-01, -3.13052729e-03],\n",
    " [ 1.70410537e-01,  2.06618100e-01, -2.05484940e-03],\n",
    " [ 1.51238348e-01,  2.28158240e-01, -1.03282738e-02],\n",
    " [ 1.72864782e-01,  2.48887263e-01, -8.71429381e-03],\n",
    " [ 1.78853534e-01,  2.77942605e-01, -4.25089024e-03],\n",
    " [ 1.67760433e-01,  2.89283833e-01,  2.12112316e-02],\n",
    " [ 1.74382259e-01,  3.13050804e-01,  3.82782320e-02],\n",
    " [ 1.76673201e-01,  3.42876037e-01,  3.59963384e-02],\n",
    " [ 1.80377965e-01,  3.64946730e-01,  5.59753079e-02],\n",
    " [ 1.66482436e-01, 3.89112575e-01,  6.70625196e-02],\n",
    " [ 1.93714122e-01,  3.96673047e-01,  7.71260442e-02],\n",
    " [ 2.15603939e-01,  3.97713020e-01,  5.66381362e-02],\n",
    " [ 2.29443030e-01,  4.18272790e-01,  7.35430290e-02],\n",
    " [ 2.50267115e-01,  4.10241462e-01,  5.34967011e-02],\n",
    " [ 2.69288658e-01,  4.32983457e-01,  5.80773746e-02],\n",
    " [ 2.72701417e-01,  4.57330882e-01,  4.08856341e-02],\n",
    " [ 2.98892272e-01,  4.62224396e-01,  5.46730435e-02],\n",
    " [ 3.11357238e-01,  4.88970722e-01,  4.92639143e-02],\n",
    " [ 3.40874777e-01,  4.83762918e-01,  4.80015168e-02],\n",
    " [ 3.55354797e-01,  5.04675705e-01,  6.39069985e-02],\n",
    " [ 3.80877455e-01,  5.16188767e-01,  7.46793413e-02],\n",
    " [ 4.08669729e-01,  5.15939864e-01,  8.59721495e-02],\n",
    " [ 4.33248510e-01,  5.27908752e-01,  7.36178275e-02],\n",
    " [ 4.53978312e-01,  5.47118646e-01,  6.35552599e-02],\n",
    " [ 4.70458542e-01,  5.64188445e-01,  8.19134731e-02],\n",
    " [ 4.90125376e-01,  5.64826635e-01,  5.92682012e-02],\n",
    " [ 4.69409474e-01,  5.85735821e-01,  6.50696973e-02],\n",
    " [ 4.87897895e-01,  6.01443000e-01,  8.27180059e-02],\n",
    " [ 4.83569055e-01,  6.30818489e-01,  8.70007410e-02],\n",
    " [ 4.63073941e-01,  6.15435382e-01,  1.02599148e-01],\n",
    " [ 4.72593465e-01,  6.42362204e-01,  1.11782009e-01],\n",
    " [ 4.78037675e-01,  6.59481552e-01,  8.77551802e-02],\n",
    " [ 4.91345188e-01,  6.82385797e-01,  7.36730774e-02],\n",
    " [ 4.78908419e-01,  6.94401062e-01,  9.81875666e-02]]"
   ],
   "metadata": {
    "collapsed": false
   }
  },
  {
   "cell_type": "code",
   "execution_count": 6,
   "outputs": [
    {
     "data": {
      "text/plain": "range(0, 58)"
     },
     "execution_count": 6,
     "metadata": {},
     "output_type": "execute_result"
    }
   ],
   "source": [
    "range(len(points))"
   ],
   "metadata": {
    "collapsed": false
   }
  },
  {
   "cell_type": "code",
   "execution_count": 8,
   "outputs": [
    {
     "ename": "QhullError",
     "evalue": "QH6154 Qhull precision error: Initial simplex is flat (facet 1 is coplanar with the interior point)\n\nWhile executing:  | qhull d Q12 Qz Qbb Qt Qc\nOptions selected for Qhull 2019.1.r 2019/06/21:\n  run-id 1722163157  delaunay  Q12-allow-wide  Qz-infinity-point  Qbbound-last\n  Qtriangulate  Qcoplanar-keep  _pre-merge  _zero-centrum  Qinterior-keep\n  Pgood  _max-width  5  Error-roundoff 1e-14  _one-merge 9.1e-14\n  Visible-distance 6e-14  U-max-coplanar 6e-14  Width-outside 1.2e-13\n  _wide-facet 3.6e-13  _maxoutside 1.2e-13\n\nprecision problems (corrected unless 'Q0' or an error)\n      1 zero divisors during gaussian elimination\n\nThe input to qhull appears to be less than 4 dimensional, or a\ncomputation has overflowed.\n\nQhull could not construct a clearly convex simplex from points:\n- p2(v5):     2     3     4   2.6\n- p1(v4):     1     2     3   1.3\n- p4(v3):   1.5   2.2     3     5\n- p3(v2):     3     4     5   4.5\n- p0(v1):     0     0     0     0\n\nThe center point is coplanar with a facet, or a vertex is coplanar\nwith a neighboring facet.  The maximum round off error for\ncomputing distances is 1e-14.  The center point, facets and distances\nto the center point are as follows:\n\ncenter point      1.5     2.25        3    2.691\n\nfacet p1 p4 p3 p0 distance= -2.2e-16\nfacet p2 p4 p3 p0 distance=    0\nfacet p2 p1 p3 p0 distance= 4.4e-16\nfacet p2 p1 p4 p0 distance= -2.2e-16\nfacet p2 p1 p4 p3 distance= -2.2e-16\n\nThese points either have a maximum or minimum x-coordinate, or\nthey maximize the determinant for k coordinates.  Trial points\nare first selected from points that maximize a coordinate.\n\nThe min and max coordinates for each dimension are:\n  0:         0         3  difference=    3\n  1:         0         4  difference=    4\n  2:         0         5  difference=    5\n  3:         0         5  difference=    5\n\nIf the input should be full dimensional, you have several options that\nmay determine an initial simplex:\n  - use 'QJ'  to joggle the input and make it full dimensional\n  - use 'QbB' to scale the points to the unit cube\n  - use 'QR0' to randomly rotate the input for different maximum points\n  - use 'Qs'  to search all points for the initial simplex\n  - use 'En'  to specify a maximum roundoff error less than 1e-14.\n  - trace execution with 'T3' to see the determinant for each point.\n\nIf the input is lower dimensional:\n  - use 'QJ' to joggle the input and make it full dimensional\n  - use 'Qbk:0Bk:0' to delete coordinate k from the input.  You should\n    pick the coordinate with the least range.  The hull will have the\n    correct topology.\n  - determine the flat containing the points, rotate the points\n    into a coordinate plane, and delete the other coordinates.\n  - add one or more points to make the input full dimensional.\n",
     "output_type": "error",
     "traceback": [
      "\u001B[1;31m---------------------------------------------------------------------------\u001B[0m",
      "\u001B[1;31mQhullError\u001B[0m                                Traceback (most recent call last)",
      "Cell \u001B[1;32mIn [8], line 14\u001B[0m\n\u001B[0;32m     11\u001B[0m xi, yi, zi \u001B[38;5;241m=\u001B[39m np\u001B[38;5;241m.\u001B[39mmeshgrid(xi, yi, zi)\n\u001B[0;32m     13\u001B[0m \u001B[38;5;66;03m# Interpolate the data\u001B[39;00m\n\u001B[1;32m---> 14\u001B[0m interpolated_values \u001B[38;5;241m=\u001B[39m \u001B[43mgriddata\u001B[49m\u001B[43m(\u001B[49m\u001B[43mpoints\u001B[49m\u001B[43m,\u001B[49m\u001B[43m \u001B[49m\u001B[38;5;28;43mrange\u001B[39;49m\u001B[43m(\u001B[49m\u001B[38;5;28;43mlen\u001B[39;49m\u001B[43m(\u001B[49m\u001B[43mpoints\u001B[49m\u001B[43m)\u001B[49m\u001B[43m)\u001B[49m\u001B[43m,\u001B[49m\u001B[43m \u001B[49m\u001B[43m(\u001B[49m\u001B[43mxi\u001B[49m\u001B[43m,\u001B[49m\u001B[43m \u001B[49m\u001B[43myi\u001B[49m\u001B[43m,\u001B[49m\u001B[43m \u001B[49m\u001B[43mzi\u001B[49m\u001B[43m)\u001B[49m\u001B[43m)\u001B[49m\n\u001B[0;32m     16\u001B[0m \u001B[38;5;28mprint\u001B[39m(interpolated_values)\n",
      "File \u001B[1;32mD:\\Innopolis\\_my\\env\\lib\\site-packages\\scipy\\interpolate\\_ndgriddata.py:260\u001B[0m, in \u001B[0;36mgriddata\u001B[1;34m(points, values, xi, method, fill_value, rescale)\u001B[0m\n\u001B[0;32m    258\u001B[0m     \u001B[38;5;28;01mreturn\u001B[39;00m ip(xi)\n\u001B[0;32m    259\u001B[0m \u001B[38;5;28;01melif\u001B[39;00m method \u001B[38;5;241m==\u001B[39m \u001B[38;5;124m'\u001B[39m\u001B[38;5;124mlinear\u001B[39m\u001B[38;5;124m'\u001B[39m:\n\u001B[1;32m--> 260\u001B[0m     ip \u001B[38;5;241m=\u001B[39m \u001B[43mLinearNDInterpolator\u001B[49m\u001B[43m(\u001B[49m\u001B[43mpoints\u001B[49m\u001B[43m,\u001B[49m\u001B[43m \u001B[49m\u001B[43mvalues\u001B[49m\u001B[43m,\u001B[49m\u001B[43m \u001B[49m\u001B[43mfill_value\u001B[49m\u001B[38;5;241;43m=\u001B[39;49m\u001B[43mfill_value\u001B[49m\u001B[43m,\u001B[49m\n\u001B[0;32m    261\u001B[0m \u001B[43m                              \u001B[49m\u001B[43mrescale\u001B[49m\u001B[38;5;241;43m=\u001B[39;49m\u001B[43mrescale\u001B[49m\u001B[43m)\u001B[49m\n\u001B[0;32m    262\u001B[0m     \u001B[38;5;28;01mreturn\u001B[39;00m ip(xi)\n\u001B[0;32m    263\u001B[0m \u001B[38;5;28;01melif\u001B[39;00m method \u001B[38;5;241m==\u001B[39m \u001B[38;5;124m'\u001B[39m\u001B[38;5;124mcubic\u001B[39m\u001B[38;5;124m'\u001B[39m \u001B[38;5;129;01mand\u001B[39;00m ndim \u001B[38;5;241m==\u001B[39m \u001B[38;5;241m2\u001B[39m:\n",
      "File \u001B[1;32minterpnd.pyx:280\u001B[0m, in \u001B[0;36mscipy.interpolate.interpnd.LinearNDInterpolator.__init__\u001B[1;34m()\u001B[0m\n",
      "File \u001B[1;32m_qhull.pyx:1846\u001B[0m, in \u001B[0;36mscipy.spatial._qhull.Delaunay.__init__\u001B[1;34m()\u001B[0m\n",
      "File \u001B[1;32m_qhull.pyx:358\u001B[0m, in \u001B[0;36mscipy.spatial._qhull._Qhull.__init__\u001B[1;34m()\u001B[0m\n",
      "\u001B[1;31mQhullError\u001B[0m: QH6154 Qhull precision error: Initial simplex is flat (facet 1 is coplanar with the interior point)\n\nWhile executing:  | qhull d Q12 Qz Qbb Qt Qc\nOptions selected for Qhull 2019.1.r 2019/06/21:\n  run-id 1722163157  delaunay  Q12-allow-wide  Qz-infinity-point  Qbbound-last\n  Qtriangulate  Qcoplanar-keep  _pre-merge  _zero-centrum  Qinterior-keep\n  Pgood  _max-width  5  Error-roundoff 1e-14  _one-merge 9.1e-14\n  Visible-distance 6e-14  U-max-coplanar 6e-14  Width-outside 1.2e-13\n  _wide-facet 3.6e-13  _maxoutside 1.2e-13\n\nprecision problems (corrected unless 'Q0' or an error)\n      1 zero divisors during gaussian elimination\n\nThe input to qhull appears to be less than 4 dimensional, or a\ncomputation has overflowed.\n\nQhull could not construct a clearly convex simplex from points:\n- p2(v5):     2     3     4   2.6\n- p1(v4):     1     2     3   1.3\n- p4(v3):   1.5   2.2     3     5\n- p3(v2):     3     4     5   4.5\n- p0(v1):     0     0     0     0\n\nThe center point is coplanar with a facet, or a vertex is coplanar\nwith a neighboring facet.  The maximum round off error for\ncomputing distances is 1e-14.  The center point, facets and distances\nto the center point are as follows:\n\ncenter point      1.5     2.25        3    2.691\n\nfacet p1 p4 p3 p0 distance= -2.2e-16\nfacet p2 p4 p3 p0 distance=    0\nfacet p2 p1 p3 p0 distance= 4.4e-16\nfacet p2 p1 p4 p0 distance= -2.2e-16\nfacet p2 p1 p4 p3 distance= -2.2e-16\n\nThese points either have a maximum or minimum x-coordinate, or\nthey maximize the determinant for k coordinates.  Trial points\nare first selected from points that maximize a coordinate.\n\nThe min and max coordinates for each dimension are:\n  0:         0         3  difference=    3\n  1:         0         4  difference=    4\n  2:         0         5  difference=    5\n  3:         0         5  difference=    5\n\nIf the input should be full dimensional, you have several options that\nmay determine an initial simplex:\n  - use 'QJ'  to joggle the input and make it full dimensional\n  - use 'QbB' to scale the points to the unit cube\n  - use 'QR0' to randomly rotate the input for different maximum points\n  - use 'Qs'  to search all points for the initial simplex\n  - use 'En'  to specify a maximum roundoff error less than 1e-14.\n  - trace execution with 'T3' to see the determinant for each point.\n\nIf the input is lower dimensional:\n  - use 'QJ' to joggle the input and make it full dimensional\n  - use 'Qbk:0Bk:0' to delete coordinate k from the input.  You should\n    pick the coordinate with the least range.  The hull will have the\n    correct topology.\n  - determine the flat containing the points, rotate the points\n    into a coordinate plane, and delete the other coordinates.\n  - add one or more points to make the input full dimensional.\n"
     ]
    }
   ],
   "source": [
    "import numpy as np\n",
    "from scipy.interpolate import griddata\n",
    "\n",
    "# Define input data\n",
    "points = np.array([(0, 0, 0), (1, 2, 3), (2, 3, 4), (3, 4, 5)])\n",
    "values = np.array([1, 2, 3, 4])\n",
    "\n",
    "# Define output grid\n",
    "# values = np.linspace()\n",
    "xi = yi = zi = np.linspace(0, 3, 10)\n",
    "xi, yi, zi = np.meshgrid(xi, yi, zi)\n",
    "\n",
    "# Interpolate the data\n",
    "interpolated_values = griddata(points, range(len(points)), (xi, yi, zi))\n",
    "\n",
    "print(interpolated_values)"
   ],
   "metadata": {
    "collapsed": false
   }
  },
  {
   "cell_type": "code",
   "execution_count": null,
   "outputs": [],
   "source": [],
   "metadata": {
    "collapsed": false
   }
  },
  {
   "attachments": {},
   "cell_type": "markdown",
   "metadata": {},
   "source": [
    "# Course project for Advanced Robotics\n",
    "\n",
    "By Vladimir Klepikov and Oleg Ostapovich\n",
    "\n",
    "We use open-source robot called [Thor](http://thor.angel-lm.com/)\n",
    "\n",
    "Robot sizes\n",
    "\n",
    "![image](http://thor.angel-lm.com/wp-content/uploads/2021/08/3285161470253430982.png)"
   ]
  },
  {
   "cell_type": "code",
   "execution_count": 2,
   "metadata": {},
   "outputs": [],
   "source": [
    "import roboticstoolbox as rtb\n",
    "import numpy as np"
   ]
  },
  {
   "cell_type": "code",
   "execution_count": 37,
   "metadata": {},
   "outputs": [],
   "source": [
    "L1 = rtb.RevoluteDH(d=0.202, a=0, offset=0, alpha=np.pi/2, m=0, r=[0, 0, 0])\n",
    "L2 = rtb.RevoluteDH(d=0, a=0.160, offset=0, alpha=0, m=1, r=[0, 0, 0.101])\n",
    "L3 = rtb.RevoluteDH(d=0, a=0, offset=-np.pi/2, alpha=-np.pi/2, m=1, r=[0, 0, 0.080])\n",
    "L4 = rtb.RevoluteDH(d=0.195, a=0, offset=0, alpha=np.pi/2, m=1, r=[0, 0, 0.040])\n",
    "L5 = rtb.RevoluteDH(d=0, a=0, offset=0, alpha=-np.pi/2, m=1, r=[0, 0, 0.140])\n",
    "L6 = rtb.RevoluteDH(d=0.06715, a=0, offset=0, alpha=0, m=1, r=[0, 0, 0.035])\n",
    "\n",
    "math_robot = rtb.DHRobot([L1, L2, L3, L4, L5, L6])\n",
    "\n",
    "\n",
    "L1_real = rtb.RevoluteDH(d=L1.d+0.03, a=L1.a, offset=L1.offset, alpha=L1.alpha, m=L1.m, r=L1.r)\n",
    "L2_real = rtb.RevoluteDH(d=L2.d, a=L2.a-0.02, offset=L2.offset, alpha=L2.alpha, m=L2.m, r=L2.r)\n",
    "L3_real = rtb.RevoluteDH(d=L3.d, a=L3.a, offset=L3.offset, alpha=L3.alpha, m=L3.m, r=L3.r)\n",
    "L4_real = rtb.RevoluteDH(d=L4.d-0.02, a=L4.a, offset=L4.offset, alpha=L4.alpha+0.01, m=L4.m, r=L4.r)\n",
    "L5_real = rtb.RevoluteDH(d=L5.d, a=L5.a, offset=L5.offset, alpha=L5.alpha, m=L5.m, r=L5.r)\n",
    "L6_real = rtb.RevoluteDH(d=L6.d+0.025, a=L6.a, offset=L6.offset, alpha=L6.alpha, m=L6.m, r=L6.r)\n",
    "\n",
    "real_robot=rtb.DHRobot([L1_real,L2_real,L3_real,L4_real,L5_real,L6_real])"
   ]
  },
  {
   "cell_type": "code",
   "execution_count": 38,
   "metadata": {},
   "outputs": [],
   "source": [
    "q_zeros = [0, 0, 0, 0, 0, 0]\n",
    "q0 = [np.pi/3, np.pi/6,np.pi/4,np.pi/6,np.pi/6,np.pi/4]\n",
    "q1 = [np.pi/2, np.pi/3,-np.pi/4,np.pi/2,np.pi/3,-np.pi/2]\n",
    "q_used = q_zeros\n"
   ]
  },
  {
   "cell_type": "code",
   "execution_count": 39,
   "metadata": {},
   "outputs": [
    {
     "name": "stdout",
     "output_type": "stream",
     "text": [
      "[[ 0.    -0.    -0.     0.    -0.     0.   ]\n",
      " [ 0.422  0.     0.     0.     0.     0.   ]\n",
      " [-0.     0.422  0.262  0.     0.067  0.   ]\n",
      " [ 0.     0.     0.     1.     0.     1.   ]\n",
      " [-0.    -1.    -1.    -0.    -1.    -0.   ]\n",
      " [ 1.     0.     0.     0.     0.     0.   ]]\n"
     ]
    }
   ],
   "source": [
    "J = math_robot.jacob0(q_zeros)\n",
    "np.set_printoptions(precision=3,suppress=True)\n",
    "print(J)\n",
    "\n"
   ]
  },
  {
   "cell_type": "code",
   "execution_count": 40,
   "metadata": {},
   "outputs": [
    {
     "data": {
      "image/png": "[encoded data removed]",
      "text/plain": [
       "<Figure size 640x480 with 1 Axes>"
      ]
     },
     "metadata": {},
     "output_type": "display_data"
    },
    {
     "data": {
      "text/plain": [
       "PyPlot3D backend, t = 0.05, scene:\n",
       "  noname"
      ]
     },
     "execution_count": 40,
     "metadata": {},
     "output_type": "execute_result"
    },
    {
     "data": {
      "text/plain": [
       "<Figure size 640x480 with 0 Axes>"
      ]
     },
     "metadata": {},
     "output_type": "display_data"
    }
   ],
   "source": [
    "real_robot.plot(q_used,jointaxes=True)"
   ]
  },
  {
   "cell_type": "code",
   "execution_count": 7,
   "metadata": {},
   "outputs": [],
   "source": [
    "import numpy as np\n",
    "import matplotlib.pyplot as plt\n",
    "import roboticstoolbox as rtb\n",
    "from spatialmath import SE3"
   ]
  },
  {
   "cell_type": "code",
   "execution_count": 10,
   "metadata": {},
   "outputs": [],
   "source": [
    "L1 = rtb.RevoluteDH(d=0.2, a=0.5, alpha=-np.pi/2)\n",
    "L2 = rtb.RevoluteDH(d=0, a=0.5, alpha=np.pi/2)\n",
    "L3 = rtb.RevoluteDH(d=0, a=0, alpha=-np.pi/2)\n",
    "L4 = rtb.RevoluteDH(d=0, a=0, alpha=np.pi/2)\n",
    "L5 = rtb.RevoluteDH(d=0, a=0, alpha=-np.pi/2)\n",
    "L6 = rtb.RevoluteDH(d=0.1, a=0, alpha=0)\n",
    "\n",
    "robot = rtb.DHRobot([L1, L2, L3, L4, L5, L6], name='robot')\n",
    "\n",
    "L1_2 = rtb.RevoluteDH(d=0.22, a=0.51, alpha=-np.pi/2)\n",
    "L2_2 = rtb.RevoluteDH(d=0, a=0.53, alpha=np.pi/2)\n",
    "L3_2 = rtb.RevoluteDH(d=0, a=0, alpha=-np.pi/2)\n",
    "L4_2 = rtb.RevoluteDH(d=0, a=0, alpha=np.pi/2)\n",
    "L5_2 = rtb.RevoluteDH(d=0, a=0, alpha=-np.pi/2)\n",
    "L6_2 = rtb.RevoluteDH(d=0.12, a=0, alpha=0)\n",
    "\n",
    "robot2 = rtb.DHRobot([L1_2, L2_2, L3_2, L4_2, L5_2, L6_2], name='robot')"
   ]
  },
  {
   "cell_type": "code",
   "execution_count": 51,
   "metadata": {},
   "outputs": [],
   "source": [
    "def rotation_matrix_to_euler_angles(R):\n",
    "    \"\"\"\n",
    "    Converts a 3x3 rotation matrix to Euler angles (in radians) using the ZXZ convention.\n",
    "    \n",
    "    Args:\n",
    "        R (numpy.ndarray): A 3x3 rotation matrix.\n",
    "        \n",
    "    Returns:\n",
    "        numpy.ndarray: An array of 3 Euler angles (in radians) representing the same rotation as R.\n",
    "    \"\"\"\n",
    "    if R[2, 0] < 1:\n",
    "        if R[2, 0] > -1:\n",
    "            theta1 = np.arctan2(R[1, 0], R[0, 0])\n",
    "            theta2 = np.arccos(R[2, 2])\n",
    "            theta3 = np.arctan2(R[2, 1], -R[2, 0])\n",
    "        else:\n",
    "            # R(2, 0) == -1\n",
    "            theta1 = np.arctan2(-R[0, 1], R[1, 1])\n",
    "            theta2 = np.pi\n",
    "            theta3 = 0\n",
    "    else:\n",
    "        # R(2, 0) == 1\n",
    "        theta1 = np.arctan2(-R[0, 1], R[1, 1])\n",
    "        theta2 = 0\n",
    "        theta3 = 0\n",
    "    \n",
    "    return np.array([theta1, theta2, theta3])"
   ]
  },
  {
   "cell_type": "code",
   "execution_count": 57,
   "metadata": {},
   "outputs": [
    {
     "name": "stdout",
     "output_type": "stream",
     "text": [
      "[[-0.004  0.003 -0.009  0.007]\n",
      " [-0.002 -0.002  0.     0.027]\n",
      " [-0.006 -0.007  0.001 -0.024]\n",
      " [ 0.     0.     0.     0.   ]]\n",
      "(6, 6)\n"
     ]
    }
   ],
   "source": [
    "q = q0\n",
    "\n",
    "\n",
    "T = math_robot.fkine(q)\n",
    "T2 = real_robot.fkine(q)\n",
    "\n",
    "error = T - T2\n",
    "ree_rot_angles = rotation_matrix_to_euler_angles(error[0:3,0:3])\n",
    "error_list=np.array([error[0,3],error[1,3],error[2,3],ree_rot_angles[0],ree_rot_angles[1],ree_rot_angles[2]])\n",
    "\n",
    "print(error)\n",
    "# Calculate Jacobian matrix\n",
    "J = robot.jacob0(q)\n",
    "print(np.linalg.pinv(J).shape)\n",
    "# Apply pseudo-inverse to Jacobian matrix to calculate joint angle correction\n",
    "dq = np.linalg.pinv(J) @ error_list\n",
    "\n",
    "q_corrected = q + dq\n",
    "T_corrected = robot.fkine(q_corrected)\n",
    "\n",
    "fk_real=np.array(real_robot.fkine(q_used),dtype=np.float32)\n",
    "fk_true=np.array(math_robot.fkine(q_used),dtype=np.float32)\n",
    "\n",
    "print(fk_real)\n",
    "print(fk_true)"
   ]
  },
  {
   "cell_type": "code",
   "execution_count": 41,
   "metadata": {},
   "outputs": [
    {
     "data": {
      "text/plain": [
       "0:\n",
       "   1         0         0         0         \n",
       "   0         1         0         0         \n",
       "   0         0         1         0         \n",
       "   0         0         0         1         \n",
       "1:\n",
       "   1         0         0         0         \n",
       "   0         0        -1         0         \n",
       "   0         1         0         0.232     \n",
       "   0         0         0         1         \n",
       "2:\n",
       "   1         0         0         0.14      \n",
       "   0         0        -1         0         \n",
       "   0         1         0         0.232     \n",
       "   0         0         0         1         \n",
       "3:\n",
       "   0         0         1         0.14      \n",
       "   0         1         0         0         \n",
       "  -1         0         0         0.232     \n",
       "   0         0         0         1         \n",
       "4:\n",
       "   0         1        -0.01      0.315     \n",
       "   0        -0.01     -1         0         \n",
       "  -1         0         0         0.232     \n",
       "   0         0         0         1         \n",
       "5:\n",
       "   0         0.01      1         0.315     \n",
       "   0         1        -0.01      0         \n",
       "  -1         0         0         0.232     \n",
       "   0         0         0         1         \n",
       "6:\n",
       "   0         0.01      1         0.4071    \n",
       "   0         1        -0.01     -0.0009215  \n",
       "  -1         0         0         0.232     \n",
       "   0         0         0         1         \n"
      ]
     },
     "execution_count": 41,
     "metadata": {},
     "output_type": "execute_result"
    }
   ],
   "source": [
    "real_robot.fkine_all(q_zeros)"
   ]
  },
  {
   "cell_type": "code",
   "execution_count": null,
   "metadata": {},
   "outputs": [],
   "source": [
    "fkine = [np.asarray(real_robot.fkine_all(q_used)[i]) for i in range(7)]"
   ]
  },
  {
   "cell_type": "code",
   "execution_count": null,
   "metadata": {},
   "outputs": [
    {
     "name": "stdout",
     "output_type": "stream",
     "text": [
      "[[ 1.000000e+00  0.000000e+00  0.000000e+00  0.000000e+00]\n",
      " [ 0.000000e+00  6.123234e-17 -1.000000e+00  0.000000e+00]\n",
      " [ 0.000000e+00  1.000000e+00  6.123234e-17  2.320000e-01]\n",
      " [ 0.000000e+00  0.000000e+00  0.000000e+00  1.000000e+00]]\n"
     ]
    }
   ],
   "source": [
    "print(fkine[1])"
   ]
  },
  {
   "cell_type": "code",
   "execution_count": null,
   "metadata": {},
   "outputs": [
    {
     "name": "stdout",
     "output_type": "stream",
     "text": [
      "[[ 0.0000000e+00  0.0000000e+00  0.0000000e+00  0.0000000e+00\n",
      "   0.0000000e+00  0.0000000e+00]\n",
      " [ 1.2246469e-16  1.0000000e+00 -1.0000000e+00 -1.9998666e-02\n",
      "  -9.9994999e-01  9.9998331e-03]\n",
      " [-1.0000000e+00  6.1232343e-17  6.1232343e-17 -9.9980003e-01\n",
      "   9.9998331e-03  9.9994999e-01]]\n"
     ]
    }
   ],
   "source": [
    "m1 = np.zeros((3, 6), dtype=np.float32)\n",
    "m2 = np.zeros((3, 6), dtype=np.float32)\n",
    "m3 = np.zeros((3, 6), dtype=np.float32)\n",
    "m4 = np.zeros((3, 6), dtype=np.float32)\n",
    "alpha = np.array(real_robot.alpha)\n",
    "l = np.array(real_robot.a)\n",
    "for i in range(6):\n",
    "    \n",
    "    #print(T)\n",
    "    #print(alpha[i])\n",
    "    k1n = np.array([0, l[i] * np.cos(alpha[i]), -l[i] * np.sin(alpha[i])]).T\n",
    "    k2n = np.array([0, np.sin(alpha[i]), np.cos(alpha[i])]).T\n",
    "    k3n = np.array([1, 0, 0]).T\n",
    "    n = np.array(fkine[i+1])[0:3, 0]\n",
    "    o = np.array(fkine[i+1])[0:3, 1]\n",
    "    a = np.array(fkine[i+1])[0:3, 2]\n",
    "    p = np.array(fkine[i+1])[0:3, 3]\n",
    "    #print(n)\n",
    "    #print(np.dot(n, k1n))\n",
    "    #print( np.dot(np.cross(p, n), k2n))\n",
    "    m1[0, i] = np.dot(n, k1n) + np.dot(np.cross(p, n), k2n)\n",
    "    m1[1, i] = np.dot(o, k1n) + np.dot(np.cross(p, o), k2n)\n",
    "    m1[2, i] = np.dot(a, k1n) + np.dot(np.cross(p, a), k2n)\n",
    "\n",
    "    m2[0, i] = np.dot(n, k2n)\n",
    "    m2[1, i] = np.dot(o, k2n)\n",
    "    m2[2, i] = np.dot(a, k2n)\n",
    "\n",
    "    m3[0, i] = np.dot(n, k3n)\n",
    "    m3[1, i] = np.dot(o, k3n)\n",
    "    m3[2, i] = np.dot(a, k3n)\n",
    "\n",
    "    m4[0, i] = np.dot(np.cross(p, n), k3n)\n",
    "    m4[1, i] = np.dot(np.cross(p, o), k3n)\n",
    "    m4[2, i] = np.dot(np.cross(p, a), k3n)\n",
    "#Jacobian construction:\n",
    "print(m2)\n",
    "J = np.zeros((6, 24), dtype=np.float32)\n",
    "J[0:3, 0:6] = m1\n",
    "J[3:6, 0:6] = m2\n",
    "J[0:3, 6:12] = m2\n",
    "J[0:3, 12:18] = m3\n",
    "J[0:3, 18:24] = m4\n",
    "J[3:6, 18:24] = m3"
   ]
  },
  {
   "cell_type": "code",
   "execution_count": null,
   "metadata": {},
   "outputs": [],
   "source": [
    "rtb.tools."
   ]
  },
  {
   "cell_type": "code",
   "execution_count": 58,
   "metadata": {},
   "outputs": [
    {
     "ename": "ModuleNotFoundError",
     "evalue": "No module named 'roboticstoolbox.tools.TRB'",
     "output_type": "error",
     "traceback": [
      "\u001B[1;31m---------------------------------------------------------------------------\u001B[0m",
      "\u001B[1;31mModuleNotFoundError\u001B[0m                       Traceback (most recent call last)",
      "Cell \u001B[1;32mIn[58], line 1\u001B[0m\n\u001B[1;32m----> 1\u001B[0m \u001B[39mfrom\u001B[39;00m \u001B[39mroboticstoolbox\u001B[39;00m\u001B[39m.\u001B[39;00m\u001B[39mtools\u001B[39;00m\u001B[39m.\u001B[39;00m\u001B[39mTRB\u001B[39;00m \u001B[39mimport\u001B[39;00m rrt\n",
      "\u001B[1;31mModuleNotFoundError\u001B[0m: No module named 'roboticstoolbox.tools.TRB'"
     ]
    }
   ],
   "source": [
    "from roboticstoolbox.tools.TRB import rrt\n",
    "\n"
   ]
  },
  {
   "cell_type": "code",
   "execution_count": null,
   "metadata": {},
   "outputs": [],
   "source": [
    "def errCount(robot_A, robot_B, q):\n",
    "    fkin_A = np.array(robot_A.fkine(q))\n",
    "    fkin_B = np.array(robot_B.fkine(q))\n",
    "    trans_error = np.array([fkin_A[0,3]-fkin_B[0,3],\n",
    "                   fkin_A[1,3]-fkin_B[1,3],\n",
    "                   fkin_A[2,3]-fkin_B[2,3]]).T\n",
    "\n",
    "    rot_err=np.array([np.arccos(np.round((fkin_A[0:3,0]/np.linalg.norm(fkin_A[0:3,0]))@(fkin_B[0:3,0]/np.linalg.norm(fkin_B[0:3,0])))),\n",
    "                      np.arccos(np.round((fkin_A[0:3,1]/np.linalg.norm(fkin_A[0:3,1]))@(fkin_B[0:3,1]/np.linalg.norm(fkin_B[0:3,1])))),\n",
    "                      np.arccos(np.round((fkin_A[0:3,0]/np.linalg.norm(fkin_A[0:3,2]))@(fkin_B[0:3,2]/np.linalg.norm(fkin_B[0:3,2]))))\n",
    "    ])\n",
    "    #print(rot_err)\n",
    "    if np.isnan(np.sum(rot_err)):\n",
    "        print('no error')\n",
    "    out = np.vstack((trans_error,rot_err)).reshape(6,1)\n",
    "    return out\n",
    "\n",
    "delta = errCount(real_robot,math_robot,q_used)\n",
    "if np.isnan(np.sum(delta)):\n",
    "    print(\"error\")\n",
    "X = np.linalg.pinv(J)@(delta/200)\n"
   ]
  },
  {
   "cell_type": "code",
   "execution_count": null,
   "metadata": {},
   "outputs": [],
   "source": [
    "q_mod = [q_used[i] - X[i,0] for i in range(6)]"
   ]
  },
  {
   "cell_type": "code",
   "execution_count": null,
   "metadata": {},
   "outputs": [],
   "source": [
    "L1_fixed = rtb.RevoluteDH(d=L1.d+X[6,0], a=L1.a+X[12,0], offset=L1.offset,  alpha=L1.alpha+X[18,0], m=L1.m, r=L1.r)\n",
    "L2_fixed = rtb.RevoluteDH(d=L2.d+X[7,0], a=L2.a+X[13,0], offset=L2.offset,  alpha=L2.alpha+X[19,0], m=L2.m, r=L2.r)\n",
    "L3_fixed = rtb.RevoluteDH(d=L3.d+X[8,0], a=L3.a+X[14,0], offset=L3.offset,  alpha=L3.alpha+X[20,0], m=L3.m, r=L3.r)\n",
    "L4_fixed = rtb.RevoluteDH(d=L4.d+X[9,0], a=L4.a+X[15,0], offset=L4.offset,  alpha=L4.alpha+X[21,0], m=L4.m, r=L4.r)\n",
    "L5_fixed = rtb.RevoluteDH(d=L5.d+X[10,0], a=L5.a+X[16,0], offset=L5.offset, alpha=L5.alpha+X[22,0], m=L5.m, r=L5.r)\n",
    "L6_fixed = rtb.RevoluteDH(d=L6.d+X[11,0], a=L6.a+X[17,0], offset=L6.offset, alpha=L6.alpha+X[23,0], m=L6.m, r=L6.r)"
   ]
  },
  {
   "cell_type": "code",
   "execution_count": null,
   "metadata": {},
   "outputs": [],
   "source": [
    "robot_fixed = rtb.DHRobot([L1_fixed,L2_fixed,L3_fixed,L4_fixed,L5_fixed,L6_fixed])"
   ]
  },
  {
   "cell_type": "code",
   "execution_count": null,
   "metadata": {},
   "outputs": [],
   "source": [
    "def angle(vector_1,vector_2):\n",
    "    unit_vector_1 = vector_1 / np.linalg.norm(vector_1)\n",
    "    unit_vector_2 = vector_2 / np.linalg.norm(vector_2)\n",
    "    dot_product = np.dot(unit_vector_1, unit_vector_2)\n",
    "    return np.arccos(dot_product)"
   ]
  },
  {
   "cell_type": "code",
   "execution_count": null,
   "metadata": {},
   "outputs": [
    {
     "name": "stdout",
     "output_type": "stream",
     "text": [
      "[[ 1.0000000e+00  0.0000000e+00  0.0000000e+00  1.4000000e-01]\n",
      " [ 0.0000000e+00  9.9994999e-01 -9.9998331e-03 -9.2148467e-04]\n",
      " [ 0.0000000e+00  9.9998331e-03  9.9994999e-01  4.9914539e-01]\n",
      " [ 0.0000000e+00  0.0000000e+00  0.0000000e+00  1.0000000e+00]]\n",
      "[[1.      0.      0.      0.16   ]\n",
      " [0.      1.      0.      0.     ]\n",
      " [0.      0.      1.      0.46415]\n",
      " [0.      0.      0.      1.     ]]\n",
      "[[ 1.0000000e+00  0.0000000e+00  0.0000000e+00  1.6154768e-01]\n",
      " [ 0.0000000e+00  1.0000000e+00  1.3686842e-10 -2.1140293e-04]\n",
      " [ 0.0000000e+00 -1.3686842e-10  1.0000000e+00  4.6408671e-01]\n",
      " [ 0.0000000e+00  0.0000000e+00  0.0000000e+00  1.0000000e+00]]\n"
     ]
    }
   ],
   "source": [
    "fk_fix=np.array(robot_fixed.fkine(q_used),dtype=np.float32)\n",
    "fk_real=np.array(real_robot.fkine(q_used),dtype=np.float32)\n",
    "fk_true=np.array(math_robot.fkine(q_used),dtype=np.float32)\n",
    "\n",
    "print(fk_real)\n",
    "print(fk_true)\n",
    "print(fk_fix)"
   ]
  },
  {
   "cell_type": "code",
   "execution_count": null,
   "metadata": {},
   "outputs": [
    {
     "name": "stdout",
     "output_type": "stream",
     "text": [
      "[ 0.02        0.00092148 -0.03499538]\n",
      "[ 0.02154768  0.00071008 -0.03505868]\n",
      "[0.       0.010001 0.010001]\n",
      "[0.       0.010001 0.010001]\n"
     ]
    }
   ],
   "source": [
    "delta_orig=np.array([fk_true[0,3]-fk_real[0,3],fk_true[1,3]-fk_real[1,3],fk_true[2,3]-fk_real[2,3]])\n",
    "print(np.round(delta_orig,8))\n",
    "\n",
    "delta_fixed=np.array([fk_fix[0,3]-fk_real[0,3],fk_fix[1,3]-fk_real[1,3],fk_fix[2,3]-fk_real[2,3]])\n",
    "print(np.round(delta_fixed,8))\n",
    "\n",
    "delta_orig_angle = np.array([angle(fk_true[0:3,0], fk_real[0:3,0]),angle(fk_true[0:3,1], fk_real[0:3,1]),angle(fk_true[0:3,2], fk_real[0:3,2])]).T\n",
    "print(np.round(delta_orig_angle,6))\n",
    "\n",
    "delta_fixed_angle = np.array([angle(fk_fix[0:3,0], fk_real[0:3,0]),angle(fk_fix[0:3,1], fk_real[0:3,1]),angle(fk_fix[0:3,2], fk_real[0:3,2])]).T\n",
    "print(np.round(delta_orig_angle,6))"
   ]
  },
  {
   "cell_type": "code",
   "execution_count": null,
   "metadata": {},
   "outputs": [
    {
     "name": "stdout",
     "output_type": "stream",
     "text": [
      "[-0.077384  0.229416 -0.001809]\n"
     ]
    }
   ],
   "source": [
    "print(np.round(1-np.abs(delta_fixed/delta_orig),6))"
   ]
  },
  {
   "cell_type": "code",
   "execution_count": null,
   "metadata": {},
   "outputs": [],
   "source": [
    "T=math_robot.fkine(q_used)\n",
    "sol = math_robot.ikine_min(T)  "
   ]
  },
  {
   "cell_type": "code",
   "execution_count": null,
   "metadata": {},
   "outputs": [
    {
     "data": {
      "text/plain": [
       "IKsolution(q=array([-2.10305506e-12, -2.45117708e-12, -2.32149746e-12, -1.97337544e-12,\n",
       "       -1.99621689e-12, -1.97337544e-12]), success=True, reason='Optimization terminated successfully', iterations=1, residual=8.802896003585343e-23)"
      ]
     },
     "execution_count": 38,
     "metadata": {},
     "output_type": "execute_result"
    }
   ],
   "source": [
    "sol"
   ]
  }
 ],
 "metadata": {
  "kernelspec": {
   "display_name": "innolearn",
   "language": "python",
   "name": "python3"
  },
  "language_info": {
   "codemirror_mode": {
    "name": "ipython",
    "version": 3
   },
   "file_extension": ".py",
   "mimetype": "text/x-python",
   "name": "python",
   "nbconvert_exporter": "python",
   "pygments_lexer": "ipython3",
   "version": "3.9.15"
  },
  "orig_nbformat": 4
 },
 "nbformat": 4,
 "nbformat_minor": 2
}
