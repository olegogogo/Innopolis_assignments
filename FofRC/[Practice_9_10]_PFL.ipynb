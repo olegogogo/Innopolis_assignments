{
 "cells": [
  {
   "cell_type": "markdown",
   "metadata": {
    "id": "bY6i1K_R9W1F",
    "pycharm": {
     "name": "#%% md\n"
    }
   },
   "source": [
    "**Goals**\n",
    "1. We will recall partial feedback linearization (PFL) technique and consider implementation on a Cart-Pole System.\n",
    "2. Perform generalized feedback linearization for a single-input system.\n"
   ]
  },
  {
   "cell_type": "markdown",
   "metadata": {
    "id": "U3kyJ_JE9ucE",
    "pycharm": {
     "name": "#%% md\n"
    }
   },
   "source": [
    "# **Partial Feedback linearization**\n"
   ]
  },
  {
   "cell_type": "markdown",
   "metadata": {
    "id": "V0PuUa8M90Rb",
    "pycharm": {
     "name": "#%% md\n"
    }
   },
   "source": [
    "## **Example 1: Cart-pole System**\n",
    "\n",
    "<p><img alt=\"mbk\" height=\"250px\" src=\"https://drive.google.com/uc?id=1O1iM6MByfMyrO0txAMFb_miOqPNzFAvm\" align=\"center\" hspace=\"350px\" vspace=\"0px\"></p>\n",
    "\n",
    "In the cart-pole system, the motions of a pendlum affects the dynamics of the cart. Therefore, we can design a feedback controller to linearize the the dynamics of a pendulum. \n",
    "\n",
    "**System Dynamics** \n",
    "\n",
    "Recall the dynamics of cart-pole system:\n",
    "\\begin{equation}\n",
    "\\begin{cases} \n",
    "\\left(M+m\\right){\\ddot {p}}-m L \\ddot{\\theta} \\cos \\theta +m L \\dot{\\theta }^{2}\\sin \\theta = u \\\\\n",
    "L \\ddot{\\theta}- g\\sin \\theta =\\ddot{p} \\cos \\theta  \\\\\n",
    "\\end{cases}\n",
    "\\end{equation}\n",
    "\n",
    "where $\\theta$ is angle of the pendulum measured from the upper equilibrium and $p$ is position of cart\n",
    "\n",
    "\n",
    "Choosing the state to be $\\mathbf{x} = [\\theta, \\dot{\\theta}, p, \\dot{p}]^T$, one may rewrite this dynamics in the state-space form as:\n",
    "\n",
    "\\begin{equation}\n",
    "\\mathbf{\\dot{x}} = \n",
    "\\begin{bmatrix}\n",
    "\\dot{\\theta} \\\\ \n",
    "\\ddot{\\theta} \\\\ \n",
    "\\dot{p} \\\\ \n",
    "\\ddot{p}\n",
    "\\end{bmatrix} \n",
    "= \n",
    "\\begin{bmatrix}\n",
    "\\dot{\\theta} \\\\ \n",
    "\\frac{(M+m)g \\sin \\theta - mL \\dot{\\theta}^2 \\sin\\theta \\cos\\theta}{(M + m\\sin^2 \\theta)L} \\\\ \n",
    "\\dot{x} \\\\ \n",
    "\\frac{mg\\sin\\theta \\cos\\theta - mL\\dot{\\theta}^2 \\sin \\theta}{M + m\\sin^2 \\theta} \\\\ \n",
    "\\end{bmatrix} \n",
    "+\n",
    "\\begin{bmatrix}\n",
    "0 \\\\ \n",
    "\\frac{\\cos\\theta}{(M + m\\sin^2 \\theta)L} \\\\ \n",
    "0 \\\\ \n",
    "\\frac{1}{M + m\\sin^2 \\theta} \\\\ \n",
    "\\end{bmatrix} u\n",
    "\\end{equation}\n"
   ]
  },
  {
   "cell_type": "markdown",
   "metadata": {
    "id": "DRtmd2Lv-xNr",
    "pycharm": {
     "name": "#%% md\n"
    }
   },
   "source": [
    "For simplicity **we can omit all the parameters** and consider the following system:\n",
    "<!-- \\begin{equation}\n",
    "2\\ddot{p} + \\ddot{\\theta} \\cos{\\theta} - \\dot{\\theta}^2 \\sin{\\theta} = u_p \\\\\n",
    "\\ddot{p}\\cos{\\theta} + \\ddot{\\theta} + \\sin{\\theta} = 0\n",
    "\\end{equation} -->\n",
    "\\begin{equation}\n",
    "\\begin{cases}\n",
    "2\\ddot{p} - \\ddot{\\theta} \\cos{\\theta} + \\dot{\\theta}^2 \\sin{\\theta} = u \\\\\n",
    "\\ddot{\\theta} - \\sin{\\theta} - \\ddot{p}\\cos{\\theta} = 0\n",
    "\\end{cases}\n",
    "\\end{equation}\n",
    "\n",
    "From the second equation we can derive $\\ddot{\\theta}$ and sustitute the obtained expression to the first equation. As a result we get:\n",
    "\n",
    "\\begin{equation}\n",
    "\\begin{cases}\n",
    "\\ddot{p}(2-\\cos^2{\\theta}) - \\sin{\\theta}\\cos{\\theta} + \\dot{\\theta}^2\\sin{\\theta} = u \\\\\n",
    "\\ddot{\\theta} = \\ddot{p}\\cos{\\theta} + \\sin{\\theta}\n",
    "\\end{cases}\n",
    "\\end{equation}\n",
    "\n",
    "By applying feedback control \n",
    "\\begin{equation}\n",
    "u = \\ddot{p}_d(2-\\cos^2{\\theta}) - \\sin{\\theta}\\cos{\\theta} + \\dot{\\theta}^2\\sin{\\theta}\n",
    "\\end{equation}\n",
    "\n",
    "results in\n",
    "\n",
    "\\begin{equation}\n",
    "\\begin{cases}\n",
    "\\ddot{p} = \\ddot{p}_d \\\\\n",
    "\\ddot{\\theta} = \\ddot{p}_d\\cos{\\theta} + \\sin{\\theta}\n",
    "\\end{cases}\n",
    "\\end{equation}"
   ]
  },
  {
   "cell_type": "markdown",
   "metadata": {
    "id": "VAnL3N08Ur7h",
    "pycharm": {
     "name": "#%% md\n"
    }
   },
   "source": [
    "**System parameters**: \n",
    "\n",
    "Let us choose the following parameters:"
   ]
  },
  {
   "cell_type": "code",
   "execution_count": 6,
   "metadata": {
    "id": "OOxRQ4PoHn52",
    "pycharm": {
     "name": "#%%\n"
    }
   },
   "outputs": [],
   "source": [
    "import numpy as np\n",
    "from matplotlib.pyplot import *\n",
    "from scipy.integrate import odeint "
   ]
  },
  {
   "cell_type": "code",
   "execution_count": 7,
   "metadata": {
    "id": "BTLUgQZbID_3",
    "pycharm": {
     "name": "#%%\n"
    }
   },
   "outputs": [],
   "source": [
    "# Time settings\n",
    "t0 = 0                     # Initial time \n",
    "tf = 20                    # Final time\n",
    "N = int(2E3)               # Numbers of points in time span\n",
    "t = np.linspace(t0, tf, N) # Create time span\n",
    "\n",
    "# Define initial point \n",
    "theta_0 = 0.3\n",
    "p_0 = 0.0\n",
    "\n",
    "# Set initial state \n",
    "x0 = [theta_0, # Initial pendulum angle\n",
    "      0,       # Initial pendulum angular speed\n",
    "      p_0,     # Initial cart position\n",
    "      0]       # Initial cart speed"
   ]
  },
  {
   "cell_type": "code",
   "execution_count": 8,
   "metadata": {
    "id": "lMSbMWXnWwRC",
    "pycharm": {
     "name": "#%%\n"
    }
   },
   "outputs": [],
   "source": [
    "s, c = np.sin, np.cos\n",
    "# Nonlinear cart-pole dynamics\n",
    "def f(x, u):\n",
    "    theta, dtheta, p, dp = x\n",
    "    ddp = (u + s(theta) * c(theta) - dtheta ** 2 * s(theta)) / (2 - c(theta)**2)\n",
    "    ddtheta = ddp * c(theta) + s(theta)\n",
    "    return dtheta, ddtheta, dp, ddp"
   ]
  },
  {
   "cell_type": "code",
   "execution_count": 9,
   "metadata": {
    "colab": {
     "base_uri": "https://localhost:8080/",
     "height": 282
    },
    "id": "C7tfBAsaZ-cT",
    "outputId": "6f951f67-0b70-46a6-88a3-acefa0162993",
    "pycharm": {
     "name": "#%%\n"
    }
   },
   "outputs": [
    {
     "data": {
      "image/png": "[encoded data removed]",
      "text/plain": [
       "<Figure size 432x288 with 1 Axes>"
      ]
     },
     "metadata": {
      "needs_background": "light"
     },
     "output_type": "display_data"
    }
   ],
   "source": [
    "def sys_ode(x, t):\n",
    "    # Linear controller\n",
    "    u = control(x, t)\n",
    "    # Nonlinear dynamics\n",
    "    dx = f(x, u)\n",
    "    return dx\n",
    "\n",
    "\n",
    "def control(x, t):\n",
    "    theta, dtheta, p, dp = x\n",
    "    p_des, dp_des, ddp_des = 0.4, 0., 0\n",
    "    u_fc = (2 - c(theta)**2) * ddp_des - s(theta) * c(theta) + dtheta ** 2 * s(theta)\n",
    "    K_p = 25\n",
    "    K_d = 10\n",
    "    u_PD = K_p * (p_des - p) + K_d * (dp_des - dp)\n",
    "    return u_fc + u_PD\n",
    "\n",
    "\n",
    "# integrate system \"sys_ode\" from initial state x0\n",
    "x_nl = odeint(sys_ode, x0, t) \n",
    "theta_nl, dtheta_nl, p_nl, dp_nl = x_nl[:,0], x_nl[:,1], x_nl[:,2], x_nl[:,3] \n",
    "\n",
    "# Plot the result\n",
    "plot(t, theta_nl, 'b', linewidth=2.0, label = r'$\\theta$ nonlinear')\n",
    "grid(color='black', linestyle='--', linewidth=1.0, alpha = 0.7)\n",
    "grid(True)\n",
    "legend(loc='best')\n",
    "xlim([t0, tf])\n",
    "ylabel(r'Pole angle $\\theta$ (rad)')\n",
    "xlabel(r'Time $t$ (s)')\n",
    "show()"
   ]
  },
  {
   "cell_type": "code",
   "execution_count": 10,
   "metadata": {
    "colab": {
     "base_uri": "https://localhost:8080/",
     "height": 282
    },
    "id": "EMblL7UlbRBl",
    "outputId": "41907080-98f9-4c91-804f-c7beaedee6e7",
    "pycharm": {
     "name": "#%%\n"
    }
   },
   "outputs": [
    {
     "data": {
      "image/png": "[encoded data removed]",
      "text/plain": [
       "<Figure size 432x288 with 1 Axes>"
      ]
     },
     "metadata": {
      "needs_background": "light"
     },
     "output_type": "display_data"
    }
   ],
   "source": [
    "plot(t, p_nl, 'r', linewidth=2.0, label = r'$p$ nonlinear')\n",
    "grid(color='black', linestyle='--', linewidth=1.0, alpha = 0.7)\n",
    "grid(True)\n",
    "legend(loc='best')\n",
    "xlim([t0, tf])\n",
    "ylabel(r'Cart position $p$ (m)')\n",
    "xlabel(r'Time $t$ (s)')\n",
    "show()"
   ]
  },
  {
   "cell_type": "markdown",
   "metadata": {
    "id": "-TLlc4rrPdKM",
    "pycharm": {
     "name": "#%% md\n"
    }
   },
   "source": [
    "\\begin{equation}\n",
    "\\begin{cases}\n",
    "\\ddot{p}(2-\\cos^2{\\theta}) - \\sin{\\theta}\\cos{\\theta} + \\dot{\\theta}^2\\sin{\\theta} = u \\\\\n",
    "\\ddot{\\theta} = \\ddot{p}\\cos{\\theta} + \\sin{\\theta}\n",
    "\\end{cases}\n",
    "\\end{equation}\n",
    "\n",
    "From the second equation from the system above we can derive $\\ddot{p}$ as\n",
    "\\begin{equation}\n",
    "\\ddot{p} = \\frac{1}{\\cos{\\theta}} (\\ddot{\\theta} - \\sin{\\theta})\n",
    "\\end{equation}\n",
    "\n",
    "and substitute this expression to the first equation of the system above. As a result, we get\n",
    "\n",
    "\\begin{equation}\n",
    "\\begin{cases}\n",
    "\\ddot{p} = \\frac{1}{\\cos{\\theta}} (\\ddot{\\theta} - \\sin{\\theta}) \\\\\n",
    "\\ddot{\\theta} (\\frac{2}{\\cos{\\theta}} - \\cos{\\theta}) - 2 \\tan{\\theta} + \\dot{\\theta}^2\\sin{\\theta} = u\n",
    "\\end{cases}\n",
    "\\end{equation}\n",
    "\n",
    "Let's apply the following feedback control\n",
    "\\begin{equation}\n",
    "u = \\ddot{\\theta}_d  (\\frac{2}{\\cos{\\theta}} - \\cos{\\theta}) - 2\\tan{\\theta} + \\dot{\\theta}^2 \\sin{\\theta}\n",
    "\\end{equation}\n",
    "\n",
    "In the end we will get the following dynamics\n",
    "\\begin{equation}\n",
    "\\begin{cases}\n",
    "\\ddot{\\theta} = \\ddot{\\theta}_d \\\\\n",
    "\\ddot{p} =  \\frac{1}{\\cos{\\theta}} (\\ddot{\\theta}_d - \\sin{\\theta})\n",
    "\\end{cases}\n",
    "\\end{equation}"
   ]
  },
  {
   "cell_type": "code",
   "execution_count": 11,
   "metadata": {
    "pycharm": {
     "name": "#%%\n"
    }
   },
   "outputs": [
    {
     "data": {
      "image/png": "[encoded data removed]",
      "text/plain": [
       "<Figure size 432x288 with 1 Axes>"
      ]
     },
     "metadata": {
      "needs_background": "light"
     },
     "output_type": "display_data"
    },
    {
     "data": {
      "image/png": "[encoded data removed]",
      "text/plain": [
       "<Figure size 432x288 with 1 Axes>"
      ]
     },
     "metadata": {
      "needs_background": "light"
     },
     "output_type": "display_data"
    }
   ],
   "source": [
    "import numpy as np\n",
    "from matplotlib.pyplot import *\n",
    "from scipy.integrate import odeint \n",
    "\n",
    "s, c = np.sin, np.cos\n",
    "# Nonlinear cart-pole dynamics\n",
    "def f(x, u):\n",
    "    theta, dtheta, p, dp = x\n",
    "    ddtheta = (u-2*(s(theta)/c(theta))+dtheta**2*s(theta))/(2/c(theta)-c(theta))\n",
    "    ddp = ddtheta/c(theta) - s(theta)/c(theta)\n",
    "    return dtheta, ddtheta, dp, ddp\n",
    "\n",
    "def sys_ode(x, t):\n",
    "    # Linear controller\n",
    "    u = control(x, t)\n",
    "    # Nonlinear dynamics\n",
    "    dx = f(x, u)\n",
    "    return dx\n",
    "\n",
    "\n",
    "def control(x, t):\n",
    "    theta, dtheta, p, dp = x\n",
    "    theta_des, dtheta_des, ddtheta_des = 0, 0., 0\n",
    "    u_fc = 2*((ddtheta_des)/(c(theta))-(s(theta))/(c(theta))) - ddtheta_des*c(theta) + s(theta)*dtheta**2\n",
    "    K_p = 25\n",
    "    K_d = 10\n",
    "    u_PD = K_p * (theta_des - theta) + K_d * (dtheta_des - dtheta)\n",
    "    return u_fc + u_PD\n",
    "\n",
    "\n",
    "# Time settings\n",
    "t0 = 0                     # Initial time \n",
    "tf = 25                    # Final time\n",
    "N = int(2E3)               # Numbers of points in time span\n",
    "t = np.linspace(t0, tf, N) # Create time span\n",
    "\n",
    "# Define initial point \n",
    "theta_0 = 0-np.pi/6\n",
    "# theta_0 = \n",
    "p_0 = 0.0\n",
    "\n",
    "# Set initial state \n",
    "x0 = [theta_0, # Initial pendulum angle\n",
    "      0,       # Initial pendulum angular speed\n",
    "      p_0,     # Initial cart position\n",
    "      0]       # Initial cart speed\n",
    "\n",
    "\n",
    "\n",
    "# integrate system \"sys_ode\" from initial state x0\n",
    "x_nl = odeint(sys_ode, x0, t) \n",
    "theta_nl, dtheta_nl, p_nl, dp_nl = x_nl[:,0], x_nl[:,1], x_nl[:,2], x_nl[:,3] \n",
    "\n",
    "# Plot the result\n",
    "plot(t, theta_nl, 'b', linewidth=2.0, label = r'$\\theta$ nonlinear')\n",
    "grid(color='black', linestyle='--', linewidth=1.0, alpha = 0.7)\n",
    "grid(True)\n",
    "legend(loc='best')\n",
    "xlim([t0, tf])\n",
    "# xlim([1, 5])\n",
    "ylabel(r'Pole angle $\\theta$ (rad)')\n",
    "xlabel(r'Time $t$ (s)')\n",
    "show()\n",
    "plot(t, p_nl, 'r', linewidth=2.0, label = r'$p$ nonlinear')\n",
    "grid(color='black', linestyle='--', linewidth=1.0, alpha = 0.7)\n",
    "grid(True)\n",
    "legend(loc='best')\n",
    "xlim([t0, tf])\n",
    "# xlim([1, 5])\n",
    "ylabel(r'Pole angle $\\theta$ (rad)')\n",
    "xlabel(r'Time $t$ (s)')\n",
    "show()"
   ]
  },
  {
   "cell_type": "markdown",
   "metadata": {
    "id": "_kVWFukOo2xf",
    "pycharm": {
     "name": "#%% md\n"
    }
   },
   "source": [
    "# **Generalized Feedback Linearization**\n"
   ]
  },
  {
   "cell_type": "markdown",
   "metadata": {
    "id": "Jx3cER9dIzQA",
    "pycharm": {
     "name": "#%% md\n"
    }
   },
   "source": [
    "## **Example 2: Flexible Joint Link**\n",
    "The system is the nonlinear pendulum with finite stifness in the joint :\n",
    "<p><img alt=\"Compliant pendulum\" height=\"200px\" src=\"https://drive.google.com/uc?id=1HZbitkGnsV0TdRhSKoFADmQhpbeSh4uW\" align=\"center\" hspace=\"320px\" vspace=\"0px\"></p>\n",
    "\n",
    "Dynamics of this system is given as:\n",
    "\n",
    "\\begin{equation}\n",
    "\\begin{cases} \n",
    "I \\ddot{\\theta}_1 +  b \\dot{\\theta}_1 + k(\\theta_1 - \\theta_2) = u \\\\\n",
    "m L^2 \\ddot{\\theta}_2 + mgL \\sin\\theta_2 = k(\\theta_1 - \\theta_2) \\\\\n",
    "\\end{cases}\n",
    "\\end{equation}\n",
    "\n",
    "Defining the state as $\\mathbf{x} = [\\theta_1, \\theta_2, \\dot{\\theta}_1, \\dot{\\theta}_2]$, then the system above can be writen in state space form as follows:\n",
    "\n",
    "\\begin{equation}\n",
    "\\dot{\\mathbf{x}} = \n",
    "\\begin{bmatrix}\n",
    "\\dot{\\theta}_1 \\\\\n",
    "\\dot{\\theta}_2 \\\\\n",
    "\\ddot{\\theta}_1 \\\\\n",
    "\\ddot{\\theta}_2 \n",
    "\\end{bmatrix} \n",
    "=\n",
    "\\begin{bmatrix}\n",
    "\\dot{\\theta}_1 \\\\\n",
    "\\dot{\\theta}_2 \\\\\n",
    "\\frac{1}{I}\\big(u - b \\dot{\\theta}_1 - k(\\theta_1 - \\theta_2)\\big) \\\\ \n",
    "\\frac{1}{m L^2}\\big(k(\\theta_1 - \\theta_2) - mgL \\sin \\theta_2\\big)\n",
    "\\end{bmatrix} \n",
    "\\end{equation}\n",
    "**Exercise:** Find a transformation $\\mathbf{z}(t)=\\mathbf{T}(x)$ that will result in controllable linear system:\n",
    "\\begin{equation}\n",
    "\\dot{\\mathbf{z}} = \\mathbf{A}\\mathbf{z}+\\mathbf{b}v\n",
    "\\end{equation}\n",
    "\n",
    "where\n",
    "\n",
    "\\begin{equation}\n",
    "\\mathbf{A} = \n",
    "\\begin{bmatrix}\n",
    "0 & 1 & 0 & 0 \\\\\n",
    "0 & 0 & 1 & 0 \\\\\n",
    "0 & 0 & 0 & 1 \\\\\n",
    "0 & 0 & 0 & 0 \\\\\n",
    "\\end{bmatrix}\n",
    "\\end{equation}\n",
    "\n",
    "\\begin{equation}\n",
    "\\mathbf{b} = \n",
    "\\begin{bmatrix}\n",
    "0 \\\\ 0 \\\\ 0 \\\\ 1\\\\\n",
    "\\end{bmatrix}\n",
    "\\end{equation}\n",
    "\n",
    "\n",
    "\\begin{cases}\n",
    "\\dot{z}_1 = z_2 \\\\\n",
    "\\dot{z}_2 = z_3 \\\\\n",
    "\\dot{z}_3 = z_4 \\\\\n",
    "\\dot{z}_4 = v\n",
    "\\end{cases}"
   ]
  }
 ],
 "metadata": {
  "colab": {
   "provenance": []
  },
  "kernelspec": {
   "display_name": "Python 3.10.4 ('innolearn')",
   "language": "python",
   "name": "python3"
  },
  "language_info": {
   "codemirror_mode": {
    "name": "ipython",
    "version": 3
   },
   "file_extension": ".py",
   "mimetype": "text/x-python",
   "name": "python",
   "nbconvert_exporter": "python",
   "pygments_lexer": "ipython3",
   "version": "3.9.15 (main, Nov 24 2022, 14:39:17) [MSC v.1916 64 bit (AMD64)]"
  },
  "vscode": {
   "interpreter": {
    "hash": "c3406c4ea377a1261c4285aa60368e6544b40c61c4a11ebeac174d6130232973"
   }
  }
 },
 "nbformat": 4,
 "nbformat_minor": 0
}