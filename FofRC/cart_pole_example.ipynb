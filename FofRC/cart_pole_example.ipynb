{
 "cells": [
  {
   "cell_type": "code",
   "execution_count": null,
   "metadata": {
    "id": "0NkKxta4lib7",
    "pycharm": {
     "name": "#%%\n"
    }
   },
   "outputs": [],
   "source": [
    "import matplotlib.pyplot as plt\n",
    "import numpy as np"
   ]
  },
  {
   "cell_type": "markdown",
   "metadata": {
    "id": "_kVWFukOo2xf",
    "pycharm": {
     "name": "#%% md\n"
    }
   },
   "source": [
    "#**Stabilization of Cart Pole system**: \n",
    "> Consider the stabilization of cart pole system:\n",
    ">\n",
    ">\n",
    "><p><img alt=\"mbk\" height=\"250px\" src=\"https://drive.google.com/uc?id=1O1iM6MByfMyrO0txAMFb_miOqPNzFAvm\" align=\"center\" hspace=\"350px\" vspace=\"0px\"></p>\n",
    ">\n",
    ">\n",
    "> In this example we did the following:\n",
    ">*   Design the Linear feedback controller using pole placement technique\n",
    ">*   Simulate the response of your controller on the linearized and nonlinear system, compare the results\n",
    ">*   Initiate the simulation with point that is far from origin, discuss the difference between linearized and nonlinear systems\n",
    ">\n",
    "> [Here is the great illustration of the hardware implemintation](https://www.youtube.com/shorts/NJxBJ2LJY7w) \n",
    ">\n",
    ">You may find the `.py` version of this notebook by following [this link](https://drive.google.com/file/d/1i7domG5HARUin4igzKvgHD8kliqjy23C/view?usp=sharing)\n"
   ]
  },
  {
   "cell_type": "markdown",
   "metadata": {
    "id": "WrEHbu0anIiU",
    "pycharm": {
     "name": "#%% md\n"
    }
   },
   "source": [
    "##**System Dynamics**: \n",
    "\n",
    "Recall the dynamics of cart-pole system:\n",
    "\\begin{equation}\n",
    "\\begin{cases} \n",
    "\\left(M+m\\right){\\ddot {p}}-m L \\ddot{\\theta} \\cos \\theta +m L \\dot{\\theta }^{2}\\sin \\theta = u \\\\\n",
    "L \\ddot{\\theta}- g\\sin \\theta =\\ddot{p} \\cos \\theta  \\\\\n",
    "\\end{cases}\n",
    "\\end{equation}\n",
    "\n",
    "where $\\theta$ is angle of the pendulum measured from the upper equilibrium and $p$ is position of cart\n",
    "\n",
    "\n",
    "Choosing the state to be $\\mathbf{x} = [\\theta, \\dot{\\theta}, p, \\dot{p}]^T$One may rewrite this dynamics in the state-space form as:\n",
    "\\begin{equation}\n",
    "\\mathbf{\\dot{x}} = \n",
    "\\begin{bmatrix}\n",
    "\\dot{\\theta} \\\\ \n",
    "\\ddot{\\theta} \\\\ \n",
    "\\dot{p} \\\\ \n",
    "\\ddot{p}\n",
    "\\end{bmatrix} \n",
    "= \n",
    "\\begin{bmatrix}\n",
    "\\dot{\\theta} \\\\ \n",
    "\\frac{(M+m)g \\sin \\theta - mL \\dot{\\theta}^2 \\sin\\theta \\cos\\theta}{(M + m\\sin^2 \\theta)L} \\\\ \n",
    "\\dot{x} \\\\ \n",
    "\\frac{mg\\sin\\theta \\cos\\theta - mL\\dot{\\theta}^2 \\sin \\theta}{M + m\\sin^2 \\theta} \\\\ \n",
    "\\end{bmatrix} \n",
    "+\n",
    "\\begin{bmatrix}\n",
    "0 \\\\ \n",
    "\\frac{\\cos\\theta}{(M + m\\sin^2 \\theta)L} \\\\ \n",
    "0 \\\\ \n",
    "\\frac{1}{M + m\\sin^2 \\theta} \\\\ \n",
    "\\end{bmatrix} u\n",
    "\\end{equation}\n"
   ]
  },
  {
   "cell_type": "markdown",
   "metadata": {
    "id": "VAnL3N08Ur7h",
    "pycharm": {
     "name": "#%% md\n"
    }
   },
   "source": [
    "###**System parameters**: \n",
    "Let us choose the following parameters:"
   ]
  },
  {
   "cell_type": "code",
   "execution_count": null,
   "metadata": {
    "id": "M2NL56xAUrM3",
    "pycharm": {
     "name": "#%%\n"
    }
   },
   "outputs": [],
   "source": [
    "m = 0.5 # mass of pendulum bob\n",
    "M = 2 # mass of cart\n",
    "L = 0.3 # length of pendulum\n",
    "g = 9.81 # gravitational acceleration \n"
   ]
  },
  {
   "cell_type": "markdown",
   "metadata": {
    "id": "D_Cvl8EyTVMG",
    "pycharm": {
     "name": "#%% md\n"
    }
   },
   "source": [
    "###**Linearized Dynamics**: \n",
    "\n",
    "Liniarization around the upper equilibrium $\\mathbf{x} = [0,0,0,0]$ yields:\n",
    "\n",
    "\\begin{equation}\n",
    "\\mathbf{\\dot{x}} = \n",
    "\\begin{bmatrix}\n",
    "\\dot{\\theta} \\\\ \n",
    "\\ddot{\\theta} \\\\ \n",
    "\\dot{p} \\\\ \n",
    "\\ddot{p}\n",
    "\\end{bmatrix} \n",
    "=\n",
    "\\begin{bmatrix}\n",
    "0 & 1 & 0 & 0\\\\\n",
    "\\frac{(M+m)}{M}\\frac{g}{L} & 0 & 0 & 0 \\\\\n",
    "0 & 0 & 0 & 1 \\\\\n",
    "\\frac{m}{M}g & 0 & 0 & 0 \n",
    "\\end{bmatrix} \n",
    "\\begin{bmatrix}\n",
    "\\theta \\\\ \n",
    "\\dot{\\theta} \\\\ \n",
    "p \\\\ \n",
    "\\dot{p}\n",
    "\\end{bmatrix} \n",
    "+\n",
    "\\begin{bmatrix}\n",
    "0 \\\\\n",
    "\\frac{1}{ML} \\\\\n",
    "0 \\\\\n",
    "\\frac{1}{M}\n",
    "\\end{bmatrix}\n",
    "u\n",
    "\\end{equation}"
   ]
  },
  {
   "cell_type": "code",
   "execution_count": null,
   "metadata": {
    "id": "i3y-TnTmTUf4",
    "pycharm": {
     "name": "#%%\n"
    }
   },
   "outputs": [],
   "source": [
    "# System matrix\n",
    "A = np.array([[0, 1, 0, 0],\n",
    "             [(M + m)*g /(M*L), 0, 0, 0],\n",
    "             [0,0,0,1],\n",
    "             [m*g/M, 0, 0, 0]])\n",
    "# Input matrix\n",
    "B = np.array([[0],\n",
    "             [1/(M*L)],\n",
    "             [0], \n",
    "             [1/M]])"
   ]
  },
  {
   "cell_type": "markdown",
   "metadata": {
    "id": "BwYSjfDTVTCF",
    "pycharm": {
     "name": "#%% md\n"
    }
   },
   "source": [
    "###**Controller Design**: \n",
    "\n",
    "Let us design the controller for linearized plant by placing poles (eigen values) on the left-hand side of complex plane, find descretization and pe\n"
   ]
  },
  {
   "cell_type": "code",
   "execution_count": null,
   "metadata": {
    "colab": {
     "base_uri": "https://localhost:8080/",
     "height": 352
    },
    "id": "x6bygIHbVwtL",
    "outputId": "831f65af-62a7-4200-cf9f-49d5996a00b3",
    "pycharm": {
     "name": "#%%\n"
    }
   },
   "outputs": [
    {
     "name": "stdout",
     "output_type": "stream",
     "text": [
      "Desired poles:\n",
      " [-4 -3 -2 -1], \n",
      "Designed poles:\n",
      " [-4. -3. -2. -1.]\n"
     ]
    },
    {
     "data": {
      "image/png": "[encoded data removed]",
      "text/plain": [
       "<Figure size 288x288 with 1 Axes>"
      ]
     },
     "metadata": {
      "needs_background": "light"
     },
     "output_type": "display_data"
    }
   ],
   "source": [
    "from scipy.signal import place_poles\n",
    "\n",
    "# Choose the poles locations\n",
    "poles = np.array([-4, -3, -2, -1])\n",
    "# Calculate the gain matrix\n",
    "K = np.zeros(4)\n",
    "# Check the closed loop poles \n",
    "Ac = A - B@K\n",
    "eigs = np.linalg.eigvals(Ac)\n",
    "print(f'Desired poles:\\n {poles}, \\nDesigned poles:\\n {eigs}')\n",
    "\n",
    "\n",
    "\n",
    "# Get the plot of desired and designed poles \n",
    "plt.figure(figsize=(4, 4))\n",
    "plt.plot(poles.real, poles.imag, 'bo', label='Desired')\n",
    "plt.plot(eigs.real, eigs.imag, 'rx',label='Actual')\n",
    "plt.grid(color='black', linestyle='--', linewidth=1.0, alpha = 0.7)\n",
    "plt.grid(True)\n",
    "plt.xlabel(r'Real part: ${ \\operatorname{Re}(\\lambda)}$')\n",
    "plt.ylabel(r'Imaginary part: ${ \\operatorname{Im}(\\lambda)}$')\n",
    "plt.show()"
   ]
  },
  {
   "cell_type": "markdown",
   "metadata": {
    "id": "uJTVJ1pCYdHV",
    "pycharm": {
     "name": "#%% md\n"
    }
   },
   "source": [
    "###**Simulation**:\n",
    "We proceed with the simulation of designed controller, firstly we will define the simulation parameters: "
   ]
  },
  {
   "cell_type": "code",
   "execution_count": null,
   "metadata": {
    "id": "L473KDm6Y7GK",
    "pycharm": {
     "name": "#%%\n"
    }
   },
   "outputs": [],
   "source": [
    "# Time settings\n",
    "t0 = 0 # Initial time \n",
    "tf = 10 # Final time\n",
    "N = int(2E3) # Numbers of points in time span\n",
    "t = np.linspace(t0, tf, N) # Create time span\n",
    "\n",
    "# Define initial point \n",
    "theta_0 = 1.2\n",
    "p_0 = 0.0\n",
    "\n",
    "# Set initial state \n",
    "x0 = [theta_0, # Initial pendulum angle\n",
    "      0, # Initial pendulum angular speed\n",
    "      p_0, # Initial cart position\n",
    "      0] # Initial cart speed"
   ]
  },
  {
   "cell_type": "markdown",
   "metadata": {
    "id": "zojvh_scXgvZ",
    "pycharm": {
     "name": "#%% md\n"
    }
   },
   "source": [
    "\n",
    "####**Linearized dynamics**: \n",
    "Now let us simulate the response of linear controller on the **linearized** system:"
   ]
  },
  {
   "cell_type": "code",
   "execution_count": null,
   "metadata": {
    "colab": {
     "base_uri": "https://localhost:8080/",
     "height": 282
    },
    "id": "iGhlbLIxPJBV",
    "outputId": "87d4427b-8d40-4fa7-c212-b832174bb3bb",
    "pycharm": {
     "name": "#%%\n"
    }
   },
   "outputs": [
    {
     "data": {
      "image/png": "[encoded data removed]",
      "text/plain": [
       "<Figure size 432x288 with 1 Axes>"
      ]
     },
     "metadata": {
      "needs_background": "light"
     },
     "output_type": "display_data"
    }
   ],
   "source": [
    "# import integrator routine\n",
    "from scipy.integrate import odeint \n",
    "\n",
    "# Define the linear ODE to solve\n",
    "def linear_closed(x, t, A, B, K):\n",
    "    # Linear controller\n",
    "    u = - np.dot(K,x)  \n",
    "    # Linearized dynamics\n",
    "    dx = np.dot(A,x) + np.dot(B,u)\n",
    "    return dx\n",
    "# integrate system \"sys_ode\" from initial state $x0$\n",
    "x_l = odeint(linear_closed, x0, t, args=(A, B, K,)) \n",
    "theta_l, dtheta_l, p_l, dp_l = x_l[:,0], x_l[:,1], x_l[:,2], x_l[:,3] \n",
    "# Plot the resulst\n",
    "plt.plot(t, theta_l, 'b--', linewidth=2.0, label = r'$\\theta$ linear')\n",
    "plt.plot(t, p_l, 'r--', linewidth=2.0, label = r'$p$ linear')\n",
    "plt.grid(color='black', linestyle='--', linewidth=1.0, alpha = 0.7)\n",
    "plt.grid(True)\n",
    "plt.legend()\n",
    "plt.xlim([t0, tf])\n",
    "plt.ylabel(r'Coordinates $p,\\theta$')\n",
    "plt.xlabel(r'Time $t$ (s)')\n",
    "plt.show()"
   ]
  },
  {
   "cell_type": "markdown",
   "metadata": {
    "id": "7EaVQAp7MlhL",
    "pycharm": {
     "name": "#%% md\n"
    }
   },
   "source": [
    "####**Nonlinear dynamics**: \n",
    "\n",
    "First of all let us define the nonlinear system in form $\\dot{\\mathbf{x}} = \\mathbf{f}(\\mathbf{x}, \\mathbf{u})$ :"
   ]
  },
  {
   "cell_type": "code",
   "execution_count": null,
   "metadata": {
    "id": "lMSbMWXnWwRC",
    "pycharm": {
     "name": "#%%\n"
    }
   },
   "outputs": [],
   "source": [
    "s, c = np.sin, np.cos\n",
    "# Nnonlinear cart-pole dynamics\n",
    "def f(x, u):\n",
    "    theta, dtheta, p, dp = x\n",
    "    denominator = M + m*(s(theta)**2)\n",
    "    ddtheta = ((M + m)*g*s(theta) - m* L * dtheta**2 *s(theta) * c(theta) + c(theta)*u)/(denominator * L)\n",
    "    ddp = (m*g*s(theta)*c(theta) - m* L * dtheta**2 *s(theta) + u)/denominator\n",
    "    return dtheta, ddtheta, dp, ddp"
   ]
  },
  {
   "cell_type": "markdown",
   "metadata": {
    "id": "xf4RANelaCG3",
    "pycharm": {
     "name": "#%% md\n"
    }
   },
   "source": [
    "Now we will simulate similarly to linear case while using the same gains $\\mathbf{K}$:"
   ]
  },
  {
   "cell_type": "code",
   "execution_count": null,
   "metadata": {
    "colab": {
     "base_uri": "https://localhost:8080/"
    },
    "id": "C7tfBAsaZ-cT",
    "outputId": "5ee67d6c-d8b1-40e4-fbf5-ad456e78ce18",
    "pycharm": {
     "name": "#%%\n"
    }
   },
   "outputs": [
    {
     "data": {
      "image/png": "[encoded data removed]",
      "text/plain": [
       "<Figure size 432x288 with 1 Axes>"
      ]
     },
     "metadata": {
      "needs_background": "light"
     },
     "output_type": "display_data"
    }
   ],
   "source": [
    "def nonliear_closed(x, t, K):\n",
    "    # Linear controller\n",
    "    u = - np.dot(K,x)  \n",
    "    # Nonlinear dynamics\n",
    "    dx = f(x, u)\n",
    "    return dx\n",
    "\n",
    "# integrate system \"sys_ode\" from initial state $x0$\n",
    "x_nl = odeint(nonliear_closed, x0, t, args=(K,)) \n",
    "theta_nl, dtheta_nl, p_nl, dp_nl = x_nl[:,0], x_nl[:,1], x_nl[:,2], x_nl[:,3] \n",
    "# Plot the resulst\n",
    "plt.plot(t, theta_nl, 'b', linewidth=2.0, label = r'$\\theta$ nonlinear')\n",
    "plt.plot(t, p_nl, 'r', linewidth=2.0, label = r'$p$ nonlinear')\n",
    "plt.grid(color='black', linestyle='--', linewidth=1.0, alpha = 0.7)\n",
    "plt.grid(True)\n",
    "plt.legend()\n",
    "plt.xlim([t0, tf])\n",
    "plt.ylabel(r'Coordinates $p,\\theta$')\n",
    "plt.xlabel(r'Time $t$ (s)')\n",
    "plt.show()"
   ]
  },
  {
   "cell_type": "markdown",
   "metadata": {
    "id": "I8K0gNMmaqrr",
    "pycharm": {
     "name": "#%% md\n"
    }
   },
   "source": [
    "\n",
    "###**Comparison**: \n",
    "One may compare the linear and nonlinear responses by plotting them together:"
   ]
  },
  {
   "cell_type": "code",
   "execution_count": null,
   "metadata": {
    "colab": {
     "base_uri": "https://localhost:8080/",
     "height": 282
    },
    "id": "HMT9U1H7a2Wz",
    "outputId": "d522b030-0438-46e2-bc62-49b8c6bef633",
    "pycharm": {
     "name": "#%%\n"
    }
   },
   "outputs": [
    {
     "data": {
      "image/png": "[encoded data removed]",
      "text/plain": [
       "<Figure size 432x288 with 1 Axes>"
      ]
     },
     "metadata": {
      "needs_background": "light"
     },
     "output_type": "display_data"
    }
   ],
   "source": [
    "plt.plot(t, theta_l, 'b--', linewidth=2.0, label = r'$\\theta$ linear')\n",
    "plt.plot(t, p_l, 'r--', linewidth=2.0, label = r'$p$ linear')\n",
    "plt.plot(t, theta_nl, 'b', linewidth=2.0, label = r'$\\theta$ nonlinear')\n",
    "plt.plot(t, p_nl, 'r', linewidth=2.0, label = r'$p$ nonlinear')\n",
    "plt.grid(color='black', linestyle='--', linewidth=1.0, alpha = 0.7)\n",
    "plt.grid(True)\n",
    "plt.legend()\n",
    "plt.xlim([t0, tf])\n",
    "plt.ylabel(r'Coordinates $p,\\theta$')\n",
    "plt.xlabel(r'Time $t$ (s)')\n",
    "plt.show()"
   ]
  },
  {
   "cell_type": "markdown",
   "metadata": {
    "id": "x9CrdssBcqIY",
    "pycharm": {
     "name": "#%% md\n"
    }
   },
   "source": [
    "The difference in response depends on various factors, such as pole locations, initial point, system parameters etc. Try to play with this simulation, vary the parameters and compare the system responses. \n",
    "\n",
    "\n"
   ]
  }
 ],
 "metadata": {
  "colab": {
   "provenance": []
  },
  "kernelspec": {
   "display_name": "Python 3.10.4 ('innolearn')",
   "language": "python",
   "name": "python3"
  },
  "language_info": {
   "name": "python",
   "version": "3.10.4"
  },
  "vscode": {
   "interpreter": {
    "hash": "c3406c4ea377a1261c4285aa60368e6544b40c61c4a11ebeac174d6130232973"
   }
  }
 },
 "nbformat": 4,
 "nbformat_minor": 0
}