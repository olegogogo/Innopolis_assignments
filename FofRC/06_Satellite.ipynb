{
 "cells": [
  {
   "cell_type": "markdown",
   "metadata": {
    "id": "zPmrTNlSBW-R",
    "pycharm": {
     "name": "#%% md\n"
    }
   },
   "source": [
    "# **Practice 3: Design Example, Orbital maneuver**\n",
    "\n",
    "---"
   ]
  },
  {
   "cell_type": "markdown",
   "metadata": {
    "id": "H608E584MQst",
    "pycharm": {
     "name": "#%% md\n"
    }
   },
   "source": [
    "## **Problem Definition:**\n",
    "\n",
    "Consider a satellite described by the following equations:\n",
    "\\begin{equation}\n",
    "\\left\\{\\begin{matrix}\n",
    "m\\ddot{r}=m r\\dot{\\theta}^2  -G\\cfrac{m M}{r^2} + u_r\n",
    "\\\\ \n",
    "mr\\ddot{\\theta}=-2 m \\dot{r}\\dot{\\theta}+ u_\\theta\n",
    "\\end{matrix}\\right.\n",
    "\\end{equation}\n",
    "\n",
    "A problem is to **stabilize** the satellite on the desired orbit of constant radius $r_d = \\text{const}$ with minimal control effort. \n",
    "\n",
    "\n",
    "\n",
    "\n",
    "<p><img alt=\"sattelite\" height=\"450px\" src=\"https://drive.google.com/uc?id=1yvtXC__pJRka_DaK1KKolVcgzu9uo8WF\" align=\"center\" hspace=\"250px\" vspace=\"0px\"></p>\n",
    "\n"
   ]
  },
  {
   "cell_type": "markdown",
   "metadata": {
    "id": "qEPSCPZ5SyZo",
    "pycharm": {
     "name": "#%% md\n"
    }
   },
   "source": [
    "\n",
    "\n",
    "The tasks:\n",
    "\n",
    "\n",
    "1.   Modeling, **State space representation** of system dynamics \n",
    "2.   **Linearizing** system dynamics nearby desired trajectory, **linear state space** \n",
    "3.   Deducing **feasible trajectory**\n",
    "4.   **Controllability** analysis \n",
    "5.   **Сontroller** design (+ Pole placement)\n",
    "\n",
    "\n"
   ]
  },
  {
   "cell_type": "code",
   "execution_count": null,
   "metadata": {
    "id": "KYGQ6aad9a-J",
    "pycharm": {
     "name": "#%%\n"
    }
   },
   "outputs": [],
   "source": []
  }
 ],
 "metadata": {
  "colab": {
   "provenance": []
  },
  "kernelspec": {
   "display_name": "Python 3.10.4 ('innolearn')",
   "language": "python",
   "name": "python3"
  },
  "language_info": {
   "name": "python",
   "version": "3.10.4"
  },
  "vscode": {
   "interpreter": {
    "hash": "c3406c4ea377a1261c4285aa60368e6544b40c61c4a11ebeac174d6130232973"
   }
  }
 },
 "nbformat": 4,
 "nbformat_minor": 0
}