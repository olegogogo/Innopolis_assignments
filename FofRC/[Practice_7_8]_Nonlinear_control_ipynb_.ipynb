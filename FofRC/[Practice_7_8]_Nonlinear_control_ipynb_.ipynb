{
 "cells": [
  {
   "cell_type": "markdown",
   "source": [
    "# Goals\n",
    "1. Implement PD control on a nonlinear pendulum\n",
    "2. Implement feedback control on 2 link manipulator.\n",
    "3. Model feedback control on a cable robot\n"
   ],
   "metadata": {
    "collapsed": false,
    "pycharm": {
     "name": "#%% md\n"
    }
   }
  },
  {
   "cell_type": "markdown",
   "source": [
    "# **Example 1: Nonlinear Pendulum**"
   ],
   "metadata": {
    "collapsed": false,
    "pycharm": {
     "name": "#%% md\n"
    }
   }
  },
  {
   "cell_type": "markdown",
   "source": [
    "Recall the dynamics of a nonlinear pendulum:\n",
    "\\begin{equation}\n",
    "I\\ddot \\theta + b\\dot \\theta + mgL \\sin\\theta = u\n",
    "\\end{equation}"
   ],
   "metadata": {
    "collapsed": false,
    "pycharm": {
     "name": "#%% md\n"
    }
   }
  },
  {
   "cell_type": "markdown",
   "source": [
    "From the above equation we get:\n",
    "\\begin{equation}\n",
    "\\ddot \\theta  = \\frac{1}{I}(u - b\\dot \\theta - mgL \\sin\\theta)\n",
    "\\end{equation}\n",
    "The PD control with gravity compensation for this system is as follows:\n",
    "\\begin{equation}\n",
    "u = K_p \\tilde{\\theta} + K_d \\dot{\\tilde{\\theta}} + b \\dot{\\theta} + mgl\\sin{\\theta}\n",
    "\\end{equation}"
   ],
   "metadata": {
    "collapsed": false,
    "pycharm": {
     "name": "#%% md\n"
    }
   }
  },
  {
   "cell_type": "markdown",
   "source": [
    "## **Point to point motion**"
   ],
   "metadata": {
    "collapsed": false,
    "pycharm": {
     "name": "#%% md\n"
    }
   }
  },
  {
   "cell_type": "code",
   "execution_count": 1,
   "metadata": {
    "id": "g_gDoQd4lKAk",
    "pycharm": {
     "name": "#%%\n"
    }
   },
   "outputs": [],
   "source": [
    "from numpy import *\n",
    "from scipy.integrate import odeint\n",
    "from matplotlib.pyplot import *"
   ]
  },
  {
   "cell_type": "code",
   "execution_count": 2,
   "metadata": {
    "id": "JiPvD7ewlN42",
    "pycharm": {
     "name": "#%%\n"
    }
   },
   "outputs": [],
   "source": [
    "system_params = {'m':1,     # mass of the pendulum bob\n",
    "                 'g':9.81,  # Gravitational acceleration\n",
    "                 'L':0.2,   # Length of pendulum beam \n",
    "                 'I':0.1,   # Inertia of actuator \n",
    "                 'b':0.1,   # Actuator viscous friction (damping) \n",
    "                 }"
   ]
  },
  {
   "cell_type": "code",
   "execution_count": 3,
   "metadata": {
    "id": "II0-y4JyxmYn",
    "pycharm": {
     "name": "#%%\n"
    }
   },
   "outputs": [],
   "source": [
    "def desired_state():\n",
    "  x = 3\n",
    "  dx = 0\n",
    "  ddx = 0\n",
    "  return x, dx, ddx"
   ]
  },
  {
   "cell_type": "code",
   "execution_count": 5,
   "metadata": {
    "id": "UN7-dWkplkDg",
    "pycharm": {
     "name": "#%%\n"
    }
   },
   "outputs": [],
   "source": [
    "'''\n",
    "x: state vector\n",
    "t: array of time \n",
    "control: control function\n",
    "system_params: parameters of a system\n",
    "control_params: parameters of a control (for example, the gains)\n",
    "'''\n",
    "def sys_ode(x, t):\n",
    "    m, g, L = system_params['m'], system_params['g'], system_params['L']\n",
    "    I = system_params['I']\n",
    "    b = system_params['b']\n",
    "\n",
    "    theta, dtheta = x[0], x[1]\n",
    "\n",
    "    u = pd_control(x, t, controler_params)\n",
    "\n",
    "    ddtheta = (u - b*dtheta - m*g*L*np.sin(theta)) / I \n",
    "    dx = dtheta, ddtheta\n",
    "\n",
    "    return dx"
   ]
  },
  {
   "cell_type": "code",
   "execution_count": 6,
   "metadata": {
    "id": "mZx0XhVNw7T_",
    "pycharm": {
     "name": "#%%\n"
    }
   },
   "outputs": [],
   "source": [
    "def pd_control(x, t, c_params):\n",
    "    m, g, L, I, b = system_params['m'], system_params['g'], system_params['L'], system_params['I'], system_params['b']\n",
    "\n",
    "    theta, dtheta = x[0],x[1]\n",
    "    \n",
    "    theta_d, dtheta_d, ddtheta_d = desired_state()\n",
    "\n",
    "    kp = c_params['kp']\n",
    "    kd = c_params['kd']\n",
    "    \n",
    "    u = kp*(theta_d-theta) + kd*(dtheta_d-dtheta) + b*dtheta + m*g*L*sin(theta)\n",
    "    return u"
   ]
  },
  {
   "cell_type": "markdown",
   "metadata": {
    "id": "a523EMGNzcaE",
    "pycharm": {
     "name": "#%% md\n"
    }
   },
   "source": [
    "## **System Response**"
   ]
  },
  {
   "cell_type": "code",
   "execution_count": null,
   "metadata": {
    "colab": {
     "base_uri": "https://localhost:8080/",
     "height": 657
    },
    "id": "R89lw_86w9-P",
    "outputId": "f3f24483-2a5b-45b1-dc68-894bcbd61b12",
    "pycharm": {
     "name": "#%%\n"
    }
   },
   "outputs": [
    {
     "data": {
      "image/png": "[encoded data removed]",
      "text/plain": [
       "<Figure size 576x360 with 1 Axes>"
      ]
     },
     "metadata": {
      "needs_background": "light"
     },
     "output_type": "display_data"
    },
    {
     "data": {
      "image/png": "[encoded data removed]",
      "text/plain": [
       "<Figure size 576x360 with 1 Axes>"
      ]
     },
     "metadata": {
      "needs_background": "light"
     },
     "output_type": "display_data"
    }
   ],
   "source": [
    "t0 = 0 \n",
    "tf = 8\n",
    "\n",
    "freq = 50\n",
    "dT = 1/freq\n",
    "\n",
    "y0 = 0.\n",
    "x0 = [y0, 0] \n",
    "\n",
    "N = int(100) \n",
    "t = np.linspace(t0, tf, N) \n",
    "# t = np.arange(0.0,tf,dT)\n",
    "\n",
    "controler_params = {}\n",
    "controler_params['kp'] = 7\n",
    "controler_params['kd'] = 2\n",
    "controler_params.update(system_params) \n",
    "\n",
    "state_prev = x0\n",
    "state = []\n",
    "\n",
    "state = odeint(sys_ode, x0, t)\n",
    "\n",
    "theta, dtheta = state[:,0], state[:,1]\n",
    "\n",
    "theta_desired = np.ones(np.size(t))*desired_state()[0]\n",
    "\n",
    "# response plot\n",
    "figure(figsize=(8,5)) \n",
    "plot(t, theta,'r', linewidth=2.5, label='Real traj')\n",
    "plot(t, theta_desired, color = 'black', linestyle = '--', label='Desired traj')\n",
    "grid(color='black', linestyle='--', linewidth=1.0, alpha = 0.7)\n",
    "xlim([t0, tf])\n",
    "\n",
    "ylabel(r'Angle ${\\theta}$ (rad)')\n",
    "xlabel(r'Time $t$ (s)')\n",
    "legend(loc='lower left')\n",
    "show()\n",
    "\n",
    "# error plot\n",
    "figure(figsize=(8,5))\n",
    "plot(t, theta-theta_desired,'r', linewidth=2.5)\n",
    "grid(color='black', linestyle='--', linewidth=1.0, alpha = 0.7)\n",
    "xlim([t0, tf])\n",
    "\n",
    "ylabel(r'Error ${\\theta}$ (rad)')\n",
    "xlabel(r'Time $t$ (s)')\n",
    "show()"
   ]
  },
  {
   "cell_type": "markdown",
   "metadata": {
    "id": "-IChDEZSzT5k",
    "pycharm": {
     "name": "#%% md\n"
    }
   },
   "source": [
    "### **Control Input Plot**"
   ]
  },
  {
   "cell_type": "code",
   "execution_count": null,
   "metadata": {
    "colab": {
     "base_uri": "https://localhost:8080/",
     "height": 337
    },
    "id": "9KRav2JwzR9t",
    "outputId": "8cfb42db-733b-4320-fa16-01b4b9f78472",
    "pycharm": {
     "name": "#%%\n"
    }
   },
   "outputs": [
    {
     "data": {
      "image/png": "[encoded data removed]",
      "text/plain": [
       "<Figure size 576x360 with 1 Axes>"
      ]
     },
     "metadata": {
      "needs_background": "light"
     },
     "output_type": "display_data"
    }
   ],
   "source": [
    "# control plot\n",
    "u = pd_control([theta, dtheta], t, controler_params)\n",
    "figure(figsize=(8,5))\n",
    "plot(t, u, linewidth=2.5, label='Control input')\n",
    "grid(color='black', linestyle='--', linewidth=1.2, alpha=0.7)\n",
    "xlim([t0, tf])\n",
    "\n",
    "ylabel('Control $U$')\n",
    "xlabel('Time $t$ (s)')\n",
    "legend(loc='lower left')\n",
    "show()"
   ]
  },
  {
   "cell_type": "markdown",
   "metadata": {
    "id": "hrzBECChNc9D",
    "pycharm": {
     "name": "#%% md\n"
    }
   },
   "source": [
    "## **Following the desired trajectory**"
   ]
  },
  {
   "cell_type": "code",
   "execution_count": 7,
   "metadata": {
    "id": "2J7I2ZukWk5H",
    "pycharm": {
     "name": "#%%\n"
    }
   },
   "outputs": [],
   "source": [
    "def trajectory(t):\n",
    "  x = 2 * sin(t)\n",
    "  dx = 2 * cos(t)\n",
    "  ddx = -2 * sin(t)\n",
    "  return x, dx, ddx"
   ]
  },
  {
   "cell_type": "code",
   "execution_count": 8,
   "metadata": {
    "id": "JjMoB7Jblb8f",
    "pycharm": {
     "name": "#%%\n"
    }
   },
   "outputs": [],
   "source": [
    "def pd_control(x, t, c_params):\n",
    "    m, g, L, I, b = system_params['m'], system_params['g'], system_params['L'], system_params['I'], system_params['b']\n",
    "\n",
    "    theta, dtheta = x[0],x[1]\n",
    "    \n",
    "    theta_d, dtheta_d, ddtheta_d = trajectory(t)\n",
    "\n",
    "    kp = c_params['kp']\n",
    "    kd = c_params['kd']\n",
    "    \n",
    "    u = I * ddtheta_d*0 + kp*(theta_d-theta) + kd*(dtheta_d-dtheta) + b*dtheta + m*g*L*sin(theta)\n",
    "    return u"
   ]
  },
  {
   "cell_type": "code",
   "execution_count": 14,
   "metadata": {
    "colab": {
     "base_uri": "https://localhost:8080/",
     "height": 977
    },
    "id": "GF_xmWeelTza",
    "outputId": "41f84ebd-ee2f-4a04-beb4-ce816065f17b",
    "pycharm": {
     "name": "#%%\n"
    }
   },
   "outputs": [
    {
     "data": {
      "image/png": "[encoded data removed]",
      "text/plain": [
       "<Figure size 576x360 with 1 Axes>"
      ]
     },
     "metadata": {
      "needs_background": "light"
     },
     "output_type": "display_data"
    },
    {
     "data": {
      "image/png": "[encoded data removed]",
      "text/plain": [
       "<Figure size 576x360 with 1 Axes>"
      ]
     },
     "metadata": {
      "needs_background": "light"
     },
     "output_type": "display_data"
    },
    {
     "data": {
      "image/png": "[encoded data removed]",
      "text/plain": [
       "<Figure size 576x360 with 1 Axes>"
      ]
     },
     "metadata": {
      "needs_background": "light"
     },
     "output_type": "display_data"
    }
   ],
   "source": [
    "t0 = 0 \n",
    "tf = 8\n",
    "\n",
    "freq = 50\n",
    "dT = 1/freq\n",
    "\n",
    "y0 = 0.5\n",
    "x0 = [y0, 0] \n",
    "\n",
    "N = int(100) \n",
    "t = np.linspace(t0, tf, N) \n",
    "# t = np.arange(0.0,tf,dT)\n",
    "\n",
    "controler_params = {}\n",
    "controler_params['kp'] = 10\n",
    "controler_params['kd'] = 2\n",
    "controler_params.update(system_params) \n",
    "\n",
    "state_prev = x0\n",
    "state = []\n",
    "\n",
    "state = odeint(sys_ode, x0, t)\n",
    "\n",
    "theta, dtheta = state[:,0], state[:,1]\n",
    "\n",
    "theta_desired = trajectory(t)[0]\n",
    "\n",
    "# trajectory plot\n",
    "figure(figsize=(8,5)) \n",
    "plot(t, theta,'r', linewidth=2.0, label='Real traj')\n",
    "plot(t, theta_desired, color = 'black', linestyle = '--', label='Desired traj')\n",
    "grid(color='black', linestyle='--', linewidth=1.0, alpha = 0.7)\n",
    "xlim([t0, tf])\n",
    "\n",
    "ylabel(r'Angle ${\\theta}$ (rad)')\n",
    "xlabel(r'Time $t$ (s)')\n",
    "legend(loc='lower left')\n",
    "show()\n",
    "\n",
    "# error plot\n",
    "figure(figsize=(8,5))\n",
    "plot(t, theta-theta_desired,'r', linewidth=2.0)\n",
    "grid(color='black', linestyle='--', linewidth=1.2, alpha = 0.7)\n",
    "xlim([t0, tf])\n",
    "\n",
    "ylabel(r'Error ${\\theta}$ (rad)')\n",
    "xlabel(r'Time $t$ (s)')\n",
    "show()\n",
    "\n",
    "# control plot\n",
    "u = pd_control([theta, dtheta], t, controler_params)\n",
    "figure(figsize=(8,5))\n",
    "plot(t, u, label='Control input')\n",
    "grid(color='black', linestyle='--', linewidth=1.2, alpha=0.7)\n",
    "xlim([t0, tf])\n",
    "\n",
    "ylabel('Control $U$')\n",
    "xlabel('Time $t$ (s)')\n",
    "legend(loc='lower left')\n",
    "show()"
   ]
  },
  {
   "cell_type": "markdown",
   "metadata": {
    "id": "h8VgAj3j1sZM",
    "pycharm": {
     "name": "#%% md\n"
    }
   },
   "source": [
    "We see that the control makes the system follow the trajectory. However, the error plot doesn't converge exactly to 0. It has some oscillations. What can we do to fix it?"
   ]
  },
  {
   "cell_type": "markdown",
   "metadata": {
    "id": "ZeetXAHM2NYF",
    "pycharm": {
     "name": "#%% md\n"
    }
   },
   "source": [
    "**Exercise:**\n",
    "1. Implement this control :\n",
    "\n",
    "\\begin{equation}\n",
    "u = I \\ddot{\\theta}_d + K_p \\tilde{\\theta} + K_d \\dot{\\tilde{\\theta}} + b \\dot{\\theta} + mgl\\sin{\\theta}\n",
    "\\end{equation}\n",
    "\n",
    "2. What is the error dynamics? \n",
    "3. Plot the state response."
   ]
  },
  {
   "cell_type": "markdown",
   "metadata": {
    "id": "kgF8BN0GTBfP",
    "pycharm": {
     "name": "#%% md\n"
    }
   },
   "source": [
    "# **Dynamics of Manipulators**\n",
    "\n",
    ">Equation of motion for most mechanical systems may be written in following form:\n",
    ">\\begin{equation}\n",
    "\\mathbf{Q} - \\mathbf{Q}_d = \\mathbf{D}(\\mathbf{q})\\ddot{\\mathbf{q}} + \\mathbf{C}(\\mathbf{q},\\dot{\\mathbf{q}})\\dot{\\mathbf{q}} + \\mathbf{g}(\\mathbf{q})  = \\mathbf{D}(\\mathbf{q})\\ddot{\\mathbf{q}} + \\mathbf{h}(\\mathbf{q},\\dot{\\mathbf{q}})\n",
    "\\end{equation}\n",
    ">\n",
    ">where:\n",
    ">* $\\mathbf{Q} \\in \\mathbb{R}^n $ - generalized forces corresponding to generilized coordinates\n",
    ">* $\\mathbf{Q}_d \\in \\mathbb{R}^n $ - generalized disippative forces (for instance friction)\n",
    ">* $\\mathbf{q} \\in \\mathbb{R}^{n}$ - vector of generilized coordinates\n",
    ">* $\\mathbf{D} \\in \\mathbb{R}^{n \\times n}$ - positive definite symmetric inertia matrix \n",
    ">* $\\mathbf{C} \\in \\mathbb{R}^{n \\times n}$ - describe 'coefficients' of centrifugal and Coriolis forces\n",
    ">* $\\mathbf{g} \\in \\mathbb{R}^{n}$ - describes effect of gravity and other position depending forces\n",
    ">* $\\mathbf{h} \\in \\mathbb{R}^n $ - combined effect of $\\mathbf{g}$ and $\\mathbf{C}$\n",
    "\n",
    "#### **Lagrange-Euler Equations**\n",
    "\n",
    "In order to find the EoM we will use the Lagrange-Euler equations:\n",
    "\\begin{equation}\n",
    "{\\frac  {d}{dt}}\\left({\\frac  {\\partial \\mathcal{L}}{\\partial {\\dot{\\mathbf{q}}}_{i}}}\\right)-{\\frac  {\\partial \\mathcal{L}}{\\partial \\mathbf{q}_{i}}}=\\mathbf{Q}_i -\\frac{\\partial \\mathcal{R}}{\\partial \\mathbf{\\dot{q}}_i},\\quad i = 1,2,\\dots, n\n",
    "\\end{equation}\n",
    "\n",
    ">where:\n",
    ">* $\\mathcal{L}(\\mathbf{q},\\dot{\\mathbf{q}}) \\triangleq E_K - E_\\Pi \\in \\mathbb{R}$ Lagrangian of the system  \n",
    ">* $\\mathcal{R} \\in \\mathbb{R}$ Rayleigh function  (describes energy dissipation)"
   ]
  },
  {
   "cell_type": "markdown",
   "metadata": {
    "id": "oy9eMTp9pylr",
    "pycharm": {
     "name": "#%% md\n"
    }
   },
   "source": [
    "# **Example 2: Two-link Manipulator**\n",
    "For instance let's consider remotely driven rigid 2-DoF manipulator:\n",
    "<p><img alt=\"Remote manipulator\" height=\"250\" src=\"https://drive.google.com/uc?id=1nY6dY3jmwtfXuIy0p1ZUXs3TNC0iSqf5\" align=\"center\" hspace=\"50px\" vspace=\"0px\"></p>\n",
    "\n",
    "\n",
    "#### **Energy**\n",
    "Kinetic and potential energy of this system is equal to:\n",
    "\\begin{equation}\n",
    "E_K = \\frac{1}{2}\\sum_{j=1}^{2}  m_j\\dot{\\mathbf{r}}_j^T\\dot{\\mathbf{r}}_j  +  J_j \\dot{\\alpha}^2_i, \\quad E_\\Pi = \\sum_{j=1}^{n}  m_i g y_i  \n",
    "\\end{equation}\n",
    "\n",
    "\n",
    "Where $\\mathbf{r}_j$ is Cartesian coordinates of mass $m_j$ calculated via forward kinematics as:\n",
    "\n",
    "\\begin{equation}\n",
    "\\mathbf{r}_1\n",
    "=\n",
    "\\begin{bmatrix}\n",
    "x_1 \\\\\n",
    "y_1\n",
    "\\end{bmatrix}\n",
    "=\n",
    "\\begin{bmatrix}\n",
    "l_1 \\cos \\alpha_1 \\\\\n",
    "l_1 \\sin \\alpha_1\n",
    "\\end{bmatrix}, \\quad\n",
    "\\mathbf{r}_2\n",
    "=\n",
    "\\begin{bmatrix}\n",
    "x_2 \\\\\n",
    "y_2\n",
    "\\end{bmatrix}\n",
    "=\n",
    "\\begin{bmatrix}\n",
    "l_1 \\cos \\alpha_1 + l_2 \\cos \\alpha_2 \\\\\n",
    "l_1 \\sin \\alpha_1 + l_2 \\sin \\alpha_2\n",
    "\\end{bmatrix}\n",
    "\\end{equation}\n",
    "\n",
    "\n",
    "Apart from kinetic and potential energy there are two dissipative elements in this system, namely \"dampers\" with coefficients $b_1, b_2$ (viscous friction), their dissipation function is given as:\n",
    "\\begin{equation}\n",
    "\\mathcal{R} = \\frac{1}{2}\\sum_{j=1}^{n}  b_j \\dot{\\alpha}^2_j\n",
    "\\end{equation}\n",
    "\n",
    "\n",
    "Defining generalized coordinates as $\\mathbf{q} = [\\alpha_1,\\alpha_2]^T$ and forces as $\\mathbf{Q} = [u_1,u_2]^T$ one can apply Lagrange formalism to obtain equations of motion as:\n",
    "\n",
    "\\begin{equation}\n",
    "\\begin{cases} \n",
    "I_1\\ddot{\\alpha}_1 + l_1^2 (m_1 + m_2) \\ddot{\\alpha}_1 + l_1 l_2 m_2 \\cos(\\alpha_1 - \\alpha_2)\\ddot{\\alpha}_2 + \n",
    "l_1 l_2 m_2 \\sin(\\alpha_1 - \\alpha_2)\\dot{\\alpha}^2_2\n",
    "+l_1 m_1 g \\cos \\alpha_1 + l_1 m_2 g \\cos \\alpha_2 + b_1 \\dot{\\alpha}_1 =u_1 \\\\\n",
    "l_1 l_2 m_2 \\cos(\\alpha_1 - \\alpha_2)\\ddot{\\alpha}_1 + I_2 \\ddot{\\alpha} + l_2^2 m_2 \\ddot{\\alpha}_2 - l_2 m_2 l_1 \\sin(\\alpha_1 - \\alpha_2)\\dot{\\alpha}^2_1 + l_2 m_2 g \\cos \\alpha_2+ b_2 \\dot{\\alpha}_2 = u_2\n",
    "\\end{cases}\n",
    "\\end{equation}\n",
    "\n",
    "Now we can find the $\\mathbf{D}, \\mathbf{C}, \\mathbf{g}$ to be:\n",
    "\n",
    "\\begin{equation}\n",
    "\\mathbf{D} = \n",
    "\\begin{bmatrix}\n",
    "l_1^2 (m_1 + m_2)+ J_1 & l_1 l_2 m_2  \\cos(\\alpha_1 - \\alpha_2)\\\\\n",
    "l_1 l_2 m_2 \\cos(\\alpha_1 - \\alpha_2) & l_2^2 m_2+ J_2\n",
    "\\end{bmatrix}, \\quad\n",
    "\\mathbf{c} = \\begin{bmatrix}\n",
    "l_1 l_2 m_2 \\sin(\\alpha_1 - \\alpha_2)\\dot{\\alpha}^2_2 \\\\\n",
    "- l_2 m_2 l_1 \\sin(\\alpha_1 - \\alpha_2)\\dot{\\alpha}^2_1\n",
    "\\end{bmatrix}\n",
    ",\n",
    "\\quad\n",
    "\\mathbf{g} = \\begin{bmatrix}\n",
    "l_1 m_1 g \\cos \\alpha_1 + l_1 m_2 g \\cos \\alpha_1 \\\\\n",
    " l_2 m_2 g \\cos \\alpha_2\n",
    "\\end{bmatrix},\n",
    "\\quad\n",
    "\\mathbf{Q}_d = \n",
    "\\begin{bmatrix}\n",
    "b_1 \\dot{\\alpha}_1 \\\\\n",
    "b_2 \\dot{\\alpha}_2\n",
    "\\end{bmatrix},\n",
    "\\end{equation}\n"
   ]
  },
  {
   "cell_type": "code",
   "execution_count": 16,
   "metadata": {
    "id": "RquloSe5rpKa",
    "pycharm": {
     "name": "#%%\n"
    }
   },
   "outputs": [],
   "source": [
    "from numpy import pi, linspace, array, dot, sin, cos, diag, concatenate, zeros\n",
    "from numpy.linalg import inv, pinv, norm\n",
    "\n",
    "def D(q, params):\n",
    "    alpha_1, alpha_2 = q\n",
    "    l, m, J, b, g = params\n",
    "    \n",
    "    d11 = (m[0]+m[1]) * l[0]**2  + J[0]\n",
    "    d12 = m[1]* l[0]* l[1]* cos(alpha_1 - alpha_2)\n",
    "    d21 = d12\n",
    "    d22 = m[1] * l[1]**2 + J[1]\n",
    "    return array([[d11,d12],[d21,d22]])\n",
    "\n",
    "def c_term(q, dq, params):\n",
    "    alpha_1, alpha_2 = q\n",
    "    dalpha_1, dalpha_2 = dq\n",
    "\n",
    "    c1 = m[1]* l[0]* l[1]* sin(alpha_1 - alpha_2)* dalpha_2**2\n",
    "    c2 = -m[1]* l[0]* l[1]* sin(alpha_1 - alpha_2)* dalpha_1**2\n",
    "    return array([c1, c2])\n",
    "\n",
    "def g_term(q, params):\n",
    "    alpha_1, alpha_2 = q\n",
    "\n",
    "    g1 = (m[0]+m[1])*g*l[0]*cos(alpha_1)\n",
    "    g2 = m[1]*g*l[1]*cos(alpha_2)\n",
    "    return array([g1, g2])\n",
    "\n",
    "def Q_d(q, dq, params):\n",
    "    \n",
    "    dalpha_1, dalpha_2 = dq\n",
    "    Q_d_1 = b[0]*dalpha_1\n",
    "    Q_d_2 = b[1]*dalpha_2\n",
    "    return array([Q_d_1, Q_d_2])\n",
    "\n",
    "def h(q, dq, params):\n",
    "    return c_term(q, dq, params) + g_term(q, params)\n"
   ]
  },
  {
   "cell_type": "markdown",
   "metadata": {
    "id": "IAdkDixtoLh4",
    "pycharm": {
     "name": "#%% md\n"
    }
   },
   "source": [
    "### **Dynamics in State Space Form**\n",
    "Choosing state as $\\mathbf{x} = [\\mathbf{x}_1,\\mathbf{x}_2]^T= [\\mathbf{q},\\dot{\\mathbf{q}}]^T$ and control as $\\mathbf{Q} = [u_1,u_2]^T$ we can easily rewrite equations above as:\n",
    "\n",
    "\\begin{equation}\n",
    "\\dot{\\mathbf{x}}\n",
    "=\n",
    "\\begin{bmatrix}\n",
    "\\dot{\\mathbf{x}}_1 \\\\ \n",
    "\\dot{\\mathbf{x}}_2\n",
    "\\end{bmatrix}\n",
    "=\n",
    "\\begin{bmatrix}\n",
    "\\dot{\\mathbf{q}} \\\\ \n",
    "\\ddot{\\mathbf{q}}\n",
    "\\end{bmatrix}\n",
    "=\n",
    "\\begin{bmatrix}\n",
    "\\mathbf{x}_2 \\\\\n",
    "\\mathbf{D}(\\mathbf{x}_1)^{-1} \\big(\\mathbf{u} - \\mathbf{Q}_d -  \\mathbf{h}(\\mathbf{x}_1, \\mathbf{x}_2) \\big)\n",
    "\\end{bmatrix}\n",
    "\\end{equation}\n"
   ]
  },
  {
   "cell_type": "code",
   "execution_count": 17,
   "metadata": {
    "id": "xx6wTlUAWZT8",
    "pycharm": {
     "name": "#%%\n"
    }
   },
   "outputs": [],
   "source": [
    "\n",
    "def sysode(x, t, control, params, control_params):\n",
    "    q, dq = x[:2], x[2:4]\n",
    "\n",
    "    D_c = D(q, params)\n",
    "    h_c = h(q, dq, params)\n",
    "    Q_d_c = Q_d(q, dq, params)\n",
    "\n",
    "    # Calculate control\n",
    "    u = control(x, t, control_params)\n",
    "    ddq = dot(inv(D_c), u - Q_d_c -  h_c )\n",
    "\n",
    "    dx1 = dq\n",
    "    dx2 = ddq\n",
    "    dx = dx1, dx2\n",
    "\n",
    "    return concatenate(dx)\n"
   ]
  },
  {
   "cell_type": "markdown",
   "metadata": {
    "id": "3srrm7UtrzOi",
    "pycharm": {
     "name": "#%% md\n"
    }
   },
   "source": [
    "### **PD Control**\n",
    "Let us choose the controller to be a simple PD regulator:\n",
    "\\begin{equation}\n",
    "\\mathbf{u} = \\mathbf{K}_p\\tilde{\\mathbf{q}} -  \\mathbf{K}_d\\dot{{\\mathbf{q}}}\n",
    "\\end{equation}"
   ]
  },
  {
   "cell_type": "code",
   "execution_count": 18,
   "metadata": {
    "id": "fd85t8ryrzdY",
    "pycharm": {
     "name": "#%%\n"
    }
   },
   "outputs": [],
   "source": [
    "# Manipulator parameters\n",
    "l = 0.3, 0.3\n",
    "m = 0.5, 3.0\n",
    "J = 0.01, 0.01\n",
    "b = 0.02, 0.02\n",
    "g = 9.81\n",
    "params = l, m, J, b, g"
   ]
  },
  {
   "cell_type": "code",
   "execution_count": 26,
   "metadata": {
    "id": "owlOKACh99CN",
    "pycharm": {
     "name": "#%%\n"
    }
   },
   "outputs": [],
   "source": [
    "def trajectory(t):\n",
    "  x = cos(2*pi*t), sin(2*pi*t)\n",
    "  dx = 0, 0\n",
    "  ddx = 0, 0\n",
    "  return x, dx ,ddx"
   ]
  },
  {
   "cell_type": "code",
   "execution_count": 55,
   "metadata": {
    "id": "Ugg8YqxOsyHY",
    "pycharm": {
     "name": "#%%\n"
    }
   },
   "outputs": [],
   "source": [
    "def control(x, t, control_params):\n",
    "    q, dq = x[:2], x[2:4]\n",
    "    gains = control_params['gains']\n",
    "    K1, K2 = gains\n",
    "\n",
    "    q_d = trajectory(t)[0]\n",
    "    q_e = q_d - q\n",
    "\n",
    "    Q_d_c = Q_d(q,dq,params)\n",
    "    h_c=h(q, dq, params)\n",
    "\n",
    "    u = dot(K1, q_e) + dot(K2, - dq)+Q_d_c+h_c+trajectory(t)[2]\n",
    "    return u\n",
    "\n",
    "\n",
    "control_params = {}\n",
    "Kp = diag([150, 150])\n",
    "Kd = diag([15, 15])\n",
    "control_params['gains'] = Kp, Kd\n"
   ]
  },
  {
   "cell_type": "markdown",
   "metadata": {
    "id": "Z-0p8xaNA-WD",
    "pycharm": {
     "name": "#%% md\n"
    }
   },
   "source": [
    "Now we can simulate the system response:"
   ]
  },
  {
   "cell_type": "code",
   "execution_count": 56,
   "metadata": {
    "colab": {
     "base_uri": "https://localhost:8080/",
     "height": 282
    },
    "id": "f8X93pcNsqfV",
    "outputId": "a547f30d-291a-4942-c608-cd9cb6b0159f",
    "pycharm": {
     "name": "#%%\n"
    }
   },
   "outputs": [
    {
     "ename": "ValueError",
     "evalue": "operands could not be broadcast together with shapes (2,) (20,) ",
     "output_type": "error",
     "traceback": [
      "\u001B[1;31m---------------------------------------------------------------------------\u001B[0m",
      "\u001B[1;31mValueError\u001B[0m                                Traceback (most recent call last)",
      "\u001B[1;32mc:\\Users\\TheAR\\innolearn\\1_semester\\robot_control\\week_4\\[Practice_7_8]_Nonlinear_control_ipynb_.ipynb Cell 31\u001B[0m in \u001B[0;36m<cell line: 9>\u001B[1;34m()\u001B[0m\n\u001B[0;32m      <a href='vscode-notebook-cell:/c%3A/Users/TheAR/innolearn/1_semester/robot_control/week_4/%5BPractice_7_8%5D_Nonlinear_control_ipynb_.ipynb#X42sZmlsZQ%3D%3D?line=6'>7</a>\u001B[0m t \u001B[39m=\u001B[39m linspace(t0, tf, \u001B[39mint\u001B[39m(N)) \u001B[39m# Create time span\u001B[39;00m\n\u001B[0;32m      <a href='vscode-notebook-cell:/c%3A/Users/TheAR/innolearn/1_semester/robot_control/week_4/%5BPractice_7_8%5D_Nonlinear_control_ipynb_.ipynb#X42sZmlsZQ%3D%3D?line=7'>8</a>\u001B[0m x0 \u001B[39m=\u001B[39m [\u001B[39m0\u001B[39m, \u001B[39m0\u001B[39m, \u001B[39m0\u001B[39m, \u001B[39m0\u001B[39m] \u001B[39m# Set initial state \u001B[39;00m\n\u001B[1;32m----> <a href='vscode-notebook-cell:/c%3A/Users/TheAR/innolearn/1_semester/robot_control/week_4/%5BPractice_7_8%5D_Nonlinear_control_ipynb_.ipynb#X42sZmlsZQ%3D%3D?line=8'>9</a>\u001B[0m sol \u001B[39m=\u001B[39m odeint(sysode, x0, t, \n\u001B[0;32m     <a href='vscode-notebook-cell:/c%3A/Users/TheAR/innolearn/1_semester/robot_control/week_4/%5BPractice_7_8%5D_Nonlinear_control_ipynb_.ipynb#X42sZmlsZQ%3D%3D?line=9'>10</a>\u001B[0m              args\u001B[39m=\u001B[39;49m(control, params, control_params,)) \u001B[39m# Integrate system\u001B[39;00m\n\u001B[0;32m     <a href='vscode-notebook-cell:/c%3A/Users/TheAR/innolearn/1_semester/robot_control/week_4/%5BPractice_7_8%5D_Nonlinear_control_ipynb_.ipynb#X42sZmlsZQ%3D%3D?line=10'>11</a>\u001B[0m q, dq \u001B[39m=\u001B[39m sol[:,:\u001B[39m2\u001B[39m], sol[:,\u001B[39m2\u001B[39m:\u001B[39m4\u001B[39m]\n\u001B[0;32m     <a href='vscode-notebook-cell:/c%3A/Users/TheAR/innolearn/1_semester/robot_control/week_4/%5BPractice_7_8%5D_Nonlinear_control_ipynb_.ipynb#X42sZmlsZQ%3D%3D?line=11'>12</a>\u001B[0m alpha1, alpha2 \u001B[39m=\u001B[39m q[:,\u001B[39m0\u001B[39m], q[:,\u001B[39m1\u001B[39m]\n",
      "File \u001B[1;32mc:\\Users\\TheAR\\.conda\\envs\\innolearn\\lib\\site-packages\\scipy\\integrate\\_odepack_py.py:241\u001B[0m, in \u001B[0;36modeint\u001B[1;34m(func, y0, t, args, Dfun, col_deriv, full_output, ml, mu, rtol, atol, tcrit, h0, hmax, hmin, ixpr, mxstep, mxhnil, mxordn, mxords, printmessg, tfirst)\u001B[0m\n\u001B[0;32m    239\u001B[0m t \u001B[39m=\u001B[39m copy(t)\n\u001B[0;32m    240\u001B[0m y0 \u001B[39m=\u001B[39m copy(y0)\n\u001B[1;32m--> 241\u001B[0m output \u001B[39m=\u001B[39m _odepack\u001B[39m.\u001B[39;49modeint(func, y0, t, args, Dfun, col_deriv, ml, mu,\n\u001B[0;32m    242\u001B[0m                          full_output, rtol, atol, tcrit, h0, hmax, hmin,\n\u001B[0;32m    243\u001B[0m                          ixpr, mxstep, mxhnil, mxordn, mxords,\n\u001B[0;32m    244\u001B[0m                          \u001B[39mint\u001B[39;49m(\u001B[39mbool\u001B[39;49m(tfirst)))\n\u001B[0;32m    245\u001B[0m \u001B[39mif\u001B[39;00m output[\u001B[39m-\u001B[39m\u001B[39m1\u001B[39m] \u001B[39m<\u001B[39m \u001B[39m0\u001B[39m:\n\u001B[0;32m    246\u001B[0m     warning_msg \u001B[39m=\u001B[39m _msgs[output[\u001B[39m-\u001B[39m\u001B[39m1\u001B[39m]] \u001B[39m+\u001B[39m \u001B[39m\"\u001B[39m\u001B[39m Run with full_output = 1 to get quantitative information.\u001B[39m\u001B[39m\"\u001B[39m\n",
      "\u001B[1;32mc:\\Users\\TheAR\\innolearn\\1_semester\\robot_control\\week_4\\[Practice_7_8]_Nonlinear_control_ipynb_.ipynb Cell 31\u001B[0m in \u001B[0;36msysode\u001B[1;34m(x, t, control, params, control_params)\u001B[0m\n\u001B[0;32m      <a href='vscode-notebook-cell:/c%3A/Users/TheAR/innolearn/1_semester/robot_control/week_4/%5BPractice_7_8%5D_Nonlinear_control_ipynb_.ipynb#X42sZmlsZQ%3D%3D?line=5'>6</a>\u001B[0m Q_d_c \u001B[39m=\u001B[39m Q_d(q, dq, params)\n\u001B[0;32m      <a href='vscode-notebook-cell:/c%3A/Users/TheAR/innolearn/1_semester/robot_control/week_4/%5BPractice_7_8%5D_Nonlinear_control_ipynb_.ipynb#X42sZmlsZQ%3D%3D?line=7'>8</a>\u001B[0m \u001B[39m# Calculate control\u001B[39;00m\n\u001B[1;32m----> <a href='vscode-notebook-cell:/c%3A/Users/TheAR/innolearn/1_semester/robot_control/week_4/%5BPractice_7_8%5D_Nonlinear_control_ipynb_.ipynb#X42sZmlsZQ%3D%3D?line=8'>9</a>\u001B[0m u \u001B[39m=\u001B[39m control(x, t, control_params)\n\u001B[0;32m     <a href='vscode-notebook-cell:/c%3A/Users/TheAR/innolearn/1_semester/robot_control/week_4/%5BPractice_7_8%5D_Nonlinear_control_ipynb_.ipynb#X42sZmlsZQ%3D%3D?line=9'>10</a>\u001B[0m ddq \u001B[39m=\u001B[39m dot(inv(D_c), u \u001B[39m-\u001B[39m Q_d_c \u001B[39m-\u001B[39m  h_c )\n\u001B[0;32m     <a href='vscode-notebook-cell:/c%3A/Users/TheAR/innolearn/1_semester/robot_control/week_4/%5BPractice_7_8%5D_Nonlinear_control_ipynb_.ipynb#X42sZmlsZQ%3D%3D?line=11'>12</a>\u001B[0m dx1 \u001B[39m=\u001B[39m dq\n",
      "\u001B[1;32mc:\\Users\\TheAR\\innolearn\\1_semester\\robot_control\\week_4\\[Practice_7_8]_Nonlinear_control_ipynb_.ipynb Cell 31\u001B[0m in \u001B[0;36mcontrol\u001B[1;34m(x, t, control_params)\u001B[0m\n\u001B[0;32m      <a href='vscode-notebook-cell:/c%3A/Users/TheAR/innolearn/1_semester/robot_control/week_4/%5BPractice_7_8%5D_Nonlinear_control_ipynb_.ipynb#X42sZmlsZQ%3D%3D?line=8'>9</a>\u001B[0m Q_d_c \u001B[39m=\u001B[39m Q_d(q,dq,params)\n\u001B[0;32m     <a href='vscode-notebook-cell:/c%3A/Users/TheAR/innolearn/1_semester/robot_control/week_4/%5BPractice_7_8%5D_Nonlinear_control_ipynb_.ipynb#X42sZmlsZQ%3D%3D?line=9'>10</a>\u001B[0m h_c\u001B[39m=\u001B[39mh(q, dq, params)\n\u001B[1;32m---> <a href='vscode-notebook-cell:/c%3A/Users/TheAR/innolearn/1_semester/robot_control/week_4/%5BPractice_7_8%5D_Nonlinear_control_ipynb_.ipynb#X42sZmlsZQ%3D%3D?line=11'>12</a>\u001B[0m u \u001B[39m=\u001B[39m dot(K1, q_e) \u001B[39m+\u001B[39;49m dot(K2, \u001B[39m-\u001B[39;49m dq)\u001B[39m+\u001B[39;49mQ_d_c\u001B[39m+\u001B[39;49mh_c\u001B[39m+\u001B[39;49mtrajectory(t)[\u001B[39m2\u001B[39;49m]\u001B[39m*\u001B[39;49m\u001B[39m10\u001B[39;49m\n\u001B[0;32m     <a href='vscode-notebook-cell:/c%3A/Users/TheAR/innolearn/1_semester/robot_control/week_4/%5BPractice_7_8%5D_Nonlinear_control_ipynb_.ipynb#X42sZmlsZQ%3D%3D?line=12'>13</a>\u001B[0m \u001B[39mreturn\u001B[39;00m u\n",
      "\u001B[1;31mValueError\u001B[0m: operands could not be broadcast together with shapes (2,) (20,) "
     ]
    }
   ],
   "source": [
    "from scipy.integrate import odeint\n",
    "\n",
    "# Integration\n",
    "t0 = 0 # Initial time \n",
    "tf = 3 # Final time\n",
    "N = 2E3 # Numbers of points in time span\n",
    "t = linspace(t0, tf, int(N)) # Create time span\n",
    "x0 = [0, 0, 0, 0] # Set initial state \n",
    "sol = odeint(sysode, x0, t, \n",
    "             args=(control, params, control_params,)) # Integrate system\n",
    "q, dq = sol[:,:2], sol[:,2:4]\n",
    "alpha1, alpha2 = q[:,0], q[:,1]\n",
    "\n",
    "alpha1_d, alpha2_d = trajectory(t)[0]\n",
    "\n",
    "from matplotlib.pyplot import *\n",
    "plot(t, alpha1,'r', linewidth=2.0, label = 'Joint 1')\n",
    "plot(t, alpha2,'b', linewidth=2.0, label = 'Joint 2')\n",
    "plot(t, alpha1_d,'r',linestyle = \"--\", linewidth=2.0, label = 'Joint 1 des')\n",
    "plot(t, alpha2_d,'b',linestyle = \"--\", linewidth=2.0, label = 'Joint 2 des')\n",
    "\n",
    "#hlines(alpha1_d, t0, tf,color = 'black', linestyle = '--', alpha = 0.7, label = 'Joint 1 des')\n",
    "#hlines(alpha2_d, t0, tf,color = 'black', linestyle = '--', alpha = 0.7, label = 'Joint 2 des')\n",
    "#\n",
    "# rid(color='black', linestyle='--', linewidth=1.0, alpha = 0.7)\n",
    "#grid(True)\n",
    "xlim([0, tf])\n",
    "legend()\n",
    "ylabel(r'Angles $q$ (rad)')\n",
    "xlabel(r'Time $t$ (s)')\n",
    "show()"
   ]
  },
  {
   "cell_type": "markdown",
   "metadata": {
    "id": "Di1lUVcc8Myu",
    "pycharm": {
     "name": "#%% md\n"
    }
   },
   "source": [
    "**TASK**: Try to implement PD control for the motion along the desired trajectory. You can take $\\mathbf{q}_d = [\\cos(2\\pi t), \\sin(2\\pi t)]$."
   ]
  },
  {
   "cell_type": "markdown",
   "metadata": {
    "id": "nkqIbogS9Npb",
    "pycharm": {
     "name": "#%% md\n"
    }
   },
   "source": [
    "# **Example 3: Planar Cable-Driven Robot**"
   ]
  },
  {
   "cell_type": "markdown",
   "metadata": {
    "id": "9i80DyXIjmUc",
    "pycharm": {
     "name": "#%% md\n"
    }
   },
   "source": [
    "Let's consider a planar cable-driven robot with three forces applied (gravitation force is not counted). The dynamics of this systemis as follows:\n",
    "\n",
    "\\begin{equation}\n",
    "\\mathbf{M}\n",
    "\\ddot {\\mathbf{q}} + \\mathbf{g}(\\mathbf{q})\n",
    "=\n",
    "\\mathbf{B} \\mathbf{u}\n",
    "\\end{equation}\n",
    "\n",
    "where\n",
    "\\begin{equation}\n",
    "\\mathbf{M} =\n",
    "\\begin{bmatrix}\n",
    "m & 0\\\\\n",
    "0 & m\\\\\n",
    "\\end{bmatrix}\n",
    "\\quad\n",
    "\\mathbf{B} =\n",
    "\\begin{bmatrix}\n",
    "\\frac{x_{c1}}{||\\mathbf{r}_{c1}||} & \\frac{x_{c2}}{||\\mathbf{r}_{c2}||} & \\frac{x_{c3}}{||\\mathbf{r}_{c3}||} \\\\\n",
    "\\frac{y_{c1}}{||\\mathbf{r}_{c1}||} & \\frac{y_{c2}}{||\\mathbf{r}_{c2}||} & \\frac{y_{c3}}{||\\mathbf{r}_{c3}||} \\\\\n",
    "\\end{bmatrix}\n",
    "\\quad\n",
    "\\mathbf{g} = \n",
    "\\begin{bmatrix}\n",
    "0 \\\\ -mg\n",
    "\\end{bmatrix}\n",
    "\\end{equation}\n",
    "\n",
    "The generalized coordinates $\\mathbf{q}=[x \\quad y]^T$, the forces are $\\mathbf{u}=[\\tau_1 \\quad \\tau_2 \\quad \\tau_3]^T$.\n",
    "\n"
   ]
  },
  {
   "cell_type": "markdown",
   "metadata": {
    "id": "COI_3MICsO6I",
    "pycharm": {
     "name": "#%% md\n"
    }
   },
   "source": [
    "**Exercise:** Implement PD control for the cable robot. Write the following functions for:\n",
    "1. Matrices $\\mathbf{M}$, $\\mathbf{g}$ and $\\mathbf{B}$.\n",
    "2. System dynamics.\n",
    "3. Control.\n",
    "\\begin{equation}\n",
    "\\mathbf{u} = \\mathbf{K}_p\\tilde{\\mathbf{q}} + \\mathbf{K}_d\\dot{\\tilde{\\mathbf{q}}}\n",
    "\\end{equation}\n",
    "4. Desired trajectory (for point-to-point motion you can put any constant values, for the desired trajectory you may put $\\sin$ or $\\cos$ functions)."
   ]
  },
  {
   "cell_type": "markdown",
   "metadata": {
    "id": "z_PMVwuH7vl0",
    "pycharm": {
     "name": "#%% md\n"
    }
   },
   "source": [
    "## **Tension preserving using Null Space**\n",
    "\n",
    "Notably, the control input has negative values, which means that the motor tries to relax the cable. But physically, this is not possible, since we can only stretch the cable. Therefore, we need to make sure that our control maitains positive. The intuitively simple technique implies using Null Space.\n",
    "\n",
    "\\begin{equation}\n",
    "\\mathbf{Q} = \\mathbf{B}(\\mathbf{q}) \\mathbf{u}\n",
    "\\end{equation}\n",
    "\n",
    "\\begin{equation}\n",
    "\\mathbf{u} = \\mathbf{B}^+\\mathbf{Q}\n",
    "\\end{equation}\n",
    "\n",
    "Question: Is there anything that we can add and this addition does not change the control? The answer is Null space of $\\mathbf{B}$. Indeed, we can modify the control as follows:\n",
    "\n",
    "\\begin{equation}\n",
    "\\mathbf{u} = \\mathbf{B}^+\\mathbf{Q} + \\mathcal{N}(\\mathbf{B}) c_0\n",
    "\\end{equation}\n",
    "\n",
    "where constant $c_0 = \\frac{||\\mathbf{B}^+\\mathbf{Q}||}{||\\mathcal{N}(\\mathbf{B})||}$."
   ]
  },
  {
   "cell_type": "markdown",
   "metadata": {
    "id": "c85BxrFdT5Lv",
    "pycharm": {
     "name": "#%% md\n"
    }
   },
   "source": [
    "**Observations:** We can see that the control has changed while the response remained the same. "
   ]
  },
  {
   "cell_type": "code",
   "execution_count": null,
   "metadata": {
    "pycharm": {
     "name": "#%%\n"
    }
   },
   "outputs": [],
   "source": [
    "def M(mass):\n",
    "    return [[mass,0],[0,mass]]\n",
    "\n",
    "def g(mass):\n",
    "    g=9.81\n",
    "    return [[0],[-mass*g]]\n",
    "\n"
   ]
  },
  {
   "cell_type": "code",
   "execution_count": null,
   "metadata": {
    "pycharm": {
     "name": "#%%\n"
    }
   },
   "outputs": [],
   "source": [
    "def B_matrix(x,y):\n",
    "    x = np.array([x,y]).reshape(2,1)\n",
    "    B = np.zeros((2,3),dtype = np.float32)\n",
    "    \n",
    "    c1 = np.array([-1],[0])\n",
    "    c2 = np.array([1],[1])\n",
    "    c3 = np.array([0],[-1])\n",
    "    rc1 = np.norm(c1 - x)\n",
    "    rc2 = np.norm(c2 - x)\n",
    "    rc3 = np.norm(c3 - x)\n",
    "    \n",
    "    B[0,0] = (c1[0] - x[0]) / rc1\n",
    "    B[0,1] = (c2[0] - x[0]) / rc2\n",
    "    B[0,2] = (c3[0] - x[0]) / rc3\n",
    "    B[1,0] = (c1[0] - x[1]) / rc1\n",
    "    B[1,1] = (c2[0] - x[1]) / rc2\n",
    "    B[1,2] = (c3[0] - x[1]) / rc3\n",
    "    return B"
   ]
  }
 ],
 "metadata": {
  "colab": {
   "provenance": [],
   "toc_visible": true
  },
  "kernelspec": {
   "display_name": "Python 3.10.4 ('innolearn')",
   "language": "python",
   "name": "python3"
  },
  "language_info": {
   "codemirror_mode": {
    "name": "ipython",
    "version": 3
   },
   "file_extension": ".py",
   "mimetype": "text/x-python",
   "name": "python",
   "nbconvert_exporter": "python",
   "pygments_lexer": "ipython3",
   "version": "3.9.15"
  },
  "vscode": {
   "interpreter": {
    "hash": "c3406c4ea377a1261c4285aa60368e6544b40c61c4a11ebeac174d6130232973"
   }
  }
 },
 "nbformat": 4,
 "nbformat_minor": 0
}