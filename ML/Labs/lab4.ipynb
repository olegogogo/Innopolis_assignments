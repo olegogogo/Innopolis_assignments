{
 "cells": [
  {
   "cell_type": "markdown",
   "metadata": {
    "collapsed": true,
    "pycharm": {
     "name": "#%% md\n"
    }
   },
   "source": [
    "## Week 4 : Regularization & Dimensionality Reduction \n",
    "```\n",
    "- Machine Learning, Innopolis University (Fall semester 2022)\n",
    "- Professor: Adil Khan\n",
    "- Teaching Assistant: Gcinizwe Dlamini\n",
    "```\n",
    "<hr>\n",
    "\n",
    "\n",
    "```\n",
    "Lab Plan\n",
    "1. Regularization : Lasso and Ridge\n",
    "2. Selecting optimal alpha for regularization\n",
    "3. Dimensionality Reduction from scratch with numpy\n",
    "4. Dimensionality Reduction with Sklearn\n",
    "```\n",
    "\n",
    "<hr>\n"
   ]
  },
  {
   "cell_type": "markdown",
   "metadata": {
    "pycharm": {
     "name": "#%% md\n"
    }
   },
   "source": [
    "## 1. Regularization : Lasso and Ridge\n",
    "\n",
    "Both models are the regularized forms of the linear regression.\n",
    "Lasso with L1 regularization and Ridge with L2 regularization.\n",
    "Both act as a constraint region for the coeffeicients/weight, where they must reside in.\n",
    "\n",
    "### Issues:\n",
    "1. When to use Lasso?\n",
    "<span style=\"color:blue\">\n",
    "\n",
    "    1. Used when there are only a few predictors actually impact the response.\n",
    "    2. It can be used as a feature selection algorithm, with the appropriate value of lambda, a sparse model can be produced.\n",
    "2. When to use Ridge?\n",
    "<span style=\"color:blue\">\n",
    "Used when there are many of predictors and most of them influence the response.\n",
    "\n",
    "3. Since it is hard to decide the parameters influence, How we can decide which regularization? and decide the value of lambda?\n",
    "<span style=\"color:blue\">\n",
    "Using the cross validation!\n"
   ]
  },
  {
   "cell_type": "markdown",
   "metadata": {
    "pycharm": {
     "name": "#%% md\n"
    }
   },
   "source": [
    "### 1.1 Loading California housing dataset\n",
    "\n",
    "Housing-Prices Values in Suburbs of California"
   ]
  },
  {
   "cell_type": "code",
   "execution_count": 36,
   "metadata": {
    "pycharm": {
     "name": "#%%\n"
    }
   },
   "outputs": [],
   "source": [
    "from sklearn.datasets import fetch_california_housing\n",
    "from sklearn.model_selection import train_test_split\n",
    "\n",
    "X, y = fetch_california_housing(return_X_y=True)\n",
    "x_train, x_test, y_train, y_test = train_test_split(X, y, test_size=0.2, random_state=123)\n",
    "x_train, x_val, y_train, y_val = train_test_split(x_train, y_train, test_size=1/8, random_state=123)"
   ]
  },
  {
   "cell_type": "markdown",
   "metadata": {
    "pycharm": {
     "name": "#%% md\n"
    }
   },
   "source": [
    "### 1.2 Fitting both Lasso and Ridge\n",
    "<span style=\"color:red\">Task:  Fit two models: Lasso and Ridge - with the default alpha.\n",
    "Then print their coefficients and notice the difference.</span>"
   ]
  },
  {
   "cell_type": "code",
   "execution_count": 37,
   "metadata": {
    "pycharm": {
     "name": "#%%\n"
    }
   },
   "outputs": [
    {
     "name": "stdout",
     "output_type": "stream",
     "text": [
      "Lasso Coefficient [ 1.47603065e-01  5.29413055e-03  0.00000000e+00 -0.00000000e+00\n",
      " -7.41147208e-06 -0.00000000e+00 -0.00000000e+00 -0.00000000e+00]\n",
      "Ridge Coefficient [ 4.41229578e-01  9.08581845e-03 -1.13972707e-01  6.50328073e-01\n",
      " -8.46621287e-06 -4.53044362e-03 -4.15242754e-01 -4.25974552e-01]\n"
     ]
    }
   ],
   "source": [
    "from sklearn.linear_model import Lasso, Ridge\n",
    "\n",
    "lasso = Lasso()\n",
    "ridge = Ridge()\n",
    "lasso.fit(x_train, y_train)\n",
    "ridge.fit(x_train, y_train)\n",
    "\n",
    "print(\"Lasso Coefficient\", lasso.coef_)\n",
    "print(\"Ridge Coefficient\", ridge.coef_)"
   ]
  },
  {
   "cell_type": "markdown",
   "metadata": {
    "pycharm": {
     "name": "#%% md\n"
    }
   },
   "source": [
    "### 1.3 Searching for optimal $\\alpha$\n",
    "\n",
    "<span style=\"color:red\"><strong>Task</strong>: Let's try different values for alpha for Lasso regressor and plot the validation loss.</span>"
   ]
  },
  {
   "cell_type": "code",
   "execution_count": 38,
   "metadata": {
    "pycharm": {
     "name": "#%%\n"
    }
   },
   "outputs": [
    {
     "data": {
      "text/plain": "<Figure size 640x480 with 1 Axes>",
      "image/png": "[encoded data removed]"
     },
     "metadata": {},
     "output_type": "display_data"
    },
    {
     "name": "stdout",
     "output_type": "stream",
     "text": [
      "Best value of alpha: 0.1\n"
     ]
    }
   ],
   "source": [
    "import matplotlib.pylab as plt\n",
    "import numpy as np\n",
    "from sklearn.metrics import mean_squared_error\n",
    "%matplotlib inline\n",
    "\n",
    "alphas = [2.2, 2, 1.5, 1.3, 1.2, 1.1, 1, 0.3, 0.1]\n",
    "losses = []\n",
    "for alpha in alphas:\n",
    "    # Write (5 lines): create a Lasso regressor with the alpha value.\n",
    "    # Fit it to the training set, then get the prediction of the validation set (x_val).\n",
    "    # calculate the mean sqaured error loss, then append it to the losses array\n",
    "    lasso = Lasso(alpha=alpha)\n",
    "    lasso.fit(x_train, y_train)\n",
    "    y_pred = lasso.predict(x_val)\n",
    "    mse = mean_squared_error(y_val, y_pred)\n",
    "    losses.append(mse)\n",
    "plt.plot(alphas, losses)\n",
    "plt.title(\"Lasso alpha value selection\")\n",
    "plt.xlabel(\"alpha\")\n",
    "plt.ylabel(\"Mean squared error\")\n",
    "plt.show()\n",
    "\n",
    "best_alpha = alphas[np.argmin(losses)]\n",
    "print(\"Best value of alpha:\", best_alpha)"
   ]
  },
  {
   "cell_type": "markdown",
   "metadata": {
    "pycharm": {
     "name": "#%% md\n"
    }
   },
   "source": [
    "Measuring the loss on the testset with Lasso regressor with the best alpha."
   ]
  },
  {
   "cell_type": "code",
   "execution_count": 39,
   "metadata": {
    "pycharm": {
     "name": "#%%\n"
    }
   },
   "outputs": [
    {
     "name": "stdout",
     "output_type": "stream",
     "text": [
      "MSE on testset: 0.603544575502771\n"
     ]
    }
   ],
   "source": [
    "lasso = Lasso(best_alpha)\n",
    "lasso.fit(x_train, y_train)\n",
    "y_pred = lasso.predict(x_test)\n",
    "print(\"MSE on testset:\", mean_squared_error(y_test, y_pred))"
   ]
  },
  {
   "cell_type": "markdown",
   "metadata": {
    "pycharm": {
     "name": "#%% md\n"
    }
   },
   "source": [
    "## 2. Principal Component Analysis (PCA)\n",
    "\n",
    "1. How does PCA reduce data dimensionality? <span style=\"color:blue\"> It linearly transforms initial data points by projecting them to new axes - the ones that explaim maximum amount of variance. </span>\n",
    "2. What is eigenvector? <span style=\"color:blue\">  Characteristic vector of a linear transformation - a nonzero vector that changes at most by a scalar factor (eigenvector) when that linear transformation is applied to it. </span>\n",
    "\n",
    "<span style=\"color:red\"><strong>Task:</strong> Now you will implement basic steps of PCA: mean-centering, eigenvectors calculation using covariance matrix, projecting data to the first PC, and restoring it back.</span>"
   ]
  },
  {
   "cell_type": "markdown",
   "metadata": {
    "pycharm": {
     "name": "#%% md\n"
    }
   },
   "source": [
    "### 2.1 Generating data "
   ]
  },
  {
   "cell_type": "code",
   "execution_count": 40,
   "metadata": {
    "pycharm": {
     "name": "#%%\n"
    }
   },
   "outputs": [
    {
     "data": {
      "text/plain": "<Figure size 640x480 with 1 Axes>",
      "image/png": "[encoded data removed]"
     },
     "metadata": {},
     "output_type": "display_data"
    }
   ],
   "source": [
    "# N is a sample size\n",
    "N = 25\n",
    "# we can fix a random seed. It allows us to get the same data\n",
    "np.random.seed(10)\n",
    "# form our data\n",
    "x = np.linspace(-5, -3, N)\n",
    "y = 10 + 2*x + np.random.random(size=(N,))\n",
    "data = np.stack([x,y], axis = 1)\n",
    "\n",
    "\n",
    "plt.title(\"Data\")\n",
    "plt.plot(data[:,0], data[:,1], '.', label='Original Data', color=\"green\")\n",
    "plt.legend()\n",
    "\n",
    "plt.axis([-6, 2, -3, 6])\n",
    "plt.xlabel(\"X\")\n",
    "plt.ylabel(\"Y\")\n",
    "plt.grid('True')"
   ]
  },
  {
   "cell_type": "markdown",
   "metadata": {
    "pycharm": {
     "name": "#%% md\n"
    }
   },
   "source": [
    "### 2.2 Centering Data"
   ]
  },
  {
   "cell_type": "code",
   "execution_count": 41,
   "metadata": {
    "pycharm": {
     "name": "#%%\n"
    }
   },
   "outputs": [
    {
     "data": {
      "text/plain": "<Figure size 640x480 with 1 Axes>",
      "image/png": "[encoded data removed]"
     },
     "metadata": {},
     "output_type": "display_data"
    }
   ],
   "source": [
    "# center data by subtracting mean value from each feature\n",
    "# pay attention to mean_vector <-- we need it later for restoring our data\n",
    "mean_vector = np.mean(data, axis=0)\n",
    "data_centered = data - mean_vector\n",
    "\n",
    "plt.title(\"Centered data\")\n",
    "plt.plot(data[:,0], data[:,1], '.', color=\"green\", label=\"Original\")\n",
    "plt.plot(data_centered[:,0], data_centered[:,1], '.', color=\"blue\", label=\"Centered\")\n",
    "plt.axis([-6, 2, -3, 6])\n",
    "plt.legend()\n",
    "plt.xlabel(\"X\")\n",
    "plt.ylabel(\"Y\")\n",
    "plt.grid('True')"
   ]
  },
  {
   "cell_type": "markdown",
   "metadata": {
    "pycharm": {
     "name": "#%% md\n"
    }
   },
   "source": [
    "### 2.3 Covariance matrix"
   ]
  },
  {
   "cell_type": "code",
   "execution_count": 42,
   "metadata": {
    "pycharm": {
     "name": "#%%\n"
    }
   },
   "outputs": [
    {
     "name": "stdout",
     "output_type": "stream",
     "text": [
      "Covariance matrix:\n",
      " [[0.37615741 0.76801889]\n",
      " [0.76801889 1.65019543]]\n",
      "\n",
      "cov(X,Y): 0.7680188927863001\n"
     ]
    }
   ],
   "source": [
    "# calculate covariance matrix for our centered data\n",
    "cov_mat = np.cov(data_centered.T)\n",
    "print('Covariance matrix:\\n', cov_mat)\n",
    "\n",
    "# also, to make sure you understand how to calculate covariance, calculate and print cov(X,Y)\n",
    "# check that it is the same as in the covariance matrix\n",
    "cov_xy = 1/(N-1) * np.sum(data_centered[:,0] * data_centered[:,1])\n",
    "print('\\ncov(X,Y):', cov_xy)"
   ]
  },
  {
   "cell_type": "markdown",
   "metadata": {
    "pycharm": {
     "name": "#%% md\n"
    }
   },
   "source": [
    "### 2.4 Eigenvectors and eigenvalues"
   ]
  },
  {
   "cell_type": "code",
   "execution_count": 43,
   "metadata": {
    "pycharm": {
     "name": "#%%\n"
    }
   },
   "outputs": [
    {
     "name": "stdout",
     "output_type": "stream",
     "text": [
      "Eigenvalues: [0.01535567 2.01099716]\n",
      "Eigenvectors:\n",
      " [[-0.90509952 -0.42519979]\n",
      " [ 0.42519979 -0.90509952]]\n",
      "\n",
      "sorted eigenvalues: [2.01099716 0.01535567]\n",
      "sorted Eigenvectors:\n",
      " [[-0.42519979 -0.90509952]\n",
      " [-0.90509952  0.42519979]]\n",
      "\n",
      "Retained variance: [0.99242201 0.00757799]\n"
     ]
    }
   ],
   "source": [
    "# compute eigenvectors and eigenvalues, print them\n",
    "eig_values, eig_vectors = np.linalg.eig(cov_mat)\n",
    "print('Eigenvalues:', eig_values)\n",
    "print('Eigenvectors:\\n', eig_vectors)\n",
    "\n",
    "# are they already in the needed order?\n",
    "# order eigenvectors and eigenvalues by eigenvalues, descending\n",
    "idx = eig_values.argsort()[::-1]\n",
    "# print(idx)\n",
    "eig_values = eig_values[idx]\n",
    "eig_vectors = eig_vectors[:,idx]\n",
    "print('\\nsorted eigenvalues:', eig_values)\n",
    "print('sorted Eigenvectors:\\n', eig_vectors)\n",
    "\n",
    "# estimate variance retained by each principal component\n",
    "retained_var = eig_values / eig_values.sum()\n",
    "print('\\nRetained variance:',   retained_var)"
   ]
  },
  {
   "cell_type": "markdown",
   "metadata": {
    "pycharm": {
     "name": "#%% md\n"
    }
   },
   "source": [
    "### 2.5 Project data"
   ]
  },
  {
   "cell_type": "code",
   "execution_count": 44,
   "metadata": {
    "pycharm": {
     "name": "#%%\n"
    }
   },
   "outputs": [
    {
     "data": {
      "text/plain": "<Figure size 640x480 with 1 Axes>",
      "image/png": "[encoded data removed]"
     },
     "metadata": {},
     "output_type": "display_data"
    }
   ],
   "source": [
    "# project data to the first principal component\n",
    "first_pc = np.expand_dims(eig_vectors[:,0], axis=1)\n",
    "projected_data = np.dot(data_centered, first_pc)\n",
    "\n",
    "plt.title(\"Projected data\")\n",
    "plt.plot(data[:,0], data[:,1], '.', color=\"green\", label=\"Original\")\n",
    "plt.plot(data_centered[:,0], data_centered[:,1], '.', color=\"blue\", label=\"centered\")\n",
    "plt.plot(projected_data, np.zeros(len(projected_data)), '.', color=\"red\",  label=\"projected\")\n",
    "plt.axis([-6, 3, -3, 6])\n",
    "plt.legend()\n",
    "plt.xlabel(\"X\")\n",
    "plt.ylabel(\"Y\")\n",
    "plt.grid('True')"
   ]
  },
  {
   "cell_type": "markdown",
   "metadata": {
    "pycharm": {
     "name": "#%% md\n"
    }
   },
   "source": [
    "### 2.6 Restore data back "
   ]
  },
  {
   "cell_type": "code",
   "execution_count": 45,
   "metadata": {
    "pycharm": {
     "name": "#%%\n"
    }
   },
   "outputs": [
    {
     "data": {
      "text/plain": "<Figure size 640x480 with 1 Axes>",
      "image/png": "[encoded data removed]"
     },
     "metadata": {},
     "output_type": "display_data"
    }
   ],
   "source": [
    "# project data back to initial space\n",
    "# remember to add a mean_vector to the restored data\n",
    "restored_data = np.dot(projected_data, first_pc.T) + mean_vector\n",
    "\n",
    "plt.title(\"Restored data\")\n",
    "plt.plot(data[:,0], data[:,1], '.', color=\"green\")\n",
    "plt.plot(data_centered[:,0], data_centered[:,1], '.', color=\"blue\")\n",
    "plt.plot(restored_data[:,0], restored_data[:,1], '.', color=\"red\")\n",
    "plt.axis([-6, 2, -3, 6])\n",
    "plt.grid('True')\n",
    "plt.xlabel(\"X\")\n",
    "plt.ylabel(\"Y\")\n",
    "plt.show()"
   ]
  },
  {
   "cell_type": "markdown",
   "metadata": {
    "pycharm": {
     "name": "#%% md\n"
    }
   },
   "source": [
    "## 3. SKLEARN implementation "
   ]
  },
  {
   "cell_type": "code",
   "execution_count": 46,
   "metadata": {
    "pycharm": {
     "name": "#%%\n"
    }
   },
   "outputs": [
    {
     "name": "stdout",
     "output_type": "stream",
     "text": [
      "Mean :  [-4.          2.50055666]\n",
      "explained variance :  [2.01099716]\n",
      "explained variance ratio:  [0.99242201]\n"
     ]
    },
    {
     "data": {
      "text/plain": "<Figure size 640x480 with 1 Axes>",
      "image/png": "[encoded data removed]"
     },
     "metadata": {},
     "output_type": "display_data"
    }
   ],
   "source": [
    "# this is to check your solution\n",
    "from sklearn.decomposition import PCA\n",
    "pca = PCA(n_components=1)\n",
    "x_PCA = pca.fit_transform(data)\n",
    "\n",
    "plt.title(\"Projected data\")\n",
    "plt.plot(data[:,0], data[:,1], '.', color=\"green\", label=\"Original\")\n",
    "plt.plot(data_centered[:,0], data_centered[:,1], '.', color=\"blue\", label=\"Centered\")\n",
    "plt.plot(x_PCA, np.zeros(len(projected_data)), '.', color=\"red\", label=\"Projected\")\n",
    "plt.axis([-6, 3, -3, 6])\n",
    "plt.xlabel(\"X\")\n",
    "plt.ylabel(\"Y\")\n",
    "plt.grid('True')\n",
    "plt.legend()\n",
    "\n",
    "print('Mean : ',pca.mean_)\n",
    "print('explained variance : ',pca.explained_variance_)\n",
    "print('explained variance ratio: ',pca.explained_variance_ratio_)"
   ]
  },
  {
   "cell_type": "markdown",
   "source": [
    "## <center>Self-Practice  Task</center>\n",
    "\n",
    "* Using `covid19-2.csv` dataset given to you in previous self practice task.\n",
    "    1. Train a logistic regression model with Regularization\n",
    "    1. Train a logistic regression model with data after PCA\n",
    "    1. Calculate Accuracy, Precision and Recall values for each of the above trained models\n",
    "\n"
   ],
   "metadata": {
    "collapsed": false,
    "pycharm": {
     "name": "#%% md\n"
    }
   }
  },
  {
   "cell_type": "code",
   "execution_count": 47,
   "metadata": {
    "pycharm": {
     "name": "#%%\n"
    }
   },
   "outputs": [],
   "source": [
    "import pandas as pd\n",
    "import numpy as np\n",
    "import sklearn\n",
    "\n",
    "import matplotlib.pyplot as plt\n",
    "%matplotlib inline\n",
    "df = pd.read_csv('./materials/covid19-2.csv', low_memory=False)\n",
    "df.drop(['test_date'], axis = 1, inplace=True)"
   ]
  },
  {
   "cell_type": "code",
   "execution_count": 48,
   "outputs": [],
   "source": [
    "Y_data = df['corona_result']\n",
    "df.drop(['corona_result','medical_id'], axis=1, inplace=True)"
   ],
   "metadata": {
    "collapsed": false,
    "pycharm": {
     "name": "#%%\n"
    }
   }
  },
  {
   "cell_type": "code",
   "execution_count": 49,
   "outputs": [
    {
     "data": {
      "text/plain": "0    0\n1    0\n2    1\n3    0\n4    0\nName: corona_result, dtype: int32"
     },
     "execution_count": 49,
     "metadata": {},
     "output_type": "execute_result"
    }
   ],
   "source": [
    "Y_data = (Y_data == 'Positive').astype(int)\n",
    "Y_data[:5]"
   ],
   "metadata": {
    "collapsed": false,
    "pycharm": {
     "name": "#%%\n"
    }
   }
  },
  {
   "cell_type": "code",
   "execution_count": 50,
   "outputs": [],
   "source": [
    "from sklearn.model_selection import train_test_split\n",
    "\n",
    "x_train, x_test, y_train, y_test, = train_test_split(df,Y_data, test_size=0.2)"
   ],
   "metadata": {
    "collapsed": false,
    "pycharm": {
     "name": "#%%\n"
    }
   }
  },
  {
   "cell_type": "code",
   "execution_count": 51,
   "outputs": [
    {
     "data": {
      "text/plain": "['age_60_and_above', 'gender', 'test_indication']"
     },
     "execution_count": 51,
     "metadata": {},
     "output_type": "execute_result"
    }
   ],
   "source": [
    "categ_cols = list(x_train.select_dtypes(['object']).columns)\n",
    "categ_cols"
   ],
   "metadata": {
    "collapsed": false,
    "pycharm": {
     "name": "#%%\n"
    }
   }
  },
  {
   "cell_type": "code",
   "execution_count": 52,
   "outputs": [],
   "source": [
    "from sklearn.impute import SimpleImputer\n",
    "\n",
    "imputer = SimpleImputer(strategy='most_frequent')\n",
    "x_train.iloc[:,6:8] = imputer.fit_transform(x_train.iloc[:,6:8])"
   ],
   "metadata": {
    "collapsed": false,
    "pycharm": {
     "name": "#%%\n"
    }
   }
  },
  {
   "cell_type": "code",
   "execution_count": 53,
   "outputs": [],
   "source": [
    "from category_encoders import OneHotEncoder\n",
    "\n",
    "encoder = OneHotEncoder(cols=categ_cols)\n",
    "encoder.fit(x_train)\n",
    "x_train = encoder.transform(x_train)\n",
    "x_test = encoder.transform(x_test)"
   ],
   "metadata": {
    "collapsed": false,
    "pycharm": {
     "name": "#%%\n"
    }
   }
  },
  {
   "cell_type": "code",
   "execution_count": 54,
   "outputs": [],
   "source": [
    "from sklearn.preprocessing import StandardScaler\n",
    "scaler = StandardScaler()\n",
    "\n",
    "x_train = scaler.fit_transform(x_train)\n",
    "x_test = scaler.fit_transform(x_test)"
   ],
   "metadata": {
    "collapsed": false,
    "pycharm": {
     "name": "#%%\n"
    }
   }
  },
  {
   "cell_type": "code",
   "execution_count": 55,
   "outputs": [
    {
     "name": "stdout",
     "output_type": "stream",
     "text": [
      "Accuracy on testset 0.9054545454545454\n",
      "Precision on testset 0.5365853658536586\n",
      "Recall on testset 0.10426540284360189\n",
      "\n",
      "Accuracy on trainset 0.9061363636363636\n",
      "Precision on trainset 0.4131455399061033\n",
      "Recall on trainset 0.11153358681875793\n"
     ]
    }
   ],
   "source": [
    "from sklearn.metrics import accuracy_score, precision_score, recall_score\n",
    "from sklearn.linear_model import LogisticRegression\n",
    "logistic = LogisticRegression(penalty=\"l2\").fit(x_train,y_train)\n",
    "y_pred = logistic.predict(x_test)\n",
    "y_pred_train = logistic.predict(x_train)\n",
    "print('Accuracy on testset', accuracy_score(y_test, y_pred))\n",
    "print('Precision on testset', precision_score(y_test, y_pred))\n",
    "print('Recall on testset', recall_score(y_test,y_pred))\n",
    "print('\\nAccuracy on trainset', accuracy_score(y_train, y_pred_train))\n",
    "print('Precision on trainset', precision_score(y_train, y_pred_train))\n",
    "print('Recall on trainset', recall_score(y_train,y_pred_train))"
   ],
   "metadata": {
    "collapsed": false,
    "pycharm": {
     "name": "#%%\n"
    }
   }
  },
  {
   "cell_type": "code",
   "execution_count": 56,
   "outputs": [],
   "source": [
    "from sklearn.decomposition import PCA\n",
    "\n",
    "dim_reducer = PCA(n_components=2)\n",
    "x_train = dim_reducer.fit_transform(x_train)\n",
    "x_test = dim_reducer.fit_transform(x_test)"
   ],
   "metadata": {
    "collapsed": false,
    "pycharm": {
     "name": "#%%\n"
    }
   }
  },
  {
   "cell_type": "code",
   "execution_count": 57,
   "outputs": [
    {
     "name": "stdout",
     "output_type": "stream",
     "text": [
      "Accuracy on testset 0.9027272727272727\n",
      "Precision on testset 0.4666666666666667\n",
      "Recall on testset 0.0995260663507109\n",
      "\n",
      "Accuracy on trainset 0.9054545454545454\n",
      "Precision on trainset 0.3837837837837838\n",
      "Recall on trainset 0.08998732572877059\n"
     ]
    }
   ],
   "source": [
    "logistic = LogisticRegression(penalty=\"l2\").fit(x_train,y_train)\n",
    "y_pred = logistic.predict(x_test)\n",
    "y_pred_train = logistic.predict(x_train)\n",
    "print('Accuracy on testset', accuracy_score(y_test, y_pred))\n",
    "print('Precision on testset', precision_score(y_test, y_pred))\n",
    "print('Recall on testset', recall_score(y_test,y_pred))\n",
    "print('\\nAccuracy on trainset', accuracy_score(y_train, y_pred_train))\n",
    "print('Precision on trainset', precision_score(y_train, y_pred_train))\n",
    "print('Recall on trainset', recall_score(y_train,y_pred_train))"
   ],
   "metadata": {
    "collapsed": false,
    "pycharm": {
     "name": "#%%\n"
    }
   }
  }
 ],
 "metadata": {
  "kernelspec": {
   "display_name": "Python 3 (ipykernel)",
   "language": "python",
   "name": "python3"
  },
  "language_info": {
   "codemirror_mode": {
    "name": "ipython",
    "version": 3
   },
   "file_extension": ".py",
   "mimetype": "text/x-python",
   "name": "python",
   "nbconvert_exporter": "python",
   "pygments_lexer": "ipython3",
   "version": "3.8.10"
  }
 },
 "nbformat": 4,
 "nbformat_minor": 1
}