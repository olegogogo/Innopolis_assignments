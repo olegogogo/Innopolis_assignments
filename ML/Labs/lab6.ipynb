{
 "cells": [
  {
   "cell_type": "markdown",
   "source": [
    "## <center>Self-practice <center>\n",
    "\n",
    "Using Dataset from assignment 1\n",
    "1. Define, train and evaluate an ANN for Regression and Classification\n",
    "1. Plot the loss and accuracy of the model for each training iteration\n",
    "\n",
    "ANN should be implemented in PyTorch"
   ],
   "metadata": {
    "collapsed": false,
    "pycharm": {
     "name": "#%% md\n"
    }
   }
  },
  {
   "cell_type": "code",
   "execution_count": 59,
   "metadata": {
    "pycharm": {
     "name": "#%%\n"
    }
   },
   "outputs": [],
   "source": [
    "import numpy as np\n",
    "from matplotlib import pyplot as plt\n",
    "import pandas as pd\n",
    "import warnings\n",
    "warnings.filterwarnings(\"ignore\")\n",
    "import torch\n",
    "import torch.nn as nn\n",
    "import torch.nn.functional as F\n",
    "import torch.optim as optim\n",
    "from torch.utils.data import TensorDataset, DataLoader"
   ]
  },
  {
   "cell_type": "code",
   "execution_count": 60,
   "metadata": {
    "pycharm": {
     "name": "#%%\n"
    }
   },
   "outputs": [],
   "source": [
    "class Net_c(nn.Module):\n",
    "    def __init__(self, inputs=28*28, outputs=10, device='cuda'):\n",
    "        self.inputs = inputs\n",
    "        self.outputs = outputs\n",
    "        super(Net_c, self).__init__()\n",
    "        self.fc1 = nn.Linear(inputs, 500, dtype=torch.float, device=device)\n",
    "        # Write 3 lines to define 3 more linear layers.\n",
    "        # 2 hidden layers with number of neurons numbers: 250 and 100\n",
    "        # 1 output layer that should output 10 neurons, one for each class.\n",
    "        self.fc2 = nn.Linear(500, 250, dtype=torch.float, device=device)\n",
    "        self.fc3 = nn.Linear(250, 100, dtype=torch.float, device=device)\n",
    "        self.fc4 = nn.Linear(100, outputs, dtype=torch.float, device=device)\n",
    "\n",
    "\n",
    "    def forward(self, x):\n",
    "        # the linear layers fc1, fc2, fc3, and fc4\n",
    "        # accepts only flattened input (1D batches)\n",
    "        # while the batch x is of size (batch, 28 * 28)\n",
    "        # define one line to flatten the x to be of size (batch_sz, 28 * 28)\n",
    "        x = x.view(-1, self.inputs)\n",
    "        x = self.fc1.forward(x)\n",
    "        x = self.fc2.forward(x)\n",
    "        x = self.fc3.forward(x)\n",
    "        x = self.fc4.forward(x)\n",
    "\n",
    "        out = F.log_softmax(x, dim=1, dtype=torch.double).flatten()\n",
    "\n",
    "\n",
    "        return torch.vstack((out, torch.tensor(1-out, dtype=torch.double, device=device))).T\n",
    "\n",
    "\n",
    "class Net_r(nn.Module):\n",
    "    def __init__(self, inputs=28*28, outputs=10, device='cuda'):\n",
    "        self.inputs = inputs\n",
    "        self.outputs = outputs\n",
    "        super(Net_r, self).__init__()\n",
    "        self.fc1 = nn.Linear(inputs, 500, dtype=torch.double, device=device)\n",
    "        # Write 3 lines to define 3 more linear layers.\n",
    "        # 2 hidden layers with number of neurons numbers: 250 and 100\n",
    "        # 1 output layer that should output 10 neurons, one for each class.\n",
    "        self.fc2 = nn.Linear(500, 250, dtype=torch.double, device=device)\n",
    "        self.fc3 = nn.Linear(250, 100, dtype=torch.double, device=device)\n",
    "        self.fc4 = nn.Linear(100, outputs, dtype=torch.double, device=device)\n",
    "\n",
    "\n",
    "    def forward(self, x):\n",
    "        # the linear layers fc1, fc2, fc3, and fc4\n",
    "        # accepts only flattened input (1D batches)\n",
    "        # while the batch x is of size (batch, 28 * 28)\n",
    "        # define one line to flatten the x to be of size (batch_sz, 28 * 28)\n",
    "        x_ = x.view(-1, self.inputs)\n",
    "        x_ = self.fc1.forward(x_)\n",
    "        x_ = self.fc2.forward(x_)\n",
    "        x_ = self.fc3.forward(x_)\n",
    "        x_ = self.fc4.forward(x_)\n",
    "\n",
    "        return x_\n"
   ]
  },
  {
   "cell_type": "code",
   "execution_count": 61,
   "metadata": {
    "pycharm": {
     "name": "#%%\n"
    }
   },
   "outputs": [],
   "source": [
    "# Define training params\n",
    "epochs = 10\n",
    "lr = 0.01\n",
    "momentum = 0.5\n",
    "log_interval = 10"
   ]
  },
  {
   "cell_type": "code",
   "execution_count": 62,
   "metadata": {
    "pycharm": {
     "name": "#%%\n"
    }
   },
   "outputs": [],
   "source": [
    "log_interval = 5\n",
    "def train_c( model, device, train_loader, optimizer, epoch):\n",
    "    loss_f = torch.nn.CrossEntropyLoss(torch.tensor([0.1,0.9], device=device))\n",
    "    model.train()\n",
    "    for batch_idx, (data, target) in enumerate(train_loader):\n",
    "        data, target = data.to(device), target.to(device)\n",
    "        optimizer.zero_grad()\n",
    "        output = model(data)\n",
    "        loss = loss_f(output.float(), target)\n",
    "        loss.backward()\n",
    "        optimizer.step()\n",
    "        if batch_idx % log_interval == 0:\n",
    "            print('Train Epoch: {} [{}/{} ({:.0f}%)]\\tLoss: {:.6f}'.format(\n",
    "                epoch, batch_idx * len(data), len(train_loader.dataset),\n",
    "                       100. * batch_idx / len(train_loader), loss.item()))\n",
    "    return loss.item()"
   ]
  },
  {
   "cell_type": "code",
   "execution_count": 63,
   "metadata": {
    "pycharm": {
     "name": "#%%\n"
    }
   },
   "outputs": [],
   "source": [
    "\n",
    "def test_c( model, device, test_loader):\n",
    "    loss_f = torch.nn.CrossEntropyLoss(torch.tensor([0.1,0.9], device=device))\n",
    "    model.eval()\n",
    "    test_loss = 0\n",
    "    correct = 0\n",
    "    with torch.no_grad():\n",
    "        for data, target in test_loader:\n",
    "            # Do the same that was done in the previous function.\n",
    "            # But without backprobagating the loss and without running the optimizers\n",
    "            # As this function is only for test.\n",
    "            # write 3 lines to transform the data to the device, get the output and compute the loss\n",
    "            data, target = data.to(device), target.to(device)\n",
    "            output = model.forward(data)\n",
    "            test_loss += loss_f(output.float(), target).item()  # sum up batch loss\n",
    "            correct += torch.sum((output[:, 0] > 0.5) == target)  # get the index of the max log-probability\n",
    "            #correct += pred.eq(target.view_as(pred)).sum().item()\n",
    "            #correct = np.sum(pred == target)/target.shape\n",
    "    test_loss /= len(test_loader)\n",
    "\n",
    "    print('\\nTest set: Average loss: {:.4f}, Accuracy: {:.2f}%'.format(\n",
    "        test_loss, 100. * correct / len(test_loader.dataset)))\n",
    "    return test_loss"
   ]
  },
  {
   "cell_type": "markdown",
   "source": [],
   "metadata": {
    "collapsed": false,
    "pycharm": {
     "name": "#%% md\n"
    }
   }
  },
  {
   "cell_type": "code",
   "execution_count": 64,
   "outputs": [],
   "source": [
    "x_train_c = torch.tensor(pd.read_csv('./data_/x_train_c.csv').values, dtype=torch.float)\n",
    "x_test_c = torch.tensor(pd.read_csv('./data_/x_test_c.csv').values, dtype=torch.float)\n",
    "y_train_c = torch.tensor(pd.read_csv('./data_/y_train_c.csv').values, dtype=torch.uint8).flatten()\n",
    "y_test_c = torch.tensor(pd.read_csv('./data_/y_test_c.csv').values, dtype=torch.uint8).flatten()\n",
    "\n",
    "x_train_r = torch.tensor(pd.read_csv('./data_/x_train_r.csv').values, dtype=torch.double)\n",
    "x_test_r = torch.tensor(pd.read_csv('./data_/x_test_r.csv').values, dtype=torch.double)\n",
    "y_train_r = torch.tensor(pd.read_csv('./data_/y_train_r.csv').values, dtype=torch.double).flatten()\n",
    "y_test_r = torch.tensor(pd.read_csv('./data_/y_test_r.csv').values, dtype=torch.double).flatten()"
   ],
   "metadata": {
    "collapsed": false,
    "pycharm": {
     "name": "#%%\n"
    }
   }
  },
  {
   "cell_type": "code",
   "execution_count": 65,
   "metadata": {
    "pycharm": {
     "name": "#%%\n"
    }
   },
   "outputs": [
    {
     "name": "stdout",
     "output_type": "stream",
     "text": [
      "Train Epoch: 0 [0/371028 (0%)]\tLoss: 0.948602\n",
      "Train Epoch: 0 [100000/371028 (26%)]\tLoss: 0.940267\n",
      "Train Epoch: 0 [200000/371028 (53%)]\tLoss: 0.941476\n",
      "Train Epoch: 0 [300000/371028 (79%)]\tLoss: 0.932900\n",
      "\n",
      "Test set: Average loss: 0.9322, Accuracy: 93.56%\n",
      "Train Epoch: 1 [0/371028 (0%)]\tLoss: 0.943093\n",
      "Train Epoch: 1 [100000/371028 (26%)]\tLoss: 0.931326\n",
      "Train Epoch: 1 [200000/371028 (53%)]\tLoss: 0.942081\n",
      "Train Epoch: 1 [300000/371028 (79%)]\tLoss: 0.937662\n",
      "\n",
      "Test set: Average loss: 0.9290, Accuracy: 93.56%\n",
      "Train Epoch: 2 [0/371028 (0%)]\tLoss: 0.946144\n",
      "Train Epoch: 2 [100000/371028 (26%)]\tLoss: 0.943701\n",
      "Train Epoch: 2 [200000/371028 (53%)]\tLoss: 0.932900\n",
      "Train Epoch: 2 [300000/371028 (79%)]\tLoss: 0.946757\n",
      "\n",
      "Test set: Average loss: 0.9330, Accuracy: 93.56%\n",
      "Train Epoch: 3 [0/371028 (0%)]\tLoss: 0.947986\n",
      "Train Epoch: 3 [100000/371028 (26%)]\tLoss: 0.937263\n",
      "Train Epoch: 3 [200000/371028 (53%)]\tLoss: 0.943295\n",
      "Train Epoch: 3 [300000/371028 (79%)]\tLoss: 0.940871\n",
      "\n",
      "Test set: Average loss: 0.9299, Accuracy: 93.56%\n",
      "Train Epoch: 4 [0/371028 (0%)]\tLoss: 0.939664\n",
      "Train Epoch: 4 [100000/371028 (26%)]\tLoss: 0.944514\n",
      "Train Epoch: 4 [200000/371028 (53%)]\tLoss: 0.942283\n",
      "Train Epoch: 4 [300000/371028 (79%)]\tLoss: 0.936267\n",
      "\n",
      "Test set: Average loss: 0.9283, Accuracy: 93.56%\n",
      "Train Epoch: 5 [0/371028 (0%)]\tLoss: 0.943092\n",
      "Train Epoch: 5 [100000/371028 (26%)]\tLoss: 0.929173\n",
      "Train Epoch: 5 [200000/371028 (53%)]\tLoss: 0.939865\n",
      "Train Epoch: 5 [300000/371028 (79%)]\tLoss: 0.945328\n",
      "\n",
      "Test set: Average loss: 0.9320, Accuracy: 93.56%\n",
      "Train Epoch: 6 [0/371028 (0%)]\tLoss: 0.952528\n",
      "Train Epoch: 6 [100000/371028 (26%)]\tLoss: 0.934085\n",
      "Train Epoch: 6 [200000/371028 (53%)]\tLoss: 0.950870\n",
      "Train Epoch: 6 [300000/371028 (79%)]\tLoss: 0.939664\n",
      "\n",
      "Test set: Average loss: 0.9304, Accuracy: 93.56%\n",
      "Train Epoch: 7 [0/371028 (0%)]\tLoss: 0.945940\n",
      "Train Epoch: 7 [100000/371028 (26%)]\tLoss: 0.950457\n",
      "Train Epoch: 7 [200000/371028 (53%)]\tLoss: 0.930346\n",
      "Train Epoch: 7 [300000/371028 (79%)]\tLoss: 0.947166\n",
      "\n",
      "Test set: Average loss: 0.9308, Accuracy: 93.56%\n",
      "Train Epoch: 8 [0/371028 (0%)]\tLoss: 0.955237\n",
      "Train Epoch: 8 [100000/371028 (26%)]\tLoss: 0.940066\n",
      "Train Epoch: 8 [200000/371028 (53%)]\tLoss: 0.938662\n",
      "Train Epoch: 8 [300000/371028 (79%)]\tLoss: 0.940267\n",
      "\n",
      "Test set: Average loss: 0.9305, Accuracy: 93.56%\n",
      "Train Epoch: 9 [0/371028 (0%)]\tLoss: 0.930738\n",
      "Train Epoch: 9 [100000/371028 (26%)]\tLoss: 0.954193\n",
      "Train Epoch: 9 [200000/371028 (53%)]\tLoss: 0.937662\n",
      "Train Epoch: 9 [300000/371028 (79%)]\tLoss: 0.943295\n",
      "\n",
      "Test set: Average loss: 0.9278, Accuracy: 93.56%\n",
      "Train Epoch: 10 [0/371028 (0%)]\tLoss: 0.939063\n",
      "Train Epoch: 10 [100000/371028 (26%)]\tLoss: 0.934481\n",
      "Train Epoch: 10 [200000/371028 (53%)]\tLoss: 0.934877\n",
      "Train Epoch: 10 [300000/371028 (79%)]\tLoss: 0.947781\n",
      "\n",
      "Test set: Average loss: 0.9315, Accuracy: 93.56%\n",
      "Train Epoch: 11 [0/371028 (0%)]\tLoss: 0.937064\n",
      "Train Epoch: 11 [100000/371028 (26%)]\tLoss: 0.943904\n",
      "Train Epoch: 11 [200000/371028 (53%)]\tLoss: 0.944107\n",
      "Train Epoch: 11 [300000/371028 (79%)]\tLoss: 0.944107\n",
      "\n",
      "Test set: Average loss: 0.9309, Accuracy: 93.56%\n",
      "Train Epoch: 12 [0/371028 (0%)]\tLoss: 0.943498\n",
      "Train Epoch: 12 [100000/371028 (26%)]\tLoss: 0.945328\n",
      "Train Epoch: 12 [200000/371028 (53%)]\tLoss: 0.938062\n",
      "Train Epoch: 12 [300000/371028 (79%)]\tLoss: 0.954193\n",
      "\n",
      "Test set: Average loss: 0.9308, Accuracy: 93.56%\n",
      "Train Epoch: 13 [0/371028 (0%)]\tLoss: 0.933887\n",
      "Train Epoch: 13 [100000/371028 (26%)]\tLoss: 0.941879\n",
      "Train Epoch: 13 [200000/371028 (53%)]\tLoss: 0.938262\n",
      "Train Epoch: 13 [300000/371028 (79%)]\tLoss: 0.957756\n",
      "\n",
      "Test set: Average loss: 0.9311, Accuracy: 93.56%\n",
      "Train Epoch: 14 [0/371028 (0%)]\tLoss: 0.943904\n",
      "Train Epoch: 14 [100000/371028 (26%)]\tLoss: 0.946961\n",
      "Train Epoch: 14 [200000/371028 (53%)]\tLoss: 0.939865\n",
      "Train Epoch: 14 [300000/371028 (79%)]\tLoss: 0.943295\n",
      "\n",
      "Test set: Average loss: 0.9292, Accuracy: 93.56%\n"
     ]
    },
    {
     "data": {
      "text/plain": "<Figure size 640x480 with 1 Axes>",
      "image/png": "[encoded data removed]"
     },
     "metadata": {},
     "output_type": "display_data"
    }
   ],
   "source": [
    "device = 'cuda'\n",
    "model_c = Net_c(x_train_c.shape[1], 1, device)\n",
    "\n",
    "batch_size_c = 20000\n",
    "train_loader_c = DataLoader(TensorDataset(x_train_c, y_train_c),\n",
    "                          batch_size=batch_size_c, shuffle=True)\n",
    "test_loader_c = DataLoader(TensorDataset(x_test_c, y_test_c),\n",
    "                         batch_size=batch_size_c, shuffle=True)\n",
    "\n",
    "optimizer = optim.SGD(model_c.parameters(), lr=lr, momentum=momentum)\n",
    "\n",
    "epochs = 15\n",
    "\n",
    "train_scores = []\n",
    "test_scores = []\n",
    "for n in range(epochs):\n",
    "    train_scores.append(train_c(model_c, device, train_loader_c, optimizer, n))\n",
    "    test_scores.append(test_c(model_c, device, test_loader_c))\n",
    "\n",
    "plt.title(\"Classification cross-entr. scores\")\n",
    "plt.plot(np.arange(stop=epochs), train_scores, label='train scores')\n",
    "plt.plot(np.arange(stop=epochs), test_scores, label='test scores')\n",
    "plt.xlabel('epoch')\n",
    "plt.ylabel('score')\n",
    "plt.legend()\n",
    "plt.show()"
   ]
  },
  {
   "cell_type": "code",
   "execution_count": 66,
   "outputs": [],
   "source": [
    "def train_r( model, device, train_loader, optimizer, epoch):\n",
    "    loss_f = torch.nn.MSELoss()\n",
    "    model.train()\n",
    "    for batch_idx, (data, target) in enumerate(train_loader):\n",
    "        data, target = data.to(device), target.to(device)\n",
    "        optimizer.zero_grad()\n",
    "        output = model(data)\n",
    "        loss = loss_f(output, target)\n",
    "        loss.backward()\n",
    "        optimizer.step()\n",
    "        if batch_idx % log_interval == 0:\n",
    "            print('Train Epoch: {} [{}/{} ({:.0f}%)]\\tLoss: {:.6f}'.format(\n",
    "                epoch, batch_idx * len(data), len(train_loader.dataset),\n",
    "                       100. * batch_idx / len(train_loader), torch.sqrt(loss)))\n",
    "    return torch.sqrt(loss)"
   ],
   "metadata": {
    "collapsed": false,
    "pycharm": {
     "name": "#%%\n"
    }
   }
  },
  {
   "cell_type": "code",
   "execution_count": 67,
   "outputs": [],
   "source": [
    "def test_r( model, device, test_loader):\n",
    "    loss_f = torch.nn.MSELoss()\n",
    "    model.eval()\n",
    "    test_loss = 0\n",
    "    correct = 0\n",
    "    with torch.no_grad():\n",
    "        for data, target in test_loader:\n",
    "            # Do the same that was done in the previous function.\n",
    "            # But without backprobagating the loss and without running the optimizers\n",
    "            # As this function is only for test.\n",
    "            # write 3 lines to transform the data to the device, get the output and compute the loss\n",
    "            data, target = data.to(device), target.to(device)\n",
    "            output = model.forward(data)\n",
    "            test_loss += loss_f(output, target)\n",
    "\n",
    "    test_loss /= len(test_loader)\n",
    "    print('\\nTest set: Average loss: {:.4f})\\n'.format(\n",
    "        torch.sqrt(test_loss)))\n",
    "    return torch.sqrt(test_loss)"
   ],
   "metadata": {
    "collapsed": false,
    "pycharm": {
     "name": "#%%\n"
    }
   }
  },
  {
   "cell_type": "code",
   "execution_count": 68,
   "outputs": [
    {
     "name": "stdout",
     "output_type": "stream",
     "text": [
      "Train Epoch: 0 [0/373472 (0%)]\tLoss: 9654.496609\n",
      "Train Epoch: 0 [50000/373472 (13%)]\tLoss: 9713.884500\n",
      "Train Epoch: 0 [100000/373472 (26%)]\tLoss: 9861.321199\n",
      "Train Epoch: 0 [150000/373472 (39%)]\tLoss: 9682.154487\n",
      "Train Epoch: 0 [200000/373472 (53%)]\tLoss: 9711.806646\n",
      "Train Epoch: 0 [250000/373472 (66%)]\tLoss: 9699.203766\n",
      "Train Epoch: 0 [300000/373472 (79%)]\tLoss: 9766.697961\n",
      "Train Epoch: 0 [350000/373472 (92%)]\tLoss: 9692.154674\n",
      "\n",
      "Test set: Average loss: 9326.3393)\n",
      "\n",
      "Train Epoch: 1 [0/373472 (0%)]\tLoss: 9688.562923\n",
      "Train Epoch: 1 [50000/373472 (13%)]\tLoss: 9664.027596\n",
      "Train Epoch: 1 [100000/373472 (26%)]\tLoss: 9751.650664\n",
      "Train Epoch: 1 [150000/373472 (39%)]\tLoss: 9729.587240\n",
      "Train Epoch: 1 [200000/373472 (53%)]\tLoss: 9607.882248\n",
      "Train Epoch: 1 [250000/373472 (66%)]\tLoss: 9594.792505\n",
      "Train Epoch: 1 [300000/373472 (79%)]\tLoss: 9720.391882\n",
      "Train Epoch: 1 [350000/373472 (92%)]\tLoss: 9656.864367\n",
      "\n",
      "Test set: Average loss: 9324.3512)\n",
      "\n",
      "Train Epoch: 2 [0/373472 (0%)]\tLoss: 9681.400879\n",
      "Train Epoch: 2 [50000/373472 (13%)]\tLoss: 9803.373552\n",
      "Train Epoch: 2 [100000/373472 (26%)]\tLoss: 9815.872649\n",
      "Train Epoch: 2 [150000/373472 (39%)]\tLoss: 9804.882171\n",
      "Train Epoch: 2 [200000/373472 (53%)]\tLoss: 9667.347138\n",
      "Train Epoch: 2 [250000/373472 (66%)]\tLoss: 9815.902793\n",
      "Train Epoch: 2 [300000/373472 (79%)]\tLoss: 9768.149723\n",
      "Train Epoch: 2 [350000/373472 (92%)]\tLoss: 9604.364564\n",
      "\n",
      "Test set: Average loss: 9305.3993)\n",
      "\n",
      "Train Epoch: 3 [0/373472 (0%)]\tLoss: 9808.797658\n",
      "Train Epoch: 3 [50000/373472 (13%)]\tLoss: 9689.951379\n",
      "Train Epoch: 3 [100000/373472 (26%)]\tLoss: 9670.264788\n",
      "Train Epoch: 3 [150000/373472 (39%)]\tLoss: 9614.412182\n",
      "Train Epoch: 3 [200000/373472 (53%)]\tLoss: 9599.222124\n",
      "Train Epoch: 3 [250000/373472 (66%)]\tLoss: 8524.195854\n",
      "Train Epoch: 3 [300000/373472 (79%)]\tLoss: 6234.461252\n",
      "Train Epoch: 3 [350000/373472 (92%)]\tLoss: 6337.551436\n",
      "\n",
      "Test set: Average loss: 6101.6020)\n",
      "\n",
      "Train Epoch: 4 [0/373472 (0%)]\tLoss: 6240.881992\n",
      "Train Epoch: 4 [50000/373472 (13%)]\tLoss: 6102.608092\n",
      "Train Epoch: 4 [100000/373472 (26%)]\tLoss: 6130.405678\n",
      "Train Epoch: 4 [150000/373472 (39%)]\tLoss: 6079.396147\n",
      "Train Epoch: 4 [200000/373472 (53%)]\tLoss: 6134.813371\n",
      "Train Epoch: 4 [250000/373472 (66%)]\tLoss: 6021.264621\n",
      "Train Epoch: 4 [300000/373472 (79%)]\tLoss: 6120.556958\n",
      "Train Epoch: 4 [350000/373472 (92%)]\tLoss: 6005.579997\n",
      "\n",
      "Test set: Average loss: 6003.0281)\n",
      "\n",
      "Train Epoch: 5 [0/373472 (0%)]\tLoss: 6130.047637\n",
      "Train Epoch: 5 [50000/373472 (13%)]\tLoss: 6206.901530\n",
      "Train Epoch: 5 [100000/373472 (26%)]\tLoss: 6060.671833\n",
      "Train Epoch: 5 [150000/373472 (39%)]\tLoss: 5995.933088\n",
      "Train Epoch: 5 [200000/373472 (53%)]\tLoss: 6040.531213\n",
      "Train Epoch: 5 [250000/373472 (66%)]\tLoss: 6060.748644\n",
      "Train Epoch: 5 [300000/373472 (79%)]\tLoss: 6004.046061\n",
      "Train Epoch: 5 [350000/373472 (92%)]\tLoss: 6060.930644\n",
      "\n",
      "Test set: Average loss: 5992.7637)\n",
      "\n",
      "Train Epoch: 6 [0/373472 (0%)]\tLoss: 6109.100816\n",
      "Train Epoch: 6 [50000/373472 (13%)]\tLoss: 6081.328184\n",
      "Train Epoch: 6 [100000/373472 (26%)]\tLoss: 5990.921431\n",
      "Train Epoch: 6 [150000/373472 (39%)]\tLoss: 6094.891544\n",
      "Train Epoch: 6 [200000/373472 (53%)]\tLoss: 6011.028510\n",
      "Train Epoch: 6 [250000/373472 (66%)]\tLoss: 6063.754898\n",
      "Train Epoch: 6 [300000/373472 (79%)]\tLoss: 6012.371533\n",
      "Train Epoch: 6 [350000/373472 (92%)]\tLoss: 6025.452086\n",
      "\n",
      "Test set: Average loss: 5990.1959)\n",
      "\n",
      "Train Epoch: 7 [0/373472 (0%)]\tLoss: 6027.095233\n",
      "Train Epoch: 7 [50000/373472 (13%)]\tLoss: 5990.621917\n",
      "Train Epoch: 7 [100000/373472 (26%)]\tLoss: 6027.366618\n",
      "Train Epoch: 7 [150000/373472 (39%)]\tLoss: 6060.661352\n",
      "Train Epoch: 7 [200000/373472 (53%)]\tLoss: 6137.644103\n",
      "Train Epoch: 7 [250000/373472 (66%)]\tLoss: 5994.912963\n",
      "Train Epoch: 7 [300000/373472 (79%)]\tLoss: 6100.266654\n",
      "Train Epoch: 7 [350000/373472 (92%)]\tLoss: 6195.469378\n",
      "\n",
      "Test set: Average loss: 5990.3907)\n",
      "\n",
      "Train Epoch: 8 [0/373472 (0%)]\tLoss: 6165.789253\n",
      "Train Epoch: 8 [50000/373472 (13%)]\tLoss: 6062.193799\n",
      "Train Epoch: 8 [100000/373472 (26%)]\tLoss: 5937.267619\n",
      "Train Epoch: 8 [150000/373472 (39%)]\tLoss: 6134.665908\n",
      "Train Epoch: 8 [200000/373472 (53%)]\tLoss: 6119.199604\n",
      "Train Epoch: 8 [250000/373472 (66%)]\tLoss: 6081.032501\n",
      "Train Epoch: 8 [300000/373472 (79%)]\tLoss: 6170.478225\n",
      "Train Epoch: 8 [350000/373472 (92%)]\tLoss: 6002.696344\n",
      "\n",
      "Test set: Average loss: 5992.0272)\n",
      "\n",
      "Train Epoch: 9 [0/373472 (0%)]\tLoss: 6070.252223\n",
      "Train Epoch: 9 [50000/373472 (13%)]\tLoss: 6136.431717\n",
      "Train Epoch: 9 [100000/373472 (26%)]\tLoss: 5959.709518\n",
      "Train Epoch: 9 [150000/373472 (39%)]\tLoss: 5991.052421\n",
      "Train Epoch: 9 [200000/373472 (53%)]\tLoss: 6001.519629\n",
      "Train Epoch: 9 [250000/373472 (66%)]\tLoss: 6176.901133\n",
      "Train Epoch: 9 [300000/373472 (79%)]\tLoss: 6055.964151\n",
      "Train Epoch: 9 [350000/373472 (92%)]\tLoss: 6154.806555\n",
      "\n",
      "Test set: Average loss: 5993.2147)\n",
      "\n"
     ]
    },
    {
     "data": {
      "text/plain": "<Figure size 640x480 with 1 Axes>",
      "image/png": "[encoded data removed]"
     },
     "metadata": {},
     "output_type": "display_data"
    }
   ],
   "source": [
    "device = 'cuda'\n",
    "model_r = Net_r(x_train_r.shape[1], 1, device)\n",
    "\n",
    "batch_size_r = 10000\n",
    "train_loader_r = DataLoader(TensorDataset(x_train_r, y_train_r),\n",
    "                            batch_size=batch_size_r, shuffle=True)\n",
    "test_loader_r = DataLoader(TensorDataset(x_test_r[:228000], y_test_r[:228000]),\n",
    "                           batch_size=y_test_r.shape[0]//36, shuffle=True)\n",
    "\n",
    "optimizer = optim.SGD(model_r.parameters(), lr=0.0000001, momentum=momentum)\n",
    "\n",
    "epochs = 10\n",
    "\n",
    "train_scores = []\n",
    "test_scores = []\n",
    "for n in range(epochs):\n",
    "    train_scores.append(train_r(model_r, device, train_loader_r, optimizer, n).cpu().detach())\n",
    "    test_scores.append(test_r(model_r, device, test_loader_r).cpu().detach())\n",
    "\n",
    "plt.title(\"Classification RMSE scores\")\n",
    "plt.plot(np.arange(stop=epochs), train_scores, label='train scores')\n",
    "plt.plot(np.arange(stop=epochs), test_scores, label='test scores')\n",
    "plt.xlabel('epoch')\n",
    "plt.ylabel('score')\n",
    "plt.legend()\n",
    "plt.show()"
   ],
   "metadata": {
    "collapsed": false,
    "pycharm": {
     "name": "#%%\n"
    }
   }
  },
  {
   "cell_type": "markdown",
   "source": [],
   "metadata": {
    "collapsed": false,
    "pycharm": {
     "name": "#%% md\n"
    }
   }
  }
 ],
 "metadata": {
  "kernelspec": {
   "display_name": "Python 3 (ipykernel)",
   "language": "python",
   "name": "python3"
  },
  "language_info": {
   "codemirror_mode": {
    "name": "ipython",
    "version": 3
   },
   "file_extension": ".py",
   "mimetype": "text/x-python",
   "name": "python",
   "nbconvert_exporter": "python",
   "pygments_lexer": "ipython3",
   "version": "3.9.12"
  }
 },
 "nbformat": 4,
 "nbformat_minor": 1
}