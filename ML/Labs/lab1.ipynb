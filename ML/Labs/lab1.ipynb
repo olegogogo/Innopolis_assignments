{
 "cells": [
  {
   "cell_type": "markdown",
   "metadata": {
    "collapsed": true,
    "pycharm": {
     "name": "#%% md\n"
    }
   },
   "source": [
    "## Week 1 : Data Manipulation and Exploration\n",
    "```\n",
    "- Machine Learning, Innopolis University (Fall semester 2022)\n",
    "- Professor: Adil Khan\n",
    "- Teaching Assistant: Gcinizwe Dlamini\n",
    "```\n",
    "<hr>\n",
    "\n",
    "\n",
    "### Content\n",
    "```\n",
    "Lab Plan\n",
    "1. Data exploration\n",
    "2. Dealing with categorical features\n",
    "3. Dealing with missing data\n",
    "4. Features Scaling\n",
    "5. Trainset splitting\n",
    "6. Data Visualization\n",
    "\n",
    "```\n",
    "\n",
    "<hr>\n",
    "\n",
    "\n",
    "![](https://www.gosmar.eu/machinelearning/wp-content/uploads/2021/01/MLOps_pipeline_scaling3.png)"
   ]
  },
  {
   "cell_type": "markdown",
   "metadata": {
    "pycharm": {
     "name": "#%% md\n"
    }
   },
   "source": [
    "## Test for libraries installation "
   ]
  },
  {
   "cell_type": "code",
   "execution_count": 1,
   "metadata": {
    "pycharm": {
     "name": "#%%\n"
    }
   },
   "outputs": [],
   "source": [
    "import pandas as pd\n",
    "import numpy as np\n",
    "import sklearn\n",
    "\n",
    "import matplotlib.pyplot as plt\n",
    "%matplotlib inline"
   ]
  },
  {
   "cell_type": "markdown",
   "metadata": {
    "pycharm": {
     "name": "#%% md\n"
    }
   },
   "source": [
    "## 1. Read Data with Pandas"
   ]
  },
  {
   "cell_type": "code",
   "execution_count": 2,
   "metadata": {
    "pycharm": {
     "name": "#%%\n"
    }
   },
   "outputs": [],
   "source": [
    "football_df = pd.read_csv('./football_data.csv', low_memory=False)\n",
    "\n",
    "football_df.drop(['Date', 'time'], axis=1, inplace=True)"
   ]
  },
  {
   "cell_type": "markdown",
   "metadata": {
    "pycharm": {
     "name": "#%% md\n"
    }
   },
   "source": [
    "## 2. Data exploration"
   ]
  },
  {
   "cell_type": "code",
   "execution_count": 3,
   "metadata": {
    "pycharm": {
     "name": "#%%\n"
    }
   },
   "outputs": [
    {
     "data": {
      "text/html": [
       "<div>\n",
       "<style scoped>\n",
       "    .dataframe tbody tr th:only-of-type {\n",
       "        vertical-align: middle;\n",
       "    }\n",
       "\n",
       "    .dataframe tbody tr th {\n",
       "        vertical-align: top;\n",
       "    }\n",
       "\n",
       "    .dataframe thead th {\n",
       "        text-align: right;\n",
       "    }\n",
       "</style>\n",
       "<table border=\"1\" class=\"dataframe\">\n",
       "  <thead>\n",
       "    <tr style=\"text-align: right;\">\n",
       "      <th></th>\n",
       "      <th>GameID</th>\n",
       "      <th>Drive</th>\n",
       "      <th>qtr</th>\n",
       "      <th>down</th>\n",
       "      <th>TimeUnder</th>\n",
       "      <th>TimeSecs</th>\n",
       "      <th>PlayTimeDiff</th>\n",
       "      <th>SideofField</th>\n",
       "      <th>yrdln</th>\n",
       "      <th>yrdline100</th>\n",
       "      <th>...</th>\n",
       "      <th>yacEPA</th>\n",
       "      <th>Home_WP_pre</th>\n",
       "      <th>Away_WP_pre</th>\n",
       "      <th>Home_WP_post</th>\n",
       "      <th>Away_WP_post</th>\n",
       "      <th>Win_Prob</th>\n",
       "      <th>WPA</th>\n",
       "      <th>airWPA</th>\n",
       "      <th>yacWPA</th>\n",
       "      <th>Season</th>\n",
       "    </tr>\n",
       "  </thead>\n",
       "  <tbody>\n",
       "    <tr>\n",
       "      <th>0</th>\n",
       "      <td>2016121101</td>\n",
       "      <td>13</td>\n",
       "      <td>2</td>\n",
       "      <td>NaN</td>\n",
       "      <td>2</td>\n",
       "      <td>1920.0</td>\n",
       "      <td>5.0</td>\n",
       "      <td>SD</td>\n",
       "      <td>44.0</td>\n",
       "      <td>44.0</td>\n",
       "      <td>...</td>\n",
       "      <td>NaN</td>\n",
       "      <td>NaN</td>\n",
       "      <td>NaN</td>\n",
       "      <td>NaN</td>\n",
       "      <td>NaN</td>\n",
       "      <td>0.000000</td>\n",
       "      <td>NaN</td>\n",
       "      <td>NaN</td>\n",
       "      <td>NaN</td>\n",
       "      <td>2016</td>\n",
       "    </tr>\n",
       "    <tr>\n",
       "      <th>1</th>\n",
       "      <td>2016121101</td>\n",
       "      <td>13</td>\n",
       "      <td>2</td>\n",
       "      <td>1.0</td>\n",
       "      <td>2</td>\n",
       "      <td>1920.0</td>\n",
       "      <td>0.0</td>\n",
       "      <td>SD</td>\n",
       "      <td>47.0</td>\n",
       "      <td>53.0</td>\n",
       "      <td>...</td>\n",
       "      <td>0.330475</td>\n",
       "      <td>0.968025</td>\n",
       "      <td>0.031975</td>\n",
       "      <td>0.940170</td>\n",
       "      <td>0.059830</td>\n",
       "      <td>0.031975</td>\n",
       "      <td>0.027855</td>\n",
       "      <td>0.024299</td>\n",
       "      <td>0.003556</td>\n",
       "      <td>2016</td>\n",
       "    </tr>\n",
       "    <tr>\n",
       "      <th>2</th>\n",
       "      <td>2016121101</td>\n",
       "      <td>13</td>\n",
       "      <td>2</td>\n",
       "      <td>1.0</td>\n",
       "      <td>2</td>\n",
       "      <td>1910.0</td>\n",
       "      <td>10.0</td>\n",
       "      <td>CAR</td>\n",
       "      <td>7.0</td>\n",
       "      <td>7.0</td>\n",
       "      <td>...</td>\n",
       "      <td>NaN</td>\n",
       "      <td>0.940170</td>\n",
       "      <td>0.059830</td>\n",
       "      <td>0.947575</td>\n",
       "      <td>0.052425</td>\n",
       "      <td>0.059830</td>\n",
       "      <td>-0.007405</td>\n",
       "      <td>NaN</td>\n",
       "      <td>NaN</td>\n",
       "      <td>2016</td>\n",
       "    </tr>\n",
       "    <tr>\n",
       "      <th>3</th>\n",
       "      <td>2016121101</td>\n",
       "      <td>13</td>\n",
       "      <td>2</td>\n",
       "      <td>2.0</td>\n",
       "      <td>2</td>\n",
       "      <td>1877.0</td>\n",
       "      <td>33.0</td>\n",
       "      <td>CAR</td>\n",
       "      <td>9.0</td>\n",
       "      <td>9.0</td>\n",
       "      <td>...</td>\n",
       "      <td>-3.766159</td>\n",
       "      <td>0.947575</td>\n",
       "      <td>0.052425</td>\n",
       "      <td>0.953601</td>\n",
       "      <td>0.046399</td>\n",
       "      <td>0.052425</td>\n",
       "      <td>-0.006025</td>\n",
       "      <td>0.036136</td>\n",
       "      <td>-0.042161</td>\n",
       "      <td>2016</td>\n",
       "    </tr>\n",
       "    <tr>\n",
       "      <th>4</th>\n",
       "      <td>2016121101</td>\n",
       "      <td>13</td>\n",
       "      <td>2</td>\n",
       "      <td>3.0</td>\n",
       "      <td>2</td>\n",
       "      <td>1868.0</td>\n",
       "      <td>9.0</td>\n",
       "      <td>CAR</td>\n",
       "      <td>9.0</td>\n",
       "      <td>9.0</td>\n",
       "      <td>...</td>\n",
       "      <td>0.000000</td>\n",
       "      <td>0.953601</td>\n",
       "      <td>0.046399</td>\n",
       "      <td>0.912354</td>\n",
       "      <td>0.087646</td>\n",
       "      <td>0.046399</td>\n",
       "      <td>0.041247</td>\n",
       "      <td>0.041247</td>\n",
       "      <td>0.000000</td>\n",
       "      <td>2016</td>\n",
       "    </tr>\n",
       "  </tbody>\n",
       "</table>\n",
       "<p>5 rows × 100 columns</p>\n",
       "</div>"
      ],
      "text/plain": [
       "       GameID  Drive  qtr  down  TimeUnder  TimeSecs  PlayTimeDiff  \\\n",
       "0  2016121101     13    2   NaN          2    1920.0           5.0   \n",
       "1  2016121101     13    2   1.0          2    1920.0           0.0   \n",
       "2  2016121101     13    2   1.0          2    1910.0          10.0   \n",
       "3  2016121101     13    2   2.0          2    1877.0          33.0   \n",
       "4  2016121101     13    2   3.0          2    1868.0           9.0   \n",
       "\n",
       "  SideofField  yrdln  yrdline100  ...    yacEPA  Home_WP_pre  Away_WP_pre  \\\n",
       "0          SD   44.0        44.0  ...       NaN          NaN          NaN   \n",
       "1          SD   47.0        53.0  ...  0.330475     0.968025     0.031975   \n",
       "2         CAR    7.0         7.0  ...       NaN     0.940170     0.059830   \n",
       "3         CAR    9.0         9.0  ... -3.766159     0.947575     0.052425   \n",
       "4         CAR    9.0         9.0  ...  0.000000     0.953601     0.046399   \n",
       "\n",
       "   Home_WP_post Away_WP_post  Win_Prob       WPA    airWPA    yacWPA  Season  \n",
       "0           NaN          NaN  0.000000       NaN       NaN       NaN    2016  \n",
       "1      0.940170     0.059830  0.031975  0.027855  0.024299  0.003556    2016  \n",
       "2      0.947575     0.052425  0.059830 -0.007405       NaN       NaN    2016  \n",
       "3      0.953601     0.046399  0.052425 -0.006025  0.036136 -0.042161    2016  \n",
       "4      0.912354     0.087646  0.046399  0.041247  0.041247  0.000000    2016  \n",
       "\n",
       "[5 rows x 100 columns]"
      ]
     },
     "execution_count": 3,
     "metadata": {},
     "output_type": "execute_result"
    }
   ],
   "source": [
    "football_df.head(5)"
   ]
  },
  {
   "cell_type": "code",
   "execution_count": 4,
   "metadata": {
    "pycharm": {
     "name": "#%%\n"
    }
   },
   "outputs": [
    {
     "name": "stdout",
     "output_type": "stream",
     "text": [
      "Number categorical featues: 36\n",
      "GameID         int64\n",
      "Drive          int64\n",
      "qtr            int64\n",
      "down         float64\n",
      "TimeUnder      int64\n",
      "              ...   \n",
      "Win_Prob     float64\n",
      "WPA          float64\n",
      "airWPA       float64\n",
      "yacWPA       float64\n",
      "Season         int64\n",
      "Length: 100, dtype: object\n"
     ]
    }
   ],
   "source": [
    "types = football_df.dtypes\n",
    "print(\"Number categorical featues:\", sum(types=='object'))\n",
    "print(types)"
   ]
  },
  {
   "cell_type": "code",
   "execution_count": 5,
   "metadata": {
    "pycharm": {
     "name": "#%%\n"
    }
   },
   "outputs": [
    {
     "data": {
      "text/html": [
       "<div>\n",
       "<style scoped>\n",
       "    .dataframe tbody tr th:only-of-type {\n",
       "        vertical-align: middle;\n",
       "    }\n",
       "\n",
       "    .dataframe tbody tr th {\n",
       "        vertical-align: top;\n",
       "    }\n",
       "\n",
       "    .dataframe thead th {\n",
       "        text-align: right;\n",
       "    }\n",
       "</style>\n",
       "<table border=\"1\" class=\"dataframe\">\n",
       "  <thead>\n",
       "    <tr style=\"text-align: right;\">\n",
       "      <th></th>\n",
       "      <th>GameID</th>\n",
       "      <th>Drive</th>\n",
       "      <th>qtr</th>\n",
       "      <th>down</th>\n",
       "      <th>TimeUnder</th>\n",
       "      <th>TimeSecs</th>\n",
       "      <th>PlayTimeDiff</th>\n",
       "      <th>yrdln</th>\n",
       "      <th>yrdline100</th>\n",
       "      <th>ydstogo</th>\n",
       "      <th>...</th>\n",
       "      <th>yacEPA</th>\n",
       "      <th>Home_WP_pre</th>\n",
       "      <th>Away_WP_pre</th>\n",
       "      <th>Home_WP_post</th>\n",
       "      <th>Away_WP_post</th>\n",
       "      <th>Win_Prob</th>\n",
       "      <th>WPA</th>\n",
       "      <th>airWPA</th>\n",
       "      <th>yacWPA</th>\n",
       "      <th>Season</th>\n",
       "    </tr>\n",
       "  </thead>\n",
       "  <tbody>\n",
       "    <tr>\n",
       "      <th>count</th>\n",
       "      <td>1.000000e+04</td>\n",
       "      <td>10000.000000</td>\n",
       "      <td>10000.000000</td>\n",
       "      <td>8448.000000</td>\n",
       "      <td>10000.000000</td>\n",
       "      <td>9992.000000</td>\n",
       "      <td>9984.000000</td>\n",
       "      <td>9980.000000</td>\n",
       "      <td>9980.000000</td>\n",
       "      <td>10000.000000</td>\n",
       "      <td>...</td>\n",
       "      <td>3929.000000</td>\n",
       "      <td>9357.000000</td>\n",
       "      <td>9357.000000</td>\n",
       "      <td>9309.000000</td>\n",
       "      <td>9309.000000</td>\n",
       "      <td>10000.000000</td>\n",
       "      <td>9.845000e+03</td>\n",
       "      <td>3930.000000</td>\n",
       "      <td>3923.000000</td>\n",
       "      <td>10000.0</td>\n",
       "    </tr>\n",
       "    <tr>\n",
       "      <th>mean</th>\n",
       "      <td>2.016372e+09</td>\n",
       "      <td>12.444900</td>\n",
       "      <td>2.584500</td>\n",
       "      <td>1.991951</td>\n",
       "      <td>7.322400</td>\n",
       "      <td>1686.264011</td>\n",
       "      <td>20.739283</td>\n",
       "      <td>28.566433</td>\n",
       "      <td>47.859218</td>\n",
       "      <td>7.158400</td>\n",
       "      <td>...</td>\n",
       "      <td>-0.400785</td>\n",
       "      <td>0.547408</td>\n",
       "      <td>0.453126</td>\n",
       "      <td>0.547667</td>\n",
       "      <td>0.452708</td>\n",
       "      <td>0.470946</td>\n",
       "      <td>1.673133e-03</td>\n",
       "      <td>0.014596</td>\n",
       "      <td>-0.009764</td>\n",
       "      <td>2016.0</td>\n",
       "    </tr>\n",
       "    <tr>\n",
       "      <th>std</th>\n",
       "      <td>3.996451e+05</td>\n",
       "      <td>7.075561</td>\n",
       "      <td>1.131542</td>\n",
       "      <td>1.006399</td>\n",
       "      <td>4.685216</td>\n",
       "      <td>1064.437980</td>\n",
       "      <td>20.795996</td>\n",
       "      <td>12.533362</td>\n",
       "      <td>24.737534</td>\n",
       "      <td>4.844632</td>\n",
       "      <td>...</td>\n",
       "      <td>2.008014</td>\n",
       "      <td>0.300660</td>\n",
       "      <td>0.300744</td>\n",
       "      <td>0.302591</td>\n",
       "      <td>0.302650</td>\n",
       "      <td>0.319106</td>\n",
       "      <td>4.684680e-02</td>\n",
       "      <td>0.056720</td>\n",
       "      <td>0.065689</td>\n",
       "      <td>0.0</td>\n",
       "    </tr>\n",
       "    <tr>\n",
       "      <th>min</th>\n",
       "      <td>2.016121e+09</td>\n",
       "      <td>1.000000</td>\n",
       "      <td>1.000000</td>\n",
       "      <td>1.000000</td>\n",
       "      <td>0.000000</td>\n",
       "      <td>-849.000000</td>\n",
       "      <td>0.000000</td>\n",
       "      <td>1.000000</td>\n",
       "      <td>1.000000</td>\n",
       "      <td>0.000000</td>\n",
       "      <td>...</td>\n",
       "      <td>-12.156367</td>\n",
       "      <td>0.000000</td>\n",
       "      <td>0.000000</td>\n",
       "      <td>0.000000</td>\n",
       "      <td>0.000000</td>\n",
       "      <td>0.000000</td>\n",
       "      <td>-9.719480e-01</td>\n",
       "      <td>-0.943119</td>\n",
       "      <td>-0.939447</td>\n",
       "      <td>2016.0</td>\n",
       "    </tr>\n",
       "    <tr>\n",
       "      <th>25%</th>\n",
       "      <td>2.016122e+09</td>\n",
       "      <td>6.000000</td>\n",
       "      <td>2.000000</td>\n",
       "      <td>1.000000</td>\n",
       "      <td>3.000000</td>\n",
       "      <td>772.000000</td>\n",
       "      <td>5.000000</td>\n",
       "      <td>19.000000</td>\n",
       "      <td>29.000000</td>\n",
       "      <td>3.000000</td>\n",
       "      <td>...</td>\n",
       "      <td>-0.950799</td>\n",
       "      <td>0.298087</td>\n",
       "      <td>0.183309</td>\n",
       "      <td>0.295898</td>\n",
       "      <td>0.179571</td>\n",
       "      <td>0.172491</td>\n",
       "      <td>-1.375776e-02</td>\n",
       "      <td>-0.009758</td>\n",
       "      <td>-0.017638</td>\n",
       "      <td>2016.0</td>\n",
       "    </tr>\n",
       "    <tr>\n",
       "      <th>50%</th>\n",
       "      <td>2.016122e+09</td>\n",
       "      <td>12.000000</td>\n",
       "      <td>3.000000</td>\n",
       "      <td>2.000000</td>\n",
       "      <td>7.000000</td>\n",
       "      <td>1800.000000</td>\n",
       "      <td>18.000000</td>\n",
       "      <td>30.000000</td>\n",
       "      <td>48.000000</td>\n",
       "      <td>9.000000</td>\n",
       "      <td>...</td>\n",
       "      <td>0.000000</td>\n",
       "      <td>0.565156</td>\n",
       "      <td>0.435096</td>\n",
       "      <td>0.568334</td>\n",
       "      <td>0.431754</td>\n",
       "      <td>0.486653</td>\n",
       "      <td>-7.985673e-07</td>\n",
       "      <td>0.004151</td>\n",
       "      <td>0.000000</td>\n",
       "      <td>2016.0</td>\n",
       "    </tr>\n",
       "    <tr>\n",
       "      <th>75%</th>\n",
       "      <td>2.017010e+09</td>\n",
       "      <td>18.000000</td>\n",
       "      <td>4.000000</td>\n",
       "      <td>3.000000</td>\n",
       "      <td>11.000000</td>\n",
       "      <td>2575.000000</td>\n",
       "      <td>37.000000</td>\n",
       "      <td>38.000000</td>\n",
       "      <td>69.000000</td>\n",
       "      <td>10.000000</td>\n",
       "      <td>...</td>\n",
       "      <td>0.469628</td>\n",
       "      <td>0.817714</td>\n",
       "      <td>0.702465</td>\n",
       "      <td>0.820549</td>\n",
       "      <td>0.705156</td>\n",
       "      <td>0.750169</td>\n",
       "      <td>1.278280e-02</td>\n",
       "      <td>0.033391</td>\n",
       "      <td>0.009991</td>\n",
       "      <td>2016.0</td>\n",
       "    </tr>\n",
       "    <tr>\n",
       "      <th>max</th>\n",
       "      <td>2.017010e+09</td>\n",
       "      <td>30.000000</td>\n",
       "      <td>5.000000</td>\n",
       "      <td>4.000000</td>\n",
       "      <td>15.000000</td>\n",
       "      <td>3600.000000</td>\n",
       "      <td>908.000000</td>\n",
       "      <td>50.000000</td>\n",
       "      <td>99.000000</td>\n",
       "      <td>36.000000</td>\n",
       "      <td>...</td>\n",
       "      <td>8.079540</td>\n",
       "      <td>1.000000</td>\n",
       "      <td>1.000000</td>\n",
       "      <td>1.000000</td>\n",
       "      <td>1.000000</td>\n",
       "      <td>1.000000</td>\n",
       "      <td>9.739204e-01</td>\n",
       "      <td>0.898214</td>\n",
       "      <td>0.932194</td>\n",
       "      <td>2016.0</td>\n",
       "    </tr>\n",
       "  </tbody>\n",
       "</table>\n",
       "<p>8 rows × 64 columns</p>\n",
       "</div>"
      ],
      "text/plain": [
       "             GameID         Drive           qtr         down     TimeUnder  \\\n",
       "count  1.000000e+04  10000.000000  10000.000000  8448.000000  10000.000000   \n",
       "mean   2.016372e+09     12.444900      2.584500     1.991951      7.322400   \n",
       "std    3.996451e+05      7.075561      1.131542     1.006399      4.685216   \n",
       "min    2.016121e+09      1.000000      1.000000     1.000000      0.000000   \n",
       "25%    2.016122e+09      6.000000      2.000000     1.000000      3.000000   \n",
       "50%    2.016122e+09     12.000000      3.000000     2.000000      7.000000   \n",
       "75%    2.017010e+09     18.000000      4.000000     3.000000     11.000000   \n",
       "max    2.017010e+09     30.000000      5.000000     4.000000     15.000000   \n",
       "\n",
       "          TimeSecs  PlayTimeDiff        yrdln   yrdline100       ydstogo  ...  \\\n",
       "count  9992.000000   9984.000000  9980.000000  9980.000000  10000.000000  ...   \n",
       "mean   1686.264011     20.739283    28.566433    47.859218      7.158400  ...   \n",
       "std    1064.437980     20.795996    12.533362    24.737534      4.844632  ...   \n",
       "min    -849.000000      0.000000     1.000000     1.000000      0.000000  ...   \n",
       "25%     772.000000      5.000000    19.000000    29.000000      3.000000  ...   \n",
       "50%    1800.000000     18.000000    30.000000    48.000000      9.000000  ...   \n",
       "75%    2575.000000     37.000000    38.000000    69.000000     10.000000  ...   \n",
       "max    3600.000000    908.000000    50.000000    99.000000     36.000000  ...   \n",
       "\n",
       "            yacEPA  Home_WP_pre  Away_WP_pre  Home_WP_post  Away_WP_post  \\\n",
       "count  3929.000000  9357.000000  9357.000000   9309.000000   9309.000000   \n",
       "mean     -0.400785     0.547408     0.453126      0.547667      0.452708   \n",
       "std       2.008014     0.300660     0.300744      0.302591      0.302650   \n",
       "min     -12.156367     0.000000     0.000000      0.000000      0.000000   \n",
       "25%      -0.950799     0.298087     0.183309      0.295898      0.179571   \n",
       "50%       0.000000     0.565156     0.435096      0.568334      0.431754   \n",
       "75%       0.469628     0.817714     0.702465      0.820549      0.705156   \n",
       "max       8.079540     1.000000     1.000000      1.000000      1.000000   \n",
       "\n",
       "           Win_Prob           WPA       airWPA       yacWPA   Season  \n",
       "count  10000.000000  9.845000e+03  3930.000000  3923.000000  10000.0  \n",
       "mean       0.470946  1.673133e-03     0.014596    -0.009764   2016.0  \n",
       "std        0.319106  4.684680e-02     0.056720     0.065689      0.0  \n",
       "min        0.000000 -9.719480e-01    -0.943119    -0.939447   2016.0  \n",
       "25%        0.172491 -1.375776e-02    -0.009758    -0.017638   2016.0  \n",
       "50%        0.486653 -7.985673e-07     0.004151     0.000000   2016.0  \n",
       "75%        0.750169  1.278280e-02     0.033391     0.009991   2016.0  \n",
       "max        1.000000  9.739204e-01     0.898214     0.932194   2016.0  \n",
       "\n",
       "[8 rows x 64 columns]"
      ]
     },
     "execution_count": 5,
     "metadata": {},
     "output_type": "execute_result"
    }
   ],
   "source": [
    "football_df.describe()"
   ]
  },
  {
   "cell_type": "markdown",
   "metadata": {
    "pycharm": {
     "name": "#%% md\n"
    }
   },
   "source": [
    "## 3. Profiling the data"
   ]
  },
  {
   "cell_type": "code",
   "execution_count": 6,
   "metadata": {
    "pycharm": {
     "name": "#%%\n"
    }
   },
   "outputs": [],
   "source": [
    "from pandas_profiling import ProfileReport\n",
    "\n",
    "report = ProfileReport(football_df)\n",
    "# report.to_file('data_profile_report.html')"
   ]
  },
  {
   "cell_type": "markdown",
   "metadata": {
    "pycharm": {
     "name": "#%% md\n"
    }
   },
   "source": [
    "### One-hot-encoding of categorical feature\n",
    "1. Why to encode the categorical feature?\n",
    "<span style=\"color:blue\">Because most of the machine learning and basic deep learning algorithms can only accept numerical data and features.</span>\n",
    "2. Why one-hot-encoding form? why not give each category in the feature a specific code value?\n",
    "<span style=\"color:blue\"> Giving each category a number (e.g. giving categories: red, blue, black -> 1, 2, 3) will indicate to the learning algorithm that there's some ordering (e.g., black is larger than red) which is not true as the categories are nominal.\n",
    "3. How many new features will be added? What if we have some missing values, which is the case in this dataset?\n",
    "<span style=\"color:blue\"> Usually the number of new features is #categories - 1, as one indicator variable can be infered from the others (e.g., if not black and blue then it is red for sure, so black -> [1, 0], blue -> [0, 1], red -> [0, 0]). But if the trainset may have empty values for this feature, and there's a posibility that the testset also has empty cells for this feature, then it is better to have #categories new features to indicate missing value (i.e., black -> [1, 0, 0], blue -> [0, 1, 0], red -> [0, 0, 1], NA -> [0, 0, 0]).\n",
    "\n",
    "4. When is it appropriate to give each category an encoding value?\n",
    "<span style=\"color:blue\"> It will be appropriate if the categorical feature is ordinal (e.g, small, medium, large). Then it is reasonable approach to give them ordered values without transform it to one-hot-encoding form (i.e., small -> 1, medium -> 2, large -> 3)\n",
    "\n",
    "<span style=\"color:red\"> Task : In the next cell, implement the function that take a dataframe, name of the categorical feature, and the encoder object. Then, adds new features that represent the one-hot-encoding form of this feature and ignore the missing values in it (encode them to zeros)."
   ]
  },
  {
   "cell_type": "code",
   "execution_count": 7,
   "metadata": {
    "pycharm": {
     "name": "#%%\n"
    }
   },
   "outputs": [],
   "source": [
    "from category_encoders import OneHotEncoder\n",
    "\n",
    "cat_feats = football_df.select_dtypes(include=['object']).columns.tolist()\n",
    "encoder = OneHotEncoder(cols=cat_feats, handle_unknown='ignore')\n",
    "\n",
    "encoder.fit(football_df)\n",
    "\n",
    "# Write your code here (1 line)\n",
    "# Transform the data \n",
    "encoded_data = encoder.transform(football_df)"
   ]
  },
  {
   "cell_type": "markdown",
   "metadata": {
    "pycharm": {
     "name": "#%% md\n"
    }
   },
   "source": [
    "## 4. Data Imputation\n",
    "#### Imputation is filling the missing values in the dataset.\n",
    "Several issues to address:\n",
    "1. Why we should fill them? Why not remove the rows that has missing values?\n",
    "<span style=\"color:blue\"> Most of the machine learning algorithms can't deal with missing values cell (NA/NAN). Removing the rows/cols that have missing values could be an option when the missing values in some rows/cols is a few and the to-be-deleted rows/cols are few comparing to what's left (removing 50 rows out of 10k rows that have 50 empty values on average for 80 features). However, the usual case it not be deleted (why?), Some information will be lost due to the deletion which is the non-missing values, so it is better not to lose them.\n",
    "2. Filling it with constant value for each value, but what's it?\n",
    "<span style=\"color:blue\"> Estimating a constant value that best to represent the feature is trivially chosen to be the expected value of this feature, which is the mean. Other options is to use some other central tendency measures like the median, mode or mid-range but the best practice is to use mean or median for numerical continuous features and use mode for the discrete ones.\n",
    "3. (Advanced) Estimate the filling value, each row for its own.\n",
    "<span style=\"color:blue\"> There's another option of filling the missing values is to infer them from the rest of the data by regression/classification models (one for each feature).\n",
    "This method is out of the level of this course so you can read about it [here](https://scikit-learn.org/stable/modules/generated/sklearn.impute.IterativeImputer.html#sklearn.impute.IterativeImputer) and [here](https://www.kaggle.com/shashankasubrahmanya/missing-data-imputation-using-regression).\n",
    "4. How to choose the imputation strategy?\n",
    "<span style=\"color:blue\"> It can be treated as a hyperparamter and choose the best option using a validation set or cross-validation (to be explained).\n",
    "4. (Not related only to imputations) Why we fit the imputer to the training data not the concatenation of both train and test set?\n",
    "<span style=\"color:blue\"> This would cause data leakage to the model. This means the model got some information from the testset which shouldn't be considered at all before the testing step. So, the testset shouldn't affect the preprocessing in anyway (e.g., data imputation or scaling).\n",
    "Same goes for validation set.\n",
    "\n",
    "<span style=\"color:red\">Task :  In the next cell, implement a function that returns the count of nan/empty cells in a dataframe.</span><br>\n",
    "<span style=\"color:red\">Task : Use SimpleImputer object, fit it to the trainset, then transform both the train and test sets.</span>"
   ]
  },
  {
   "cell_type": "code",
   "execution_count": 8,
   "metadata": {
    "pycharm": {
     "name": "#%%\n"
    }
   },
   "outputs": [
    {
     "name": "stdout",
     "output_type": "stream",
     "text": [
      "#Empty missing data cells in the dataset =  42015\n",
      "After Imputing:\n",
      "#Empty cells in dataset = 0\n"
     ]
    }
   ],
   "source": [
    "from sklearn.impute import SimpleImputer\n",
    "import numpy as np\n",
    "\n",
    "#TODO: Complete a function that returns number of empty cells \n",
    "def count_nans(df):\n",
    "    # 1 or 2 lines.\n",
    "    return np.sum(np.sum(np.isnan(df))) #np.count_nonzero(~np.isnan(df))\n",
    "\n",
    "# Print number of empty cells (1 line)\n",
    "print(\"#Empty missing data cells in the dataset = \", count_nans(encoded_data))\n",
    "\n",
    "# Write your code here (4 lines):\n",
    "# create the imputer object.\n",
    "# fit the imputer.\n",
    "imputer = SimpleImputer(strategy='most_frequent')\n",
    "imputer.fit(encoded_data)\n",
    "imputed_data = imputer.transform(encoded_data)\n",
    "\n",
    "print(\"After Imputing:\")\n",
    "# Print number of empty cells in the data(1 line)\n",
    "print(\"#Empty cells in dataset =\", count_nans(imputed_data))"
   ]
  },
  {
   "cell_type": "markdown",
   "metadata": {
    "pycharm": {
     "name": "#%% md\n"
    }
   },
   "source": [
    "## 5. Features Scaling\n",
    "1. Why we need to make all the features have same range of values?\n",
    "<span style=\"color:blue\"> This has something to do with some machine learning algorithms.\n",
    "First, gradient-related algorithms (e.g., linear regression, logisitic regression, deep learning algorithms): feature scaling is important for the congergence of the algorithms as the gradient in one direction/feature could need more/long steps than the others and the scaling solves this issue and make the training stable and relatively faster.\n",
    "Second, distance related algorithms (e.g., KNN, K-means). These algorithms depends on the distance between samples both in training and testing. Having features with different ranges would affect the distance measure and produce biased prediciton to the features with larger range.\n",
    "for example: having two features (length in KM [10: 10000] and temperature in C° [20: 40]). The distance value will be much affected by the length feature.</span>\n",
    "\n",
    "1. What are the different strategies to scale the features? <br>\n",
    "    * <span style=\"color:blue\">Min-Max scaling: transform all features to fall in this range: [0, 1].</span><br>\n",
    "$$x_i = \\frac{x_i - min(\\mathbf{x})}{max(\\mathbf{x}) - min(\\mathbf{x})}$$\n",
    "    * <span style=\"color:blue\">Standard scaling: transform all features to have mean = 0 and standard deviation = 1. And by assuming that all features follow normal distribution, we can say that standard scaling turns featrues to be $\\sim N(0,1)$.</span> <br>\n",
    "$$x_i = \\frac{x_i - mean(\\mathbf{x})}{stdev(\\mathbf{x})}$$ <br>\n",
    "    * <span style=\"color:blue\">Robust scaling: robust to the outliers that may affect the previous methods in calculating their mean, stdev, min, or max. It uses the interquartile range to scale the features according to it.\n",
    "Interquartile is the range between the 1st quartile and 3rd quartile.</span> <br>\n",
    "$$x_i = \\frac{x_i - Q_1(\\mathbf{x})}{Q_3(\\mathbf{x}) - Q_1(\\mathbf{x})}$$ \n",
    "\n",
    "3. How to choose the strategy?\n",
    "<span style=\"color:blue\">Same as in imputation strategy, using a validation set or using cross-validation.\n",
    "\n",
    "<span style=\"color:red\">  In the following cell, scale all the features with a scaler from your choice. Fit the scaler on the full data set and transform both it.</span>"
   ]
  },
  {
   "cell_type": "code",
   "execution_count": 9,
   "metadata": {
    "pycharm": {
     "name": "#%%\n"
    }
   },
   "outputs": [],
   "source": [
    "# Write your code here (5 lines):\n",
    "# choose the scaler class.\n",
    "# create the scaler object.\n",
    "# fit it to the data.\n",
    "# transform the data\n",
    "\n",
    "from sklearn.preprocessing import RobustScaler\n",
    "\n",
    "scaler = RobustScaler()\n",
    "\n",
    "scaler.fit(imputed_data)\n",
    "scaled_data = scaler.transform(imputed_data)"
   ]
  },
  {
   "cell_type": "markdown",
   "metadata": {
    "pycharm": {
     "name": "#%% md\n"
    }
   },
   "source": [
    "## 6. Trainset splitting\n",
    "Issues that lead to trainset splitting:\n",
    "1. How we will measure the performance of our model?\n",
    "<span style=\"color:blue\"> Measuring performance on the trainset is not a good idea intuitively, as to estimate the generalization error, we need to evaluate the model on a data that wasn't seen before.\n",
    "So we need to split the dataset that we have to two parts trainset and testset.\n",
    "2. How we will tune the hyperparamters? Can it be done with testset?\n",
    "<span style=\"color:blue\"> If we tuned the hyperparamters on the testset, this will be considered as Data leakage as the hyperparams were tuned on the set that represent the evaluation, so there's a high chance that it will overfit the testset and fails to generalize (i.e., get high test accuracy but fails in production for example).\n",
    "So, it is a must to split the data into 3 parts:\n",
    "(70%) trainset to train the params , (10%) validation set to tune the hyperparameters (it can be used for other stuff like early stopping (tbe)), and (20%) testset to evaluate the model finally.\n",
    "\n",
    "Issues to think of:\n",
    "1. Is is the best strategy to get the best estimate for the true risk/performance of the system?\n",
    "<span style=\"color:blue\"> There's a chance that the testset is biased. So, a better way to estimate the true generalization error is to use cross validation.\n",
    "Cross validation is a method where the dataset, is divided into k equally sized folds then we train on k-1 folds and test on the left one and repeat this process k times for each fold and get k estimates, finally we average all of these k accuracies to represent the final accuracy.\n",
    "2. (Advanced) How to choose between two models?\n",
    "If you have two models one with test accuracy 90% and the other with 91% (averaged from cross valdiation), which one to choose?\n",
    "<span style=\"color:blue\"> The naive/fast approach is to use the model with higher accuracy. But what if these estimates are not significantly different (we got them by chance), then a hypothesis test needs to be done.\n",
    "After testing each model for each fold from the k-folds we can use \"Paired t-test\" to test if they are significantly different or not.\n",
    "<br />(more advanced way, which is used in industry: A/B testing, watch about it [here](https://www.youtube.com/watch?v=zFMgpxG-chM))\n",
    "\n",
    "<span style=\"color:red\"> TASK : In the next task, you will split your data into 3 parts, train, test, and validation by ratios: 70%, 20%, and 10% respectively.</span>"
   ]
  },
  {
   "cell_type": "code",
   "execution_count": 10,
   "metadata": {
    "pycharm": {
     "name": "#%%\n"
    }
   },
   "outputs": [
    {
     "name": "stdout",
     "output_type": "stream",
     "text": [
      "(7000, 13035) (2000, 13035) (1000, 13035)\n"
     ]
    }
   ],
   "source": [
    "from sklearn.model_selection import train_test_split\n",
    "\n",
    "# TODO: Write your code here (2 lines)\n",
    "x_train, x_test, = train_test_split(scaled_data, test_size=0.2)\n",
    "x_train, x_val = train_test_split(x_train, test_size=1/8)\n",
    "\n",
    "print(x_train.shape, x_test.shape, x_val.shape)"
   ]
  },
  {
   "cell_type": "markdown",
   "metadata": {
    "pycharm": {
     "name": "#%% md\n"
    }
   },
   "source": [
    "## 7. Data Visualization\n",
    "Visualization is key-issue to get some insights and intuition about your dataset.\n",
    "How to plot 259 features (259-dimensional data)? what we can plot -at maximum- is 2d or 3d data.\n",
    "\n",
    "Hint: We should reduce the dimension. Read this [article](https://towardsdatascience.com/dimensionality-reduction-ways-and-intuitions-1b5e97592d8e).\n",
    "\n",
    "So, Let's use UMAP to reduce the dimension of this dataset to be 2D."
   ]
  },
  {
   "cell_type": "code",
   "execution_count": 11,
   "metadata": {
    "pycharm": {
     "name": "#%%\n"
    }
   },
   "outputs": [],
   "source": [
    "from sklearn.decomposition import PCA\n",
    "\n",
    "dim_reducer = PCA(n_components=2)\n",
    "x_train_reduced = dim_reducer.fit_transform(x_train)"
   ]
  },
  {
   "cell_type": "markdown",
   "metadata": {
    "pycharm": {
     "name": "#%% md\n"
    }
   },
   "source": [
    "Let's plot the reduced dataset on a 2D plane.\n",
    "Use matplotlib to make a scatter plot for the reduced dataset."
   ]
  },
  {
   "cell_type": "code",
   "execution_count": 12,
   "metadata": {
    "pycharm": {
     "name": "#%%\n"
    }
   },
   "outputs": [
    {
     "data": {
      "image/png": "[encoded data removed]",
      "text/plain": [
       "<Figure size 432x288 with 1 Axes>"
      ]
     },
     "metadata": {
      "needs_background": "light"
     },
     "output_type": "display_data"
    }
   ],
   "source": [
    "import matplotlib.pyplot as plt\n",
    "%matplotlib inline\n",
    "\n",
    "# Write code to plot the reduced dataset in a scatter plot.\n",
    "plt.scatter(x_train_reduced[:, 0], x_train_reduced[:, 1], marker='.')\n",
    "plt.show()"
   ]
  },
  {
   "cell_type": "markdown",
   "metadata": {
    "pycharm": {
     "name": "#%% md\n"
    }
   },
   "source": [
    "## 8. Self Practice task\n",
    "\n",
    "Using the Football dataset follow the steps below:\n",
    "1. Select `Win_Prob` as target variable \n",
    "1. Remove columns with constant value (i.e all the values in the column are equal to zero)\n",
    "1. Extract features from `Date` and `time` column\n",
    "1. Remove all columns with more than 99% missing values\n",
    "1. Remove all columns with 99% distinct values\n",
    "1. Split the data into train (80%) and test(20%) sets. \n",
    "1. Split the train data into train (80%) and validation sets. \n",
    "1. Encode categorical data using a different encoder (not One Hot encoder) : see [Category Encoders](https://contrib.scikit-learn.org/category_encoders/index.html) for a full list. remember that you fit the encoder on train data only and then transform test data\n",
    "1. Impute missing values\n",
    "\n",
    "<span style=\"color:red\"> NOTE : Make use of the insights from pandas profiling report</span>"
   ]
  },
  {
   "cell_type": "code",
   "execution_count": 1,
   "metadata": {
    "pycharm": {
     "name": "#%%\n"
    }
   },
   "outputs": [],
   "source": [
    "import pandas as pd\n",
    "import numpy as np\n",
    "import sklearn\n",
    "\n",
    "import matplotlib.pyplot as plt\n",
    "%matplotlib inline\n",
    "football_df = pd.read_csv('./materials/football_data.csv', low_memory=False)"
   ]
  },
  {
   "cell_type": "code",
   "execution_count": 10,
   "outputs": [
    {
     "data": {
      "text/plain": "(10000, 102)"
     },
     "execution_count": 10,
     "metadata": {},
     "output_type": "execute_result"
    }
   ],
   "source": [
    "football_df.shape"
   ],
   "metadata": {
    "collapsed": false,
    "pycharm": {
     "name": "#%%\n"
    }
   }
  },
  {
   "cell_type": "code",
   "execution_count": 49,
   "outputs": [],
   "source": [
    "# Task 1\n",
    "Y_data = football_df['Win_Prob']\n",
    "football_df.drop(['Win_Prob'], axis=1, inplace=True)"
   ],
   "metadata": {
    "collapsed": false,
    "pycharm": {
     "name": "#%%\n"
    }
   }
  },
  {
   "cell_type": "code",
   "execution_count": 50,
   "outputs": [],
   "source": [
    "# Task 2\n",
    "for i in football_df.columns:\n",
    "    if football_df[i].unique().shape[0]/10000 == 1:\n",
    "        football_df.drop([i], axis=1, inplace=True)\n",
    "        print(i, ' was dropped')"
   ],
   "metadata": {
    "collapsed": false,
    "pycharm": {
     "name": "#%%\n"
    }
   }
  },
  {
   "cell_type": "code",
   "execution_count": 24,
   "outputs": [
    {
     "data": {
      "text/plain": "         Date   time\n0  2016-12-11  02:00\n1  2016-12-11  02:00\n2  2016-12-11  01:50\n3  2016-12-11  01:17\n4  2016-12-11  01:08",
      "text/html": "<div>\n<style scoped>\n    .dataframe tbody tr th:only-of-type {\n        vertical-align: middle;\n    }\n\n    .dataframe tbody tr th {\n        vertical-align: top;\n    }\n\n    .dataframe thead th {\n        text-align: right;\n    }\n</style>\n<table border=\"1\" class=\"dataframe\">\n  <thead>\n    <tr style=\"text-align: right;\">\n      <th></th>\n      <th>Date</th>\n      <th>time</th>\n    </tr>\n  </thead>\n  <tbody>\n    <tr>\n      <th>0</th>\n      <td>2016-12-11</td>\n      <td>02:00</td>\n    </tr>\n    <tr>\n      <th>1</th>\n      <td>2016-12-11</td>\n      <td>02:00</td>\n    </tr>\n    <tr>\n      <th>2</th>\n      <td>2016-12-11</td>\n      <td>01:50</td>\n    </tr>\n    <tr>\n      <th>3</th>\n      <td>2016-12-11</td>\n      <td>01:17</td>\n    </tr>\n    <tr>\n      <th>4</th>\n      <td>2016-12-11</td>\n      <td>01:08</td>\n    </tr>\n  </tbody>\n</table>\n</div>"
     },
     "execution_count": 24,
     "metadata": {},
     "output_type": "execute_result"
    }
   ],
   "source": [
    "# Task 3\n",
    "Datetime = pd.DataFrame([football_df['Date'],football_df['time']]).T\n",
    "Datetime.head()"
   ],
   "metadata": {
    "collapsed": false,
    "pycharm": {
     "name": "#%%\n"
    }
   }
  },
  {
   "cell_type": "code",
   "execution_count": 33,
   "outputs": [
    {
     "name": "stdout",
     "output_type": "stream",
     "text": [
      "TwoPointConv  was dropped\n",
      "DefTwoPoint  was dropped\n",
      "BlockingPlayer  was dropped\n",
      "RecFumbTeam  was dropped\n",
      "RecFumbPlayer  was dropped\n",
      "ChalReplayResult  was dropped\n"
     ]
    }
   ],
   "source": [
    "# Task 4\n",
    "for i in football_df.columns:\n",
    "    if football_df[i].isnull().sum()/10000 > 0.99:\n",
    "        football_df.drop([i], axis=1, inplace=True)\n",
    "        print(i, ' was dropped')"
   ],
   "metadata": {
    "collapsed": false,
    "pycharm": {
     "name": "#%%\n"
    }
   }
  },
  {
   "cell_type": "code",
   "execution_count": 46,
   "outputs": [],
   "source": [
    "# Task 5\n",
    "for i in football_df.columns:\n",
    "    if football_df[i].unique().shape[0]/10000 >= 0.99:\n",
    "        football_df.drop([i], axis=1, inplace=True)\n",
    "        print(i, ' was dropped')"
   ],
   "metadata": {
    "collapsed": false,
    "pycharm": {
     "name": "#%%\n"
    }
   }
  },
  {
   "cell_type": "code",
   "execution_count": 51,
   "outputs": [],
   "source": [
    "# Task 6 and 7\n",
    "from sklearn.model_selection import train_test_split\n",
    "\n",
    "x_train, x_test, y_train, y_test, = train_test_split(football_df,Y_data, test_size=0.2)\n",
    "x_train, x_val, y_train, y_val, = train_test_split(x_train,y_train, test_size=0.2)"
   ],
   "metadata": {
    "collapsed": false,
    "pycharm": {
     "name": "#%%\n"
    }
   }
  },
  {
   "cell_type": "code",
   "execution_count": 59,
   "outputs": [
    {
     "data": {
      "text/plain": "      Date      GameID  Drive  qtr  down  time  TimeUnder  TimeSecs  \\\n8658     1  2017010104      7    2   1.0     1          8    2221.0   \n924      2  2016121112     22    4   1.0     2         13     770.0   \n4483     3  2016122400      5    1   2.0     3          5    2971.0   \n6379     3  2016122409     13    2   4.0     4          1    1813.0   \n4954     3  2016122405     15    3   1.0     5          8    1361.0   \n...    ...         ...    ...  ...   ...   ...        ...       ...   \n9117     1  2017010112      1    1   1.0   263         15    3554.0   \n2490     4  2016121805     21    4   2.0   478          6     352.0   \n7908     1  2017010108     27    5   1.0   803          5    -623.0   \n728      2  2016121108     13    3   NaN   811          8    1333.0   \n6378     3  2016122409     13    2   NaN     4          1    1813.0   \n\n      PlayTimeDiff  SideofField  ...    airEPA    yacEPA  Home_WP_pre  \\\n8658           9.0            1  ...       NaN       NaN     0.034503   \n924           43.0            2  ...       NaN       NaN     0.000006   \n4483          29.0            3  ...       NaN       NaN     0.337616   \n6379           0.0            4  ...       NaN       NaN     0.738830   \n4954          32.0            5  ...  2.585387 -3.333391     0.868989   \n...            ...          ...  ...       ...       ...          ...   \n9117           5.0           20  ... -0.544715  1.016787     0.543997   \n2490           8.0           24  ... -0.728169 -0.000420     0.671100   \n7908          35.0            6  ...  0.443135 -0.904967     0.575321   \n728           39.0           27  ...       NaN       NaN          NaN   \n6378          14.0            4  ...       NaN       NaN          NaN   \n\n      Away_WP_pre  Home_WP_post  Away_WP_post       WPA    airWPA    yacWPA  \\\n8658     0.965497      0.036645      0.963355 -0.002142       NaN       NaN   \n924      0.999994      0.000009      0.999991 -0.000003       NaN       NaN   \n4483     0.662384      0.347477      0.652523  0.009861       NaN       NaN   \n6379     0.261170      0.742939      0.257061 -0.004109       NaN       NaN   \n4954     0.131011      0.880831      0.119169 -0.011842  0.051824 -0.063666   \n...           ...           ...           ...       ...       ...       ...   \n9117     0.456003      0.560840      0.439160  0.016844 -0.016364  0.033208   \n2490     0.328900      0.706714      0.293286 -0.035613 -0.035537 -0.000076   \n7908     0.424679      0.529842      0.470158 -0.045479 -0.040708 -0.004771   \n728           NaN           NaN           NaN  0.000000       NaN       NaN   \n6378          NaN           NaN           NaN  0.000000       NaN       NaN   \n\n      Season  \n8658    2016  \n924     2016  \n4483    2016  \n6379    2016  \n4954    2016  \n...      ...  \n9117    2016  \n2490    2016  \n7908    2016  \n728     2016  \n6378    2016  \n\n[6400 rows x 95 columns]",
      "text/html": "<div>\n<style scoped>\n    .dataframe tbody tr th:only-of-type {\n        vertical-align: middle;\n    }\n\n    .dataframe tbody tr th {\n        vertical-align: top;\n    }\n\n    .dataframe thead th {\n        text-align: right;\n    }\n</style>\n<table border=\"1\" class=\"dataframe\">\n  <thead>\n    <tr style=\"text-align: right;\">\n      <th></th>\n      <th>Date</th>\n      <th>GameID</th>\n      <th>Drive</th>\n      <th>qtr</th>\n      <th>down</th>\n      <th>time</th>\n      <th>TimeUnder</th>\n      <th>TimeSecs</th>\n      <th>PlayTimeDiff</th>\n      <th>SideofField</th>\n      <th>...</th>\n      <th>airEPA</th>\n      <th>yacEPA</th>\n      <th>Home_WP_pre</th>\n      <th>Away_WP_pre</th>\n      <th>Home_WP_post</th>\n      <th>Away_WP_post</th>\n      <th>WPA</th>\n      <th>airWPA</th>\n      <th>yacWPA</th>\n      <th>Season</th>\n    </tr>\n  </thead>\n  <tbody>\n    <tr>\n      <th>8658</th>\n      <td>1</td>\n      <td>2017010104</td>\n      <td>7</td>\n      <td>2</td>\n      <td>1.0</td>\n      <td>1</td>\n      <td>8</td>\n      <td>2221.0</td>\n      <td>9.0</td>\n      <td>1</td>\n      <td>...</td>\n      <td>NaN</td>\n      <td>NaN</td>\n      <td>0.034503</td>\n      <td>0.965497</td>\n      <td>0.036645</td>\n      <td>0.963355</td>\n      <td>-0.002142</td>\n      <td>NaN</td>\n      <td>NaN</td>\n      <td>2016</td>\n    </tr>\n    <tr>\n      <th>924</th>\n      <td>2</td>\n      <td>2016121112</td>\n      <td>22</td>\n      <td>4</td>\n      <td>1.0</td>\n      <td>2</td>\n      <td>13</td>\n      <td>770.0</td>\n      <td>43.0</td>\n      <td>2</td>\n      <td>...</td>\n      <td>NaN</td>\n      <td>NaN</td>\n      <td>0.000006</td>\n      <td>0.999994</td>\n      <td>0.000009</td>\n      <td>0.999991</td>\n      <td>-0.000003</td>\n      <td>NaN</td>\n      <td>NaN</td>\n      <td>2016</td>\n    </tr>\n    <tr>\n      <th>4483</th>\n      <td>3</td>\n      <td>2016122400</td>\n      <td>5</td>\n      <td>1</td>\n      <td>2.0</td>\n      <td>3</td>\n      <td>5</td>\n      <td>2971.0</td>\n      <td>29.0</td>\n      <td>3</td>\n      <td>...</td>\n      <td>NaN</td>\n      <td>NaN</td>\n      <td>0.337616</td>\n      <td>0.662384</td>\n      <td>0.347477</td>\n      <td>0.652523</td>\n      <td>0.009861</td>\n      <td>NaN</td>\n      <td>NaN</td>\n      <td>2016</td>\n    </tr>\n    <tr>\n      <th>6379</th>\n      <td>3</td>\n      <td>2016122409</td>\n      <td>13</td>\n      <td>2</td>\n      <td>4.0</td>\n      <td>4</td>\n      <td>1</td>\n      <td>1813.0</td>\n      <td>0.0</td>\n      <td>4</td>\n      <td>...</td>\n      <td>NaN</td>\n      <td>NaN</td>\n      <td>0.738830</td>\n      <td>0.261170</td>\n      <td>0.742939</td>\n      <td>0.257061</td>\n      <td>-0.004109</td>\n      <td>NaN</td>\n      <td>NaN</td>\n      <td>2016</td>\n    </tr>\n    <tr>\n      <th>4954</th>\n      <td>3</td>\n      <td>2016122405</td>\n      <td>15</td>\n      <td>3</td>\n      <td>1.0</td>\n      <td>5</td>\n      <td>8</td>\n      <td>1361.0</td>\n      <td>32.0</td>\n      <td>5</td>\n      <td>...</td>\n      <td>2.585387</td>\n      <td>-3.333391</td>\n      <td>0.868989</td>\n      <td>0.131011</td>\n      <td>0.880831</td>\n      <td>0.119169</td>\n      <td>-0.011842</td>\n      <td>0.051824</td>\n      <td>-0.063666</td>\n      <td>2016</td>\n    </tr>\n    <tr>\n      <th>...</th>\n      <td>...</td>\n      <td>...</td>\n      <td>...</td>\n      <td>...</td>\n      <td>...</td>\n      <td>...</td>\n      <td>...</td>\n      <td>...</td>\n      <td>...</td>\n      <td>...</td>\n      <td>...</td>\n      <td>...</td>\n      <td>...</td>\n      <td>...</td>\n      <td>...</td>\n      <td>...</td>\n      <td>...</td>\n      <td>...</td>\n      <td>...</td>\n      <td>...</td>\n      <td>...</td>\n    </tr>\n    <tr>\n      <th>9117</th>\n      <td>1</td>\n      <td>2017010112</td>\n      <td>1</td>\n      <td>1</td>\n      <td>1.0</td>\n      <td>263</td>\n      <td>15</td>\n      <td>3554.0</td>\n      <td>5.0</td>\n      <td>20</td>\n      <td>...</td>\n      <td>-0.544715</td>\n      <td>1.016787</td>\n      <td>0.543997</td>\n      <td>0.456003</td>\n      <td>0.560840</td>\n      <td>0.439160</td>\n      <td>0.016844</td>\n      <td>-0.016364</td>\n      <td>0.033208</td>\n      <td>2016</td>\n    </tr>\n    <tr>\n      <th>2490</th>\n      <td>4</td>\n      <td>2016121805</td>\n      <td>21</td>\n      <td>4</td>\n      <td>2.0</td>\n      <td>478</td>\n      <td>6</td>\n      <td>352.0</td>\n      <td>8.0</td>\n      <td>24</td>\n      <td>...</td>\n      <td>-0.728169</td>\n      <td>-0.000420</td>\n      <td>0.671100</td>\n      <td>0.328900</td>\n      <td>0.706714</td>\n      <td>0.293286</td>\n      <td>-0.035613</td>\n      <td>-0.035537</td>\n      <td>-0.000076</td>\n      <td>2016</td>\n    </tr>\n    <tr>\n      <th>7908</th>\n      <td>1</td>\n      <td>2017010108</td>\n      <td>27</td>\n      <td>5</td>\n      <td>1.0</td>\n      <td>803</td>\n      <td>5</td>\n      <td>-623.0</td>\n      <td>35.0</td>\n      <td>6</td>\n      <td>...</td>\n      <td>0.443135</td>\n      <td>-0.904967</td>\n      <td>0.575321</td>\n      <td>0.424679</td>\n      <td>0.529842</td>\n      <td>0.470158</td>\n      <td>-0.045479</td>\n      <td>-0.040708</td>\n      <td>-0.004771</td>\n      <td>2016</td>\n    </tr>\n    <tr>\n      <th>728</th>\n      <td>2</td>\n      <td>2016121108</td>\n      <td>13</td>\n      <td>3</td>\n      <td>NaN</td>\n      <td>811</td>\n      <td>8</td>\n      <td>1333.0</td>\n      <td>39.0</td>\n      <td>27</td>\n      <td>...</td>\n      <td>NaN</td>\n      <td>NaN</td>\n      <td>NaN</td>\n      <td>NaN</td>\n      <td>NaN</td>\n      <td>NaN</td>\n      <td>0.000000</td>\n      <td>NaN</td>\n      <td>NaN</td>\n      <td>2016</td>\n    </tr>\n    <tr>\n      <th>6378</th>\n      <td>3</td>\n      <td>2016122409</td>\n      <td>13</td>\n      <td>2</td>\n      <td>NaN</td>\n      <td>4</td>\n      <td>1</td>\n      <td>1813.0</td>\n      <td>14.0</td>\n      <td>4</td>\n      <td>...</td>\n      <td>NaN</td>\n      <td>NaN</td>\n      <td>NaN</td>\n      <td>NaN</td>\n      <td>NaN</td>\n      <td>NaN</td>\n      <td>0.000000</td>\n      <td>NaN</td>\n      <td>NaN</td>\n      <td>2016</td>\n    </tr>\n  </tbody>\n</table>\n<p>6400 rows × 95 columns</p>\n</div>"
     },
     "execution_count": 59,
     "metadata": {},
     "output_type": "execute_result"
    }
   ],
   "source": [
    "# Task 8\n",
    "from category_encoders import OrdinalEncoder\n",
    "\n",
    "encoder = OrdinalEncoder()\n",
    "x_train = encoder.fit_transform(x_train)\n",
    "x_train"
   ],
   "metadata": {
    "collapsed": false,
    "pycharm": {
     "name": "#%%\n"
    }
   }
  },
  {
   "cell_type": "code",
   "execution_count": 57,
   "outputs": [
    {
     "data": {
      "text/plain": "            Date      GameID  Drive  qtr  down   time  TimeUnder  TimeSecs  \\\n8658  2017-01-01  2017010104      7    2   1.0  07:01          8    2221.0   \n924   2016-12-11  2016121112     22    4   1.0  12:50         13     770.0   \n4483  2016-12-24  2016122400      5    1   2.0  04:31          5    2971.0   \n6379  2016-12-24  2016122409     13    2   4.0  00:13          1    1813.0   \n4954  2016-12-24  2016122405     15    3   1.0  07:41          8    1361.0   \n...          ...         ...    ...  ...   ...    ...        ...       ...   \n9117  2017-01-01  2017010112      1    1   1.0  14:14         15    3554.0   \n2490  2016-12-18  2016121805     21    4   2.0  05:52          6     352.0   \n7908  2017-01-01  2017010108     27    5   1.0  04:37          5    -623.0   \n728   2016-12-11  2016121108     13    3   NaN  07:13          8    1333.0   \n6378  2016-12-24  2016122409     13    2   NaN  00:13          1    1813.0   \n\n      PlayTimeDiff SideofField  ...    airEPA    yacEPA  Home_WP_pre  \\\n8658           9.0         MIA  ...       NaN       NaN     0.034503   \n924           43.0         ATL  ...       NaN       NaN     0.000006   \n4483          29.0         BUF  ...       NaN       NaN     0.337616   \n6379           0.0          SF  ...       NaN       NaN     0.738830   \n4954          32.0         TEN  ...  2.585387 -3.333391     0.868989   \n...            ...         ...  ...       ...       ...          ...   \n9117           5.0         DEN  ... -0.544715  1.016787     0.543997   \n2490           8.0          KC  ... -0.728169 -0.000420     0.671100   \n7908          35.0         CLE  ...  0.443135 -0.904967     0.575321   \n728           39.0          NO  ...       NaN       NaN          NaN   \n6378          14.0          SF  ...       NaN       NaN          NaN   \n\n      Away_WP_pre  Home_WP_post  Away_WP_post       WPA    airWPA    yacWPA  \\\n8658     0.965497      0.036645      0.963355 -0.002142       NaN       NaN   \n924      0.999994      0.000009      0.999991 -0.000003       NaN       NaN   \n4483     0.662384      0.347477      0.652523  0.009861       NaN       NaN   \n6379     0.261170      0.742939      0.257061 -0.004109       NaN       NaN   \n4954     0.131011      0.880831      0.119169 -0.011842  0.051824 -0.063666   \n...           ...           ...           ...       ...       ...       ...   \n9117     0.456003      0.560840      0.439160  0.016844 -0.016364  0.033208   \n2490     0.328900      0.706714      0.293286 -0.035613 -0.035537 -0.000076   \n7908     0.424679      0.529842      0.470158 -0.045479 -0.040708 -0.004771   \n728           NaN           NaN           NaN  0.000000       NaN       NaN   \n6378          NaN           NaN           NaN  0.000000       NaN       NaN   \n\n      Season  \n8658    2016  \n924     2016  \n4483    2016  \n6379    2016  \n4954    2016  \n...      ...  \n9117    2016  \n2490    2016  \n7908    2016  \n728     2016  \n6378    2016  \n\n[6400 rows x 95 columns]",
      "text/html": "<div>\n<style scoped>\n    .dataframe tbody tr th:only-of-type {\n        vertical-align: middle;\n    }\n\n    .dataframe tbody tr th {\n        vertical-align: top;\n    }\n\n    .dataframe thead th {\n        text-align: right;\n    }\n</style>\n<table border=\"1\" class=\"dataframe\">\n  <thead>\n    <tr style=\"text-align: right;\">\n      <th></th>\n      <th>Date</th>\n      <th>GameID</th>\n      <th>Drive</th>\n      <th>qtr</th>\n      <th>down</th>\n      <th>time</th>\n      <th>TimeUnder</th>\n      <th>TimeSecs</th>\n      <th>PlayTimeDiff</th>\n      <th>SideofField</th>\n      <th>...</th>\n      <th>airEPA</th>\n      <th>yacEPA</th>\n      <th>Home_WP_pre</th>\n      <th>Away_WP_pre</th>\n      <th>Home_WP_post</th>\n      <th>Away_WP_post</th>\n      <th>WPA</th>\n      <th>airWPA</th>\n      <th>yacWPA</th>\n      <th>Season</th>\n    </tr>\n  </thead>\n  <tbody>\n    <tr>\n      <th>8658</th>\n      <td>2017-01-01</td>\n      <td>2017010104</td>\n      <td>7</td>\n      <td>2</td>\n      <td>1.0</td>\n      <td>07:01</td>\n      <td>8</td>\n      <td>2221.0</td>\n      <td>9.0</td>\n      <td>MIA</td>\n      <td>...</td>\n      <td>NaN</td>\n      <td>NaN</td>\n      <td>0.034503</td>\n      <td>0.965497</td>\n      <td>0.036645</td>\n      <td>0.963355</td>\n      <td>-0.002142</td>\n      <td>NaN</td>\n      <td>NaN</td>\n      <td>2016</td>\n    </tr>\n    <tr>\n      <th>924</th>\n      <td>2016-12-11</td>\n      <td>2016121112</td>\n      <td>22</td>\n      <td>4</td>\n      <td>1.0</td>\n      <td>12:50</td>\n      <td>13</td>\n      <td>770.0</td>\n      <td>43.0</td>\n      <td>ATL</td>\n      <td>...</td>\n      <td>NaN</td>\n      <td>NaN</td>\n      <td>0.000006</td>\n      <td>0.999994</td>\n      <td>0.000009</td>\n      <td>0.999991</td>\n      <td>-0.000003</td>\n      <td>NaN</td>\n      <td>NaN</td>\n      <td>2016</td>\n    </tr>\n    <tr>\n      <th>4483</th>\n      <td>2016-12-24</td>\n      <td>2016122400</td>\n      <td>5</td>\n      <td>1</td>\n      <td>2.0</td>\n      <td>04:31</td>\n      <td>5</td>\n      <td>2971.0</td>\n      <td>29.0</td>\n      <td>BUF</td>\n      <td>...</td>\n      <td>NaN</td>\n      <td>NaN</td>\n      <td>0.337616</td>\n      <td>0.662384</td>\n      <td>0.347477</td>\n      <td>0.652523</td>\n      <td>0.009861</td>\n      <td>NaN</td>\n      <td>NaN</td>\n      <td>2016</td>\n    </tr>\n    <tr>\n      <th>6379</th>\n      <td>2016-12-24</td>\n      <td>2016122409</td>\n      <td>13</td>\n      <td>2</td>\n      <td>4.0</td>\n      <td>00:13</td>\n      <td>1</td>\n      <td>1813.0</td>\n      <td>0.0</td>\n      <td>SF</td>\n      <td>...</td>\n      <td>NaN</td>\n      <td>NaN</td>\n      <td>0.738830</td>\n      <td>0.261170</td>\n      <td>0.742939</td>\n      <td>0.257061</td>\n      <td>-0.004109</td>\n      <td>NaN</td>\n      <td>NaN</td>\n      <td>2016</td>\n    </tr>\n    <tr>\n      <th>4954</th>\n      <td>2016-12-24</td>\n      <td>2016122405</td>\n      <td>15</td>\n      <td>3</td>\n      <td>1.0</td>\n      <td>07:41</td>\n      <td>8</td>\n      <td>1361.0</td>\n      <td>32.0</td>\n      <td>TEN</td>\n      <td>...</td>\n      <td>2.585387</td>\n      <td>-3.333391</td>\n      <td>0.868989</td>\n      <td>0.131011</td>\n      <td>0.880831</td>\n      <td>0.119169</td>\n      <td>-0.011842</td>\n      <td>0.051824</td>\n      <td>-0.063666</td>\n      <td>2016</td>\n    </tr>\n    <tr>\n      <th>...</th>\n      <td>...</td>\n      <td>...</td>\n      <td>...</td>\n      <td>...</td>\n      <td>...</td>\n      <td>...</td>\n      <td>...</td>\n      <td>...</td>\n      <td>...</td>\n      <td>...</td>\n      <td>...</td>\n      <td>...</td>\n      <td>...</td>\n      <td>...</td>\n      <td>...</td>\n      <td>...</td>\n      <td>...</td>\n      <td>...</td>\n      <td>...</td>\n      <td>...</td>\n      <td>...</td>\n    </tr>\n    <tr>\n      <th>9117</th>\n      <td>2017-01-01</td>\n      <td>2017010112</td>\n      <td>1</td>\n      <td>1</td>\n      <td>1.0</td>\n      <td>14:14</td>\n      <td>15</td>\n      <td>3554.0</td>\n      <td>5.0</td>\n      <td>DEN</td>\n      <td>...</td>\n      <td>-0.544715</td>\n      <td>1.016787</td>\n      <td>0.543997</td>\n      <td>0.456003</td>\n      <td>0.560840</td>\n      <td>0.439160</td>\n      <td>0.016844</td>\n      <td>-0.016364</td>\n      <td>0.033208</td>\n      <td>2016</td>\n    </tr>\n    <tr>\n      <th>2490</th>\n      <td>2016-12-18</td>\n      <td>2016121805</td>\n      <td>21</td>\n      <td>4</td>\n      <td>2.0</td>\n      <td>05:52</td>\n      <td>6</td>\n      <td>352.0</td>\n      <td>8.0</td>\n      <td>KC</td>\n      <td>...</td>\n      <td>-0.728169</td>\n      <td>-0.000420</td>\n      <td>0.671100</td>\n      <td>0.328900</td>\n      <td>0.706714</td>\n      <td>0.293286</td>\n      <td>-0.035613</td>\n      <td>-0.035537</td>\n      <td>-0.000076</td>\n      <td>2016</td>\n    </tr>\n    <tr>\n      <th>7908</th>\n      <td>2017-01-01</td>\n      <td>2017010108</td>\n      <td>27</td>\n      <td>5</td>\n      <td>1.0</td>\n      <td>04:37</td>\n      <td>5</td>\n      <td>-623.0</td>\n      <td>35.0</td>\n      <td>CLE</td>\n      <td>...</td>\n      <td>0.443135</td>\n      <td>-0.904967</td>\n      <td>0.575321</td>\n      <td>0.424679</td>\n      <td>0.529842</td>\n      <td>0.470158</td>\n      <td>-0.045479</td>\n      <td>-0.040708</td>\n      <td>-0.004771</td>\n      <td>2016</td>\n    </tr>\n    <tr>\n      <th>728</th>\n      <td>2016-12-11</td>\n      <td>2016121108</td>\n      <td>13</td>\n      <td>3</td>\n      <td>NaN</td>\n      <td>07:13</td>\n      <td>8</td>\n      <td>1333.0</td>\n      <td>39.0</td>\n      <td>NO</td>\n      <td>...</td>\n      <td>NaN</td>\n      <td>NaN</td>\n      <td>NaN</td>\n      <td>NaN</td>\n      <td>NaN</td>\n      <td>NaN</td>\n      <td>0.000000</td>\n      <td>NaN</td>\n      <td>NaN</td>\n      <td>2016</td>\n    </tr>\n    <tr>\n      <th>6378</th>\n      <td>2016-12-24</td>\n      <td>2016122409</td>\n      <td>13</td>\n      <td>2</td>\n      <td>NaN</td>\n      <td>00:13</td>\n      <td>1</td>\n      <td>1813.0</td>\n      <td>14.0</td>\n      <td>SF</td>\n      <td>...</td>\n      <td>NaN</td>\n      <td>NaN</td>\n      <td>NaN</td>\n      <td>NaN</td>\n      <td>NaN</td>\n      <td>NaN</td>\n      <td>0.000000</td>\n      <td>NaN</td>\n      <td>NaN</td>\n      <td>2016</td>\n    </tr>\n  </tbody>\n</table>\n<p>6400 rows × 95 columns</p>\n</div>"
     },
     "execution_count": 57,
     "metadata": {},
     "output_type": "execute_result"
    }
   ],
   "source": [
    "x_train"
   ],
   "metadata": {
    "collapsed": false,
    "pycharm": {
     "name": "#%%\n"
    }
   }
  },
  {
   "cell_type": "code",
   "execution_count": 62,
   "outputs": [
    {
     "data": {
      "text/plain": "array([[ 1.00000000e+00,  2.01701010e+09,  7.00000000e+00, ...,\n         1.55345352e-02, -9.21124963e-03,  2.01600000e+03],\n       [ 2.00000000e+00,  2.01612111e+09,  2.20000000e+01, ...,\n         1.55345352e-02, -9.21124963e-03,  2.01600000e+03],\n       [ 3.00000000e+00,  2.01612240e+09,  5.00000000e+00, ...,\n         1.55345352e-02, -9.21124963e-03,  2.01600000e+03],\n       ...,\n       [ 1.00000000e+00,  2.01701011e+09,  2.70000000e+01, ...,\n        -4.07077923e-02, -4.77083456e-03,  2.01600000e+03],\n       [ 2.00000000e+00,  2.01612111e+09,  1.30000000e+01, ...,\n         1.55345352e-02, -9.21124963e-03,  2.01600000e+03],\n       [ 3.00000000e+00,  2.01612241e+09,  1.30000000e+01, ...,\n         1.55345352e-02, -9.21124963e-03,  2.01600000e+03]])"
     },
     "execution_count": 62,
     "metadata": {},
     "output_type": "execute_result"
    }
   ],
   "source": [
    "from sklearn.impute import SimpleImputer\n",
    "\n",
    "imputer = SimpleImputer()\n",
    "x_train = imputer.fit_transform(x_train)\n",
    "x_train"
   ],
   "metadata": {
    "collapsed": false,
    "pycharm": {
     "name": "#%%\n"
    }
   }
  }
 ],
 "metadata": {
  "kernelspec": {
   "display_name": "Python 3 (ipykernel)",
   "language": "python",
   "name": "python3"
  },
  "language_info": {
   "codemirror_mode": {
    "name": "ipython",
    "version": 3
   },
   "file_extension": ".py",
   "mimetype": "text/x-python",
   "name": "python",
   "nbconvert_exporter": "python",
   "pygments_lexer": "ipython3",
   "version": "3.8.10"
  }
 },
 "nbformat": 4,
 "nbformat_minor": 1
}