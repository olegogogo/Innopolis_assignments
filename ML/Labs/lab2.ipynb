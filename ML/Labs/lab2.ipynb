{
 "cells": [
  {
   "cell_type": "markdown",
   "id": "encouraging-navigator",
   "metadata": {
    "pycharm": {
     "name": "#%% md\n"
    }
   },
   "source": [
    "    ## Week 2 : Linear Regression\n",
    "```\n",
    "- Machine Learning, Innopolis University (Fall semester 2022)\n",
    "- Professor: Adil Khan\n",
    "- Teaching Assistant: Gcinizwe Dlamini\n",
    "```\n",
    "<hr>\n",
    "\n",
    "\n",
    "```\n",
    "Lab Plan\n",
    "1. Linear Regression\n",
    "2. Multiple Linear Regression\n",
    "3. Polynomial Regression\n",
    "3.1 Overfitting & underfitting\n",
    "```\n",
    "\n",
    "<hr>"
   ]
  },
  {
   "cell_type": "markdown",
   "id": "narrow-tomato",
   "metadata": {
    "pycharm": {
     "name": "#%% md\n"
    }
   },
   "source": [
    "\n",
    "\n",
    "![](https://www.alpharithms.com/wp-content/uploads/1156/slope-intercept-vs-linear-regression-equations.jpg)\n",
    "\n",
    "\n",
    "\n",
    "## Typical ML model Training Procedure\n",
    "\n",
    "1. Define the Task (Supervised or unsupervised Learning, Classification or Regression)  \n",
    "1. Import necessary libraries\n",
    "1. Load and Explore the dataset (visualization) \n",
    "1. Preprocess the Data & split to train/test  (feature selection, scaling, normalization, etc..)\n",
    "1. Build, Train and Test Model\n",
    "1. Evaluate model using appropiate evaluation metrics (MSE, $R^2$, accuracy, f-score, precision, recall, etc.. )"
   ]
  },
  {
   "cell_type": "markdown",
   "id": "charged-victim",
   "metadata": {
    "pycharm": {
     "name": "#%% md\n"
    }
   },
   "source": [
    "## 1. Linear Regression\n",
    "\n",
    "In this regression task we will predict the percentage of marks that a student is expected to score based upon the number of hours they studied.\n",
    "<br>\n",
    "<br>\n",
    "<center><b>Simple Linear Regression</b></center>\n",
    "$$y = \\beta_0 + \\beta_1x_1 $$"
   ]
  },
  {
   "cell_type": "markdown",
   "id": "collectible-conclusion",
   "metadata": {
    "pycharm": {
     "name": "#%% md\n"
    }
   },
   "source": [
    "### 1.2 Import necessary libraries"
   ]
  },
  {
   "cell_type": "code",
   "execution_count": 1,
   "id": "bored-afghanistan",
   "metadata": {
    "pycharm": {
     "name": "#%%\n"
    }
   },
   "outputs": [],
   "source": [
    "import pandas as pd \n",
    "import numpy as np\n",
    "import matplotlib.pyplot as plt\n",
    "%matplotlib inline\n",
    "\n",
    "from sklearn.model_selection import train_test_split\n",
    "from sklearn.linear_model import LinearRegression\n",
    "from sklearn import metrics"
   ]
  },
  {
   "cell_type": "markdown",
   "id": "afraid-participant",
   "metadata": {
    "pycharm": {
     "name": "#%% md\n"
    }
   },
   "source": [
    "### 1.3 Load and Explore the dataset"
   ]
  },
  {
   "cell_type": "code",
   "execution_count": 2,
   "id": "unexpected-hormone",
   "metadata": {
    "pycharm": {
     "name": "#%%\n"
    }
   },
   "outputs": [
    {
     "data": {
      "text/html": [
       "<div>\n",
       "<style scoped>\n",
       "    .dataframe tbody tr th:only-of-type {\n",
       "        vertical-align: middle;\n",
       "    }\n",
       "\n",
       "    .dataframe tbody tr th {\n",
       "        vertical-align: top;\n",
       "    }\n",
       "\n",
       "    .dataframe thead th {\n",
       "        text-align: right;\n",
       "    }\n",
       "</style>\n",
       "<table border=\"1\" class=\"dataframe\">\n",
       "  <thead>\n",
       "    <tr style=\"text-align: right;\">\n",
       "      <th></th>\n",
       "      <th>Hours</th>\n",
       "      <th>Scores</th>\n",
       "    </tr>\n",
       "  </thead>\n",
       "  <tbody>\n",
       "    <tr>\n",
       "      <th>0</th>\n",
       "      <td>2.5</td>\n",
       "      <td>21</td>\n",
       "    </tr>\n",
       "    <tr>\n",
       "      <th>1</th>\n",
       "      <td>5.1</td>\n",
       "      <td>47</td>\n",
       "    </tr>\n",
       "    <tr>\n",
       "      <th>2</th>\n",
       "      <td>3.2</td>\n",
       "      <td>27</td>\n",
       "    </tr>\n",
       "    <tr>\n",
       "      <th>3</th>\n",
       "      <td>8.5</td>\n",
       "      <td>75</td>\n",
       "    </tr>\n",
       "    <tr>\n",
       "      <th>4</th>\n",
       "      <td>3.5</td>\n",
       "      <td>30</td>\n",
       "    </tr>\n",
       "  </tbody>\n",
       "</table>\n",
       "</div>"
      ],
      "text/plain": [
       "   Hours  Scores\n",
       "0    2.5      21\n",
       "1    5.1      47\n",
       "2    3.2      27\n",
       "3    8.5      75\n",
       "4    3.5      30"
      ]
     },
     "execution_count": 2,
     "metadata": {},
     "output_type": "execute_result"
    }
   ],
   "source": [
    "student_scores_df = pd.read_csv('student_scores.csv')\n",
    "student_scores_df.head()"
   ]
  },
  {
   "cell_type": "markdown",
   "id": "republican-globe",
   "metadata": {
    "pycharm": {
     "name": "#%% md\n"
    }
   },
   "source": [
    "### 1.3.1 Data Statistics"
   ]
  },
  {
   "cell_type": "code",
   "execution_count": 3,
   "id": "analyzed-transcript",
   "metadata": {
    "pycharm": {
     "name": "#%%\n"
    }
   },
   "outputs": [
    {
     "data": {
      "text/html": [
       "<div>\n",
       "<style scoped>\n",
       "    .dataframe tbody tr th:only-of-type {\n",
       "        vertical-align: middle;\n",
       "    }\n",
       "\n",
       "    .dataframe tbody tr th {\n",
       "        vertical-align: top;\n",
       "    }\n",
       "\n",
       "    .dataframe thead th {\n",
       "        text-align: right;\n",
       "    }\n",
       "</style>\n",
       "<table border=\"1\" class=\"dataframe\">\n",
       "  <thead>\n",
       "    <tr style=\"text-align: right;\">\n",
       "      <th></th>\n",
       "      <th>Hours</th>\n",
       "      <th>Scores</th>\n",
       "    </tr>\n",
       "  </thead>\n",
       "  <tbody>\n",
       "    <tr>\n",
       "      <th>count</th>\n",
       "      <td>25.000000</td>\n",
       "      <td>25.000000</td>\n",
       "    </tr>\n",
       "    <tr>\n",
       "      <th>mean</th>\n",
       "      <td>5.012000</td>\n",
       "      <td>51.480000</td>\n",
       "    </tr>\n",
       "    <tr>\n",
       "      <th>std</th>\n",
       "      <td>2.525094</td>\n",
       "      <td>25.286887</td>\n",
       "    </tr>\n",
       "    <tr>\n",
       "      <th>min</th>\n",
       "      <td>1.100000</td>\n",
       "      <td>17.000000</td>\n",
       "    </tr>\n",
       "    <tr>\n",
       "      <th>25%</th>\n",
       "      <td>2.700000</td>\n",
       "      <td>30.000000</td>\n",
       "    </tr>\n",
       "    <tr>\n",
       "      <th>50%</th>\n",
       "      <td>4.800000</td>\n",
       "      <td>47.000000</td>\n",
       "    </tr>\n",
       "    <tr>\n",
       "      <th>75%</th>\n",
       "      <td>7.400000</td>\n",
       "      <td>75.000000</td>\n",
       "    </tr>\n",
       "    <tr>\n",
       "      <th>max</th>\n",
       "      <td>9.200000</td>\n",
       "      <td>95.000000</td>\n",
       "    </tr>\n",
       "  </tbody>\n",
       "</table>\n",
       "</div>"
      ],
      "text/plain": [
       "           Hours     Scores\n",
       "count  25.000000  25.000000\n",
       "mean    5.012000  51.480000\n",
       "std     2.525094  25.286887\n",
       "min     1.100000  17.000000\n",
       "25%     2.700000  30.000000\n",
       "50%     4.800000  47.000000\n",
       "75%     7.400000  75.000000\n",
       "max     9.200000  95.000000"
      ]
     },
     "execution_count": 3,
     "metadata": {},
     "output_type": "execute_result"
    }
   ],
   "source": [
    "student_scores_df.describe()"
   ]
  },
  {
   "cell_type": "markdown",
   "id": "portuguese-favor",
   "metadata": {
    "pycharm": {
     "name": "#%% md\n"
    }
   },
   "source": [
    "### 1.3.1 Visualization\n",
    "\n",
    "Plot the data points on 2-D graph to eyeball our dataset and see if we can manually find any relationship between the data points. Usually Matplotlib is used but some other libraries exist i.e [Plotly](https://github.com/plotly/plotly.py), [Seaborn](https://seaborn.pydata.org/),[Geoplotlib](https://github.com/andrea-cuttone/geoplotlib/wiki/User-Guide), [Gleam](https://github.com/dgrtwo/gleam), [ggplot](https://github.com/tidyverse/ggplot2)\n",
    "\n",
    "**Remember :** Plot should have a title, axis labels, and legend for easy interpretation"
   ]
  },
  {
   "cell_type": "code",
   "execution_count": 4,
   "id": "undefined-belfast",
   "metadata": {
    "pycharm": {
     "name": "#%%\n"
    }
   },
   "outputs": [
    {
     "data": {
      "image/png": "[encoded data removed]",
      "text/plain": [
       "<Figure size 432x288 with 1 Axes>"
      ]
     },
     "metadata": {
      "needs_background": "light"
     },
     "output_type": "display_data"
    }
   ],
   "source": [
    "student_scores_df.plot(x='Hours', y='Scores', style='o')\n",
    "plt.title('Hours vs Percentage')\n",
    "plt.xlabel('Hours Studied')\n",
    "plt.ylabel('Percentage Score')\n",
    "plt.show()"
   ]
  },
  {
   "cell_type": "markdown",
   "id": "focused-island",
   "metadata": {
    "pycharm": {
     "name": "#%% md\n"
    }
   },
   "source": [
    "### 1.4 Preprocess the Data & split to train set and test set\n",
    "\n",
    "<span style=\"color:red\">Task : split the data into tarin (80%) and test (20%)</span>"
   ]
  },
  {
   "cell_type": "code",
   "execution_count": 5,
   "id": "plastic-bronze",
   "metadata": {
    "pycharm": {
     "name": "#%%\n"
    }
   },
   "outputs": [],
   "source": [
    "X = student_scores_df.iloc[:, :-1].values\n",
    "y = student_scores_df.iloc[:, 1].values\n",
    "\n",
    "X_train, X_test, y_train, y_test = None"
   ]
  },
  {
   "cell_type": "markdown",
   "id": "sitting-territory",
   "metadata": {
    "pycharm": {
     "name": "#%% md\n"
    }
   },
   "source": [
    "### 1.5 Build, Train and Test ModelLinear Regression Model"
   ]
  },
  {
   "cell_type": "code",
   "execution_count": 6,
   "id": "accepting-likelihood",
   "metadata": {
    "pycharm": {
     "name": "#%%\n"
    }
   },
   "outputs": [
    {
     "name": "stdout",
     "output_type": "stream",
     "text": [
      "Model intercept : 4.0473769216964754\n",
      "Model coefficient : [9.46461686]\n"
     ]
    }
   ],
   "source": [
    "regressor = LinearRegression()\n",
    "regressor.fit(X_train, y_train)\n",
    "print(f\"Model intercept : {regressor.intercept_}\")\n",
    "print(f\"Model coefficient : {regressor.coef_}\")\n",
    "\n",
    "y_pred = regressor.predict(X_test)\n",
    "eval_df = pd.DataFrame({'Actual': y_test, 'Predicted': y_pred})"
   ]
  },
  {
   "cell_type": "code",
   "execution_count": 7,
   "id": "spatial-underwear",
   "metadata": {
    "pycharm": {
     "name": "#%%\n"
    }
   },
   "outputs": [
    {
     "data": {
      "text/html": [
       "<div>\n",
       "<style scoped>\n",
       "    .dataframe tbody tr th:only-of-type {\n",
       "        vertical-align: middle;\n",
       "    }\n",
       "\n",
       "    .dataframe tbody tr th {\n",
       "        vertical-align: top;\n",
       "    }\n",
       "\n",
       "    .dataframe thead th {\n",
       "        text-align: right;\n",
       "    }\n",
       "</style>\n",
       "<table border=\"1\" class=\"dataframe\">\n",
       "  <thead>\n",
       "    <tr style=\"text-align: right;\">\n",
       "      <th></th>\n",
       "      <th>Actual</th>\n",
       "      <th>Predicted</th>\n",
       "    </tr>\n",
       "  </thead>\n",
       "  <tbody>\n",
       "    <tr>\n",
       "      <th>0</th>\n",
       "      <td>60</td>\n",
       "      <td>56.102770</td>\n",
       "    </tr>\n",
       "    <tr>\n",
       "      <th>1</th>\n",
       "      <td>24</td>\n",
       "      <td>22.030149</td>\n",
       "    </tr>\n",
       "    <tr>\n",
       "      <th>2</th>\n",
       "      <td>85</td>\n",
       "      <td>76.924927</td>\n",
       "    </tr>\n",
       "    <tr>\n",
       "      <th>3</th>\n",
       "      <td>21</td>\n",
       "      <td>27.708919</td>\n",
       "    </tr>\n",
       "    <tr>\n",
       "      <th>4</th>\n",
       "      <td>27</td>\n",
       "      <td>34.334151</td>\n",
       "    </tr>\n",
       "  </tbody>\n",
       "</table>\n",
       "</div>"
      ],
      "text/plain": [
       "   Actual  Predicted\n",
       "0      60  56.102770\n",
       "1      24  22.030149\n",
       "2      85  76.924927\n",
       "3      21  27.708919\n",
       "4      27  34.334151"
      ]
     },
     "execution_count": 7,
     "metadata": {},
     "output_type": "execute_result"
    }
   ],
   "source": [
    "eval_df"
   ]
  },
  {
   "cell_type": "markdown",
   "id": "driven-comparison",
   "metadata": {
    "pycharm": {
     "name": "#%% md\n"
    }
   },
   "source": [
    "### 1.5 Evaluate model using appropiate evaluation metrics"
   ]
  },
  {
   "cell_type": "code",
   "execution_count": 8,
   "id": "behind-florida",
   "metadata": {
    "pycharm": {
     "name": "#%%\n"
    }
   },
   "outputs": [
    {
     "name": "stdout",
     "output_type": "stream",
     "text": [
      "Mean Absolute Error: 5.597044924328524\n",
      "Mean Squared Error: 36.614978008383886\n",
      "Root Mean Squared Error: 6.0510311524883\n"
     ]
    }
   ],
   "source": [
    "print('Mean Absolute Error:', metrics.mean_absolute_error(y_test, y_pred))\n",
    "print('Mean Squared Error:', metrics.mean_squared_error(y_test, y_pred))\n",
    "print('Root Mean Squared Error:', np.sqrt(metrics.mean_squared_error(y_test, y_pred)))"
   ]
  },
  {
   "cell_type": "markdown",
   "id": "legal-bhutan",
   "metadata": {
    "pycharm": {
     "name": "#%% md\n"
    }
   },
   "source": [
    "## 2. Multiple Linear Regression\n",
    "\n",
    "Linear regression involving multiple variables is called \"multiple linear regression\"\n",
    "We will use multiple linear regression to predict the gas consumptions (in millions of gallons) in 48 US states based upon gas taxes (in cents), per capita income (dollars), paved highways (in miles) and the proportion of population that has a drivers license.\n",
    "We seek a model of the form:\n",
    "\n",
    "$$\\hat{y} = \\beta_0 + \\beta_1 x_1 + \\beta_2 x_2 + ... + \\beta_n x_n.$$"
   ]
  },
  {
   "cell_type": "markdown",
   "id": "dominican-belly",
   "metadata": {
    "pycharm": {
     "name": "#%% md\n"
    }
   },
   "source": [
    "### 2.3  Load and Explore the dataset"
   ]
  },
  {
   "cell_type": "code",
   "execution_count": 9,
   "id": "consolidated-navigation",
   "metadata": {
    "pycharm": {
     "name": "#%%\n"
    }
   },
   "outputs": [
    {
     "data": {
      "text/html": [
       "<div>\n",
       "<style scoped>\n",
       "    .dataframe tbody tr th:only-of-type {\n",
       "        vertical-align: middle;\n",
       "    }\n",
       "\n",
       "    .dataframe tbody tr th {\n",
       "        vertical-align: top;\n",
       "    }\n",
       "\n",
       "    .dataframe thead th {\n",
       "        text-align: right;\n",
       "    }\n",
       "</style>\n",
       "<table border=\"1\" class=\"dataframe\">\n",
       "  <thead>\n",
       "    <tr style=\"text-align: right;\">\n",
       "      <th></th>\n",
       "      <th>Petrol_tax</th>\n",
       "      <th>Average_income</th>\n",
       "      <th>Paved_Highways</th>\n",
       "      <th>Population_Driver_licence(%)</th>\n",
       "      <th>Petrol_Consumption</th>\n",
       "    </tr>\n",
       "  </thead>\n",
       "  <tbody>\n",
       "    <tr>\n",
       "      <th>0</th>\n",
       "      <td>9.0</td>\n",
       "      <td>3571</td>\n",
       "      <td>1976</td>\n",
       "      <td>0.525</td>\n",
       "      <td>541</td>\n",
       "    </tr>\n",
       "    <tr>\n",
       "      <th>1</th>\n",
       "      <td>9.0</td>\n",
       "      <td>4092</td>\n",
       "      <td>1250</td>\n",
       "      <td>0.572</td>\n",
       "      <td>524</td>\n",
       "    </tr>\n",
       "    <tr>\n",
       "      <th>2</th>\n",
       "      <td>9.0</td>\n",
       "      <td>3865</td>\n",
       "      <td>1586</td>\n",
       "      <td>0.580</td>\n",
       "      <td>561</td>\n",
       "    </tr>\n",
       "    <tr>\n",
       "      <th>3</th>\n",
       "      <td>7.5</td>\n",
       "      <td>4870</td>\n",
       "      <td>2351</td>\n",
       "      <td>0.529</td>\n",
       "      <td>414</td>\n",
       "    </tr>\n",
       "    <tr>\n",
       "      <th>4</th>\n",
       "      <td>8.0</td>\n",
       "      <td>4399</td>\n",
       "      <td>431</td>\n",
       "      <td>0.544</td>\n",
       "      <td>410</td>\n",
       "    </tr>\n",
       "  </tbody>\n",
       "</table>\n",
       "</div>"
      ],
      "text/plain": [
       "   Petrol_tax  Average_income  Paved_Highways  Population_Driver_licence(%)  \\\n",
       "0         9.0            3571            1976                         0.525   \n",
       "1         9.0            4092            1250                         0.572   \n",
       "2         9.0            3865            1586                         0.580   \n",
       "3         7.5            4870            2351                         0.529   \n",
       "4         8.0            4399             431                         0.544   \n",
       "\n",
       "   Petrol_Consumption  \n",
       "0                 541  \n",
       "1                 524  \n",
       "2                 561  \n",
       "3                 414  \n",
       "4                 410  "
      ]
     },
     "execution_count": 9,
     "metadata": {},
     "output_type": "execute_result"
    }
   ],
   "source": [
    "petrol_consumption_df = pd.read_csv('petrol_consumption.csv')\n",
    "petrol_consumption_df.head()"
   ]
  },
  {
   "cell_type": "code",
   "execution_count": 10,
   "id": "moving-third",
   "metadata": {
    "pycharm": {
     "name": "#%%\n"
    },
    "scrolled": true
   },
   "outputs": [
    {
     "data": {
      "text/html": [
       "<div>\n",
       "<style scoped>\n",
       "    .dataframe tbody tr th:only-of-type {\n",
       "        vertical-align: middle;\n",
       "    }\n",
       "\n",
       "    .dataframe tbody tr th {\n",
       "        vertical-align: top;\n",
       "    }\n",
       "\n",
       "    .dataframe thead th {\n",
       "        text-align: right;\n",
       "    }\n",
       "</style>\n",
       "<table border=\"1\" class=\"dataframe\">\n",
       "  <thead>\n",
       "    <tr style=\"text-align: right;\">\n",
       "      <th></th>\n",
       "      <th>count</th>\n",
       "      <th>mean</th>\n",
       "      <th>std</th>\n",
       "      <th>min</th>\n",
       "      <th>25%</th>\n",
       "      <th>50%</th>\n",
       "      <th>75%</th>\n",
       "      <th>max</th>\n",
       "    </tr>\n",
       "  </thead>\n",
       "  <tbody>\n",
       "    <tr>\n",
       "      <th>Petrol_tax</th>\n",
       "      <td>48.0</td>\n",
       "      <td>7.668333</td>\n",
       "      <td>0.950770</td>\n",
       "      <td>5.000</td>\n",
       "      <td>7.00000</td>\n",
       "      <td>7.5000</td>\n",
       "      <td>8.12500</td>\n",
       "      <td>10.000</td>\n",
       "    </tr>\n",
       "    <tr>\n",
       "      <th>Average_income</th>\n",
       "      <td>48.0</td>\n",
       "      <td>4241.833333</td>\n",
       "      <td>573.623768</td>\n",
       "      <td>3063.000</td>\n",
       "      <td>3739.00000</td>\n",
       "      <td>4298.0000</td>\n",
       "      <td>4578.75000</td>\n",
       "      <td>5342.000</td>\n",
       "    </tr>\n",
       "    <tr>\n",
       "      <th>Paved_Highways</th>\n",
       "      <td>48.0</td>\n",
       "      <td>5565.416667</td>\n",
       "      <td>3491.507166</td>\n",
       "      <td>431.000</td>\n",
       "      <td>3110.25000</td>\n",
       "      <td>4735.5000</td>\n",
       "      <td>7156.00000</td>\n",
       "      <td>17782.000</td>\n",
       "    </tr>\n",
       "    <tr>\n",
       "      <th>Population_Driver_licence(%)</th>\n",
       "      <td>48.0</td>\n",
       "      <td>0.570333</td>\n",
       "      <td>0.055470</td>\n",
       "      <td>0.451</td>\n",
       "      <td>0.52975</td>\n",
       "      <td>0.5645</td>\n",
       "      <td>0.59525</td>\n",
       "      <td>0.724</td>\n",
       "    </tr>\n",
       "    <tr>\n",
       "      <th>Petrol_Consumption</th>\n",
       "      <td>48.0</td>\n",
       "      <td>576.770833</td>\n",
       "      <td>111.885816</td>\n",
       "      <td>344.000</td>\n",
       "      <td>509.50000</td>\n",
       "      <td>568.5000</td>\n",
       "      <td>632.75000</td>\n",
       "      <td>968.000</td>\n",
       "    </tr>\n",
       "  </tbody>\n",
       "</table>\n",
       "</div>"
      ],
      "text/plain": [
       "                              count         mean          std       min  \\\n",
       "Petrol_tax                     48.0     7.668333     0.950770     5.000   \n",
       "Average_income                 48.0  4241.833333   573.623768  3063.000   \n",
       "Paved_Highways                 48.0  5565.416667  3491.507166   431.000   \n",
       "Population_Driver_licence(%)   48.0     0.570333     0.055470     0.451   \n",
       "Petrol_Consumption             48.0   576.770833   111.885816   344.000   \n",
       "\n",
       "                                     25%        50%         75%        max  \n",
       "Petrol_tax                       7.00000     7.5000     8.12500     10.000  \n",
       "Average_income                3739.00000  4298.0000  4578.75000   5342.000  \n",
       "Paved_Highways                3110.25000  4735.5000  7156.00000  17782.000  \n",
       "Population_Driver_licence(%)     0.52975     0.5645     0.59525      0.724  \n",
       "Petrol_Consumption             509.50000   568.5000   632.75000    968.000  "
      ]
     },
     "execution_count": 10,
     "metadata": {},
     "output_type": "execute_result"
    }
   ],
   "source": [
    "petrol_consumption_df.describe().T"
   ]
  },
  {
   "cell_type": "markdown",
   "id": "representative-command",
   "metadata": {
    "pycharm": {
     "name": "#%% md\n"
    }
   },
   "source": [
    "### 2.4 Preprocess the Data & split to train set and test set"
   ]
  },
  {
   "cell_type": "code",
   "execution_count": 11,
   "id": "noble-bones",
   "metadata": {
    "pycharm": {
     "name": "#%%\n"
    }
   },
   "outputs": [],
   "source": [
    "X = petrol_consumption_df.drop('Petrol_Consumption', axis=1)\n",
    "y = petrol_consumption_df['Petrol_Consumption']\n",
    "\n",
    "X_train, X_test, y_train, y_test = train_test_split(X, y, test_size=0.2, random_state=0)\n"
   ]
  },
  {
   "cell_type": "markdown",
   "id": "located-rebound",
   "metadata": {
    "pycharm": {
     "name": "#%% md\n"
    }
   },
   "source": [
    "### 2.5 Build, Train and Test Model Regression Model"
   ]
  },
  {
   "cell_type": "code",
   "execution_count": 12,
   "id": "ideal-profit",
   "metadata": {
    "pycharm": {
     "name": "#%%\n"
    }
   },
   "outputs": [
    {
     "name": "stdout",
     "output_type": "stream",
     "text": [
      "Model intercept : 425.59933220324206\n",
      "Model coefficients : [-4.00166602e+01 -6.54126674e-02 -4.74073380e-03  1.34186212e+03]\n"
     ]
    }
   ],
   "source": [
    "regressor = LinearRegression()\n",
    "regressor.fit(X_train, y_train)\n",
    "print(f\"Model intercept : {regressor.intercept_}\")\n",
    "print(f\"Model coefficients : {regressor.coef_}\")"
   ]
  },
  {
   "cell_type": "markdown",
   "id": "fabulous-catch",
   "metadata": {
    "pycharm": {
     "name": "#%% md\n"
    }
   },
   "source": [
    "### 2.6 Evaluate model using appropiate evaluation metrics\n",
    "\n",
    "<span style=\"color:red\">Task 1 : Use the predict function in the model(`regressor`) to predict the output of the testset(`X_test`) and  print it. </span>\n",
    "\n",
    "<span style=\"color:red\">Task  2 : Measure the performance of the model using: <br>     </span>\n",
    "1. root mean squared error \n",
    "1. mean absolute error \n",
    "1. coefficient of determination $R^2$. See [`sklearn.metrics.r2_score`](https://scikit-learn.org/stable/modules/generated/sklearn.metrics.r2_score.html) for $R^2$."
   ]
  },
  {
   "cell_type": "code",
   "execution_count": 13,
   "id": "municipal-cornell",
   "metadata": {
    "pycharm": {
     "name": "#%%\n"
    }
   },
   "outputs": [],
   "source": [
    "# TODO: Task 1"
   ]
  },
  {
   "cell_type": "code",
   "execution_count": 14,
   "id": "saving-crowd",
   "metadata": {
    "pycharm": {
     "name": "#%%\n"
    }
   },
   "outputs": [],
   "source": [
    "# TODO: Task 2"
   ]
  },
  {
   "cell_type": "markdown",
   "id": "vulnerable-population",
   "metadata": {
    "pycharm": {
     "name": "#%% md\n"
    }
   },
   "source": [
    "## 3. Polynomial Regression, Underfitting & Overfitting\n",
    "\n",
    "Polynomial Regression, is simply a transformation for the explanatory variables to higher polynomial orders with interactive variables.\n",
    "\n",
    "1. Why do we need it?\n",
    "1. Which order of the polynomial should we choose? \n",
    "2. should we always pick the most complex model? \n",
    "\n"
   ]
  },
  {
   "cell_type": "markdown",
   "id": "respected-circulation",
   "metadata": {
    "pycharm": {
     "name": "#%% md\n"
    }
   },
   "source": [
    "### 3.2 Import libraries"
   ]
  },
  {
   "cell_type": "code",
   "execution_count": 15,
   "id": "impossible-bradley",
   "metadata": {
    "pycharm": {
     "name": "#%%\n"
    }
   },
   "outputs": [],
   "source": [
    "from sklearn.pipeline import Pipeline\n",
    "from sklearn.preprocessing import PolynomialFeatures #to convert the original features into their higher order terms \n",
    "from sklearn.linear_model import LinearRegression\n",
    "from sklearn.model_selection import cross_val_score"
   ]
  },
  {
   "cell_type": "markdown",
   "id": "brave-currency",
   "metadata": {
    "pycharm": {
     "name": "#%% md\n"
    }
   },
   "source": [
    "### 3.3 Load and Explore the dataset\n",
    "<span style=\"color:red\">Task : generate synthetic dataset by adding some random gaussian noise to a cosine function.</span>"
   ]
  },
  {
   "cell_type": "code",
   "execution_count": 16,
   "id": "technical-barrier",
   "metadata": {
    "pycharm": {
     "name": "#%%\n"
    }
   },
   "outputs": [
    {
     "data": {
      "image/png": "[encoded data removed]",
      "text/plain": [
       "<Figure size 432x288 with 1 Axes>"
      ]
     },
     "metadata": {
      "needs_background": "light"
     },
     "output_type": "display_data"
    }
   ],
   "source": [
    "# sinusoidal function\n",
    "def fn(X):\n",
    "    #Task : one line of code\n",
    "    return None\n",
    "\n",
    "np.random.seed(0)\n",
    "\n",
    "n_samples = 30\n",
    "X = np.sort(np.random.rand(n_samples))\n",
    "y = fn(X) + np.random.randn(n_samples) * 0.1\n",
    "\n",
    "plt.scatter(X,y,label=\"Samples\")\n",
    "plt.title('synthetic dataset')\n",
    "plt.xlabel('X')\n",
    "plt.ylabel('Y')\n",
    "plt.legend(loc=\"best\")\n",
    "plt.show()"
   ]
  },
  {
   "cell_type": "markdown",
   "id": "weird-monday",
   "metadata": {
    "pycharm": {
     "name": "#%% md\n"
    }
   },
   "source": [
    "### 3.4 Preprocess the Data, build model and evaluate model \n",
    "\n",
    "* We will build three polynomial models with degrees [1, 4, 15] and observe the effect of increasing the degree of complixity of the model on how well it suits the data.\n",
    "* We will evaluate our model using cross validation"
   ]
  },
  {
   "cell_type": "code",
   "execution_count": 17,
   "id": "central-obligation",
   "metadata": {
    "pycharm": {
     "name": "#%%\n"
    }
   },
   "outputs": [
    {
     "data": {
      "image/png": "[encoded data removed]",
      "text/plain": [
       "<Figure size 1008x360 with 3 Axes>"
      ]
     },
     "metadata": {},
     "output_type": "display_data"
    }
   ],
   "source": [
    "degrees = [1, 4, 15]\n",
    "\n",
    "plt.figure(figsize=(14, 5))\n",
    "for i in range(len(degrees)):\n",
    "    ax = plt.subplot(1, len(degrees), i + 1)\n",
    "    plt.setp(ax, xticks=(), yticks=())\n",
    "\n",
    "    polynomial_features = PolynomialFeatures(degree=degrees[i])\n",
    "    linear_regression = LinearRegression()\n",
    "    pipeline = Pipeline([(\"polynomial_features\", polynomial_features),\n",
    "                         (\"linear_regression\", linear_regression)])\n",
    "    pipeline.fit(X[:, np.newaxis], y)\n",
    "\n",
    "    # Evaluate the models using crossvalidation\n",
    "    scores = cross_val_score(pipeline, X[:, np.newaxis], y,\n",
    "                             scoring=\"neg_mean_squared_error\", cv=10)\n",
    "\n",
    "    X_test = np.linspace(0, 1, 100)\n",
    "    plt.plot(X_test, pipeline.predict(X_test[:, np.newaxis]), label=\"Model\")\n",
    "    plt.plot(X_test, sinusoidal(X_test), label=\"True function\")\n",
    "    plt.scatter(X, y, edgecolor='b', s=20, label=\"Samples\")\n",
    "    plt.xlabel(\"x\")\n",
    "    plt.ylabel(\"y\")\n",
    "    plt.xlim((0, 1))\n",
    "    plt.ylim((-2, 2))\n",
    "    plt.legend(loc=\"best\")\n",
    "    plt.title(\"Degree {}\\nMSE = {:.2e}(+/- {:.2e})\".format(\n",
    "        degrees[i], -scores.mean(), scores.std()))\n",
    "plt.show()"
   ]
  },
  {
   "cell_type": "markdown",
   "id": "resistant-cameroon",
   "metadata": {
    "pycharm": {
     "name": "#%% md\n"
    }
   },
   "source": [
    "## <center>Self practice</center>\n",
    "\n",
    "* Using boston house-prices dataset from sklearn ([sklearn.datasets.fetch_california_housing](https://scikit-learn.org/stable/modules/generated/sklearn.datasets.fetch_california_housing.html)).\n",
    "    1. Split the data to train and test set (80% training). Use [`sklearn.model_selection.train_test_split`](https://scikit-learn.org/stable/modules/generated/sklearn.model_selection.train_test_split.html)\n",
    "    1. Train a multiple linear regression model that will predict the house price `(target)`.\n",
    "    1. Print the model `Mean Absolute Error`, `Mean Squared Error` and `Root Mean Squared Error`\n",
    "\n",
    "\n",
    "* Select one indipendent and select `target` as dependent variable \n",
    "    1. Visualise the data (using `matplotlib`)\n",
    "    1. Create a Polynomial Regression model using `[1,5,24]` as degrees\n",
    "    1. Explain your observations in terms of Over-fitting, Under-fitting, Bias-Variance trade-offs."
   ]
  },
  {
   "cell_type": "code",
   "execution_count": 1,
   "outputs": [],
   "source": [
    "import pandas as pd"
   ],
   "metadata": {
    "collapsed": false,
    "pycharm": {
     "name": "#%%\n"
    }
   }
  },
  {
   "cell_type": "code",
   "execution_count": 2,
   "id": "statistical-formation",
   "metadata": {
    "pycharm": {
     "name": "#%%\n"
    }
   },
   "outputs": [],
   "source": [
    "from sklearn.datasets import fetch_california_housing\n",
    "\n",
    "df, target = fetch_california_housing(return_X_y=True)"
   ]
  },
  {
   "cell_type": "code",
   "execution_count": 3,
   "outputs": [],
   "source": [
    "from sklearn.model_selection import train_test_split\n",
    "\n",
    "x_train, x_test, y_train, y_test, = train_test_split(df, target, test_size=0.2)"
   ],
   "metadata": {
    "collapsed": false,
    "pycharm": {
     "name": "#%%\n"
    }
   }
  },
  {
   "cell_type": "code",
   "execution_count": 4,
   "outputs": [],
   "source": [
    "from sklearn.metrics import mean_squared_error, mean_absolute_error\n",
    "import math"
   ],
   "metadata": {
    "collapsed": false,
    "pycharm": {
     "name": "#%%\n"
    }
   }
  },
  {
   "cell_type": "code",
   "execution_count": 5,
   "outputs": [
    {
     "name": "stdout",
     "output_type": "stream",
     "text": [
      "MSE on testset: 0.5237903079569627\n",
      "MAE on testset: 0.5317200175447426\n",
      "RMSE score on testset: 0.7237335890760928\n",
      "\n",
      "MSE on trainset: 0.5245743674446863\n",
      "MAE on trainset: 0.5308860066307828\n",
      "RMSE score on trainset: 0.7242750633873062\n"
     ]
    }
   ],
   "source": [
    "from sklearn.linear_model import LinearRegression\n",
    "linear = LinearRegression().fit(x_train,y_train)\n",
    "y_pred = linear.predict(x_test)\n",
    "y_pred_train = linear.predict(x_train)\n",
    "print(\"MSE on testset:\", mean_squared_error(y_test, y_pred))\n",
    "print('MAE on testset:', mean_absolute_error(y_test, y_pred))\n",
    "print('RMSE score on testset:', math.sqrt(mean_squared_error(y_test, y_pred)))\n",
    "\n",
    "print('\\nMSE on trainset:', mean_squared_error(y_train, y_pred_train))\n",
    "print('MAE on trainset:', mean_absolute_error(y_train, y_pred_train))\n",
    "print('RMSE score on trainset:', math.sqrt(mean_squared_error(y_train,y_pred_train)))"
   ],
   "metadata": {
    "collapsed": false,
    "pycharm": {
     "name": "#%%\n"
    }
   }
  },
  {
   "cell_type": "code",
   "execution_count": 6,
   "outputs": [
    {
     "data": {
      "text/plain": "<Figure size 480x480 with 1 Axes>",
      "image/png": "[encoded data removed]"
     },
     "metadata": {},
     "output_type": "display_data"
    }
   ],
   "source": [
    "from matplotlib.pyplot import *\n",
    "matshow(pd.DataFrame(df).corr())\n",
    "show()"
   ],
   "metadata": {
    "collapsed": false,
    "pycharm": {
     "name": "#%%\n"
    }
   }
  },
  {
   "cell_type": "code",
   "execution_count": 7,
   "outputs": [
    {
     "data": {
      "text/plain": "<matplotlib.collections.PathCollection at 0x27aab2adcc0>"
     },
     "execution_count": 7,
     "metadata": {},
     "output_type": "execute_result"
    },
    {
     "data": {
      "text/plain": "<Figure size 640x480 with 1 Axes>",
      "image/png": "[encoded data removed]"
     },
     "metadata": {},
     "output_type": "display_data"
    }
   ],
   "source": [
    "scatter(target, df[:,0])"
   ],
   "metadata": {
    "collapsed": false,
    "pycharm": {
     "name": "#%%\n"
    }
   }
  },
  {
   "cell_type": "code",
   "execution_count": 8,
   "outputs": [],
   "source": [
    "x_train = np.array(x_train,dtype=np.float32)\n",
    "y_train = np.array(y_train,dtype=np.float32)\n",
    "x_test = np.array(x_test,dtype=np.float32)\n",
    "y_test = np.array(y_test,dtype=np.float32)"
   ],
   "metadata": {
    "collapsed": false,
    "pycharm": {
     "name": "#%%\n"
    }
   }
  },
  {
   "cell_type": "code",
   "execution_count": 14,
   "outputs": [
    {
     "name": "stdout",
     "output_type": "stream",
     "text": [
      "\n",
      " 1 degree\n",
      "\n",
      "MSE on trainset: 0.5245744\n",
      "MAE on trainset: 0.53087175\n",
      "RMSE score on trainset: 0.7242750851675389\n",
      "MSE on testset: 0.5237906\n",
      "MAE on testset: 0.5317074\n",
      "RMSE score on testset: 0.7237337893974893\n",
      "\n",
      " 5 degree\n",
      "\n",
      "MSE on trainset: 1.3860519\n",
      "MAE on trainset: 0.9231901\n",
      "RMSE score on trainset: 1.1773070513822013\n",
      "MSE on testset: 1.3527642\n",
      "MAE on testset: 0.9289979\n",
      "RMSE score on testset: 1.1630839388659622\n",
      "\n",
      " 6 degree\n",
      "\n",
      "MSE on trainset: 1.8690938\n",
      "MAE on trainset: 0.9167903\n",
      "RMSE score on trainset: 1.3671480445618194\n",
      "MSE on testset: 1.3787109\n",
      "MAE on testset: 0.92018956\n",
      "RMSE score on testset: 1.1741851923672117\n",
      "\n",
      " 7 degree\n",
      "\n",
      "MSE on trainset: 2.3305857\n",
      "MAE on trainset: 0.9210569\n",
      "RMSE score on trainset: 1.5266255985522146\n",
      "MSE on testset: 1.3363384\n",
      "MAE on testset: 0.91818106\n",
      "RMSE score on testset: 1.1560010384254675\n",
      "\n",
      " 8 degree\n",
      "\n",
      "MSE on trainset: 1.3300425\n",
      "MAE on trainset: 0.9095377\n",
      "RMSE score on trainset: 1.1532746773524616\n",
      "MSE on testset: 1.3367901\n",
      "MAE on testset: 0.9190715\n",
      "RMSE score on testset: 1.1561963867954559\n"
     ]
    }
   ],
   "source": [
    "from sklearn.preprocessing import PolynomialFeatures\n",
    "from sklearn.pipeline import Pipeline\n",
    "for i in [1,5,6,7,8]:\n",
    "    poly = PolynomialFeatures(degree=i)\n",
    "    line = LinearRegression()\n",
    "    pipeline = Pipeline([('poly',poly),('line',line)])\n",
    "    pipeline.fit(x_train,y_train)\n",
    "    y_pred_train = pipeline.predict(x_train)\n",
    "    y_pred = pipeline.predict(x_test)\n",
    "    print('\\n', i, 'degree')\n",
    "    print('\\nMSE on trainset:', mean_squared_error(y_train, y_pred_train))\n",
    "    print('MAE on trainset:', mean_absolute_error(y_train, y_pred_train))\n",
    "    print('RMSE score on trainset:', math.sqrt(mean_squared_error(y_train,y_pred_train)))\n",
    "    print(\"MSE on testset:\", mean_squared_error(y_test, y_pred))\n",
    "    print('MAE on testset:', mean_absolute_error(y_test, y_pred))\n",
    "    print('RMSE score on testset:', math.sqrt(mean_squared_error(y_test, y_pred)))"
   ],
   "metadata": {
    "collapsed": false,
    "pycharm": {
     "name": "#%%\n"
    }
   }
  },
  {
   "cell_type": "markdown",
   "source": [],
   "metadata": {
    "collapsed": false,
    "pycharm": {
     "name": "#%% md\n"
    }
   }
  },
  {
   "cell_type": "markdown",
   "source": [
    "We can see here that 1 degree polynom has not enough complexity to solve this task. Model is underfitted. Thats why metrics on test is quite similar to metrix on train. So it needs more complexity. Same with 5 degree polynom. But on 6 degree and further we can see that metrics begin to be more and more distinguished and error on test set started to rise. That means that model now have enough complexity and it start to learn on noise. Model is now overfitted."
   ],
   "metadata": {
    "collapsed": false,
    "pycharm": {
     "name": "#%% md\n"
    }
   }
  }
 ],
 "metadata": {
  "kernelspec": {
   "display_name": "Python 3 (ipykernel)",
   "language": "python",
   "name": "python3"
  },
  "language_info": {
   "codemirror_mode": {
    "name": "ipython",
    "version": 3
   },
   "file_extension": ".py",
   "mimetype": "text/x-python",
   "name": "python",
   "nbconvert_exporter": "python",
   "pygments_lexer": "ipython3",
   "version": "3.8.10"
  }
 },
 "nbformat": 4,
 "nbformat_minor": 5
}