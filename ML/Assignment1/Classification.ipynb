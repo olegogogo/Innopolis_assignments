{
 "cells": [
  {
   "cell_type": "markdown",
   "source": [
    "# **Assignment 1, classification task**\n",
    "### Ostapovich Oleg"
   ],
   "metadata": {
    "collapsed": false,
    "pycharm": {
     "name": "#%% md\n"
    }
   }
  },
  {
   "cell_type": "markdown",
   "source": [
    "### Data preprocessing"
   ],
   "metadata": {
    "collapsed": false,
    "pycharm": {
     "name": "#%% md\n"
    }
   }
  },
  {
   "cell_type": "code",
   "execution_count": 1,
   "outputs": [],
   "source": [
    "import numpy as np\n",
    "import pandas as pd\n",
    "from sklearn.metrics import mean_squared_error\n",
    "from functions import *\n",
    "import matplotlib.pyplot as plt"
   ],
   "metadata": {
    "collapsed": false,
    "pycharm": {
     "name": "#%%\n"
    }
   }
  },
  {
   "cell_type": "code",
   "execution_count": 3,
   "outputs": [],
   "source": [
    "#loading data\n",
    "stream_quality_df = pd.read_csv('stream_quality_data/train_data.csv')\n",
    "stream_quality_test = pd.read_csv('stream_quality_data/test_data.csv')"
   ],
   "metadata": {
    "collapsed": false,
    "pycharm": {
     "name": "#%%\n"
    }
   }
  },
  {
   "cell_type": "code",
   "execution_count": 4,
   "outputs": [
    {
     "data": {
      "text/plain": "   fps_mean   fps_std  fps_lags  rtt_mean    rtt_std  dropped_frames_mean  \\\n0      24.4  0.516398         0      91.1   6.723921                  0.0   \n1      28.6  2.065591         0      99.7  15.923777                  0.0   \n2      30.0  0.000000         0      98.1  11.798776                  0.0   \n3      30.3  0.948683         0      99.4  13.014522                  0.0   \n4      29.9  0.316228         0     123.2  62.476307                  0.0   \n\n   dropped_frames_std  dropped_frames_max auto_bitrate_state auto_fec_state  \\\n0                 0.0                 0.0                off        partial   \n1                 0.0                 0.0                off        partial   \n2                 0.0                 0.0                off        partial   \n3                 0.0                 0.0                off        partial   \n4                 0.0                 0.0                off        partial   \n\n   auto_fec_mean  stream_quality  \n0           50.0               0  \n1           50.0               0  \n2           50.0               0  \n3           50.0               0  \n4           50.0               0  ",
      "text/html": "<div>\n<style scoped>\n    .dataframe tbody tr th:only-of-type {\n        vertical-align: middle;\n    }\n\n    .dataframe tbody tr th {\n        vertical-align: top;\n    }\n\n    .dataframe thead th {\n        text-align: right;\n    }\n</style>\n<table border=\"1\" class=\"dataframe\">\n  <thead>\n    <tr style=\"text-align: right;\">\n      <th></th>\n      <th>fps_mean</th>\n      <th>fps_std</th>\n      <th>fps_lags</th>\n      <th>rtt_mean</th>\n      <th>rtt_std</th>\n      <th>dropped_frames_mean</th>\n      <th>dropped_frames_std</th>\n      <th>dropped_frames_max</th>\n      <th>auto_bitrate_state</th>\n      <th>auto_fec_state</th>\n      <th>auto_fec_mean</th>\n      <th>stream_quality</th>\n    </tr>\n  </thead>\n  <tbody>\n    <tr>\n      <th>0</th>\n      <td>24.4</td>\n      <td>0.516398</td>\n      <td>0</td>\n      <td>91.1</td>\n      <td>6.723921</td>\n      <td>0.0</td>\n      <td>0.0</td>\n      <td>0.0</td>\n      <td>off</td>\n      <td>partial</td>\n      <td>50.0</td>\n      <td>0</td>\n    </tr>\n    <tr>\n      <th>1</th>\n      <td>28.6</td>\n      <td>2.065591</td>\n      <td>0</td>\n      <td>99.7</td>\n      <td>15.923777</td>\n      <td>0.0</td>\n      <td>0.0</td>\n      <td>0.0</td>\n      <td>off</td>\n      <td>partial</td>\n      <td>50.0</td>\n      <td>0</td>\n    </tr>\n    <tr>\n      <th>2</th>\n      <td>30.0</td>\n      <td>0.000000</td>\n      <td>0</td>\n      <td>98.1</td>\n      <td>11.798776</td>\n      <td>0.0</td>\n      <td>0.0</td>\n      <td>0.0</td>\n      <td>off</td>\n      <td>partial</td>\n      <td>50.0</td>\n      <td>0</td>\n    </tr>\n    <tr>\n      <th>3</th>\n      <td>30.3</td>\n      <td>0.948683</td>\n      <td>0</td>\n      <td>99.4</td>\n      <td>13.014522</td>\n      <td>0.0</td>\n      <td>0.0</td>\n      <td>0.0</td>\n      <td>off</td>\n      <td>partial</td>\n      <td>50.0</td>\n      <td>0</td>\n    </tr>\n    <tr>\n      <th>4</th>\n      <td>29.9</td>\n      <td>0.316228</td>\n      <td>0</td>\n      <td>123.2</td>\n      <td>62.476307</td>\n      <td>0.0</td>\n      <td>0.0</td>\n      <td>0.0</td>\n      <td>off</td>\n      <td>partial</td>\n      <td>50.0</td>\n      <td>0</td>\n    </tr>\n  </tbody>\n</table>\n</div>"
     },
     "execution_count": 4,
     "metadata": {},
     "output_type": "execute_result"
    }
   ],
   "source": [
    "stream_quality_df.head()"
   ],
   "metadata": {
    "collapsed": false,
    "pycharm": {
     "name": "#%%\n"
    }
   }
  },
  {
   "cell_type": "code",
   "execution_count": 5,
   "outputs": [],
   "source": [
    "# Data preprocessing at labels\n",
    "stream_quality_df, stream_quality_test = LabelEncoderforClassification(stream_quality_df,stream_quality_test)"
   ],
   "metadata": {
    "collapsed": false,
    "pycharm": {
     "name": "#%%\n"
    }
   }
  },
  {
   "cell_type": "code",
   "execution_count": 6,
   "outputs": [
    {
     "data": {
      "text/plain": "   fps_mean   fps_std  fps_lags  rtt_mean    rtt_std  dropped_frames_mean  \\\n0      24.4  0.516398         0      91.1   6.723921                  0.0   \n1      28.6  2.065591         0      99.7  15.923777                  0.0   \n2      30.0  0.000000         0      98.1  11.798776                  0.0   \n3      30.3  0.948683         0      99.4  13.014522                  0.0   \n4      29.9  0.316228         0     123.2  62.476307                  0.0   \n\n   dropped_frames_std  dropped_frames_max  auto_bitrate_state  auto_fec_state  \\\n0                 0.0                 0.0                   1               1   \n1                 0.0                 0.0                   1               1   \n2                 0.0                 0.0                   1               1   \n3                 0.0                 0.0                   1               1   \n4                 0.0                 0.0                   1               1   \n\n   auto_fec_mean  stream_quality  \n0           50.0               0  \n1           50.0               0  \n2           50.0               0  \n3           50.0               0  \n4           50.0               0  ",
      "text/html": "<div>\n<style scoped>\n    .dataframe tbody tr th:only-of-type {\n        vertical-align: middle;\n    }\n\n    .dataframe tbody tr th {\n        vertical-align: top;\n    }\n\n    .dataframe thead th {\n        text-align: right;\n    }\n</style>\n<table border=\"1\" class=\"dataframe\">\n  <thead>\n    <tr style=\"text-align: right;\">\n      <th></th>\n      <th>fps_mean</th>\n      <th>fps_std</th>\n      <th>fps_lags</th>\n      <th>rtt_mean</th>\n      <th>rtt_std</th>\n      <th>dropped_frames_mean</th>\n      <th>dropped_frames_std</th>\n      <th>dropped_frames_max</th>\n      <th>auto_bitrate_state</th>\n      <th>auto_fec_state</th>\n      <th>auto_fec_mean</th>\n      <th>stream_quality</th>\n    </tr>\n  </thead>\n  <tbody>\n    <tr>\n      <th>0</th>\n      <td>24.4</td>\n      <td>0.516398</td>\n      <td>0</td>\n      <td>91.1</td>\n      <td>6.723921</td>\n      <td>0.0</td>\n      <td>0.0</td>\n      <td>0.0</td>\n      <td>1</td>\n      <td>1</td>\n      <td>50.0</td>\n      <td>0</td>\n    </tr>\n    <tr>\n      <th>1</th>\n      <td>28.6</td>\n      <td>2.065591</td>\n      <td>0</td>\n      <td>99.7</td>\n      <td>15.923777</td>\n      <td>0.0</td>\n      <td>0.0</td>\n      <td>0.0</td>\n      <td>1</td>\n      <td>1</td>\n      <td>50.0</td>\n      <td>0</td>\n    </tr>\n    <tr>\n      <th>2</th>\n      <td>30.0</td>\n      <td>0.000000</td>\n      <td>0</td>\n      <td>98.1</td>\n      <td>11.798776</td>\n      <td>0.0</td>\n      <td>0.0</td>\n      <td>0.0</td>\n      <td>1</td>\n      <td>1</td>\n      <td>50.0</td>\n      <td>0</td>\n    </tr>\n    <tr>\n      <th>3</th>\n      <td>30.3</td>\n      <td>0.948683</td>\n      <td>0</td>\n      <td>99.4</td>\n      <td>13.014522</td>\n      <td>0.0</td>\n      <td>0.0</td>\n      <td>0.0</td>\n      <td>1</td>\n      <td>1</td>\n      <td>50.0</td>\n      <td>0</td>\n    </tr>\n    <tr>\n      <th>4</th>\n      <td>29.9</td>\n      <td>0.316228</td>\n      <td>0</td>\n      <td>123.2</td>\n      <td>62.476307</td>\n      <td>0.0</td>\n      <td>0.0</td>\n      <td>0.0</td>\n      <td>1</td>\n      <td>1</td>\n      <td>50.0</td>\n      <td>0</td>\n    </tr>\n  </tbody>\n</table>\n</div>"
     },
     "execution_count": 6,
     "metadata": {},
     "output_type": "execute_result"
    }
   ],
   "source": [
    "stream_quality_df.head() #here what happened with data"
   ],
   "metadata": {
    "collapsed": false,
    "pycharm": {
     "name": "#%%\n"
    }
   }
  },
  {
   "cell_type": "code",
   "execution_count": 7,
   "outputs": [],
   "source": [
    "# Data preprocessing at numerical data\n",
    "stream_quality_df, stream_quality_test = NumericalEncoderforClassification(stream_quality_df,stream_quality_test)"
   ],
   "metadata": {
    "collapsed": false,
    "pycharm": {
     "name": "#%%\n"
    }
   }
  },
  {
   "cell_type": "code",
   "execution_count": 8,
   "outputs": [
    {
     "data": {
      "text/plain": "   fps_mean   fps_std  fps_lags  rtt_mean   rtt_std  dropped_frames_mean  \\\n0  0.191975  0.001652       0.0  0.007063  0.000165                  0.0   \n1  0.225020  0.006609       0.0  0.007730  0.000391                  0.0   \n2  0.236035  0.000000       0.0  0.007606  0.000290                  0.0   \n3  0.238395  0.003035       0.0  0.007706  0.000320                  0.0   \n4  0.235248  0.001012       0.0  0.009552  0.001534                  0.0   \n\n   dropped_frames_std  dropped_frames_max  auto_bitrate_state  auto_fec_state  \\\n0                 0.0                 0.0                   1               1   \n1                 0.0                 0.0                   1               1   \n2                 0.0                 0.0                   1               1   \n3                 0.0                 0.0                   1               1   \n4                 0.0                 0.0                   1               1   \n\n   auto_fec_mean  stream_quality  \n0            0.2               0  \n1            0.2               0  \n2            0.2               0  \n3            0.2               0  \n4            0.2               0  ",
      "text/html": "<div>\n<style scoped>\n    .dataframe tbody tr th:only-of-type {\n        vertical-align: middle;\n    }\n\n    .dataframe tbody tr th {\n        vertical-align: top;\n    }\n\n    .dataframe thead th {\n        text-align: right;\n    }\n</style>\n<table border=\"1\" class=\"dataframe\">\n  <thead>\n    <tr style=\"text-align: right;\">\n      <th></th>\n      <th>fps_mean</th>\n      <th>fps_std</th>\n      <th>fps_lags</th>\n      <th>rtt_mean</th>\n      <th>rtt_std</th>\n      <th>dropped_frames_mean</th>\n      <th>dropped_frames_std</th>\n      <th>dropped_frames_max</th>\n      <th>auto_bitrate_state</th>\n      <th>auto_fec_state</th>\n      <th>auto_fec_mean</th>\n      <th>stream_quality</th>\n    </tr>\n  </thead>\n  <tbody>\n    <tr>\n      <th>0</th>\n      <td>0.191975</td>\n      <td>0.001652</td>\n      <td>0.0</td>\n      <td>0.007063</td>\n      <td>0.000165</td>\n      <td>0.0</td>\n      <td>0.0</td>\n      <td>0.0</td>\n      <td>1</td>\n      <td>1</td>\n      <td>0.2</td>\n      <td>0</td>\n    </tr>\n    <tr>\n      <th>1</th>\n      <td>0.225020</td>\n      <td>0.006609</td>\n      <td>0.0</td>\n      <td>0.007730</td>\n      <td>0.000391</td>\n      <td>0.0</td>\n      <td>0.0</td>\n      <td>0.0</td>\n      <td>1</td>\n      <td>1</td>\n      <td>0.2</td>\n      <td>0</td>\n    </tr>\n    <tr>\n      <th>2</th>\n      <td>0.236035</td>\n      <td>0.000000</td>\n      <td>0.0</td>\n      <td>0.007606</td>\n      <td>0.000290</td>\n      <td>0.0</td>\n      <td>0.0</td>\n      <td>0.0</td>\n      <td>1</td>\n      <td>1</td>\n      <td>0.2</td>\n      <td>0</td>\n    </tr>\n    <tr>\n      <th>3</th>\n      <td>0.238395</td>\n      <td>0.003035</td>\n      <td>0.0</td>\n      <td>0.007706</td>\n      <td>0.000320</td>\n      <td>0.0</td>\n      <td>0.0</td>\n      <td>0.0</td>\n      <td>1</td>\n      <td>1</td>\n      <td>0.2</td>\n      <td>0</td>\n    </tr>\n    <tr>\n      <th>4</th>\n      <td>0.235248</td>\n      <td>0.001012</td>\n      <td>0.0</td>\n      <td>0.009552</td>\n      <td>0.001534</td>\n      <td>0.0</td>\n      <td>0.0</td>\n      <td>0.0</td>\n      <td>1</td>\n      <td>1</td>\n      <td>0.2</td>\n      <td>0</td>\n    </tr>\n  </tbody>\n</table>\n</div>"
     },
     "execution_count": 8,
     "metadata": {},
     "output_type": "execute_result"
    }
   ],
   "source": [
    "stream_quality_df.head() #here what happened with data"
   ],
   "metadata": {
    "collapsed": false,
    "pycharm": {
     "name": "#%%\n"
    }
   }
  },
  {
   "cell_type": "markdown",
   "source": [
    "### Data visualization"
   ],
   "metadata": {
    "collapsed": false,
    "pycharm": {
     "name": "#%% md\n"
    }
   }
  },
  {
   "cell_type": "code",
   "execution_count": 9,
   "outputs": [
    {
     "data": {
      "text/plain": "<Figure size 640x480 with 1 Axes>",
      "image/png": "[encoded data removed]"
     },
     "metadata": {},
     "output_type": "display_data"
    }
   ],
   "source": [
    "from sklearn.decomposition import PCA\n",
    "# Visualizing data with PCA\n",
    "dim_reducer = PCA(n_components=2)\n",
    "reduced_df = dim_reducer.fit_transform(stream_quality_df)\n",
    "plt.scatter(reduced_df[:, 0], reduced_df[:, 1], marker='.')\n",
    "plt.show()"
   ],
   "metadata": {
    "collapsed": false,
    "pycharm": {
     "name": "#%%\n"
    }
   }
  },
  {
   "cell_type": "code",
   "execution_count": 10,
   "outputs": [],
   "source": [
    "# Splitting data to X and Y\n",
    "Y_train = stream_quality_df['stream_quality']\n",
    "X_train = stream_quality_df.drop(['stream_quality'], axis=1)\n",
    "\n",
    "Y_test = stream_quality_test['stream_quality']\n",
    "X_test = stream_quality_test.drop(['stream_quality'], axis=1)"
   ],
   "metadata": {
    "collapsed": false,
    "pycharm": {
     "name": "#%%\n"
    }
   }
  },
  {
   "cell_type": "markdown",
   "source": [
    "### Feature selection with Lasso"
   ],
   "metadata": {
    "collapsed": false,
    "pycharm": {
     "name": "#%% md\n"
    }
   }
  },
  {
   "cell_type": "code",
   "execution_count": 41,
   "outputs": [
    {
     "name": "stdout",
     "output_type": "stream",
     "text": [
      "MSE on testset: 0.06029186327204236\n"
     ]
    }
   ],
   "source": [
    "from sklearn.linear_model import Lasso\n",
    "lasso = Lasso(alpha=0.1).fit(X_train,Y_train)\n",
    "y_pred = lasso.predict(X_test)\n",
    "print(\"MSE on testset:\", mean_squared_error(Y_test, y_pred))"
   ],
   "metadata": {
    "collapsed": false,
    "pycharm": {
     "name": "#%%\n"
    }
   }
  },
  {
   "cell_type": "markdown",
   "source": [
    "### Classification task"
   ],
   "metadata": {
    "collapsed": false,
    "pycharm": {
     "name": "#%% md\n"
    }
   }
  },
  {
   "cell_type": "code",
   "execution_count": 42,
   "outputs": [
    {
     "name": "stdout",
     "output_type": "stream",
     "text": [
      "Accuracy on testset 0.9367969917404226\n",
      "Precision on testset 0.5249247239879559\n",
      "Recall on testset 0.1999490251051357\n",
      "\n",
      "Accuracy on trainset 0.9447748492271971\n",
      "Precision on trainset 0.8499154636493692\n",
      "Recall on trainset 0.23478479557375873\n"
     ]
    }
   ],
   "source": [
    "from sklearn.linear_model import LogisticRegression\n",
    "logistic = LogisticRegression(penalty='l2').fit(X_train,Y_train)\n",
    "y_pred = logistic.predict(X_test)\n",
    "y_pred_train = logistic.predict(X_train)\n",
    "print('Accuracy on testset', accuracy_score(Y_test, y_pred))\n",
    "print('Precision on testset', precision_score(Y_test, y_pred))\n",
    "print('Recall on testset', recall_score(Y_test,y_pred))\n",
    "print('\\nAccuracy on trainset', accuracy_score(Y_train, y_pred_train))\n",
    "print('Precision on trainset', precision_score(Y_train, y_pred_train))\n",
    "print('Recall on trainset', recall_score(Y_train,y_pred_train))"
   ],
   "metadata": {
    "collapsed": false,
    "pycharm": {
     "name": "#%%\n"
    }
   }
  },
  {
   "cell_type": "code",
   "execution_count": 43,
   "outputs": [
    {
     "name": "stdout",
     "output_type": "stream",
     "text": [
      "Accuracy on testset 0.9393627153155224\n",
      "Precision on testset 0.6274509803921569\n",
      "Recall on testset 0.14476870141455334\n",
      "\n",
      "Accuracy on trainset 0.9436434383085899\n",
      "Precision on trainset 0.9247367512515104\n",
      "Recall on trainset 0.1924624559890781\n"
     ]
    }
   ],
   "source": [
    "from sklearn.linear_model import RidgeClassifier\n",
    "ridge = RidgeClassifier().fit(X_train,Y_train)\n",
    "y_pred = ridge.predict(X_test)\n",
    "y_pred_train = ridge.predict(X_train)\n",
    "print('Accuracy on testset', accuracy_score(Y_test, y_pred))\n",
    "print('Precision on testset', precision_score(Y_test, y_pred))\n",
    "print('Recall on testset', recall_score(Y_test,y_pred))\n",
    "print('\\nAccuracy on trainset', accuracy_score(Y_train, y_pred_train))\n",
    "print('Precision on trainset', precision_score(Y_train, y_pred_train))\n",
    "print('Recall on trainset', recall_score(Y_train,y_pred_train))"
   ],
   "metadata": {
    "collapsed": false,
    "pycharm": {
     "name": "#%%\n"
    }
   }
  },
  {
   "cell_type": "markdown",
   "source": [
    "RidgeClassifier and LogisticRegression give us similar results. Models work well."
   ],
   "metadata": {
    "collapsed": false,
    "pycharm": {
     "name": "#%% md\n"
    }
   }
  },
  {
   "cell_type": "code",
   "execution_count": 44,
   "outputs": [
    {
     "name": "stdout",
     "output_type": "stream",
     "text": [
      "Lasso cross validation score: [-0.00545202 -0.00371694 -0.0120003 ]\n",
      "Logistic Regression cross validation score: [0.93998695 0.9407505  0.93874233]\n",
      "Ridge Classifier cross validation score: [0.93938349 0.93977758 0.9385576 ]\n"
     ]
    }
   ],
   "source": [
    "#Let's see the results of cross validation score\n",
    "from sklearn.model_selection import cross_val_score\n",
    "print('Lasso cross validation score:', cross_val_score(lasso, X_test,Y_test, cv=3))\n",
    "print('Logistic Regression cross validation score:', cross_val_score(logistic, X_test,Y_test, cv=3))\n",
    "print('Ridge Classifier cross validation score:', cross_val_score(ridge, X_test,Y_test, cv=3))"
   ],
   "metadata": {
    "collapsed": false,
    "pycharm": {
     "name": "#%%\n"
    }
   }
  },
  {
   "cell_type": "markdown",
   "source": [
    "### Removal of outliers"
   ],
   "metadata": {
    "collapsed": false,
    "pycharm": {
     "name": "#%% md\n"
    }
   }
  },
  {
   "cell_type": "code",
   "execution_count": 45,
   "outputs": [],
   "source": [
    "#loading data\n",
    "stream_quality_df = pd.read_csv('stream_quality_data/train_data.csv')\n",
    "stream_quality_test = pd.read_csv('stream_quality_data/test_data.csv')"
   ],
   "metadata": {
    "collapsed": false,
    "pycharm": {
     "name": "#%%\n"
    }
   }
  },
  {
   "cell_type": "code",
   "execution_count": 46,
   "outputs": [],
   "source": [
    "from sklearn.ensemble import IsolationForest\n",
    "\n",
    "iforest = IsolationForest()\n",
    "X = stream_quality_df.iloc[:, :8]\n",
    "iforest.fit(X)\n",
    "pred = iforest.predict(X)"
   ],
   "metadata": {
    "collapsed": false,
    "pycharm": {
     "name": "#%%\n"
    }
   }
  },
  {
   "cell_type": "code",
   "execution_count": 47,
   "outputs": [
    {
     "name": "stdout",
     "output_type": "stream",
     "text": [
      "Original Samples :  (406572, 12)\n",
      "Number of Outliers :  (39248, 12)\n",
      "Number of Normal Samples :  (367324, 12)\n"
     ]
    }
   ],
   "source": [
    "outliers = stream_quality_df[pred == -1]\n",
    "stream_quality_df_valid = stream_quality_df[pred != -1]\n",
    "\n",
    "print(\"Original Samples : \",stream_quality_df.shape)\n",
    "print(\"Number of Outliers : \", outliers.shape)\n",
    "print(\"Number of Normal Samples : \", stream_quality_df_valid.shape)"
   ],
   "metadata": {
    "collapsed": false,
    "pycharm": {
     "name": "#%%\n"
    }
   }
  },
  {
   "cell_type": "code",
   "execution_count": 48,
   "outputs": [],
   "source": [
    "# data preprocessing\n",
    "stream_quality_df, stream_quality_test = LabelEncoderforClassification(stream_quality_df,stream_quality_test)\n",
    "stream_quality_df, stream_quality_test = NumericalEncoderforClassification(stream_quality_df, stream_quality_test)\n",
    "Y_train = stream_quality_df['stream_quality']\n",
    "X_train = stream_quality_df.drop(['stream_quality'], axis=1)\n",
    "Y_test = stream_quality_test['stream_quality']\n",
    "X_test = stream_quality_test.drop(['stream_quality'], axis=1)"
   ],
   "metadata": {
    "collapsed": false,
    "pycharm": {
     "name": "#%%\n"
    }
   }
  },
  {
   "cell_type": "code",
   "execution_count": 49,
   "outputs": [
    {
     "name": "stdout",
     "output_type": "stream",
     "text": [
      "\n",
      "LogisticRegression\n",
      "Accuracy on testset 0.9367969917404226\n",
      "Precision on testset 0.5249247239879559\n",
      "Recall on testset 0.1999490251051357\n",
      "\n",
      "Accuracy on trainset 0.9447748492271971\n",
      "Precision on trainset 0.8499154636493692\n",
      "Recall on trainset 0.23478479557375873\n"
     ]
    }
   ],
   "source": [
    "LogisticRegressionFunction(X_train, Y_train, X_test, Y_test)"
   ],
   "metadata": {
    "collapsed": false,
    "pycharm": {
     "name": "#%%\n"
    }
   }
  },
  {
   "cell_type": "code",
   "execution_count": 50,
   "outputs": [
    {
     "name": "stdout",
     "output_type": "stream",
     "text": [
      "\n",
      "RidgeClassifier\n",
      "Accuracy on testset 0.9393627153155224\n",
      "Precision on testset 0.6274509803921569\n",
      "Recall on testset 0.14476870141455334\n",
      "\n",
      "Accuracy on trainset 0.9436434383085899\n",
      "Precision on trainset 0.9247367512515104\n",
      "Recall on trainset 0.1924624559890781\n"
     ]
    }
   ],
   "source": [
    "RidgeClassifierFunction(X_train, Y_train, X_test, Y_test)"
   ],
   "metadata": {
    "collapsed": false,
    "pycharm": {
     "name": "#%%\n"
    }
   }
  },
  {
   "cell_type": "markdown",
   "source": [
    "### Balancing of Data"
   ],
   "metadata": {
    "collapsed": false,
    "pycharm": {
     "name": "#%% md\n"
    }
   }
  },
  {
   "cell_type": "code",
   "execution_count": 51,
   "outputs": [
    {
     "name": "stdout",
     "output_type": "stream",
     "text": [
      "X_train shape: (406572, 11)\n",
      "X_train resampled shape: (757476, 11)\n"
     ]
    }
   ],
   "source": [
    "from imblearn.over_sampling import SMOTE\n",
    "smote = SMOTE()\n",
    "X_train_resampled, Y_train_resampled = smote.fit_resample(X_train,Y_train)\n",
    "print('X_train shape:', X_train.shape)\n",
    "print('X_train resampled shape:', X_train_resampled.shape)"
   ],
   "metadata": {
    "collapsed": false,
    "pycharm": {
     "name": "#%%\n"
    }
   }
  },
  {
   "cell_type": "markdown",
   "source": [
    "### Classification task with balanced and outliers free data"
   ],
   "metadata": {
    "collapsed": false,
    "pycharm": {
     "name": "#%% md\n"
    }
   }
  },
  {
   "cell_type": "code",
   "execution_count": 52,
   "outputs": [
    {
     "name": "stdout",
     "output_type": "stream",
     "text": [
      "\n",
      "LogisticRegression\n",
      "Accuracy on testset 0.8512413996945762\n",
      "Precision on testset 0.23000289146492128\n",
      "Recall on testset 0.5575379125780553\n",
      "\n",
      "Accuracy on trainset 0.7222921914357683\n",
      "Precision on trainset 0.862835348115586\n",
      "Recall on trainset 0.5286187285141708\n"
     ]
    }
   ],
   "source": [
    "LogisticRegressionFunction(X_train_resampled, Y_train_resampled, X_test, Y_test)"
   ],
   "metadata": {
    "collapsed": false,
    "pycharm": {
     "name": "#%%\n"
    }
   }
  },
  {
   "cell_type": "code",
   "execution_count": 53,
   "outputs": [
    {
     "name": "stdout",
     "output_type": "stream",
     "text": [
      "\n",
      "RidgeClassifier\n",
      "Accuracy on testset 0.8570707236572029\n",
      "Precision on testset 0.2367500894799152\n",
      "Recall on testset 0.5479164011724226\n",
      "\n",
      "Accuracy on trainset 0.7237800273540019\n",
      "Precision on trainset 0.859626939135748\n",
      "Recall on trainset 0.5349080366902714\n"
     ]
    }
   ],
   "source": [
    "RidgeClassifierFunction(X_train_resampled, Y_train_resampled, X_test, Y_test)"
   ],
   "metadata": {
    "collapsed": false,
    "pycharm": {
     "name": "#%%\n"
    }
   }
  }
 ],
 "metadata": {
  "kernelspec": {
   "display_name": "Python 3",
   "language": "python",
   "name": "python3"
  },
  "language_info": {
   "codemirror_mode": {
    "name": "ipython",
    "version": 2
   },
   "file_extension": ".py",
   "mimetype": "text/x-python",
   "name": "python",
   "nbconvert_exporter": "python",
   "pygments_lexer": "ipython2",
   "version": "2.7.6"
  }
 },
 "nbformat": 4,
 "nbformat_minor": 0
}