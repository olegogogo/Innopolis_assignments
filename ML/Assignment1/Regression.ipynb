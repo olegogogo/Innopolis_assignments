{
 "cells": [
  {
   "cell_type": "markdown",
   "source": [
    "# **Assignment 1, regression task**\n",
    "### Ostapovich Oleg"
   ],
   "metadata": {
    "collapsed": false,
    "pycharm": {
     "name": "#%% md\n"
    }
   }
  },
  {
   "cell_type": "markdown",
   "source": [
    "### Data preprocessing"
   ],
   "metadata": {
    "collapsed": false,
    "pycharm": {
     "name": "#%% md\n"
    }
   }
  },
  {
   "cell_type": "code",
   "execution_count": 56,
   "outputs": [],
   "source": [
    "import pandas as pd\n",
    "import numpy as np\n",
    "from sklearn.metrics import mean_squared_error, mean_absolute_error, r2_score\n",
    "\n",
    "import matplotlib.pyplot as plt"
   ],
   "metadata": {
    "collapsed": false,
    "pycharm": {
     "name": "#%%\n"
    }
   }
  },
  {
   "cell_type": "code",
   "execution_count": 57,
   "outputs": [],
   "source": [
    "#loading data\n",
    "bitrate_df = pd.read_csv('bitrate_prediction/bitrate_train.csv')\n",
    "bitrate_test = pd.read_csv('bitrate_prediction/bitrate_test.csv')"
   ],
   "metadata": {
    "collapsed": false,
    "pycharm": {
     "name": "#%%\n"
    }
   }
  },
  {
   "cell_type": "code",
   "execution_count": 58,
   "outputs": [
    {
     "data": {
      "text/plain": "   fps_mean   fps_std  rtt_mean    rtt_std  dropped_frames_mean  \\\n0      24.4  0.516398      91.1   6.723921                  0.0   \n1      28.6  2.065591      99.7  15.923777                  0.0   \n2      30.0  0.000000      98.1  11.798776                  0.0   \n3      30.3  0.948683      99.4  13.014522                  0.0   \n4      29.9  0.316228     123.2  62.476307                  0.0   \n\n   dropped_frames_std  dropped_frames_max  bitrate_mean  bitrate_std  target  \n0                 0.0                 0.0         460.5     7.648529   616.0  \n1                 0.0                 0.0         616.3   155.414893   565.0  \n2                 0.0                 0.0         565.2     9.077445   573.0  \n3                 0.0                 0.0         573.8    28.350191   585.0  \n4                 0.0                 0.0         585.8    59.458295   555.0  ",
      "text/html": "<div>\n<style scoped>\n    .dataframe tbody tr th:only-of-type {\n        vertical-align: middle;\n    }\n\n    .dataframe tbody tr th {\n        vertical-align: top;\n    }\n\n    .dataframe thead th {\n        text-align: right;\n    }\n</style>\n<table border=\"1\" class=\"dataframe\">\n  <thead>\n    <tr style=\"text-align: right;\">\n      <th></th>\n      <th>fps_mean</th>\n      <th>fps_std</th>\n      <th>rtt_mean</th>\n      <th>rtt_std</th>\n      <th>dropped_frames_mean</th>\n      <th>dropped_frames_std</th>\n      <th>dropped_frames_max</th>\n      <th>bitrate_mean</th>\n      <th>bitrate_std</th>\n      <th>target</th>\n    </tr>\n  </thead>\n  <tbody>\n    <tr>\n      <th>0</th>\n      <td>24.4</td>\n      <td>0.516398</td>\n      <td>91.1</td>\n      <td>6.723921</td>\n      <td>0.0</td>\n      <td>0.0</td>\n      <td>0.0</td>\n      <td>460.5</td>\n      <td>7.648529</td>\n      <td>616.0</td>\n    </tr>\n    <tr>\n      <th>1</th>\n      <td>28.6</td>\n      <td>2.065591</td>\n      <td>99.7</td>\n      <td>15.923777</td>\n      <td>0.0</td>\n      <td>0.0</td>\n      <td>0.0</td>\n      <td>616.3</td>\n      <td>155.414893</td>\n      <td>565.0</td>\n    </tr>\n    <tr>\n      <th>2</th>\n      <td>30.0</td>\n      <td>0.000000</td>\n      <td>98.1</td>\n      <td>11.798776</td>\n      <td>0.0</td>\n      <td>0.0</td>\n      <td>0.0</td>\n      <td>565.2</td>\n      <td>9.077445</td>\n      <td>573.0</td>\n    </tr>\n    <tr>\n      <th>3</th>\n      <td>30.3</td>\n      <td>0.948683</td>\n      <td>99.4</td>\n      <td>13.014522</td>\n      <td>0.0</td>\n      <td>0.0</td>\n      <td>0.0</td>\n      <td>573.8</td>\n      <td>28.350191</td>\n      <td>585.0</td>\n    </tr>\n    <tr>\n      <th>4</th>\n      <td>29.9</td>\n      <td>0.316228</td>\n      <td>123.2</td>\n      <td>62.476307</td>\n      <td>0.0</td>\n      <td>0.0</td>\n      <td>0.0</td>\n      <td>585.8</td>\n      <td>59.458295</td>\n      <td>555.0</td>\n    </tr>\n  </tbody>\n</table>\n</div>"
     },
     "execution_count": 58,
     "metadata": {},
     "output_type": "execute_result"
    }
   ],
   "source": [
    "bitrate_df.head()"
   ],
   "metadata": {
    "collapsed": false,
    "pycharm": {
     "name": "#%%\n"
    }
   }
  },
  {
   "cell_type": "code",
   "execution_count": 59,
   "outputs": [],
   "source": [
    "# Splitting data to X and Y\n",
    "Y_train = bitrate_df.iloc[:,-1]\n",
    "X_train = bitrate_df.iloc[:,:-1]\n",
    "\n",
    "Y_test = bitrate_test.iloc[:,-1]\n",
    "X_test = bitrate_test.iloc[:,:-1]"
   ],
   "metadata": {
    "collapsed": false,
    "pycharm": {
     "name": "#%%\n"
    }
   }
  },
  {
   "cell_type": "code",
   "execution_count": 60,
   "outputs": [],
   "source": [
    "# scaling for data\n",
    "from sklearn.preprocessing import MinMaxScaler\n",
    "\n",
    "scalertrain = MinMaxScaler()\n",
    "X_train = scalertrain.fit_transform(X_train)\n",
    "scalertrainX = MinMaxScaler()\n",
    "X_test = scalertrainX.fit_transform(X_test)"
   ],
   "metadata": {
    "collapsed": false,
    "pycharm": {
     "name": "#%%\n"
    }
   }
  },
  {
   "cell_type": "code",
   "execution_count": 61,
   "outputs": [
    {
     "data": {
      "text/plain": "array([[1.24352332e-01, 1.68116146e-03, 7.06289152e-03, 1.65117917e-04,\n        0.00000000e+00, 0.00000000e+00, 0.00000000e+00, 7.09405594e-03,\n        2.84241786e-04],\n       [1.60621762e-01, 6.72464583e-03, 7.72964089e-03, 3.91036856e-04,\n        0.00000000e+00, 0.00000000e+00, 0.00000000e+00, 9.49417301e-03,\n        5.77567334e-03],\n       [1.72711572e-01, 0.00000000e+00, 7.60559449e-03, 2.89740071e-04,\n        0.00000000e+00, 0.00000000e+00, 0.00000000e+00, 8.70697159e-03,\n        3.37344470e-04],\n       [1.75302245e-01, 3.08849081e-03, 7.70638219e-03, 3.19594890e-04,\n        0.00000000e+00, 0.00000000e+00, 0.00000000e+00, 8.83945558e-03,\n        1.05357627e-03],\n       [1.71848014e-01, 1.02949694e-03, 9.55157229e-03, 1.53421760e-03,\n        0.00000000e+00, 0.00000000e+00, 0.00000000e+00, 9.02431698e-03,\n        2.20964468e-03]])"
     },
     "execution_count": 61,
     "metadata": {},
     "output_type": "execute_result"
    }
   ],
   "source": [
    "X_train[:5]"
   ],
   "metadata": {
    "collapsed": false,
    "pycharm": {
     "name": "#%%\n"
    }
   }
  },
  {
   "cell_type": "markdown",
   "source": [
    "### Data visualization"
   ],
   "metadata": {
    "collapsed": false,
    "pycharm": {
     "name": "#%% md\n"
    }
   }
  },
  {
   "cell_type": "code",
   "execution_count": 62,
   "outputs": [
    {
     "data": {
      "text/plain": "<Figure size 640x480 with 1 Axes>",
      "image/png": "[encoded data removed]"
     },
     "metadata": {},
     "output_type": "display_data"
    }
   ],
   "source": [
    "from sklearn.decomposition import PCA\n",
    "\n",
    "dim_reducer = PCA(n_components=2)\n",
    "reduced_df = dim_reducer.fit_transform(bitrate_df)\n",
    "plt.scatter(reduced_df[:, 0], reduced_df[:, 1], marker='.')\n",
    "plt.show()"
   ],
   "metadata": {
    "collapsed": false,
    "pycharm": {
     "name": "#%%\n"
    }
   }
  },
  {
   "cell_type": "markdown",
   "source": [
    "### Feature selection with Lasso"
   ],
   "metadata": {
    "collapsed": false,
    "pycharm": {
     "name": "#%% md\n"
    }
   }
  },
  {
   "cell_type": "code",
   "execution_count": 63,
   "outputs": [
    {
     "name": "stdout",
     "output_type": "stream",
     "text": [
      "MSE on testset: 3841877.7038015635\n"
     ]
    }
   ],
   "source": [
    "from sklearn.linear_model import Lasso\n",
    "lasso = Lasso(alpha=0.1).fit(X_train,Y_train)\n",
    "y_pred = lasso.predict(X_test)\n",
    "print(\"MSE on testset:\", mean_squared_error(Y_test, y_pred))"
   ],
   "metadata": {
    "collapsed": false,
    "pycharm": {
     "name": "#%%\n"
    }
   }
  },
  {
   "cell_type": "markdown",
   "source": [
    "### Regression task"
   ],
   "metadata": {
    "collapsed": false,
    "pycharm": {
     "name": "#%% md\n"
    }
   }
  },
  {
   "cell_type": "code",
   "execution_count": 64,
   "outputs": [
    {
     "name": "stdout",
     "output_type": "stream",
     "text": [
      "MSE on testset: 3843313.533181104\n",
      "MAE on testset: 1078.590453311015\n",
      "r2 score on testset: 0.8922254390480245\n",
      "\n",
      "MSE on trainset: 3901988.6682319324\n",
      "MAE on trainset: 1097.1644009847344\n",
      "r2 score on trainset: 0.8941251614231434\n"
     ]
    }
   ],
   "source": [
    "#Ridge\n",
    "from sklearn.linear_model import Ridge\n",
    "ridge = Ridge().fit(X_train,Y_train)\n",
    "y_pred = ridge.predict(X_test)\n",
    "y_pred_train = ridge.predict(X_train)\n",
    "print(\"MSE on testset:\", mean_squared_error(Y_test, y_pred))\n",
    "print('MAE on testset:', mean_absolute_error(Y_test, y_pred))\n",
    "print('r2 score on testset:', r2_score(Y_test, y_pred))\n",
    "\n",
    "print('\\nMSE on trainset:', mean_squared_error(Y_train, y_pred_train))\n",
    "print('MAE on trainset:', mean_absolute_error(Y_train, y_pred_train))\n",
    "print('r2 score on trainset:', r2_score(Y_train,y_pred_train))"
   ],
   "metadata": {
    "collapsed": false,
    "pycharm": {
     "name": "#%%\n"
    }
   }
  },
  {
   "cell_type": "code",
   "execution_count": 65,
   "outputs": [
    {
     "name": "stdout",
     "output_type": "stream",
     "text": [
      "MSE on testset: 3845429.7289774735\n",
      "MAE on testset: 1079.010242799703\n",
      "r2 score on testset: 0.8921660964857088\n",
      "\n",
      "MSE on trainset: 3901928.1975220307\n",
      "MAE on trainset: 1096.6503317404397\n",
      "r2 score on trainset: 0.8941268022087001\n"
     ]
    }
   ],
   "source": [
    "#LinearRegression\n",
    "from sklearn.linear_model import LinearRegression\n",
    "linear = LinearRegression().fit(X_train,Y_train)\n",
    "y_pred = linear.predict(X_test)\n",
    "y_pred_train = linear.predict(X_train)\n",
    "print(\"MSE on testset:\", mean_squared_error(Y_test, y_pred))\n",
    "print('MAE on testset:', mean_absolute_error(Y_test, y_pred))\n",
    "print('r2 score on testset:', r2_score(Y_test, y_pred))\n",
    "\n",
    "print('\\nMSE on trainset:', mean_squared_error(Y_train, y_pred_train))\n",
    "print('MAE on trainset:', mean_absolute_error(Y_train, y_pred_train))\n",
    "print('r2 score on trainset:', r2_score(Y_train,y_pred_train))"
   ],
   "metadata": {
    "collapsed": false,
    "pycharm": {
     "name": "#%%\n"
    }
   }
  },
  {
   "cell_type": "code",
   "execution_count": 66,
   "outputs": [
    {
     "name": "stdout",
     "output_type": "stream",
     "text": [
      "MSE on testset: 4220447.187091616\n",
      "MAE on testset: 1091.9088122214278\n",
      "r2 score on testset: 0.8816498215191634\n",
      "\n",
      "MSE on trainset: 3849304.4536298555\n",
      "MAE on trainset: 1066.6118855226298\n",
      "r2 score on trainset: 0.8955546716526209\n"
     ]
    }
   ],
   "source": [
    "#PolynomialRegression\n",
    "from sklearn.preprocessing import PolynomialFeatures\n",
    "poly = PolynomialFeatures().fit_transform(X_train, Y_train)\n",
    "poly_test = PolynomialFeatures().fit_transform(X_test, Y_test)\n",
    "polyF = LinearRegression().fit(poly, Y_train)\n",
    "y_pred = polyF.predict(poly_test)\n",
    "y_pred_train = polyF.predict(poly)\n",
    "print(\"MSE on testset:\", mean_squared_error(Y_test, y_pred))\n",
    "print('MAE on testset:', mean_absolute_error(Y_test, y_pred))\n",
    "print('r2 score on testset:', r2_score(Y_test, y_pred))\n",
    "\n",
    "print('\\nMSE on trainset:', mean_squared_error(Y_train, y_pred_train))\n",
    "print('MAE on trainset:', mean_absolute_error(Y_train, y_pred_train))\n",
    "print('r2 score on trainset:', r2_score(Y_train,y_pred_train))"
   ],
   "metadata": {
    "collapsed": false,
    "pycharm": {
     "name": "#%%\n"
    }
   }
  }
 ],
 "metadata": {
  "kernelspec": {
   "display_name": "Python 3",
   "language": "python",
   "name": "python3"
  },
  "language_info": {
   "codemirror_mode": {
    "name": "ipython",
    "version": 2
   },
   "file_extension": ".py",
   "mimetype": "text/x-python",
   "name": "python",
   "nbconvert_exporter": "python",
   "pygments_lexer": "ipython2",
   "version": "2.7.6"
  }
 },
 "nbformat": 4,
 "nbformat_minor": 0
}