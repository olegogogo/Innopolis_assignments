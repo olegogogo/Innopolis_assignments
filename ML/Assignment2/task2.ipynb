{
 "cells": [
  {
   "cell_type": "code",
   "execution_count": 1,
   "outputs": [],
   "source": [
    "import torch\n",
    "import numpy as np\n",
    "import torchvision\n",
    "import torchvision.transforms as transforms\n",
    "from torch.utils.tensorboard import SummaryWriter\n",
    "from torch.optim.sgd import SGD\n",
    "from torchvision import models\n",
    "from torchsummary import summary\n",
    "import torch.nn as nn\n",
    "import torch.nn.functional as F\n",
    "from torchmetrics import F1Score, Accuracy\n",
    "import time"
   ],
   "metadata": {
    "pycharm": {
     "name": "#%%\n"
    },
    "id": "prBxqOqDICdZ"
   }
  },
  {
   "cell_type": "code",
   "execution_count": 2,
   "outputs": [
    {
     "name": "stdout",
     "output_type": "stream",
     "text": [
      "cuda:0\n"
     ]
    }
   ],
   "source": [
    "device = torch.device(\"cuda:0\" if torch.cuda.is_available() else \"cpu\")\n",
    "print(device)"
   ],
   "metadata": {
    "pycharm": {
     "name": "#%%\n"
    },
    "colab": {
     "base_uri": "https://localhost:8080/"
    },
    "id": "F48qgyjpICdc",
    "outputId": "2467316e-0763-4d67-cf72-8008edccfc7b"
   }
  },
  {
   "cell_type": "markdown",
   "source": [
    "## Assignment 2 in ML. Task 2\n",
    "### Ostapovich Oleg\n",
    "#### Section 1: Data Reading"
   ],
   "metadata": {
    "collapsed": false,
    "pycharm": {
     "name": "#%% md\n"
    },
    "id": "fv11lxraICdd"
   }
  },
  {
   "cell_type": "code",
   "execution_count": 3,
   "outputs": [],
   "source": [
    "epochs = 20\n",
    "learning_rate = 0.001"
   ],
   "metadata": {
    "pycharm": {
     "name": "#%%\n"
    },
    "id": "rq7gP9qgICde"
   }
  },
  {
   "cell_type": "code",
   "execution_count": 4,
   "outputs": [],
   "source": [
    "# Custom MinMaxScaler\n",
    "class MinMaxScaler():\n",
    "    def __call__(self, tensor: torch.Tensor) -> torch.Tensor:\n",
    "        dist = (tensor.max(dim=1, keepdim=True)[0] - tensor.min(dim=1, keepdim=True)[0])\n",
    "        dist[dist==0.] = 1.\n",
    "        scale = 1.0 /  dist\n",
    "        tensor.mul_(scale).sub_(tensor.min(dim=1, keepdim=True)[0])\n",
    "        return tensor"
   ],
   "metadata": {
    "pycharm": {
     "name": "#%%\n"
    },
    "id": "As0Hd2EZICdf"
   }
  },
  {
   "cell_type": "code",
   "execution_count": 5,
   "metadata": {
    "collapsed": true,
    "pycharm": {
     "name": "#%%\n"
    },
    "id": "H5Bdc1dpICdf"
   },
   "outputs": [],
   "source": [
    "transform = transforms.Compose(\n",
    "    [transforms.ToTensor(),\n",
    "     transforms.Resize([32,32]),\n",
    "     # MinMaxScaler()\n",
    "     ])\n",
    "\n",
    "dataset = torchvision.datasets.GTSRB(root='./data', download=True, transform=transform)"
   ]
  },
  {
   "cell_type": "code",
   "execution_count": 6,
   "outputs": [
    {
     "data": {
      "text/plain": "tensor(0.2100)"
     },
     "execution_count": 6,
     "metadata": {},
     "output_type": "execute_result"
    }
   ],
   "source": [
    "# This code shows that data was scaled\n",
    "dataset.__getitem__(0)[0].min()"
   ],
   "metadata": {
    "pycharm": {
     "name": "#%%\n"
    },
    "colab": {
     "base_uri": "https://localhost:8080/"
    },
    "id": "EWMHo2QxICdg",
    "outputId": "4c94aeec-a846-45f0-ff89-28ad500e360d"
   }
  },
  {
   "cell_type": "markdown",
   "source": [
    "#### Section 2: Exploration and preprocessing"
   ],
   "metadata": {
    "collapsed": false,
    "pycharm": {
     "name": "#%% md\n"
    },
    "id": "kXphYxr1ICdg"
   }
  },
  {
   "cell_type": "code",
   "execution_count": 7,
   "outputs": [
    {
     "data": {
      "text/plain": "<Figure size 640x480 with 1 Axes>",
      "image/png": "[encoded data removed]"
     },
     "metadata": {},
     "output_type": "display_data"
    }
   ],
   "source": [
    "import matplotlib.pyplot as plt\n",
    "img = dataset.__getitem__(0).__getitem__(0)\n",
    "img = img / 2 + 0.5\n",
    "npimg = img.numpy()\n",
    "plt.imshow(np.transpose(npimg, (1, 2, 0)))\n",
    "plt.show()"
   ],
   "metadata": {
    "pycharm": {
     "name": "#%%\n"
    },
    "colab": {
     "base_uri": "https://localhost:8080/",
     "height": 266
    },
    "id": "EGByXJyWICdh",
    "outputId": "e9be7ac0-089b-4664-8045-624572735651"
   }
  },
  {
   "cell_type": "code",
   "execution_count": 8,
   "outputs": [],
   "source": [
    "#Data splitting\n",
    "train_size, val_size, test_size = int(len(dataset)*0.7), int(len(dataset)*0.1), int(len(dataset)*0.2)\n",
    "train_dataset,val_dataset, test_dataset = torch.utils.data.random_split(dataset, [train_size, val_size, test_size])"
   ],
   "metadata": {
    "pycharm": {
     "name": "#%%\n"
    },
    "id": "63gabDGrICdh"
   }
  },
  {
   "cell_type": "code",
   "execution_count": 9,
   "outputs": [],
   "source": [
    "batch_size = 128\n",
    "test_batch_size = 100\n",
    "# Adding data to loader\n",
    "trainloader = torch.utils.data.DataLoader(train_dataset, batch_size=batch_size,\n",
    "                                          shuffle=True, num_workers=2)\n",
    "valloader = torch.utils.data.DataLoader(val_dataset, batch_size=batch_size,\n",
    "                                          shuffle=True, num_workers=2)\n",
    "testloader = torch.utils.data.DataLoader(test_dataset, batch_size=test_batch_size,\n",
    "                                          shuffle=True, num_workers=2)"
   ],
   "metadata": {
    "pycharm": {
     "name": "#%%\n"
    },
    "id": "rcg9fLv2ICdi"
   }
  },
  {
   "cell_type": "markdown",
   "source": [
    "#### Section 3.1: Machine learning or Deep learning model defining, training and hyper-parameters turning"
   ],
   "metadata": {
    "collapsed": false,
    "pycharm": {
     "name": "#%% md\n"
    },
    "id": "ZZWIjpfhICdi"
   }
  },
  {
   "cell_type": "code",
   "execution_count": 10,
   "outputs": [
    {
     "name": "stdout",
     "output_type": "stream",
     "text": [
      "----------------------------------------------------------------\n",
      "        Layer (type)               Output Shape         Param #\n",
      "================================================================\n",
      "            Conv2d-1           [-1, 32, 32, 32]             896\n",
      "            Conv2d-2           [-1, 32, 32, 32]           9,248\n",
      "         MaxPool2d-3           [-1, 32, 16, 16]               0\n",
      "            Conv2d-4           [-1, 64, 16, 16]          18,496\n",
      "            Conv2d-5           [-1, 64, 16, 16]          36,928\n",
      "         MaxPool2d-6             [-1, 64, 8, 8]               0\n",
      "            Conv2d-7            [-1, 128, 8, 8]          73,856\n",
      "            Conv2d-8            [-1, 128, 8, 8]         147,584\n",
      "         MaxPool2d-9            [-1, 128, 4, 4]               0\n",
      "          Flatten-10                 [-1, 2048]               0\n",
      "           Linear-11                  [-1, 512]       1,049,088\n",
      "           Linear-12                   [-1, 43]          22,059\n",
      "================================================================\n",
      "Total params: 1,358,155\n",
      "Trainable params: 1,358,155\n",
      "Non-trainable params: 0\n",
      "----------------------------------------------------------------\n",
      "Input size (MB): 0.01\n",
      "Forward/backward pass size (MB): 1.00\n",
      "Params size (MB): 5.18\n",
      "Estimated Total Size (MB): 6.20\n",
      "----------------------------------------------------------------\n"
     ]
    }
   ],
   "source": [
    "class StartModel(nn.Module):\n",
    "    def __init__(self):\n",
    "        super(StartModel, self).__init__()\n",
    "        self.network=nn.Sequential(\n",
    "            nn.Conv2d(3, 32, 3, padding=1),\n",
    "            nn.Conv2d(32, 32, 3, padding=1),\n",
    "\n",
    "            nn.MaxPool2d(2, 2),\n",
    "\n",
    "            nn.Conv2d(32, 64, 3,padding=1),\n",
    "            nn.Conv2d(64, 64, 3,padding=1),\n",
    "\n",
    "            nn.MaxPool2d(2, 2),\n",
    "\n",
    "            nn.Conv2d(64, 128, 3,padding=1),\n",
    "            nn.Conv2d(128, 128, 3,padding=1),\n",
    "\n",
    "            nn.MaxPool2d(2, 2),\n",
    "\n",
    "            nn.Flatten(),\n",
    "\n",
    "            nn.Linear(2048, 512),\n",
    "            nn.Linear(512, 43))\n",
    "\n",
    "    def forward(self, x):\n",
    "        return self.network(x)\n",
    "\n",
    "startmodel = StartModel().to(device)\n",
    "summary(startmodel, (3, 32, 32))"
   ],
   "metadata": {
    "pycharm": {
     "name": "#%%\n"
    },
    "colab": {
     "base_uri": "https://localhost:8080/"
    },
    "id": "FOsGAR5aICdi",
    "outputId": "770b9a2c-dd42-433d-91dc-45e689126c41"
   }
  },
  {
   "cell_type": "code",
   "execution_count": 11,
   "outputs": [
    {
     "name": "stdout",
     "output_type": "stream",
     "text": [
      "----------------------------------------------------------------\n",
      "        Layer (type)               Output Shape         Param #\n",
      "================================================================\n",
      "            Conv2d-1           [-1, 32, 32, 32]             896\n",
      "         Dropout2d-2           [-1, 32, 32, 32]               0\n",
      "       BatchNorm2d-3           [-1, 32, 32, 32]              64\n",
      "              ReLU-4           [-1, 32, 32, 32]               0\n",
      "            Conv2d-5           [-1, 32, 32, 32]           9,248\n",
      "       BatchNorm2d-6           [-1, 32, 32, 32]              64\n",
      "              ReLU-7           [-1, 32, 32, 32]               0\n",
      "         MaxPool2d-8           [-1, 32, 16, 16]               0\n",
      "         Dropout2d-9           [-1, 32, 16, 16]               0\n",
      "           Conv2d-10           [-1, 64, 16, 16]          18,496\n",
      "      BatchNorm2d-11           [-1, 64, 16, 16]             128\n",
      "             ReLU-12           [-1, 64, 16, 16]               0\n",
      "           Conv2d-13           [-1, 64, 16, 16]          36,928\n",
      "      BatchNorm2d-14           [-1, 64, 16, 16]             128\n",
      "             ReLU-15           [-1, 64, 16, 16]               0\n",
      "        MaxPool2d-16             [-1, 64, 8, 8]               0\n",
      "        Dropout2d-17             [-1, 64, 8, 8]               0\n",
      "           Conv2d-18            [-1, 128, 8, 8]          73,856\n",
      "      BatchNorm2d-19            [-1, 128, 8, 8]             256\n",
      "             ReLU-20            [-1, 128, 8, 8]               0\n",
      "           Conv2d-21            [-1, 128, 8, 8]         147,584\n",
      "      BatchNorm2d-22            [-1, 128, 8, 8]             256\n",
      "             ReLU-23            [-1, 128, 8, 8]               0\n",
      "        MaxPool2d-24            [-1, 128, 4, 4]               0\n",
      "        Dropout2d-25            [-1, 128, 4, 4]               0\n",
      "          Flatten-26                 [-1, 2048]               0\n",
      "           Linear-27                  [-1, 512]       1,049,088\n",
      "      BatchNorm1d-28                  [-1, 512]           1,024\n",
      "          Dropout-29                  [-1, 512]               0\n",
      "             ReLU-30                  [-1, 512]               0\n",
      "           Linear-31                   [-1, 43]          22,059\n",
      "================================================================\n",
      "Total params: 1,360,075\n",
      "Trainable params: 1,360,075\n",
      "Non-trainable params: 0\n",
      "----------------------------------------------------------------\n",
      "Input size (MB): 0.01\n",
      "Forward/backward pass size (MB): 3.13\n",
      "Params size (MB): 5.19\n",
      "Estimated Total Size (MB): 8.33\n",
      "----------------------------------------------------------------\n"
     ]
    }
   ],
   "source": [
    "class ImprovedModel(nn.Module):\n",
    "    def __init__(self):\n",
    "        super(ImprovedModel, self).__init__()\n",
    "        self.network=nn.Sequential(\n",
    "            nn.Conv2d(3,32,3,padding=1),\n",
    "            nn.Dropout2d(0.25),\n",
    "            nn.BatchNorm2d(32),\n",
    "            nn.ReLU(),\n",
    "\n",
    "            nn.Conv2d(32,32,3,padding=1),\n",
    "            nn.BatchNorm2d(32),\n",
    "            nn.ReLU(),\n",
    "\n",
    "            nn.MaxPool2d(2,2),\n",
    "            nn.Dropout2d(0.25),\n",
    "\n",
    "            nn.Conv2d(32,64,3,padding=1),\n",
    "            nn.BatchNorm2d(64),\n",
    "            nn.ReLU(),\n",
    "\n",
    "            nn.Conv2d(64,64,3,padding=1),\n",
    "            nn.BatchNorm2d(64),\n",
    "            nn.ReLU(),\n",
    "\n",
    "            nn.MaxPool2d(2,2),\n",
    "            nn.Dropout2d(0.25),\n",
    "\n",
    "            nn.Conv2d(64,128,3,padding=1),\n",
    "            nn.BatchNorm2d(128),\n",
    "            nn.ReLU(),\n",
    "\n",
    "            nn.Conv2d(128,128,3,padding=1),\n",
    "            nn.BatchNorm2d(128),\n",
    "            nn.ReLU(),\n",
    "\n",
    "            nn.MaxPool2d(2,2),\n",
    "            nn.Dropout2d(0.25),\n",
    "\n",
    "            nn.Flatten(),\n",
    "\n",
    "            nn.Linear(2048, 512),\n",
    "            nn.BatchNorm1d(512),\n",
    "            nn.Dropout(0.25),\n",
    "            nn.ReLU(),\n",
    "\n",
    "            nn.Linear(512,43))\n",
    "\n",
    "    def forward(self, x):\n",
    "        return self.network(x)\n",
    "\n",
    "improvedmodel = ImprovedModel().to(device)\n",
    "summary(improvedmodel, (3, 32, 32))"
   ],
   "metadata": {
    "pycharm": {
     "name": "#%%\n"
    },
    "colab": {
     "base_uri": "https://localhost:8080/"
    },
    "id": "FO20bLgZICdj",
    "outputId": "bc91f41c-1bb9-4992-b727-11e86c1f96d1"
   }
  },
  {
   "cell_type": "code",
   "execution_count": 12,
   "outputs": [],
   "source": [
    "def train_evaluate(net, optimizer, writer):\n",
    "    starttime = time.time()\n",
    "    criterion = nn.CrossEntropyLoss()\n",
    "    accuracy_func = Accuracy(num_classes=43, average='weighted').to(device)\n",
    "    f1_score_func = F1Score(num_classes=43, average='weighted').to(device)\n",
    "    for epoch in range(epochs):\n",
    "\n",
    "        running_loss = 0.0\n",
    "        f1 = 0\n",
    "        accuracy = 0\n",
    "        for data in trainloader:\n",
    "            inputs, labels = data\n",
    "            inputs, labels = inputs.to(device), labels.to(device)\n",
    "            optimizer.zero_grad()\n",
    "            outputs = net(inputs)\n",
    "            loss = criterion(outputs, labels)\n",
    "            loss.backward()\n",
    "            optimizer.step()\n",
    "            running_loss += loss.item()\n",
    "\n",
    "            _, pred = torch.max(outputs.data, 1)\n",
    "            accuracy += accuracy_func(pred, labels) * 100\n",
    "            f1 += f1_score_func(pred, labels) * 100\n",
    "\n",
    "        running_loss /= len(trainloader)\n",
    "        accuracy /= len(trainloader)\n",
    "        f1 /= len(trainloader)\n",
    "        writer.add_scalar('Training_Loss', running_loss, epoch)\n",
    "        writer.add_scalar('Training_Accuracy', accuracy, epoch)\n",
    "        writer.add_scalar('Training_F1', f1, epoch)\n",
    "\n",
    "        print('Epoch {} - train loss:{}, accuracy:{}, f1_score:{}, time passed {}s'.format(epoch+1, running_loss, accuracy, f1, int(time.time()-starttime)))\n",
    "\n",
    "        val_loss = 0.0\n",
    "        val_accuracy = 0\n",
    "        val_f1_score = 0\n",
    "        with torch.no_grad():\n",
    "            for data in valloader:\n",
    "                inputs, labels = data\n",
    "                inputs, labels = inputs.to(device), labels.to(device)\n",
    "                optimizer.zero_grad()\n",
    "                outputs = net(inputs)\n",
    "                loss = criterion(outputs, labels)\n",
    "                _, pred = torch.max(outputs.data, 1)\n",
    "                val_loss += loss.item()\n",
    "                val_accuracy += accuracy_func(pred, labels) * 100\n",
    "                val_f1_score += f1_score_func(pred, labels) * 100\n",
    "            val_loss /= len(valloader)\n",
    "            val_accuracy /= len(valloader)\n",
    "            val_f1_score /= len(valloader)\n",
    "            writer.add_scalar('Val_Loss', val_loss, epoch)\n",
    "            writer.add_scalar('Val_Accuracy', val_accuracy, epoch)\n",
    "            writer.add_scalar('Val_F1', val_f1_score, epoch)\n",
    "\n",
    "        print('Epoch {} - val loss:{}, accuracy:{}, f1_score:{}, time passed {}s'.format(epoch+1, val_loss, val_accuracy, val_f1_score, int(time.time()-starttime)))"
   ],
   "metadata": {
    "pycharm": {
     "name": "#%%\n"
    },
    "id": "xtSpBheqICdj"
   }
  },
  {
   "cell_type": "code",
   "execution_count": 13,
   "outputs": [],
   "source": [
    "def test_evaluate(net, optimizer):\n",
    "    val_loss = 0.0\n",
    "    val_accuracy = 0\n",
    "    val_f1_score = 0\n",
    "    criterion = nn.CrossEntropyLoss()\n",
    "    accuracy_func = Accuracy(num_classes=43, average='weighted').to(device)\n",
    "    f1_score_func = F1Score(num_classes=43, average='weighted').to(device)\n",
    "    with torch.no_grad():\n",
    "        for data in testloader:\n",
    "            inputs, labels = data\n",
    "            inputs, labels = inputs.to(device), labels.to(device)\n",
    "            optimizer.zero_grad()\n",
    "            outputs = net(inputs)\n",
    "            loss = criterion(outputs, labels)\n",
    "            _, pred = torch.max(outputs.data, 1)\n",
    "            val_loss += loss.item()\n",
    "            val_accuracy += accuracy_func(pred, labels) * 100\n",
    "            val_f1_score += f1_score_func(pred, labels) * 100\n",
    "        val_loss /= len(testloader)\n",
    "        val_accuracy /= len(testloader)\n",
    "        val_f1_score /= len(testloader)\n",
    "    print('Test evaluate - test loss:{}, accuracy:{}, f1_score:{}'.format(val_loss, val_accuracy, val_f1_score))"
   ],
   "metadata": {
    "pycharm": {
     "name": "#%%\n"
    },
    "id": "lx3C4-hLICdk"
   }
  },
  {
   "cell_type": "markdown",
   "source": [
    "#### Section 4.1: Model performance evaluation"
   ],
   "metadata": {
    "collapsed": false,
    "pycharm": {
     "name": "#%% md\n"
    },
    "id": "W8Mi0kjGICdl"
   }
  },
  {
   "cell_type": "code",
   "execution_count": 14,
   "outputs": [
    {
     "name": "stdout",
     "output_type": "stream",
     "text": [
      "Epoch 1 - train loss:3.755649102877264, accuracy:3.699019432067871, f1_score:0.733150064945221, time passed 94s\n",
      "Epoch 1 - val loss:3.7543559414999828, accuracy:4.767628192901611, f1_score:0.9181628823280334, time passed 108s\n"
     ]
    },
    {
     "ename": "KeyboardInterrupt",
     "evalue": "",
     "output_type": "error",
     "traceback": [
      "\u001B[1;31m---------------------------------------------------------------------------\u001B[0m",
      "\u001B[1;31mKeyboardInterrupt\u001B[0m                         Traceback (most recent call last)",
      "Cell \u001B[1;32mIn [14], line 4\u001B[0m\n\u001B[0;32m      2\u001B[0m optimizer \u001B[38;5;241m=\u001B[39m torch\u001B[38;5;241m.\u001B[39moptim\u001B[38;5;241m.\u001B[39mSGD(startmodel\u001B[38;5;241m.\u001B[39mparameters(), lr\u001B[38;5;241m=\u001B[39mlearning_rate)\n\u001B[0;32m      3\u001B[0m writer \u001B[38;5;241m=\u001B[39m SummaryWriter(\u001B[38;5;124m'\u001B[39m\u001B[38;5;124mruns/BaseModel\u001B[39m\u001B[38;5;124m'\u001B[39m)\n\u001B[1;32m----> 4\u001B[0m \u001B[43mtrain_evaluate\u001B[49m\u001B[43m(\u001B[49m\u001B[43mstartmodel\u001B[49m\u001B[43m,\u001B[49m\u001B[43m \u001B[49m\u001B[43moptimizer\u001B[49m\u001B[43m,\u001B[49m\u001B[43m \u001B[49m\u001B[43mwriter\u001B[49m\u001B[43m)\u001B[49m\n",
      "Cell \u001B[1;32mIn [12], line 11\u001B[0m, in \u001B[0;36mtrain_evaluate\u001B[1;34m(net, optimizer, writer)\u001B[0m\n\u001B[0;32m      9\u001B[0m f1 \u001B[38;5;241m=\u001B[39m \u001B[38;5;241m0\u001B[39m\n\u001B[0;32m     10\u001B[0m accuracy \u001B[38;5;241m=\u001B[39m \u001B[38;5;241m0\u001B[39m\n\u001B[1;32m---> 11\u001B[0m \u001B[38;5;28;01mfor\u001B[39;00m data \u001B[38;5;129;01min\u001B[39;00m trainloader:\n\u001B[0;32m     12\u001B[0m     inputs, labels \u001B[38;5;241m=\u001B[39m data\n\u001B[0;32m     13\u001B[0m     inputs, labels \u001B[38;5;241m=\u001B[39m inputs\u001B[38;5;241m.\u001B[39mto(device), labels\u001B[38;5;241m.\u001B[39mto(device)\n",
      "File \u001B[1;32mD:\\Innopolis\\_my\\env\\lib\\site-packages\\torch\\utils\\data\\dataloader.py:435\u001B[0m, in \u001B[0;36mDataLoader.__iter__\u001B[1;34m(self)\u001B[0m\n\u001B[0;32m    433\u001B[0m     \u001B[38;5;28;01mreturn\u001B[39;00m \u001B[38;5;28mself\u001B[39m\u001B[38;5;241m.\u001B[39m_iterator\n\u001B[0;32m    434\u001B[0m \u001B[38;5;28;01melse\u001B[39;00m:\n\u001B[1;32m--> 435\u001B[0m     \u001B[38;5;28;01mreturn\u001B[39;00m \u001B[38;5;28;43mself\u001B[39;49m\u001B[38;5;241;43m.\u001B[39;49m\u001B[43m_get_iterator\u001B[49m\u001B[43m(\u001B[49m\u001B[43m)\u001B[49m\n",
      "File \u001B[1;32mD:\\Innopolis\\_my\\env\\lib\\site-packages\\torch\\utils\\data\\dataloader.py:381\u001B[0m, in \u001B[0;36mDataLoader._get_iterator\u001B[1;34m(self)\u001B[0m\n\u001B[0;32m    379\u001B[0m \u001B[38;5;28;01melse\u001B[39;00m:\n\u001B[0;32m    380\u001B[0m     \u001B[38;5;28mself\u001B[39m\u001B[38;5;241m.\u001B[39mcheck_worker_number_rationality()\n\u001B[1;32m--> 381\u001B[0m     \u001B[38;5;28;01mreturn\u001B[39;00m \u001B[43m_MultiProcessingDataLoaderIter\u001B[49m\u001B[43m(\u001B[49m\u001B[38;5;28;43mself\u001B[39;49m\u001B[43m)\u001B[49m\n",
      "File \u001B[1;32mD:\\Innopolis\\_my\\env\\lib\\site-packages\\torch\\utils\\data\\dataloader.py:1034\u001B[0m, in \u001B[0;36m_MultiProcessingDataLoaderIter.__init__\u001B[1;34m(self, loader)\u001B[0m\n\u001B[0;32m   1027\u001B[0m w\u001B[38;5;241m.\u001B[39mdaemon \u001B[38;5;241m=\u001B[39m \u001B[38;5;28;01mTrue\u001B[39;00m\n\u001B[0;32m   1028\u001B[0m \u001B[38;5;66;03m# NB: Process.start() actually take some time as it needs to\u001B[39;00m\n\u001B[0;32m   1029\u001B[0m \u001B[38;5;66;03m#     start a process and pass the arguments over via a pipe.\u001B[39;00m\n\u001B[0;32m   1030\u001B[0m \u001B[38;5;66;03m#     Therefore, we only add a worker to self._workers list after\u001B[39;00m\n\u001B[0;32m   1031\u001B[0m \u001B[38;5;66;03m#     it started, so that we do not call .join() if program dies\u001B[39;00m\n\u001B[0;32m   1032\u001B[0m \u001B[38;5;66;03m#     before it starts, and __del__ tries to join but will get:\u001B[39;00m\n\u001B[0;32m   1033\u001B[0m \u001B[38;5;66;03m#     AssertionError: can only join a started process.\u001B[39;00m\n\u001B[1;32m-> 1034\u001B[0m \u001B[43mw\u001B[49m\u001B[38;5;241;43m.\u001B[39;49m\u001B[43mstart\u001B[49m\u001B[43m(\u001B[49m\u001B[43m)\u001B[49m\n\u001B[0;32m   1035\u001B[0m \u001B[38;5;28mself\u001B[39m\u001B[38;5;241m.\u001B[39m_index_queues\u001B[38;5;241m.\u001B[39mappend(index_queue)\n\u001B[0;32m   1036\u001B[0m \u001B[38;5;28mself\u001B[39m\u001B[38;5;241m.\u001B[39m_workers\u001B[38;5;241m.\u001B[39mappend(w)\n",
      "File \u001B[1;32mD:\\_MainProgs\\Python\\lib\\multiprocessing\\process.py:121\u001B[0m, in \u001B[0;36mBaseProcess.start\u001B[1;34m(self)\u001B[0m\n\u001B[0;32m    118\u001B[0m \u001B[38;5;28;01massert\u001B[39;00m \u001B[38;5;129;01mnot\u001B[39;00m _current_process\u001B[38;5;241m.\u001B[39m_config\u001B[38;5;241m.\u001B[39mget(\u001B[38;5;124m'\u001B[39m\u001B[38;5;124mdaemon\u001B[39m\u001B[38;5;124m'\u001B[39m), \\\n\u001B[0;32m    119\u001B[0m        \u001B[38;5;124m'\u001B[39m\u001B[38;5;124mdaemonic processes are not allowed to have children\u001B[39m\u001B[38;5;124m'\u001B[39m\n\u001B[0;32m    120\u001B[0m _cleanup()\n\u001B[1;32m--> 121\u001B[0m \u001B[38;5;28mself\u001B[39m\u001B[38;5;241m.\u001B[39m_popen \u001B[38;5;241m=\u001B[39m \u001B[38;5;28;43mself\u001B[39;49m\u001B[38;5;241;43m.\u001B[39;49m\u001B[43m_Popen\u001B[49m\u001B[43m(\u001B[49m\u001B[38;5;28;43mself\u001B[39;49m\u001B[43m)\u001B[49m\n\u001B[0;32m    122\u001B[0m \u001B[38;5;28mself\u001B[39m\u001B[38;5;241m.\u001B[39m_sentinel \u001B[38;5;241m=\u001B[39m \u001B[38;5;28mself\u001B[39m\u001B[38;5;241m.\u001B[39m_popen\u001B[38;5;241m.\u001B[39msentinel\n\u001B[0;32m    123\u001B[0m \u001B[38;5;66;03m# Avoid a refcycle if the target function holds an indirect\u001B[39;00m\n\u001B[0;32m    124\u001B[0m \u001B[38;5;66;03m# reference to the process object (see bpo-30775)\u001B[39;00m\n",
      "File \u001B[1;32mD:\\_MainProgs\\Python\\lib\\multiprocessing\\context.py:224\u001B[0m, in \u001B[0;36mProcess._Popen\u001B[1;34m(process_obj)\u001B[0m\n\u001B[0;32m    222\u001B[0m \u001B[38;5;129m@staticmethod\u001B[39m\n\u001B[0;32m    223\u001B[0m \u001B[38;5;28;01mdef\u001B[39;00m \u001B[38;5;21m_Popen\u001B[39m(process_obj):\n\u001B[1;32m--> 224\u001B[0m     \u001B[38;5;28;01mreturn\u001B[39;00m \u001B[43m_default_context\u001B[49m\u001B[38;5;241;43m.\u001B[39;49m\u001B[43mget_context\u001B[49m\u001B[43m(\u001B[49m\u001B[43m)\u001B[49m\u001B[38;5;241;43m.\u001B[39;49m\u001B[43mProcess\u001B[49m\u001B[38;5;241;43m.\u001B[39;49m\u001B[43m_Popen\u001B[49m\u001B[43m(\u001B[49m\u001B[43mprocess_obj\u001B[49m\u001B[43m)\u001B[49m\n",
      "File \u001B[1;32mD:\\_MainProgs\\Python\\lib\\multiprocessing\\context.py:336\u001B[0m, in \u001B[0;36mSpawnProcess._Popen\u001B[1;34m(process_obj)\u001B[0m\n\u001B[0;32m    333\u001B[0m \u001B[38;5;129m@staticmethod\u001B[39m\n\u001B[0;32m    334\u001B[0m \u001B[38;5;28;01mdef\u001B[39;00m \u001B[38;5;21m_Popen\u001B[39m(process_obj):\n\u001B[0;32m    335\u001B[0m     \u001B[38;5;28;01mfrom\u001B[39;00m \u001B[38;5;21;01m.\u001B[39;00m\u001B[38;5;21;01mpopen_spawn_win32\u001B[39;00m \u001B[38;5;28;01mimport\u001B[39;00m Popen\n\u001B[1;32m--> 336\u001B[0m     \u001B[38;5;28;01mreturn\u001B[39;00m \u001B[43mPopen\u001B[49m\u001B[43m(\u001B[49m\u001B[43mprocess_obj\u001B[49m\u001B[43m)\u001B[49m\n",
      "File \u001B[1;32mD:\\_MainProgs\\Python\\lib\\multiprocessing\\popen_spawn_win32.py:93\u001B[0m, in \u001B[0;36mPopen.__init__\u001B[1;34m(self, process_obj)\u001B[0m\n\u001B[0;32m     91\u001B[0m \u001B[38;5;28;01mtry\u001B[39;00m:\n\u001B[0;32m     92\u001B[0m     reduction\u001B[38;5;241m.\u001B[39mdump(prep_data, to_child)\n\u001B[1;32m---> 93\u001B[0m     \u001B[43mreduction\u001B[49m\u001B[38;5;241;43m.\u001B[39;49m\u001B[43mdump\u001B[49m\u001B[43m(\u001B[49m\u001B[43mprocess_obj\u001B[49m\u001B[43m,\u001B[49m\u001B[43m \u001B[49m\u001B[43mto_child\u001B[49m\u001B[43m)\u001B[49m\n\u001B[0;32m     94\u001B[0m \u001B[38;5;28;01mfinally\u001B[39;00m:\n\u001B[0;32m     95\u001B[0m     set_spawning_popen(\u001B[38;5;28;01mNone\u001B[39;00m)\n",
      "File \u001B[1;32mD:\\_MainProgs\\Python\\lib\\multiprocessing\\reduction.py:60\u001B[0m, in \u001B[0;36mdump\u001B[1;34m(obj, file, protocol)\u001B[0m\n\u001B[0;32m     58\u001B[0m \u001B[38;5;28;01mdef\u001B[39;00m \u001B[38;5;21mdump\u001B[39m(obj, file, protocol\u001B[38;5;241m=\u001B[39m\u001B[38;5;28;01mNone\u001B[39;00m):\n\u001B[0;32m     59\u001B[0m     \u001B[38;5;124;03m'''Replacement for pickle.dump() using ForkingPickler.'''\u001B[39;00m\n\u001B[1;32m---> 60\u001B[0m     \u001B[43mForkingPickler\u001B[49m\u001B[43m(\u001B[49m\u001B[43mfile\u001B[49m\u001B[43m,\u001B[49m\u001B[43m \u001B[49m\u001B[43mprotocol\u001B[49m\u001B[43m)\u001B[49m\u001B[38;5;241;43m.\u001B[39;49m\u001B[43mdump\u001B[49m\u001B[43m(\u001B[49m\u001B[43mobj\u001B[49m\u001B[43m)\u001B[49m\n",
      "\u001B[1;31mKeyboardInterrupt\u001B[0m: "
     ]
    }
   ],
   "source": [
    "# model without improving\n",
    "optimizer = torch.optim.SGD(startmodel.parameters(), lr=learning_rate)\n",
    "writer = SummaryWriter('runs/BaseModel')\n",
    "train_evaluate(startmodel, optimizer, writer)"
   ],
   "metadata": {
    "pycharm": {
     "name": "#%%\n"
    },
    "colab": {
     "base_uri": "https://localhost:8080/"
    },
    "id": "XfSGPq6JICdl",
    "outputId": "b056d7c3-a181-4817-f7d4-f1751ced061f"
   }
  },
  {
   "cell_type": "code",
   "execution_count": null,
   "outputs": [],
   "source": [
    "test_evaluate(startmodel, optimizer)"
   ],
   "metadata": {
    "pycharm": {
     "name": "#%%\n"
    },
    "colab": {
     "base_uri": "https://localhost:8080/"
    },
    "id": "g1oPpHzzICdl",
    "outputId": "37ab43c7-eb9b-4179-95ae-5a401e5ba205"
   }
  },
  {
   "cell_type": "code",
   "execution_count": 32,
   "outputs": [
    {
     "output_type": "stream",
     "name": "stdout",
     "text": [
      "Epoch 1 - train loss:3.781892097159608, accuracy:3.792418956756592, f1_score:2.8831706047058105, time passed 12s\n",
      "Epoch 1 - val loss:3.6823583216894242, accuracy:5.6146979331970215, f1_score:4.456240653991699, time passed 15s\n",
      "Epoch 2 - train loss:3.5763260893625755, accuracy:8.048431396484375, f1_score:6.536133289337158, time passed 29s\n",
      "Epoch 2 - val loss:3.4965174198150635, accuracy:10.785829544067383, f1_score:8.527152061462402, time passed 30s\n",
      "Epoch 3 - train loss:3.404180214829641, accuracy:13.2968168258667, f1_score:10.187032699584961, time passed 39s\n",
      "Epoch 3 - val loss:3.3257961046128046, accuracy:15.344551086425781, f1_score:11.281533241271973, time passed 40s\n",
      "Epoch 4 - train loss:3.239979758654555, accuracy:17.996479034423828, f1_score:13.35980224609375, time passed 49s\n",
      "Epoch 4 - val loss:3.172314167022705, accuracy:20.20089340209961, f1_score:15.209571838378906, time passed 50s\n",
      "Epoch 5 - train loss:3.0986668100095773, accuracy:21.61085319519043, f1_score:16.096433639526367, time passed 59s\n",
      "Epoch 5 - val loss:3.0536800793239047, accuracy:21.462913513183594, f1_score:16.148221969604492, time passed 61s\n",
      "Epoch 6 - train loss:2.9663021711454, accuracy:25.101669311523438, f1_score:19.387361526489258, time passed 71s\n",
      "Epoch 6 - val loss:2.92787310055324, accuracy:25.423534393310547, f1_score:19.574487686157227, time passed 72s\n",
      "Epoch 7 - train loss:2.851425476270179, accuracy:27.37974739074707, f1_score:21.449478149414062, time passed 81s\n",
      "Epoch 7 - val loss:2.8305089133126393, accuracy:27.332305908203125, f1_score:21.428646087646484, time passed 82s\n",
      "Epoch 8 - train loss:2.7530210720349664, accuracy:29.256498336791992, f1_score:23.27709197998047, time passed 91s\n",
      "Epoch 8 - val loss:2.7325595787593295, accuracy:30.505952835083008, f1_score:24.584514617919922, time passed 92s\n",
      "Epoch 9 - train loss:2.6644895158401907, accuracy:31.51219940185547, f1_score:25.560543060302734, time passed 101s\n",
      "Epoch 9 - val loss:2.639714343207223, accuracy:31.584821701049805, f1_score:25.245506286621094, time passed 103s\n",
      "Epoch 10 - train loss:2.575680295081988, accuracy:33.5577507019043, f1_score:27.436843872070312, time passed 112s\n",
      "Epoch 10 - val loss:2.566342149462019, accuracy:33.31044006347656, f1_score:27.131906509399414, time passed 114s\n",
      "Epoch 11 - train loss:2.4959145114846426, accuracy:35.130950927734375, f1_score:28.732036590576172, time passed 124s\n",
      "Epoch 11 - val loss:2.5008489858536493, accuracy:34.163230895996094, f1_score:27.879661560058594, time passed 125s\n",
      "Epoch 12 - train loss:2.4232015952672046, accuracy:37.06024169921875, f1_score:30.841909408569336, time passed 134s\n",
      "Epoch 12 - val loss:2.4222018945784796, accuracy:36.13495635986328, f1_score:30.03789520263672, time passed 135s\n",
      "Epoch 13 - train loss:2.3546397457384085, accuracy:37.794307708740234, f1_score:31.636831283569336, time passed 144s\n",
      "Epoch 13 - val loss:2.3589597656613304, accuracy:37.76327896118164, f1_score:31.7895450592041, time passed 146s\n",
      "Epoch 14 - train loss:2.292430867071021, accuracy:39.70656967163086, f1_score:33.5976676940918, time passed 155s\n",
      "Epoch 14 - val loss:2.295680977049328, accuracy:38.66758346557617, f1_score:32.70500564575195, time passed 156s\n",
      "Epoch 15 - train loss:2.22782321253868, accuracy:40.39344787597656, f1_score:34.4172248840332, time passed 166s\n",
      "Epoch 15 - val loss:2.2265986715044295, accuracy:41.394805908203125, f1_score:35.05612564086914, time passed 167s\n",
      "Epoch 16 - train loss:2.1668274157667815, accuracy:42.15734100341797, f1_score:36.250789642333984, time passed 176s\n",
      "Epoch 16 - val loss:2.1719493695667813, accuracy:41.33470916748047, f1_score:35.59722900390625, time passed 178s\n",
      "Epoch 17 - train loss:2.11365037993209, accuracy:43.288352966308594, f1_score:37.33254623413086, time passed 187s\n",
      "Epoch 17 - val loss:2.1211999484470914, accuracy:43.017398834228516, f1_score:37.43991470336914, time passed 188s\n",
      "Epoch 18 - train loss:2.06293444682474, accuracy:44.581356048583984, f1_score:38.7949333190918, time passed 197s\n",
      "Epoch 18 - val loss:2.0728875682467507, accuracy:44.296592712402344, f1_score:38.620208740234375, time passed 198s\n",
      "Epoch 19 - train loss:2.0176747139186073, accuracy:45.320281982421875, f1_score:39.62211990356445, time passed 207s\n",
      "Epoch 19 - val loss:2.0168167522975375, accuracy:45.34397888183594, f1_score:39.85383224487305, time passed 209s\n",
      "Epoch 20 - train loss:1.971087877064535, accuracy:46.46394348144531, f1_score:40.88051986694336, time passed 218s\n",
      "Epoch 20 - val loss:1.9848771946770805, accuracy:46.11664581298828, f1_score:40.24854278564453, time passed 220s\n"
     ]
    }
   ],
   "source": [
    "optimizer = torch.optim.SGD(improvedmodel.parameters(), lr=learning_rate)\n",
    "writer2 = SummaryWriter('runs/ImprovedModel')\n",
    "train_evaluate(improvedmodel, optimizer, writer2)"
   ],
   "metadata": {
    "pycharm": {
     "name": "#%%\n"
    },
    "colab": {
     "base_uri": "https://localhost:8080/"
    },
    "id": "eh-iqszEICdm",
    "outputId": "65c10d15-c3c6-4f68-e311-d91be72a5e68"
   }
  },
  {
   "cell_type": "code",
   "execution_count": 33,
   "outputs": [
    {
     "output_type": "stream",
     "name": "stdout",
     "text": [
      "Test evaluate - test loss:1.9524168217623676, accuracy:46.34391784667969, f1_score:41.11750411987305\n"
     ]
    }
   ],
   "source": [
    "test_evaluate(improvedmodel, optimizer)"
   ],
   "metadata": {
    "pycharm": {
     "name": "#%%\n"
    },
    "colab": {
     "base_uri": "https://localhost:8080/"
    },
    "id": "x8Ryzm1jICdm",
    "outputId": "3b6ff343-d5c8-4943-f34c-46ab1b562677"
   }
  },
  {
   "cell_type": "markdown",
   "source": [
    "### Task2.2"
   ],
   "metadata": {
    "collapsed": false,
    "pycharm": {
     "name": "#%% md\n"
    },
    "id": "Kcr9BZHpICdm"
   }
  },
  {
   "cell_type": "markdown",
   "source": [
    "#### Section 3.2: Machine learning or Deep learning model defining, training and hyper-parameters turning"
   ],
   "metadata": {
    "collapsed": false,
    "pycharm": {
     "name": "#%% md\n"
    },
    "id": "l1QeotcsICdm"
   }
  },
  {
   "cell_type": "code",
   "execution_count": 34,
   "outputs": [],
   "source": [
    "class Identity(torch.nn.Module):\n",
    "    def __init__(self):\n",
    "        super(Identity, self).__init__()\n",
    "\n",
    "    def forward(self, x):\n",
    "        return x\n",
    "\n",
    "def count_parameters(model):\n",
    "    return sum(p.numel() for p in model.parameters() if p.requires_grad)"
   ],
   "metadata": {
    "pycharm": {
     "name": "#%%\n"
    },
    "id": "NBUxzgjaICdn"
   }
  },
  {
   "cell_type": "code",
   "execution_count": 35,
   "outputs": [
    {
     "output_type": "stream",
     "name": "stdout",
     "text": [
      "----------------------------------------------------------------\n",
      "        Layer (type)               Output Shape         Param #\n",
      "================================================================\n",
      "            Conv2d-1           [-1, 24, 16, 16]             648\n",
      "       BatchNorm2d-2           [-1, 24, 16, 16]              48\n",
      "              ReLU-3           [-1, 24, 16, 16]               0\n",
      "         MaxPool2d-4             [-1, 24, 8, 8]               0\n",
      "            Conv2d-5             [-1, 24, 4, 4]             216\n",
      "       BatchNorm2d-6             [-1, 24, 4, 4]              48\n",
      "            Conv2d-7            [-1, 122, 4, 4]           2,928\n",
      "       BatchNorm2d-8            [-1, 122, 4, 4]             244\n",
      "              ReLU-9            [-1, 122, 4, 4]               0\n",
      "           Conv2d-10            [-1, 122, 8, 8]           2,928\n",
      "      BatchNorm2d-11            [-1, 122, 8, 8]             244\n",
      "             ReLU-12            [-1, 122, 8, 8]               0\n",
      "           Conv2d-13            [-1, 122, 4, 4]           1,098\n",
      "      BatchNorm2d-14            [-1, 122, 4, 4]             244\n",
      "           Conv2d-15            [-1, 122, 4, 4]          14,884\n",
      "      BatchNorm2d-16            [-1, 122, 4, 4]             244\n",
      "             ReLU-17            [-1, 122, 4, 4]               0\n",
      " InvertedResidual-18            [-1, 244, 4, 4]               0\n",
      "           Conv2d-19            [-1, 122, 4, 4]          14,884\n",
      "      BatchNorm2d-20            [-1, 122, 4, 4]             244\n",
      "             ReLU-21            [-1, 122, 4, 4]               0\n",
      "           Conv2d-22            [-1, 122, 4, 4]           1,098\n",
      "      BatchNorm2d-23            [-1, 122, 4, 4]             244\n",
      "           Conv2d-24            [-1, 122, 4, 4]          14,884\n",
      "      BatchNorm2d-25            [-1, 122, 4, 4]             244\n",
      "             ReLU-26            [-1, 122, 4, 4]               0\n",
      " InvertedResidual-27            [-1, 244, 4, 4]               0\n",
      "           Conv2d-28            [-1, 122, 4, 4]          14,884\n",
      "      BatchNorm2d-29            [-1, 122, 4, 4]             244\n",
      "             ReLU-30            [-1, 122, 4, 4]               0\n",
      "           Conv2d-31            [-1, 122, 4, 4]           1,098\n",
      "      BatchNorm2d-32            [-1, 122, 4, 4]             244\n",
      "           Conv2d-33            [-1, 122, 4, 4]          14,884\n",
      "      BatchNorm2d-34            [-1, 122, 4, 4]             244\n",
      "             ReLU-35            [-1, 122, 4, 4]               0\n",
      " InvertedResidual-36            [-1, 244, 4, 4]               0\n",
      "           Conv2d-37            [-1, 122, 4, 4]          14,884\n",
      "      BatchNorm2d-38            [-1, 122, 4, 4]             244\n",
      "             ReLU-39            [-1, 122, 4, 4]               0\n",
      "           Conv2d-40            [-1, 122, 4, 4]           1,098\n",
      "      BatchNorm2d-41            [-1, 122, 4, 4]             244\n",
      "           Conv2d-42            [-1, 122, 4, 4]          14,884\n",
      "      BatchNorm2d-43            [-1, 122, 4, 4]             244\n",
      "             ReLU-44            [-1, 122, 4, 4]               0\n",
      " InvertedResidual-45            [-1, 244, 4, 4]               0\n",
      "           Conv2d-46            [-1, 244, 2, 2]           2,196\n",
      "      BatchNorm2d-47            [-1, 244, 2, 2]             488\n",
      "           Conv2d-48            [-1, 244, 2, 2]          59,536\n",
      "      BatchNorm2d-49            [-1, 244, 2, 2]             488\n",
      "             ReLU-50            [-1, 244, 2, 2]               0\n",
      "           Conv2d-51            [-1, 244, 4, 4]          59,536\n",
      "      BatchNorm2d-52            [-1, 244, 4, 4]             488\n",
      "             ReLU-53            [-1, 244, 4, 4]               0\n",
      "           Conv2d-54            [-1, 244, 2, 2]           2,196\n",
      "      BatchNorm2d-55            [-1, 244, 2, 2]             488\n",
      "           Conv2d-56            [-1, 244, 2, 2]          59,536\n",
      "      BatchNorm2d-57            [-1, 244, 2, 2]             488\n",
      "             ReLU-58            [-1, 244, 2, 2]               0\n",
      " InvertedResidual-59            [-1, 488, 2, 2]               0\n",
      "           Conv2d-60            [-1, 244, 2, 2]          59,536\n",
      "      BatchNorm2d-61            [-1, 244, 2, 2]             488\n",
      "             ReLU-62            [-1, 244, 2, 2]               0\n",
      "           Conv2d-63            [-1, 244, 2, 2]           2,196\n",
      "      BatchNorm2d-64            [-1, 244, 2, 2]             488\n",
      "           Conv2d-65            [-1, 244, 2, 2]          59,536\n",
      "      BatchNorm2d-66            [-1, 244, 2, 2]             488\n",
      "             ReLU-67            [-1, 244, 2, 2]               0\n",
      " InvertedResidual-68            [-1, 488, 2, 2]               0\n",
      "           Conv2d-69            [-1, 244, 2, 2]          59,536\n",
      "      BatchNorm2d-70            [-1, 244, 2, 2]             488\n",
      "             ReLU-71            [-1, 244, 2, 2]               0\n",
      "           Conv2d-72            [-1, 244, 2, 2]           2,196\n",
      "      BatchNorm2d-73            [-1, 244, 2, 2]             488\n",
      "           Conv2d-74            [-1, 244, 2, 2]          59,536\n",
      "      BatchNorm2d-75            [-1, 244, 2, 2]             488\n",
      "             ReLU-76            [-1, 244, 2, 2]               0\n",
      " InvertedResidual-77            [-1, 488, 2, 2]               0\n",
      "           Conv2d-78            [-1, 244, 2, 2]          59,536\n",
      "      BatchNorm2d-79            [-1, 244, 2, 2]             488\n",
      "             ReLU-80            [-1, 244, 2, 2]               0\n",
      "           Conv2d-81            [-1, 244, 2, 2]           2,196\n",
      "      BatchNorm2d-82            [-1, 244, 2, 2]             488\n",
      "           Conv2d-83            [-1, 244, 2, 2]          59,536\n",
      "      BatchNorm2d-84            [-1, 244, 2, 2]             488\n",
      "             ReLU-85            [-1, 244, 2, 2]               0\n",
      " InvertedResidual-86            [-1, 488, 2, 2]               0\n",
      "           Conv2d-87            [-1, 244, 2, 2]          59,536\n",
      "      BatchNorm2d-88            [-1, 244, 2, 2]             488\n",
      "             ReLU-89            [-1, 244, 2, 2]               0\n",
      "           Conv2d-90            [-1, 244, 2, 2]           2,196\n",
      "      BatchNorm2d-91            [-1, 244, 2, 2]             488\n",
      "           Conv2d-92            [-1, 244, 2, 2]          59,536\n",
      "      BatchNorm2d-93            [-1, 244, 2, 2]             488\n",
      "             ReLU-94            [-1, 244, 2, 2]               0\n",
      " InvertedResidual-95            [-1, 488, 2, 2]               0\n",
      "           Conv2d-96            [-1, 244, 2, 2]          59,536\n",
      "      BatchNorm2d-97            [-1, 244, 2, 2]             488\n",
      "             ReLU-98            [-1, 244, 2, 2]               0\n",
      "           Conv2d-99            [-1, 244, 2, 2]           2,196\n",
      "     BatchNorm2d-100            [-1, 244, 2, 2]             488\n",
      "          Conv2d-101            [-1, 244, 2, 2]          59,536\n",
      "     BatchNorm2d-102            [-1, 244, 2, 2]             488\n",
      "            ReLU-103            [-1, 244, 2, 2]               0\n",
      "InvertedResidual-104            [-1, 488, 2, 2]               0\n",
      "          Conv2d-105            [-1, 244, 2, 2]          59,536\n",
      "     BatchNorm2d-106            [-1, 244, 2, 2]             488\n",
      "            ReLU-107            [-1, 244, 2, 2]               0\n",
      "          Conv2d-108            [-1, 244, 2, 2]           2,196\n",
      "     BatchNorm2d-109            [-1, 244, 2, 2]             488\n",
      "          Conv2d-110            [-1, 244, 2, 2]          59,536\n",
      "     BatchNorm2d-111            [-1, 244, 2, 2]             488\n",
      "            ReLU-112            [-1, 244, 2, 2]               0\n",
      "InvertedResidual-113            [-1, 488, 2, 2]               0\n",
      "          Conv2d-114            [-1, 244, 2, 2]          59,536\n",
      "     BatchNorm2d-115            [-1, 244, 2, 2]             488\n",
      "            ReLU-116            [-1, 244, 2, 2]               0\n",
      "          Conv2d-117            [-1, 244, 2, 2]           2,196\n",
      "     BatchNorm2d-118            [-1, 244, 2, 2]             488\n",
      "          Conv2d-119            [-1, 244, 2, 2]          59,536\n",
      "     BatchNorm2d-120            [-1, 244, 2, 2]             488\n",
      "            ReLU-121            [-1, 244, 2, 2]               0\n",
      "InvertedResidual-122            [-1, 488, 2, 2]               0\n",
      "          Conv2d-123            [-1, 488, 1, 1]           4,392\n",
      "     BatchNorm2d-124            [-1, 488, 1, 1]             976\n",
      "          Conv2d-125            [-1, 488, 1, 1]         238,144\n",
      "     BatchNorm2d-126            [-1, 488, 1, 1]             976\n",
      "            ReLU-127            [-1, 488, 1, 1]               0\n",
      "          Conv2d-128            [-1, 488, 2, 2]         238,144\n",
      "     BatchNorm2d-129            [-1, 488, 2, 2]             976\n",
      "            ReLU-130            [-1, 488, 2, 2]               0\n",
      "          Conv2d-131            [-1, 488, 1, 1]           4,392\n",
      "     BatchNorm2d-132            [-1, 488, 1, 1]             976\n",
      "          Conv2d-133            [-1, 488, 1, 1]         238,144\n",
      "     BatchNorm2d-134            [-1, 488, 1, 1]             976\n",
      "            ReLU-135            [-1, 488, 1, 1]               0\n",
      "InvertedResidual-136            [-1, 976, 1, 1]               0\n",
      "          Conv2d-137            [-1, 488, 1, 1]         238,144\n",
      "     BatchNorm2d-138            [-1, 488, 1, 1]             976\n",
      "            ReLU-139            [-1, 488, 1, 1]               0\n",
      "          Conv2d-140            [-1, 488, 1, 1]           4,392\n",
      "     BatchNorm2d-141            [-1, 488, 1, 1]             976\n",
      "          Conv2d-142            [-1, 488, 1, 1]         238,144\n",
      "     BatchNorm2d-143            [-1, 488, 1, 1]             976\n",
      "            ReLU-144            [-1, 488, 1, 1]               0\n",
      "InvertedResidual-145            [-1, 976, 1, 1]               0\n",
      "          Conv2d-146            [-1, 488, 1, 1]         238,144\n",
      "     BatchNorm2d-147            [-1, 488, 1, 1]             976\n",
      "            ReLU-148            [-1, 488, 1, 1]               0\n",
      "          Conv2d-149            [-1, 488, 1, 1]           4,392\n",
      "     BatchNorm2d-150            [-1, 488, 1, 1]             976\n",
      "          Conv2d-151            [-1, 488, 1, 1]         238,144\n",
      "     BatchNorm2d-152            [-1, 488, 1, 1]             976\n",
      "            ReLU-153            [-1, 488, 1, 1]               0\n",
      "InvertedResidual-154            [-1, 976, 1, 1]               0\n",
      "          Conv2d-155            [-1, 488, 1, 1]         238,144\n",
      "     BatchNorm2d-156            [-1, 488, 1, 1]             976\n",
      "            ReLU-157            [-1, 488, 1, 1]               0\n",
      "          Conv2d-158            [-1, 488, 1, 1]           4,392\n",
      "     BatchNorm2d-159            [-1, 488, 1, 1]             976\n",
      "          Conv2d-160            [-1, 488, 1, 1]         238,144\n",
      "     BatchNorm2d-161            [-1, 488, 1, 1]             976\n",
      "            ReLU-162            [-1, 488, 1, 1]               0\n",
      "InvertedResidual-163            [-1, 976, 1, 1]               0\n",
      "          Conv2d-164           [-1, 2048, 1, 1]       1,998,848\n",
      "     BatchNorm2d-165           [-1, 2048, 1, 1]           4,096\n",
      "            ReLU-166           [-1, 2048, 1, 1]               0\n",
      "          Linear-167                   [-1, 43]          88,107\n",
      "    ShuffleNetV2-168                   [-1, 43]               0\n",
      "================================================================\n",
      "Total params: 5,433,103\n",
      "Trainable params: 5,433,103\n",
      "Non-trainable params: 0\n",
      "----------------------------------------------------------------\n",
      "Input size (MB): 0.01\n",
      "Forward/backward pass size (MB): 1.88\n",
      "Params size (MB): 20.73\n",
      "Estimated Total Size (MB): 22.62\n",
      "----------------------------------------------------------------\n"
     ]
    }
   ],
   "source": [
    "class Net(nn.Module):\n",
    "    def __init__(self):\n",
    "        super(Net, self).__init__()\n",
    "        self.net = models.shufflenet_v2_x2_0()\n",
    "        self.net.trainable = False # Freeze the layers of the pretrained model\n",
    "        self.net.fc = nn.Linear(2048, 43)\n",
    "\n",
    "    def forward(self, x):\n",
    "        return self.net(x)\n",
    "\n",
    "shuff = Net().to(device)\n",
    "summary(shuff, (3, 32, 32))"
   ],
   "metadata": {
    "pycharm": {
     "name": "#%%\n"
    },
    "colab": {
     "base_uri": "https://localhost:8080/"
    },
    "id": "OM4i-9lpICdn",
    "outputId": "1a76a514-12b6-4aa1-ce4c-3a660c061075"
   }
  },
  {
   "cell_type": "code",
   "execution_count": 36,
   "outputs": [
    {
     "output_type": "stream",
     "name": "stdout",
     "text": [
      "----------------------------------------------------------------\n",
      "        Layer (type)               Output Shape         Param #\n",
      "================================================================\n",
      "            Conv2d-1           [-1, 24, 16, 16]             648\n",
      "       BatchNorm2d-2           [-1, 24, 16, 16]              48\n",
      "              ReLU-3           [-1, 24, 16, 16]               0\n",
      "         MaxPool2d-4             [-1, 24, 8, 8]               0\n",
      "            Conv2d-5             [-1, 24, 4, 4]             216\n",
      "       BatchNorm2d-6             [-1, 24, 4, 4]              48\n",
      "            Conv2d-7            [-1, 122, 4, 4]           2,928\n",
      "       BatchNorm2d-8            [-1, 122, 4, 4]             244\n",
      "              ReLU-9            [-1, 122, 4, 4]               0\n",
      "           Conv2d-10            [-1, 122, 8, 8]           2,928\n",
      "      BatchNorm2d-11            [-1, 122, 8, 8]             244\n",
      "             ReLU-12            [-1, 122, 8, 8]               0\n",
      "           Conv2d-13            [-1, 122, 4, 4]           1,098\n",
      "      BatchNorm2d-14            [-1, 122, 4, 4]             244\n",
      "           Conv2d-15            [-1, 122, 4, 4]          14,884\n",
      "      BatchNorm2d-16            [-1, 122, 4, 4]             244\n",
      "             ReLU-17            [-1, 122, 4, 4]               0\n",
      " InvertedResidual-18            [-1, 244, 4, 4]               0\n",
      "           Conv2d-19            [-1, 122, 4, 4]          14,884\n",
      "      BatchNorm2d-20            [-1, 122, 4, 4]             244\n",
      "             ReLU-21            [-1, 122, 4, 4]               0\n",
      "           Conv2d-22            [-1, 122, 4, 4]           1,098\n",
      "      BatchNorm2d-23            [-1, 122, 4, 4]             244\n",
      "           Conv2d-24            [-1, 122, 4, 4]          14,884\n",
      "      BatchNorm2d-25            [-1, 122, 4, 4]             244\n",
      "             ReLU-26            [-1, 122, 4, 4]               0\n",
      " InvertedResidual-27            [-1, 244, 4, 4]               0\n",
      "           Conv2d-28            [-1, 122, 4, 4]          14,884\n",
      "      BatchNorm2d-29            [-1, 122, 4, 4]             244\n",
      "             ReLU-30            [-1, 122, 4, 4]               0\n",
      "           Conv2d-31            [-1, 122, 4, 4]           1,098\n",
      "      BatchNorm2d-32            [-1, 122, 4, 4]             244\n",
      "           Conv2d-33            [-1, 122, 4, 4]          14,884\n",
      "      BatchNorm2d-34            [-1, 122, 4, 4]             244\n",
      "             ReLU-35            [-1, 122, 4, 4]               0\n",
      " InvertedResidual-36            [-1, 244, 4, 4]               0\n",
      "           Conv2d-37            [-1, 122, 4, 4]          14,884\n",
      "      BatchNorm2d-38            [-1, 122, 4, 4]             244\n",
      "             ReLU-39            [-1, 122, 4, 4]               0\n",
      "           Conv2d-40            [-1, 122, 4, 4]           1,098\n",
      "      BatchNorm2d-41            [-1, 122, 4, 4]             244\n",
      "           Conv2d-42            [-1, 122, 4, 4]          14,884\n",
      "      BatchNorm2d-43            [-1, 122, 4, 4]             244\n",
      "             ReLU-44            [-1, 122, 4, 4]               0\n",
      " InvertedResidual-45            [-1, 244, 4, 4]               0\n",
      "           Conv2d-46            [-1, 244, 2, 2]           2,196\n",
      "      BatchNorm2d-47            [-1, 244, 2, 2]             488\n",
      "           Conv2d-48            [-1, 244, 2, 2]          59,536\n",
      "      BatchNorm2d-49            [-1, 244, 2, 2]             488\n",
      "             ReLU-50            [-1, 244, 2, 2]               0\n",
      "           Conv2d-51            [-1, 244, 4, 4]          59,536\n",
      "      BatchNorm2d-52            [-1, 244, 4, 4]             488\n",
      "             ReLU-53            [-1, 244, 4, 4]               0\n",
      "           Conv2d-54            [-1, 244, 2, 2]           2,196\n",
      "      BatchNorm2d-55            [-1, 244, 2, 2]             488\n",
      "           Conv2d-56            [-1, 244, 2, 2]          59,536\n",
      "      BatchNorm2d-57            [-1, 244, 2, 2]             488\n",
      "             ReLU-58            [-1, 244, 2, 2]               0\n",
      " InvertedResidual-59            [-1, 488, 2, 2]               0\n",
      "           Conv2d-60            [-1, 244, 2, 2]          59,536\n",
      "      BatchNorm2d-61            [-1, 244, 2, 2]             488\n",
      "             ReLU-62            [-1, 244, 2, 2]               0\n",
      "           Conv2d-63            [-1, 244, 2, 2]           2,196\n",
      "      BatchNorm2d-64            [-1, 244, 2, 2]             488\n",
      "           Conv2d-65            [-1, 244, 2, 2]          59,536\n",
      "      BatchNorm2d-66            [-1, 244, 2, 2]             488\n",
      "             ReLU-67            [-1, 244, 2, 2]               0\n",
      " InvertedResidual-68            [-1, 488, 2, 2]               0\n",
      "           Conv2d-69            [-1, 244, 2, 2]          59,536\n",
      "      BatchNorm2d-70            [-1, 244, 2, 2]             488\n",
      "             ReLU-71            [-1, 244, 2, 2]               0\n",
      "           Conv2d-72            [-1, 244, 2, 2]           2,196\n",
      "      BatchNorm2d-73            [-1, 244, 2, 2]             488\n",
      "           Conv2d-74            [-1, 244, 2, 2]          59,536\n",
      "      BatchNorm2d-75            [-1, 244, 2, 2]             488\n",
      "             ReLU-76            [-1, 244, 2, 2]               0\n",
      " InvertedResidual-77            [-1, 488, 2, 2]               0\n",
      "           Conv2d-78            [-1, 244, 2, 2]          59,536\n",
      "      BatchNorm2d-79            [-1, 244, 2, 2]             488\n",
      "             ReLU-80            [-1, 244, 2, 2]               0\n",
      "           Conv2d-81            [-1, 244, 2, 2]           2,196\n",
      "      BatchNorm2d-82            [-1, 244, 2, 2]             488\n",
      "           Conv2d-83            [-1, 244, 2, 2]          59,536\n",
      "      BatchNorm2d-84            [-1, 244, 2, 2]             488\n",
      "             ReLU-85            [-1, 244, 2, 2]               0\n",
      " InvertedResidual-86            [-1, 488, 2, 2]               0\n",
      "           Conv2d-87            [-1, 244, 2, 2]          59,536\n",
      "      BatchNorm2d-88            [-1, 244, 2, 2]             488\n",
      "             ReLU-89            [-1, 244, 2, 2]               0\n",
      "           Conv2d-90            [-1, 244, 2, 2]           2,196\n",
      "      BatchNorm2d-91            [-1, 244, 2, 2]             488\n",
      "           Conv2d-92            [-1, 244, 2, 2]          59,536\n",
      "      BatchNorm2d-93            [-1, 244, 2, 2]             488\n",
      "             ReLU-94            [-1, 244, 2, 2]               0\n",
      " InvertedResidual-95            [-1, 488, 2, 2]               0\n",
      "           Conv2d-96            [-1, 244, 2, 2]          59,536\n",
      "      BatchNorm2d-97            [-1, 244, 2, 2]             488\n",
      "             ReLU-98            [-1, 244, 2, 2]               0\n",
      "           Conv2d-99            [-1, 244, 2, 2]           2,196\n",
      "     BatchNorm2d-100            [-1, 244, 2, 2]             488\n",
      "          Conv2d-101            [-1, 244, 2, 2]          59,536\n",
      "     BatchNorm2d-102            [-1, 244, 2, 2]             488\n",
      "            ReLU-103            [-1, 244, 2, 2]               0\n",
      "InvertedResidual-104            [-1, 488, 2, 2]               0\n",
      "          Conv2d-105            [-1, 244, 2, 2]          59,536\n",
      "     BatchNorm2d-106            [-1, 244, 2, 2]             488\n",
      "            ReLU-107            [-1, 244, 2, 2]               0\n",
      "          Conv2d-108            [-1, 244, 2, 2]           2,196\n",
      "     BatchNorm2d-109            [-1, 244, 2, 2]             488\n",
      "          Conv2d-110            [-1, 244, 2, 2]          59,536\n",
      "     BatchNorm2d-111            [-1, 244, 2, 2]             488\n",
      "            ReLU-112            [-1, 244, 2, 2]               0\n",
      "InvertedResidual-113            [-1, 488, 2, 2]               0\n",
      "          Conv2d-114            [-1, 244, 2, 2]          59,536\n",
      "     BatchNorm2d-115            [-1, 244, 2, 2]             488\n",
      "            ReLU-116            [-1, 244, 2, 2]               0\n",
      "          Conv2d-117            [-1, 244, 2, 2]           2,196\n",
      "     BatchNorm2d-118            [-1, 244, 2, 2]             488\n",
      "          Conv2d-119            [-1, 244, 2, 2]          59,536\n",
      "     BatchNorm2d-120            [-1, 244, 2, 2]             488\n",
      "            ReLU-121            [-1, 244, 2, 2]               0\n",
      "InvertedResidual-122            [-1, 488, 2, 2]               0\n",
      "          Conv2d-123            [-1, 488, 1, 1]           4,392\n",
      "     BatchNorm2d-124            [-1, 488, 1, 1]             976\n",
      "          Conv2d-125            [-1, 488, 1, 1]         238,144\n",
      "     BatchNorm2d-126            [-1, 488, 1, 1]             976\n",
      "            ReLU-127            [-1, 488, 1, 1]               0\n",
      "          Conv2d-128            [-1, 488, 2, 2]         238,144\n",
      "     BatchNorm2d-129            [-1, 488, 2, 2]             976\n",
      "            ReLU-130            [-1, 488, 2, 2]               0\n",
      "          Conv2d-131            [-1, 488, 1, 1]           4,392\n",
      "     BatchNorm2d-132            [-1, 488, 1, 1]             976\n",
      "          Conv2d-133            [-1, 488, 1, 1]         238,144\n",
      "     BatchNorm2d-134            [-1, 488, 1, 1]             976\n",
      "            ReLU-135            [-1, 488, 1, 1]               0\n",
      "InvertedResidual-136            [-1, 976, 1, 1]               0\n",
      "          Conv2d-137            [-1, 488, 1, 1]         238,144\n",
      "     BatchNorm2d-138            [-1, 488, 1, 1]             976\n",
      "            ReLU-139            [-1, 488, 1, 1]               0\n",
      "          Conv2d-140            [-1, 488, 1, 1]           4,392\n",
      "     BatchNorm2d-141            [-1, 488, 1, 1]             976\n",
      "          Conv2d-142            [-1, 488, 1, 1]         238,144\n",
      "     BatchNorm2d-143            [-1, 488, 1, 1]             976\n",
      "            ReLU-144            [-1, 488, 1, 1]               0\n",
      "InvertedResidual-145            [-1, 976, 1, 1]               0\n",
      "          Conv2d-146            [-1, 488, 1, 1]         238,144\n",
      "     BatchNorm2d-147            [-1, 488, 1, 1]             976\n",
      "            ReLU-148            [-1, 488, 1, 1]               0\n",
      "          Conv2d-149            [-1, 488, 1, 1]           4,392\n",
      "     BatchNorm2d-150            [-1, 488, 1, 1]             976\n",
      "          Conv2d-151            [-1, 488, 1, 1]         238,144\n",
      "     BatchNorm2d-152            [-1, 488, 1, 1]             976\n",
      "            ReLU-153            [-1, 488, 1, 1]               0\n",
      "InvertedResidual-154            [-1, 976, 1, 1]               0\n",
      "          Conv2d-155            [-1, 488, 1, 1]         238,144\n",
      "     BatchNorm2d-156            [-1, 488, 1, 1]             976\n",
      "            ReLU-157            [-1, 488, 1, 1]               0\n",
      "          Conv2d-158            [-1, 488, 1, 1]           4,392\n",
      "     BatchNorm2d-159            [-1, 488, 1, 1]             976\n",
      "          Conv2d-160            [-1, 488, 1, 1]         238,144\n",
      "     BatchNorm2d-161            [-1, 488, 1, 1]             976\n",
      "            ReLU-162            [-1, 488, 1, 1]               0\n",
      "InvertedResidual-163            [-1, 976, 1, 1]               0\n",
      "        Identity-164            [-1, 976, 1, 1]               0\n",
      "          Linear-165                   [-1, 43]          42,011\n",
      "    ShuffleNetV2-166                   [-1, 43]               0\n",
      "================================================================\n",
      "Total params: 3,384,063\n",
      "Trainable params: 3,384,063\n",
      "Non-trainable params: 0\n",
      "----------------------------------------------------------------\n",
      "Input size (MB): 0.01\n",
      "Forward/backward pass size (MB): 1.84\n",
      "Params size (MB): 12.91\n",
      "Estimated Total Size (MB): 14.76\n",
      "----------------------------------------------------------------\n"
     ]
    }
   ],
   "source": [
    "class NetReduced(nn.Module):\n",
    "    def __init__(self):\n",
    "        super(NetReduced, self).__init__()\n",
    "        self.net = models.shufflenet_v2_x2_0()\n",
    "        self.net.trainable = False # Freeze the layers of the pretrained model\n",
    "        self.net.conv5 = Identity()\n",
    "        self.net.fc = nn.Linear(976, 43)\n",
    "\n",
    "    def forward(self, x):\n",
    "        return self.net(x)\n",
    "\n",
    "shuffreduced = NetReduced().to(device)\n",
    "summary(shuffreduced, (3, 32, 32))"
   ],
   "metadata": {
    "pycharm": {
     "name": "#%%\n"
    },
    "colab": {
     "base_uri": "https://localhost:8080/"
    },
    "id": "BZbvqHoxICdn",
    "outputId": "bf70e52b-44ad-4eca-8d56-65d81cbd375e"
   }
  },
  {
   "cell_type": "markdown",
   "source": [
    "#### Section 4.2: Model performance evaluation"
   ],
   "metadata": {
    "collapsed": false,
    "pycharm": {
     "name": "#%% md\n"
    },
    "id": "ctu9ib0bICdo"
   }
  },
  {
   "cell_type": "code",
   "execution_count": 37,
   "outputs": [
    {
     "output_type": "stream",
     "name": "stdout",
     "text": [
      "Epoch 1 - train loss:3.648371103691728, accuracy:4.753658294677734, f1_score:3.287752389907837, time passed 11s\n",
      "Epoch 1 - val loss:3.5586927504766557, accuracy:5.920902252197266, f1_score:4.342501640319824, time passed 12s\n",
      "Epoch 2 - train loss:3.5260258276168615, accuracy:6.133736610412598, f1_score:4.1751484870910645, time passed 24s\n",
      "Epoch 2 - val loss:3.5192053885686967, accuracy:6.1612868309021, f1_score:4.159658432006836, time passed 25s\n",
      "Epoch 3 - train loss:3.487732232433476, accuracy:7.4097137451171875, f1_score:5.223920822143555, time passed 37s\n",
      "Epoch 3 - val loss:3.475822437377203, accuracy:8.52220630645752, f1_score:5.894680500030518, time passed 39s\n",
      "Epoch 4 - train loss:3.442376007772472, accuracy:9.0651273727417, f1_score:6.445792198181152, time passed 50s\n",
      "Epoch 4 - val loss:3.447174060912359, accuracy:8.774038314819336, f1_score:6.170717716217041, time passed 52s\n",
      "Epoch 5 - train loss:3.405845971956645, accuracy:10.460771560668945, f1_score:7.56613302230835, time passed 63s\n",
      "Epoch 5 - val loss:3.415984244573684, accuracy:10.433836936950684, f1_score:7.6884541511535645, time passed 65s\n",
      "Epoch 6 - train loss:3.3514991525101334, accuracy:12.414870262145996, f1_score:9.0331392288208, time passed 76s\n",
      "Epoch 6 - val loss:3.3598494983854748, accuracy:12.64022445678711, f1_score:9.190140724182129, time passed 77s\n",
      "Epoch 7 - train loss:3.2741112921335924, accuracy:15.531599044799805, f1_score:11.300756454467773, time passed 90s\n",
      "Epoch 7 - val loss:3.2692232586088634, accuracy:16.188758850097656, f1_score:12.06800651550293, time passed 91s\n",
      "Epoch 8 - train loss:3.172417789289396, accuracy:17.866107940673828, f1_score:13.195487976074219, time passed 102s\n",
      "Epoch 8 - val loss:3.1496772311982655, accuracy:18.672733306884766, f1_score:13.977951049804688, time passed 104s\n",
      "Epoch 9 - train loss:3.035865816351486, accuracy:21.690147399902344, f1_score:16.61731719970703, time passed 115s\n",
      "Epoch 9 - val loss:3.010518028622582, accuracy:21.191049575805664, f1_score:16.456052780151367, time passed 117s\n",
      "Epoch 10 - train loss:2.8863982795036, accuracy:25.18582534790039, f1_score:20.02899742126465, time passed 128s\n",
      "Epoch 10 - val loss:2.8778965586707708, accuracy:24.710966110229492, f1_score:19.681110382080078, time passed 130s\n",
      "Epoch 11 - train loss:2.751121695727518, accuracy:27.564115524291992, f1_score:22.403581619262695, time passed 142s\n",
      "Epoch 11 - val loss:2.7443664982205345, accuracy:26.888736724853516, f1_score:21.839885711669922, time passed 143s\n",
      "Epoch 12 - train loss:2.605697458737517, accuracy:31.029150009155273, f1_score:25.865509033203125, time passed 155s\n",
      "Epoch 12 - val loss:2.6146095480237688, accuracy:29.404190063476562, f1_score:24.217763900756836, time passed 156s\n",
      "Epoch 13 - train loss:2.473874722441582, accuracy:33.360252380371094, f1_score:28.062734603881836, time passed 168s\n",
      "Epoch 13 - val loss:2.489504541669573, accuracy:31.484661102294922, f1_score:26.361356735229492, time passed 169s\n",
      "Epoch 14 - train loss:2.332714322495134, accuracy:36.61027145385742, f1_score:31.164627075195312, time passed 181s\n",
      "Epoch 14 - val loss:2.3762608596256802, accuracy:35.57406234741211, f1_score:30.114139556884766, time passed 183s\n",
      "Epoch 15 - train loss:2.200442752609514, accuracy:39.672515869140625, f1_score:34.20123291015625, time passed 194s\n",
      "Epoch 15 - val loss:2.2667777878897533, accuracy:37.29109573364258, f1_score:31.943336486816406, time passed 196s\n",
      "Epoch 16 - train loss:2.0828197059566027, accuracy:42.886051177978516, f1_score:37.486000061035156, time passed 208s\n",
      "Epoch 16 - val loss:2.1715760231018066, accuracy:37.80620574951172, f1_score:32.70146560668945, time passed 209s\n",
      "Epoch 17 - train loss:1.9710721691993818, accuracy:44.97246551513672, f1_score:39.58366775512695, time passed 221s\n",
      "Epoch 17 - val loss:2.0903386842636835, accuracy:39.82658004760742, f1_score:35.06423568725586, time passed 222s\n",
      "Epoch 18 - train loss:1.8634835057062646, accuracy:47.956878662109375, f1_score:42.69806671142578, time passed 235s\n",
      "Epoch 18 - val loss:2.001074575242542, accuracy:41.94711685180664, f1_score:37.37565231323242, time passed 236s\n",
      "Epoch 19 - train loss:1.7707171742230245, accuracy:50.63190460205078, f1_score:45.371456146240234, time passed 247s\n",
      "Epoch 19 - val loss:1.9232714005878992, accuracy:44.40247344970703, f1_score:40.369380950927734, time passed 249s\n",
      "Epoch 20 - train loss:1.6766366101291081, accuracy:53.1926155090332, f1_score:48.128177642822266, time passed 260s\n",
      "Epoch 20 - val loss:1.8747325795037406, accuracy:45.43269348144531, f1_score:41.12009811401367, time passed 262s\n"
     ]
    }
   ],
   "source": [
    "optimizer = torch.optim.SGD(shuff.parameters(),lr=learning_rate)\n",
    "writer3 = SummaryWriter('runs/TLmodel')\n",
    "train_evaluate(shuff, optimizer, writer3)"
   ],
   "metadata": {
    "pycharm": {
     "name": "#%%\n"
    },
    "colab": {
     "base_uri": "https://localhost:8080/"
    },
    "id": "FbhMK_eYICdo",
    "outputId": "73e89677-1855-4bde-9648-7cf05f7a2e85"
   }
  },
  {
   "cell_type": "code",
   "execution_count": 38,
   "outputs": [
    {
     "output_type": "stream",
     "name": "stdout",
     "text": [
      "Test evaluate - test loss:1.8525429323867515, accuracy:45.261905670166016, f1_score:41.258541107177734\n"
     ]
    }
   ],
   "source": [
    "test_evaluate(shuff, optimizer)"
   ],
   "metadata": {
    "pycharm": {
     "name": "#%%\n"
    },
    "colab": {
     "base_uri": "https://localhost:8080/"
    },
    "id": "ujC2ZlRUICdo",
    "outputId": "a9a02180-3cd6-464c-d097-b9dbd460d87b"
   }
  },
  {
   "cell_type": "code",
   "execution_count": 39,
   "outputs": [
    {
     "output_type": "stream",
     "name": "stdout",
     "text": [
      "Epoch 1 - train loss:3.6911758037462628, accuracy:4.6996612548828125, f1_score:3.239332675933838, time passed 11s\n",
      "Epoch 1 - val loss:3.613515853881836, accuracy:6.227106094360352, f1_score:3.969083547592163, time passed 13s\n",
      "Epoch 2 - train loss:3.560694186654809, accuracy:6.94125509262085, f1_score:4.685476303100586, time passed 24s\n",
      "Epoch 2 - val loss:3.543572948092506, accuracy:7.17719841003418, f1_score:5.064234733581543, time passed 26s\n",
      "Epoch 3 - train loss:3.4979838786059863, accuracy:7.9467620849609375, f1_score:5.433537006378174, time passed 37s\n",
      "Epoch 3 - val loss:3.492972044717698, accuracy:7.789606094360352, f1_score:5.187887191772461, time passed 39s\n",
      "Epoch 4 - train loss:3.442298067759161, accuracy:9.542827606201172, f1_score:6.5686726570129395, time passed 50s\n",
      "Epoch 4 - val loss:3.4473774546668645, accuracy:10.073260307312012, f1_score:6.948268413543701, time passed 51s\n",
      "Epoch 5 - train loss:3.3917610400343596, accuracy:11.340286254882812, f1_score:7.742509365081787, time passed 64s\n",
      "Epoch 5 - val loss:3.3962382134937106, accuracy:11.7931547164917, f1_score:8.049946784973145, time passed 65s\n",
      "Epoch 6 - train loss:3.3301006686197567, accuracy:13.653389930725098, f1_score:9.507869720458984, time passed 77s\n",
      "Epoch 6 - val loss:3.3265040942600796, accuracy:13.793498039245605, f1_score:9.37266731262207, time passed 78s\n",
      "Epoch 7 - train loss:3.248016755874843, accuracy:15.747587203979492, f1_score:11.258232116699219, time passed 89s\n",
      "Epoch 7 - val loss:3.248280479794457, accuracy:15.790979385375977, f1_score:11.033042907714844, time passed 91s\n",
      "Epoch 8 - train loss:3.1552913303244603, accuracy:19.12651824951172, f1_score:13.891132354736328, time passed 102s\n",
      "Epoch 8 - val loss:3.1616739999680292, accuracy:19.00755500793457, f1_score:13.716988563537598, time passed 103s\n",
      "Epoch 9 - train loss:3.0485726203003973, accuracy:22.355133056640625, f1_score:16.769975662231445, time passed 116s\n",
      "Epoch 9 - val loss:3.0457636628832137, accuracy:20.787546157836914, f1_score:15.442355155944824, time passed 117s\n",
      "Epoch 10 - train loss:2.9293558662884855, accuracy:25.434406280517578, f1_score:19.574304580688477, time passed 129s\n",
      "Epoch 10 - val loss:2.9280708517347063, accuracy:24.673765182495117, f1_score:19.085765838623047, time passed 130s\n",
      "Epoch 11 - train loss:2.7959750319180423, accuracy:28.381364822387695, f1_score:22.343229293823242, time passed 142s\n",
      "Epoch 11 - val loss:2.827569745835804, accuracy:26.551054000854492, f1_score:20.5419979095459, time passed 144s\n",
      "Epoch 12 - train loss:2.6560034066030425, accuracy:31.523876190185547, f1_score:25.399555206298828, time passed 155s\n",
      "Epoch 12 - val loss:2.691961265745617, accuracy:29.524383544921875, f1_score:23.507535934448242, time passed 157s\n",
      "Epoch 13 - train loss:2.524152256038091, accuracy:34.72135925292969, f1_score:28.557186126708984, time passed 169s\n",
      "Epoch 13 - val loss:2.5956315994262695, accuracy:30.740612030029297, f1_score:25.14284896850586, time passed 170s\n",
      "Epoch 14 - train loss:2.405082936156286, accuracy:37.47275924682617, f1_score:31.38617706298828, time passed 182s\n",
      "Epoch 14 - val loss:2.5017371291206, accuracy:32.738094329833984, f1_score:27.09438705444336, time passed 183s\n",
      "Epoch 15 - train loss:2.2950389728154224, accuracy:39.52511978149414, f1_score:33.42212677001953, time passed 194s\n",
      "Epoch 15 - val loss:2.422355583735875, accuracy:33.9171257019043, f1_score:28.561355590820312, time passed 196s\n",
      "Epoch 16 - train loss:2.1990495471105183, accuracy:41.607643127441406, f1_score:35.6326904296875, time passed 207s\n",
      "Epoch 16 - val loss:2.3318742343357632, accuracy:36.544185638427734, f1_score:31.050729751586914, time passed 209s\n",
      "Epoch 17 - train loss:2.0960479844106388, accuracy:44.01219940185547, f1_score:38.34492111206055, time passed 221s\n",
      "Epoch 17 - val loss:2.2459411053430465, accuracy:37.91495132446289, f1_score:32.09077835083008, time passed 223s\n",
      "Epoch 18 - train loss:2.0059104602630824, accuracy:46.344764709472656, f1_score:40.676876068115234, time passed 234s\n",
      "Epoch 18 - val loss:2.191111207008362, accuracy:39.0167121887207, f1_score:33.7304801940918, time passed 235s\n",
      "Epoch 19 - train loss:1.9212113773986086, accuracy:48.063899993896484, f1_score:42.52327346801758, time passed 246s\n",
      "Epoch 19 - val loss:2.1293820653642928, accuracy:40.224361419677734, f1_score:34.79924011230469, time passed 248s\n",
      "Epoch 20 - train loss:1.842541711787655, accuracy:50.250038146972656, f1_score:44.823280334472656, time passed 260s\n",
      "Epoch 20 - val loss:2.054670969645182, accuracy:41.283199310302734, f1_score:36.26681137084961, time passed 262s\n"
     ]
    }
   ],
   "source": [
    "optimizer = torch.optim.SGD(shuffreduced.parameters(),lr=learning_rate)\n",
    "writer4 = SummaryWriter('runs/TLmodelReduced')\n",
    "train_evaluate(shuffreduced, optimizer, writer4)"
   ],
   "metadata": {
    "pycharm": {
     "name": "#%%\n"
    },
    "colab": {
     "base_uri": "https://localhost:8080/"
    },
    "id": "ojgXhQ8uICdp",
    "outputId": "ad9396f5-e630-42a4-b2b8-261ccb6485f1"
   }
  },
  {
   "cell_type": "code",
   "execution_count": 40,
   "outputs": [
    {
     "output_type": "stream",
     "name": "stdout",
     "text": [
      "Test evaluate - test loss:2.034531048050633, accuracy:42.806880950927734, f1_score:38.17628479003906\n"
     ]
    }
   ],
   "source": [
    "test_evaluate(shuffreduced, optimizer)"
   ],
   "metadata": {
    "pycharm": {
     "name": "#%%\n"
    },
    "colab": {
     "base_uri": "https://localhost:8080/"
    },
    "id": "p6XCXlIXICdp",
    "outputId": "59c8c8a2-ce81-4356-faf7-df19a6ae9b60"
   }
  },
  {
   "cell_type": "markdown",
   "source": [
    "#### Section 5: Conclusion and possible improvements"
   ],
   "metadata": {
    "collapsed": false,
    "pycharm": {
     "name": "#%% md\n"
    },
    "id": "9TbdQuwtICdp"
   }
  },
  {
   "cell_type": "markdown",
   "source": [
    "### Task 2.1\n",
    "The goal is to improve model efficiency using minimum of three techniques presented in the course.\n",
    "\n",
    "To do this, Dropout2d, BatchNorm2d and ReLU layers was used.\n",
    "\n",
    "As a result, accuracy was significantly increased from 9% to 46% based on test dataset.\n",
    "\n",
    "### Task 2.2\n",
    "The goal is to reduce pretrained model parameters without loosing accuracy of more than 5%.\n",
    "\n",
    "shufflenet_v2_x2_0 was chosen as pretrained model. Shufflenet for 43 classes have 5,433,103 parameters. For reduced version of Shufflenet last conv5 layer was replaced by custom identity layer.\n",
    "\n",
    "As a result, number of parameters was reduced from 5,433,103 to 3,384,063 which is 37.7% lower, but accuracy was reduced from 45.2% to 42.8% which is 2.4% lower. This means that model is now can be evaluated much faster than model without reducing and a lot of accuracy has not been lost for this.\n",
    "\n",
    "The presented models can be improved by increasing the number of learning epochs and changing the structure of the neural networks.\n",
    "The performance metrics can be seen below.\n"
   ],
   "metadata": {
    "collapsed": false,
    "pycharm": {
     "name": "#%% md\n"
    }
   }
  },
  {
   "cell_type": "code",
   "execution_count": 53,
   "outputs": [
    {
     "data": {
      "text/plain": "Launching TensorBoard..."
     },
     "metadata": {},
     "output_type": "display_data"
    },
    {
     "data": {
      "text/plain": "<IPython.core.display.HTML object>",
      "text/html": "\n      <iframe id=\"tensorboard-frame-d5bc94ca102ab4e2\" width=\"100%\" height=\"800\" frameborder=\"0\">\n      </iframe>\n      <script>\n        (function() {\n          const frame = document.getElementById(\"tensorboard-frame-d5bc94ca102ab4e2\");\n          const url = new URL(\"/\", window.location);\n          const port = 6006;\n          if (port) {\n            url.port = port;\n          }\n          frame.src = url;\n        })();\n      </script>\n    "
     },
     "metadata": {},
     "output_type": "display_data"
    }
   ],
   "source": [
    "%load_ext tensorboard\n",
    "%tensorboard --logdir runs"
   ],
   "metadata": {
    "collapsed": false,
    "pycharm": {
     "name": "#%%\n"
    }
   }
  }
 ],
 "metadata": {
  "kernelspec": {
   "display_name": "Python 3",
   "language": "python",
   "name": "python3"
  },
  "language_info": {
   "codemirror_mode": {
    "name": "ipython",
    "version": 2
   },
   "file_extension": ".py",
   "mimetype": "text/x-python",
   "name": "python",
   "nbconvert_exporter": "python",
   "pygments_lexer": "ipython2",
   "version": "2.7.6"
  },
  "colab": {
   "provenance": []
  },
  "accelerator": "GPU",
  "gpuClass": "standard"
 },
 "nbformat": 4,
 "nbformat_minor": 0
}