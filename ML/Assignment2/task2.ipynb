{
 "cells": [
  {
   "cell_type": "code",
   "execution_count": 1,
   "outputs": [],
   "source": [
    "import torch\n",
    "import numpy as np\n",
    "import torchvision\n",
    "import torchvision.transforms as transforms\n",
    "from torch.utils.tensorboard import SummaryWriter\n",
    "from torch.optim.sgd import SGD\n",
    "from torchvision import models\n",
    "from torchsummary import summary\n",
    "import torch.nn as nn\n",
    "import torch.nn.functional as F\n",
    "from torchmetrics import F1Score, Accuracy"
   ],
   "metadata": {
    "collapsed": false,
    "pycharm": {
     "name": "#%%\n"
    }
   }
  },
  {
   "cell_type": "code",
   "execution_count": 2,
   "outputs": [
    {
     "name": "stdout",
     "output_type": "stream",
     "text": [
      "cuda:0\n"
     ]
    }
   ],
   "source": [
    "device = torch.device(\"cuda:0\" if torch.cuda.is_available() else \"cpu\")\n",
    "print(device)"
   ],
   "metadata": {
    "collapsed": false,
    "pycharm": {
     "name": "#%%\n"
    }
   }
  },
  {
   "cell_type": "markdown",
   "source": [
    "## Assignment 2 in ML. Task 2\n",
    "### Ostapovich Oleg\n",
    "#### Section 1: Data Reading"
   ],
   "metadata": {
    "collapsed": false,
    "pycharm": {
     "name": "#%% md\n"
    }
   }
  },
  {
   "cell_type": "code",
   "execution_count": 3,
   "outputs": [],
   "source": [
    "epochs = 20\n",
    "learning_rate = 0.001"
   ],
   "metadata": {
    "collapsed": false,
    "pycharm": {
     "name": "#%%\n"
    }
   }
  },
  {
   "cell_type": "code",
   "execution_count": 4,
   "metadata": {
    "collapsed": true,
    "pycharm": {
     "name": "#%%\n"
    }
   },
   "outputs": [],
   "source": [
    "transform = transforms.Compose(\n",
    "    [transforms.ToTensor(),\n",
    "     transforms.Resize([32,32]),\n",
    "     transforms.Normalize((0.5, 0.5, 0.5), (0.5, 0.5, 0.5))])\n",
    "\n",
    "dataset = torchvision.datasets.GTSRB(root='./data', download=True, transform=transform)"
   ]
  },
  {
   "cell_type": "markdown",
   "source": [
    "#### Section 2: Exploration and preprocessing"
   ],
   "metadata": {
    "collapsed": false,
    "pycharm": {
     "name": "#%% md\n"
    }
   }
  },
  {
   "cell_type": "code",
   "execution_count": 5,
   "outputs": [
    {
     "data": {
      "text/plain": "<Figure size 640x480 with 1 Axes>",
      "image/png": "[encoded data removed]"
     },
     "metadata": {},
     "output_type": "display_data"
    }
   ],
   "source": [
    "import matplotlib.pyplot as plt\n",
    "img = dataset.__getitem__(0).__getitem__(0)\n",
    "img = img / 2 + 0.5\n",
    "npimg = img.numpy()\n",
    "plt.imshow(np.transpose(npimg, (1, 2, 0)))\n",
    "plt.show()"
   ],
   "metadata": {
    "collapsed": false,
    "pycharm": {
     "name": "#%%\n"
    }
   }
  },
  {
   "cell_type": "code",
   "execution_count": 5,
   "outputs": [],
   "source": [
    "#Data splitting\n",
    "train_size, val_size, test_size = int(len(dataset)*0.7), int(len(dataset)*0.1), int(len(dataset)*0.2)\n",
    "train_dataset,val_dataset, test_dataset = torch.utils.data.random_split(dataset, [train_size, val_size, test_size])"
   ],
   "metadata": {
    "collapsed": false,
    "pycharm": {
     "name": "#%%\n"
    }
   }
  },
  {
   "cell_type": "code",
   "execution_count": 6,
   "outputs": [],
   "source": [
    "batch_size = 128\n",
    "test_batch_size = 100\n",
    "\n",
    "trainloader = torch.utils.data.DataLoader(train_dataset, batch_size=batch_size,\n",
    "                                          shuffle=True, num_workers=2)\n",
    "valloader = torch.utils.data.DataLoader(val_dataset, batch_size=batch_size,\n",
    "                                          shuffle=True, num_workers=2)\n",
    "testloader = torch.utils.data.DataLoader(test_dataset, batch_size=test_batch_size,\n",
    "                                          shuffle=True, num_workers=2)"
   ],
   "metadata": {
    "collapsed": false,
    "pycharm": {
     "name": "#%%\n"
    }
   }
  },
  {
   "cell_type": "code",
   "execution_count": 7,
   "outputs": [
    {
     "name": "stdout",
     "output_type": "stream",
     "text": [
      "(3, 32, 32)\n"
     ]
    }
   ],
   "source": [
    "input_shape = dataset.__getitem__(0).__getitem__(0).numpy().shape\n",
    "print(input_shape)"
   ],
   "metadata": {
    "collapsed": false,
    "pycharm": {
     "name": "#%%\n"
    }
   }
  },
  {
   "cell_type": "markdown",
   "source": [
    "#### Section 3.1: Machine learning or Deep learning model defining, training and hyper-parameters turning"
   ],
   "metadata": {
    "collapsed": false,
    "pycharm": {
     "name": "#%% md\n"
    }
   }
  },
  {
   "cell_type": "code",
   "execution_count": 34,
   "outputs": [
    {
     "name": "stdout",
     "output_type": "stream",
     "text": [
      "----------------------------------------------------------------\n",
      "        Layer (type)               Output Shape         Param #\n",
      "================================================================\n",
      "            Conv2d-1           [-1, 32, 32, 32]             896\n",
      "            Conv2d-2           [-1, 32, 32, 32]           9,248\n",
      "         MaxPool2d-3           [-1, 32, 16, 16]               0\n",
      "            Conv2d-4           [-1, 64, 16, 16]          18,496\n",
      "            Conv2d-5           [-1, 64, 16, 16]          36,928\n",
      "         MaxPool2d-6             [-1, 64, 8, 8]               0\n",
      "            Conv2d-7            [-1, 128, 8, 8]          73,856\n",
      "            Conv2d-8            [-1, 128, 8, 8]         147,584\n",
      "         MaxPool2d-9            [-1, 128, 4, 4]               0\n",
      "          Flatten-10                 [-1, 2048]               0\n",
      "           Linear-11                  [-1, 512]       1,049,088\n",
      "           Linear-12                   [-1, 43]          22,059\n",
      "================================================================\n",
      "Total params: 1,358,155\n",
      "Trainable params: 1,358,155\n",
      "Non-trainable params: 0\n",
      "----------------------------------------------------------------\n",
      "Input size (MB): 0.01\n",
      "Forward/backward pass size (MB): 1.00\n",
      "Params size (MB): 5.18\n",
      "Estimated Total Size (MB): 6.20\n",
      "----------------------------------------------------------------\n"
     ]
    }
   ],
   "source": [
    "class StartModel(nn.Module):\n",
    "    def __init__(self):\n",
    "        super(StartModel, self).__init__()\n",
    "        self.network=nn.Sequential(\n",
    "            nn.Conv2d(3, 32, 3, padding=1),\n",
    "            nn.Conv2d(32, 32, 3, padding=1),\n",
    "\n",
    "            nn.MaxPool2d(2, 2),\n",
    "\n",
    "            nn.Conv2d(32, 64, 3,padding=1),\n",
    "            nn.Conv2d(64, 64, 3,padding=1),\n",
    "\n",
    "            nn.MaxPool2d(2, 2),\n",
    "\n",
    "            nn.Conv2d(64, 128, 3,padding=1),\n",
    "            nn.Conv2d(128, 128, 3,padding=1),\n",
    "\n",
    "            nn.MaxPool2d(2, 2),\n",
    "\n",
    "            nn.Flatten(),\n",
    "\n",
    "            nn.Linear(2048, 512),\n",
    "            nn.Linear(512, 43))\n",
    "\n",
    "    def forward(self, x):\n",
    "        return self.network(x)\n",
    "\n",
    "startmodel = StartModel().to(device)\n",
    "summary(startmodel, (3, 32, 32))"
   ],
   "metadata": {
    "collapsed": false,
    "pycharm": {
     "name": "#%%\n"
    }
   }
  },
  {
   "cell_type": "code",
   "execution_count": 35,
   "outputs": [
    {
     "name": "stdout",
     "output_type": "stream",
     "text": [
      "----------------------------------------------------------------\n",
      "        Layer (type)               Output Shape         Param #\n",
      "================================================================\n",
      "            Conv2d-1           [-1, 32, 32, 32]             896\n",
      "       BatchNorm2d-2           [-1, 32, 32, 32]              64\n",
      "              ReLU-3           [-1, 32, 32, 32]               0\n",
      "            Conv2d-4           [-1, 32, 32, 32]           9,248\n",
      "       BatchNorm2d-5           [-1, 32, 32, 32]              64\n",
      "              ReLU-6           [-1, 32, 32, 32]               0\n",
      "         MaxPool2d-7           [-1, 32, 16, 16]               0\n",
      "         Dropout2d-8           [-1, 32, 16, 16]               0\n",
      "            Conv2d-9           [-1, 64, 16, 16]          18,496\n",
      "      BatchNorm2d-10           [-1, 64, 16, 16]             128\n",
      "             ReLU-11           [-1, 64, 16, 16]               0\n",
      "           Conv2d-12           [-1, 64, 16, 16]          36,928\n",
      "      BatchNorm2d-13           [-1, 64, 16, 16]             128\n",
      "             ReLU-14           [-1, 64, 16, 16]               0\n",
      "        MaxPool2d-15             [-1, 64, 8, 8]               0\n",
      "        Dropout2d-16             [-1, 64, 8, 8]               0\n",
      "           Conv2d-17            [-1, 128, 8, 8]          73,856\n",
      "      BatchNorm2d-18            [-1, 128, 8, 8]             256\n",
      "             ReLU-19            [-1, 128, 8, 8]               0\n",
      "           Conv2d-20            [-1, 128, 8, 8]         147,584\n",
      "      BatchNorm2d-21            [-1, 128, 8, 8]             256\n",
      "             ReLU-22            [-1, 128, 8, 8]               0\n",
      "        MaxPool2d-23            [-1, 128, 4, 4]               0\n",
      "        Dropout2d-24            [-1, 128, 4, 4]               0\n",
      "          Flatten-25                 [-1, 2048]               0\n",
      "           Linear-26                  [-1, 512]       1,049,088\n",
      "      BatchNorm1d-27                  [-1, 512]           1,024\n",
      "          Dropout-28                  [-1, 512]               0\n",
      "             ReLU-29                  [-1, 512]               0\n",
      "           Linear-30                   [-1, 43]          22,059\n",
      "================================================================\n",
      "Total params: 1,360,075\n",
      "Trainable params: 1,360,075\n",
      "Non-trainable params: 0\n",
      "----------------------------------------------------------------\n",
      "Input size (MB): 0.01\n",
      "Forward/backward pass size (MB): 2.88\n",
      "Params size (MB): 5.19\n",
      "Estimated Total Size (MB): 8.08\n",
      "----------------------------------------------------------------\n"
     ]
    }
   ],
   "source": [
    "class ImprovedModel(nn.Module):\n",
    "    def __init__(self):\n",
    "        super(ImprovedModel, self).__init__()\n",
    "        self.network=nn.Sequential(\n",
    "            nn.Conv2d(3,32,3,padding=1),\n",
    "            nn.BatchNorm2d(32),\n",
    "            nn.ReLU(),\n",
    "\n",
    "            nn.Conv2d(32,32,3,padding=1),\n",
    "            nn.BatchNorm2d(32),\n",
    "            nn.ReLU(),\n",
    "\n",
    "            nn.MaxPool2d(2,2),\n",
    "            nn.Dropout2d(0.25),\n",
    "\n",
    "            nn.Conv2d(32,64,3,padding=1),\n",
    "            nn.BatchNorm2d(64),\n",
    "            nn.ReLU(),\n",
    "\n",
    "            nn.Conv2d(64,64,3,padding=1),\n",
    "            nn.BatchNorm2d(64),\n",
    "            nn.ReLU(),\n",
    "\n",
    "            nn.MaxPool2d(2,2),\n",
    "            nn.Dropout2d(0.25),\n",
    "\n",
    "            nn.Conv2d(64,128,3,padding=1),\n",
    "            nn.BatchNorm2d(128),\n",
    "            nn.ReLU(),\n",
    "\n",
    "            nn.Conv2d(128,128,3,padding=1),\n",
    "            nn.BatchNorm2d(128),\n",
    "            nn.ReLU(),\n",
    "\n",
    "            nn.MaxPool2d(2,2),\n",
    "            nn.Dropout2d(0.25),\n",
    "\n",
    "            nn.Flatten(),\n",
    "\n",
    "            nn.Linear(2048, 512),\n",
    "            nn.BatchNorm1d(512),\n",
    "            nn.Dropout(0.25),\n",
    "            nn.ReLU(),\n",
    "\n",
    "            nn.Linear(512,43))\n",
    "\n",
    "    def forward(self, x):\n",
    "        return self.network(x)\n",
    "\n",
    "improvedmodel = ImprovedModel().to(device)\n",
    "summary(improvedmodel, (3, 32, 32))"
   ],
   "metadata": {
    "collapsed": false,
    "pycharm": {
     "name": "#%%\n"
    }
   }
  },
  {
   "cell_type": "code",
   "execution_count": 8,
   "outputs": [],
   "source": [
    "def train_evaluate(net, optimizer, writer):\n",
    "    criterion = nn.CrossEntropyLoss()\n",
    "    accuracy_func = Accuracy(num_classes=43, average='weighted').to(device)\n",
    "    f1_score_func = F1Score(num_classes=43, average='weighted').to(device)\n",
    "    for epoch in range(epochs):\n",
    "\n",
    "        running_loss = 0.0\n",
    "        f1 = 0\n",
    "        accuracy = 0\n",
    "        for data in trainloader:\n",
    "            inputs, labels = data\n",
    "            inputs, labels = inputs.to(device), labels.to(device)\n",
    "            optimizer.zero_grad()\n",
    "            outputs = net(inputs)\n",
    "            loss = criterion(outputs, labels)\n",
    "            loss.backward()\n",
    "            optimizer.step()\n",
    "            running_loss += loss.item()\n",
    "\n",
    "            _, pred = torch.max(outputs.data, 1)\n",
    "            accuracy += accuracy_func(pred, labels) * 100\n",
    "            f1 += f1_score_func(pred, labels) * 100\n",
    "\n",
    "        running_loss /= len(trainloader)\n",
    "        accuracy /= len(trainloader)\n",
    "        f1 /= len(trainloader)\n",
    "        writer.add_scalar('Training_Loss', running_loss, epoch)\n",
    "        writer.add_scalar('Training_Accuracy', accuracy, epoch)\n",
    "        writer.add_scalar('Training_F1', f1, epoch)\n",
    "\n",
    "        print('Epoch {} - train loss:{}, accuracy:{}, f1_score:{}'.format(epoch+1, running_loss, accuracy, f1))\n",
    "\n",
    "        val_loss = 0.0\n",
    "        val_accuracy = 0\n",
    "        val_f1_score = 0\n",
    "        with torch.no_grad():\n",
    "            for data in valloader:\n",
    "                inputs, labels = data\n",
    "                inputs, labels = inputs.to(device), labels.to(device)\n",
    "                optimizer.zero_grad()\n",
    "                outputs = net(inputs)\n",
    "                loss = criterion(outputs, labels)\n",
    "                _, pred = torch.max(outputs.data, 1)\n",
    "                val_loss += loss.item()\n",
    "                val_accuracy += accuracy_func(pred, labels) * 100\n",
    "                val_f1_score += f1_score_func(pred, labels) * 100\n",
    "            val_loss /= len(valloader)\n",
    "            val_accuracy /= len(valloader)\n",
    "            val_f1_score /= len(valloader)\n",
    "            writer.add_scalar('Val_Loss', val_loss, epoch)\n",
    "            writer.add_scalar('Val_Accuracy', val_accuracy, epoch)\n",
    "            writer.add_scalar('Val_F1', val_f1_score, epoch)\n",
    "\n",
    "        print('Epoch {} - val loss:{}, accuracy:{}, f1_score:{}'.format(epoch+1, val_loss, val_accuracy, val_f1_score))"
   ],
   "metadata": {
    "collapsed": false,
    "pycharm": {
     "name": "#%%\n"
    }
   }
  },
  {
   "cell_type": "markdown",
   "source": [
    "#### Section 4.1: Model performance evaluation"
   ],
   "metadata": {
    "collapsed": false,
    "pycharm": {
     "name": "#%% md\n"
    }
   }
  },
  {
   "cell_type": "code",
   "execution_count": 37,
   "outputs": [
    {
     "name": "stdout",
     "output_type": "stream",
     "text": [
      "Epoch 1 - train loss:3.7582443136058443, accuracy:4.268660545349121, f1_score:0.6849289536476135\n",
      "Epoch 1 - val loss:3.7552818684350875, accuracy:4.395604610443115, f1_score:0.659843921661377\n",
      "Epoch 2 - train loss:3.7527905375990147, accuracy:4.5551838874816895, f1_score:0.7434865236282349\n",
      "Epoch 2 - val loss:3.7500659284137545, accuracy:4.581616401672363, f1_score:0.6628457903862\n",
      "Epoch 3 - train loss:3.747281740789544, accuracy:4.641286849975586, f1_score:0.7538985013961792\n",
      "Epoch 3 - val loss:3.74482798576355, accuracy:4.630265712738037, f1_score:0.6736736297607422\n",
      "Epoch 4 - train loss:3.7415225669129253, accuracy:4.69382381439209, f1_score:0.7490038275718689\n",
      "Epoch 4 - val loss:3.7391048840114047, accuracy:4.544414043426514, f1_score:0.6756264567375183\n",
      "Epoch 5 - train loss:3.735279465374881, accuracy:4.657340049743652, f1_score:0.7271203398704529\n",
      "Epoch 5 - val loss:3.7328363827296664, accuracy:4.564445972442627, f1_score:0.6915250420570374\n",
      "Epoch 6 - train loss:3.72812682798464, accuracy:4.567345142364502, f1_score:0.7370671033859253\n",
      "Epoch 6 - val loss:3.725493487857637, accuracy:4.490041255950928, f1_score:0.676056444644928\n",
      "Epoch 7 - train loss:3.7195424625318343, accuracy:4.496809005737305, f1_score:0.7360578775405884\n",
      "Epoch 7 - val loss:3.7162282126290456, accuracy:4.452838897705078, f1_score:0.64238440990448\n",
      "Epoch 8 - train loss:3.7082672625371855, accuracy:4.46956729888916, f1_score:0.8421790599822998\n",
      "Epoch 8 - val loss:3.7036064011710033, accuracy:4.424221515655518, f1_score:0.8892067670822144\n",
      "Epoch 9 - train loss:3.6917734423728836, accuracy:5.224061965942383, f1_score:2.0136170387268066\n",
      "Epoch 9 - val loss:3.6840499469212125, accuracy:5.898008346557617, f1_score:2.764050006866455\n",
      "Epoch 10 - train loss:3.6643772353864694, accuracy:7.457873344421387, f1_score:3.497145891189575\n",
      "Epoch 10 - val loss:3.6494460787091936, accuracy:6.974015712738037, f1_score:2.800816059112549\n",
      "Epoch 11 - train loss:3.6145572221442444, accuracy:7.473926067352295, f1_score:2.867755651473999\n",
      "Epoch 11 - val loss:3.5899722576141357, accuracy:6.487522602081299, f1_score:2.4151101112365723\n",
      "Epoch 12 - train loss:3.5500517185420204, accuracy:6.922770023345947, f1_score:2.790658950805664\n",
      "Epoch 12 - val loss:3.5420334339141846, accuracy:6.023923873901367, f1_score:2.2615723609924316\n",
      "Epoch 13 - train loss:3.5178851771028072, accuracy:6.989414691925049, f1_score:3.035348892211914\n",
      "Epoch 13 - val loss:3.5266971474602107, accuracy:6.470353126525879, f1_score:2.984708547592163\n",
      "Epoch 14 - train loss:3.504931443358121, accuracy:7.518680095672607, f1_score:3.71819806098938\n",
      "Epoch 14 - val loss:3.516385634740194, accuracy:7.214400768280029, f1_score:3.8750686645507812\n",
      "Epoch 15 - train loss:3.4945047048673237, accuracy:7.9209794998168945, f1_score:4.224303245544434\n",
      "Epoch 15 - val loss:3.5050072897048223, accuracy:8.133012771606445, f1_score:4.843422889709473\n",
      "Epoch 16 - train loss:3.483246819613731, accuracy:8.57040023803711, f1_score:4.807243824005127\n",
      "Epoch 16 - val loss:3.4933629603612992, accuracy:8.47355842590332, f1_score:5.124047756195068\n",
      "Epoch 17 - train loss:3.4703451525675106, accuracy:9.34532642364502, f1_score:5.576786518096924\n",
      "Epoch 17 - val loss:3.4798948764801025, accuracy:9.068796157836914, f1_score:5.642180919647217\n",
      "Epoch 18 - train loss:3.4556276177706784, accuracy:9.892590522766113, f1_score:6.127170562744141\n",
      "Epoch 18 - val loss:3.4646650609515963, accuracy:9.64686393737793, f1_score:6.1605448722839355\n",
      "Epoch 19 - train loss:3.436301344061551, accuracy:10.570711135864258, f1_score:6.669434070587158\n",
      "Epoch 19 - val loss:3.443155606587728, accuracy:10.316506385803223, f1_score:6.794888019561768\n",
      "Epoch 20 - train loss:3.4126708817808598, accuracy:10.876206398010254, f1_score:6.885690689086914\n",
      "Epoch 20 - val loss:3.4197336037953696, accuracy:11.904762268066406, f1_score:8.084147453308105\n"
     ]
    }
   ],
   "source": [
    "# model without improving\n",
    "optimizer = torch.optim.SGD(startmodel.parameters(), lr=learning_rate)\n",
    "writer = SummaryWriter('runs/BaseModel')\n",
    "train_evaluate(startmodel, optimizer, writer)"
   ],
   "metadata": {
    "collapsed": false,
    "pycharm": {
     "name": "#%%\n"
    }
   }
  },
  {
   "cell_type": "code",
   "execution_count": 38,
   "outputs": [
    {
     "name": "stdout",
     "output_type": "stream",
     "text": [
      "Epoch 1 - train loss:3.714235869172501, accuracy:5.285355567932129, f1_score:4.455452919006348\n",
      "Epoch 1 - val loss:3.631051880972726, accuracy:7.366071701049805, f1_score:5.5320143699646\n",
      "Epoch 2 - train loss:3.5578197044868993, accuracy:8.185126304626465, f1_score:5.916228771209717\n",
      "Epoch 2 - val loss:3.507082473664057, accuracy:9.32348918914795, f1_score:6.940835952758789\n",
      "Epoch 3 - train loss:3.45314037309934, accuracy:9.927128791809082, f1_score:7.262463569641113\n",
      "Epoch 3 - val loss:3.4246347972324918, accuracy:10.75148868560791, f1_score:7.797257900238037\n",
      "Epoch 4 - train loss:3.3760843325967658, accuracy:12.060242652893066, f1_score:9.08124828338623\n",
      "Epoch 4 - val loss:3.351353656677973, accuracy:12.276785850524902, f1_score:9.03854751586914\n",
      "Epoch 5 - train loss:3.3037756518141865, accuracy:13.666037559509277, f1_score:10.38022232055664\n",
      "Epoch 5 - val loss:3.2881591660635814, accuracy:13.570283889770508, f1_score:10.465517044067383\n",
      "Epoch 6 - train loss:3.236494681606554, accuracy:15.56711196899414, f1_score:12.117706298828125\n",
      "Epoch 6 - val loss:3.22637753259568, accuracy:16.085737228393555, f1_score:12.503750801086426\n",
      "Epoch 7 - train loss:3.161976696693734, accuracy:17.915239334106445, f1_score:14.293734550476074\n",
      "Epoch 7 - val loss:3.155239672887893, accuracy:17.791324615478516, f1_score:13.966025352478027\n",
      "Epoch 8 - train loss:3.0923960110912585, accuracy:20.461355209350586, f1_score:16.40481185913086\n",
      "Epoch 8 - val loss:3.0792839186532155, accuracy:19.51694107055664, f1_score:15.569738388061523\n",
      "Epoch 9 - train loss:3.020767821024542, accuracy:21.951860427856445, f1_score:17.5462703704834\n",
      "Epoch 9 - val loss:3.011466173898606, accuracy:23.139881134033203, f1_score:18.440011978149414\n",
      "Epoch 10 - train loss:2.941584923495985, accuracy:24.499921798706055, f1_score:19.76864242553711\n",
      "Epoch 10 - val loss:2.935593389329456, accuracy:23.70077896118164, f1_score:19.122133255004883\n",
      "Epoch 11 - train loss:2.8636307438758957, accuracy:26.31683921813965, f1_score:21.26505470275879\n",
      "Epoch 11 - val loss:2.8538983435857865, accuracy:25.789836883544922, f1_score:20.601276397705078\n",
      "Epoch 12 - train loss:2.789570256455304, accuracy:27.841394424438477, f1_score:22.52398109436035\n",
      "Epoch 12 - val loss:2.769167252949306, accuracy:27.415292739868164, f1_score:21.935733795166016\n",
      "Epoch 13 - train loss:2.706043968461964, accuracy:29.11591339111328, f1_score:23.422046661376953\n",
      "Epoch 13 - val loss:2.7090111800602505, accuracy:29.395605087280273, f1_score:23.739818572998047\n",
      "Epoch 14 - train loss:2.627981043841741, accuracy:31.0889835357666, f1_score:25.367876052856445\n",
      "Epoch 14 - val loss:2.642131249109904, accuracy:30.302770614624023, f1_score:24.64000129699707\n",
      "Epoch 15 - train loss:2.5580904483795166, accuracy:32.26815414428711, f1_score:26.47740936279297\n",
      "Epoch 15 - val loss:2.563063553401402, accuracy:31.041093826293945, f1_score:24.934980392456055\n",
      "Epoch 16 - train loss:2.4878866754166067, accuracy:33.54461669921875, f1_score:27.60922622680664\n",
      "Epoch 16 - val loss:2.4856253124418712, accuracy:34.678340911865234, f1_score:28.30269432067871\n",
      "Epoch 17 - train loss:2.416320902027496, accuracy:35.12852096557617, f1_score:29.03683853149414\n",
      "Epoch 17 - val loss:2.4314523537953696, accuracy:33.58802795410156, f1_score:27.411760330200195\n",
      "Epoch 18 - train loss:2.349534029829992, accuracy:36.70658874511719, f1_score:30.52783203125\n",
      "Epoch 18 - val loss:2.3508916809445335, accuracy:36.515567779541016, f1_score:29.960742950439453\n",
      "Epoch 19 - train loss:2.2881692288673086, accuracy:37.7568473815918, f1_score:31.593088150024414\n",
      "Epoch 19 - val loss:2.283152761913481, accuracy:37.83482360839844, f1_score:31.882476806640625\n",
      "Epoch 20 - train loss:2.2275604858790357, accuracy:38.662147521972656, f1_score:32.62677764892578\n",
      "Epoch 20 - val loss:2.235435656138829, accuracy:38.5531120300293, f1_score:32.692996978759766\n"
     ]
    }
   ],
   "source": [
    "optimizer = torch.optim.SGD(improvedmodel.parameters(), lr=learning_rate)\n",
    "writer2 = SummaryWriter('runs/ImprovedModel')\n",
    "train_evaluate(improvedmodel, optimizer, writer2)"
   ],
   "metadata": {
    "collapsed": false,
    "pycharm": {
     "name": "#%%\n"
    }
   }
  },
  {
   "cell_type": "markdown",
   "source": [
    "### Task2.2"
   ],
   "metadata": {
    "collapsed": false,
    "pycharm": {
     "name": "#%% md\n"
    }
   }
  },
  {
   "cell_type": "markdown",
   "source": [
    "#### Section 3.2: Machine learning or Deep learning model defining, training and hyper-parameters turning"
   ],
   "metadata": {
    "collapsed": false,
    "pycharm": {
     "name": "#%% md\n"
    }
   }
  },
  {
   "cell_type": "code",
   "execution_count": 9,
   "outputs": [],
   "source": [
    "class Identity(torch.nn.Module):\n",
    "    def __init__(self):\n",
    "        super(Identity, self).__init__()\n",
    "\n",
    "    def forward(self, x):\n",
    "        return x\n",
    "\n",
    "def count_parameters(model):\n",
    "    return sum(p.numel() for p in model.parameters() if p.requires_grad)"
   ],
   "metadata": {
    "collapsed": false,
    "pycharm": {
     "name": "#%%\n"
    }
   }
  },
  {
   "cell_type": "code",
   "execution_count": 13,
   "outputs": [
    {
     "name": "stdout",
     "output_type": "stream",
     "text": [
      "----------------------------------------------------------------\n",
      "        Layer (type)               Output Shape         Param #\n",
      "================================================================\n",
      "            Conv2d-1           [-1, 64, 16, 16]           9,408\n",
      "       BatchNorm2d-2           [-1, 64, 16, 16]             128\n",
      "              ReLU-3           [-1, 64, 16, 16]               0\n",
      "         MaxPool2d-4             [-1, 64, 8, 8]               0\n",
      "            Conv2d-5             [-1, 64, 8, 8]          36,864\n",
      "       BatchNorm2d-6             [-1, 64, 8, 8]             128\n",
      "              ReLU-7             [-1, 64, 8, 8]               0\n",
      "            Conv2d-8             [-1, 64, 8, 8]          36,864\n",
      "       BatchNorm2d-9             [-1, 64, 8, 8]             128\n",
      "             ReLU-10             [-1, 64, 8, 8]               0\n",
      "       BasicBlock-11             [-1, 64, 8, 8]               0\n",
      "           Conv2d-12             [-1, 64, 8, 8]          36,864\n",
      "      BatchNorm2d-13             [-1, 64, 8, 8]             128\n",
      "             ReLU-14             [-1, 64, 8, 8]               0\n",
      "           Conv2d-15             [-1, 64, 8, 8]          36,864\n",
      "      BatchNorm2d-16             [-1, 64, 8, 8]             128\n",
      "             ReLU-17             [-1, 64, 8, 8]               0\n",
      "       BasicBlock-18             [-1, 64, 8, 8]               0\n",
      "           Conv2d-19            [-1, 128, 4, 4]          73,728\n",
      "      BatchNorm2d-20            [-1, 128, 4, 4]             256\n",
      "             ReLU-21            [-1, 128, 4, 4]               0\n",
      "           Conv2d-22            [-1, 128, 4, 4]         147,456\n",
      "      BatchNorm2d-23            [-1, 128, 4, 4]             256\n",
      "           Conv2d-24            [-1, 128, 4, 4]           8,192\n",
      "      BatchNorm2d-25            [-1, 128, 4, 4]             256\n",
      "             ReLU-26            [-1, 128, 4, 4]               0\n",
      "       BasicBlock-27            [-1, 128, 4, 4]               0\n",
      "           Conv2d-28            [-1, 128, 4, 4]         147,456\n",
      "      BatchNorm2d-29            [-1, 128, 4, 4]             256\n",
      "             ReLU-30            [-1, 128, 4, 4]               0\n",
      "           Conv2d-31            [-1, 128, 4, 4]         147,456\n",
      "      BatchNorm2d-32            [-1, 128, 4, 4]             256\n",
      "             ReLU-33            [-1, 128, 4, 4]               0\n",
      "       BasicBlock-34            [-1, 128, 4, 4]               0\n",
      "           Conv2d-35            [-1, 256, 2, 2]         294,912\n",
      "      BatchNorm2d-36            [-1, 256, 2, 2]             512\n",
      "             ReLU-37            [-1, 256, 2, 2]               0\n",
      "           Conv2d-38            [-1, 256, 2, 2]         589,824\n",
      "      BatchNorm2d-39            [-1, 256, 2, 2]             512\n",
      "           Conv2d-40            [-1, 256, 2, 2]          32,768\n",
      "      BatchNorm2d-41            [-1, 256, 2, 2]             512\n",
      "             ReLU-42            [-1, 256, 2, 2]               0\n",
      "       BasicBlock-43            [-1, 256, 2, 2]               0\n",
      "           Conv2d-44            [-1, 256, 2, 2]         589,824\n",
      "      BatchNorm2d-45            [-1, 256, 2, 2]             512\n",
      "             ReLU-46            [-1, 256, 2, 2]               0\n",
      "           Conv2d-47            [-1, 256, 2, 2]         589,824\n",
      "      BatchNorm2d-48            [-1, 256, 2, 2]             512\n",
      "             ReLU-49            [-1, 256, 2, 2]               0\n",
      "       BasicBlock-50            [-1, 256, 2, 2]               0\n",
      "           Conv2d-51            [-1, 512, 1, 1]       1,179,648\n",
      "      BatchNorm2d-52            [-1, 512, 1, 1]           1,024\n",
      "             ReLU-53            [-1, 512, 1, 1]               0\n",
      "           Conv2d-54            [-1, 512, 1, 1]       2,359,296\n",
      "      BatchNorm2d-55            [-1, 512, 1, 1]           1,024\n",
      "           Conv2d-56            [-1, 512, 1, 1]         131,072\n",
      "      BatchNorm2d-57            [-1, 512, 1, 1]           1,024\n",
      "             ReLU-58            [-1, 512, 1, 1]               0\n",
      "       BasicBlock-59            [-1, 512, 1, 1]               0\n",
      "           Conv2d-60            [-1, 512, 1, 1]       2,359,296\n",
      "      BatchNorm2d-61            [-1, 512, 1, 1]           1,024\n",
      "             ReLU-62            [-1, 512, 1, 1]               0\n",
      "           Conv2d-63            [-1, 512, 1, 1]       2,359,296\n",
      "      BatchNorm2d-64            [-1, 512, 1, 1]           1,024\n",
      "             ReLU-65            [-1, 512, 1, 1]               0\n",
      "       BasicBlock-66            [-1, 512, 1, 1]               0\n",
      "AdaptiveAvgPool2d-67            [-1, 512, 1, 1]               0\n",
      "           Linear-68                   [-1, 43]          22,059\n",
      "           ResNet-69                   [-1, 43]               0\n",
      "================================================================\n",
      "Total params: 11,198,571\n",
      "Trainable params: 11,198,571\n",
      "Non-trainable params: 0\n",
      "----------------------------------------------------------------\n",
      "Input size (MB): 0.01\n",
      "Forward/backward pass size (MB): 1.29\n",
      "Params size (MB): 42.72\n",
      "Estimated Total Size (MB): 44.02\n",
      "----------------------------------------------------------------\n"
     ]
    }
   ],
   "source": [
    "class Net(nn.Module):\n",
    "    def __init__(self):\n",
    "        super(Net, self).__init__()\n",
    "        self.net = models.resnet18()\n",
    "        self.net.trainable = False # Freeze the layers of the pretrained model\n",
    "        self.net.fc = nn.Linear(512, 43)\n",
    "\n",
    "    def forward(self, x):\n",
    "        return self.net(x)\n",
    "\n",
    "shuff = Net().to(device)\n",
    "summary(shuff, (3, 32, 32))"
   ],
   "metadata": {
    "collapsed": false,
    "pycharm": {
     "name": "#%%\n"
    }
   }
  },
  {
   "cell_type": "code",
   "execution_count": 101,
   "outputs": [
    {
     "name": "stdout",
     "output_type": "stream",
     "text": [
      "----------------------------------------------------------------\n",
      "        Layer (type)               Output Shape         Param #\n",
      "================================================================\n",
      "            Conv2d-1           [-1, 24, 16, 16]             648\n",
      "       BatchNorm2d-2           [-1, 24, 16, 16]              48\n",
      "              ReLU-3           [-1, 24, 16, 16]               0\n",
      "         MaxPool2d-4             [-1, 24, 8, 8]               0\n",
      "            Conv2d-5             [-1, 24, 4, 4]             216\n",
      "       BatchNorm2d-6             [-1, 24, 4, 4]              48\n",
      "            Conv2d-7             [-1, 88, 4, 4]           2,112\n",
      "       BatchNorm2d-8             [-1, 88, 4, 4]             176\n",
      "              ReLU-9             [-1, 88, 4, 4]               0\n",
      "           Conv2d-10             [-1, 88, 8, 8]           2,112\n",
      "      BatchNorm2d-11             [-1, 88, 8, 8]             176\n",
      "             ReLU-12             [-1, 88, 8, 8]               0\n",
      "           Conv2d-13             [-1, 88, 4, 4]             792\n",
      "      BatchNorm2d-14             [-1, 88, 4, 4]             176\n",
      "           Conv2d-15             [-1, 88, 4, 4]           7,744\n",
      "      BatchNorm2d-16             [-1, 88, 4, 4]             176\n",
      "             ReLU-17             [-1, 88, 4, 4]               0\n",
      " InvertedResidual-18            [-1, 176, 4, 4]               0\n",
      "           Conv2d-19             [-1, 88, 4, 4]           7,744\n",
      "      BatchNorm2d-20             [-1, 88, 4, 4]             176\n",
      "             ReLU-21             [-1, 88, 4, 4]               0\n",
      "           Conv2d-22             [-1, 88, 4, 4]             792\n",
      "      BatchNorm2d-23             [-1, 88, 4, 4]             176\n",
      "           Conv2d-24             [-1, 88, 4, 4]           7,744\n",
      "      BatchNorm2d-25             [-1, 88, 4, 4]             176\n",
      "             ReLU-26             [-1, 88, 4, 4]               0\n",
      " InvertedResidual-27            [-1, 176, 4, 4]               0\n",
      "           Conv2d-28             [-1, 88, 4, 4]           7,744\n",
      "      BatchNorm2d-29             [-1, 88, 4, 4]             176\n",
      "             ReLU-30             [-1, 88, 4, 4]               0\n",
      "           Conv2d-31             [-1, 88, 4, 4]             792\n",
      "      BatchNorm2d-32             [-1, 88, 4, 4]             176\n",
      "           Conv2d-33             [-1, 88, 4, 4]           7,744\n",
      "      BatchNorm2d-34             [-1, 88, 4, 4]             176\n",
      "             ReLU-35             [-1, 88, 4, 4]               0\n",
      " InvertedResidual-36            [-1, 176, 4, 4]               0\n",
      "           Conv2d-37             [-1, 88, 4, 4]           7,744\n",
      "      BatchNorm2d-38             [-1, 88, 4, 4]             176\n",
      "             ReLU-39             [-1, 88, 4, 4]               0\n",
      "           Conv2d-40             [-1, 88, 4, 4]             792\n",
      "      BatchNorm2d-41             [-1, 88, 4, 4]             176\n",
      "           Conv2d-42             [-1, 88, 4, 4]           7,744\n",
      "      BatchNorm2d-43             [-1, 88, 4, 4]             176\n",
      "             ReLU-44             [-1, 88, 4, 4]               0\n",
      " InvertedResidual-45            [-1, 176, 4, 4]               0\n",
      "           Conv2d-46            [-1, 176, 2, 2]           1,584\n",
      "      BatchNorm2d-47            [-1, 176, 2, 2]             352\n",
      "           Conv2d-48            [-1, 176, 2, 2]          30,976\n",
      "      BatchNorm2d-49            [-1, 176, 2, 2]             352\n",
      "             ReLU-50            [-1, 176, 2, 2]               0\n",
      "           Conv2d-51            [-1, 176, 4, 4]          30,976\n",
      "      BatchNorm2d-52            [-1, 176, 4, 4]             352\n",
      "             ReLU-53            [-1, 176, 4, 4]               0\n",
      "           Conv2d-54            [-1, 176, 2, 2]           1,584\n",
      "      BatchNorm2d-55            [-1, 176, 2, 2]             352\n",
      "           Conv2d-56            [-1, 176, 2, 2]          30,976\n",
      "      BatchNorm2d-57            [-1, 176, 2, 2]             352\n",
      "             ReLU-58            [-1, 176, 2, 2]               0\n",
      " InvertedResidual-59            [-1, 352, 2, 2]               0\n",
      "           Conv2d-60            [-1, 176, 2, 2]          30,976\n",
      "      BatchNorm2d-61            [-1, 176, 2, 2]             352\n",
      "             ReLU-62            [-1, 176, 2, 2]               0\n",
      "           Conv2d-63            [-1, 176, 2, 2]           1,584\n",
      "      BatchNorm2d-64            [-1, 176, 2, 2]             352\n",
      "           Conv2d-65            [-1, 176, 2, 2]          30,976\n",
      "      BatchNorm2d-66            [-1, 176, 2, 2]             352\n",
      "             ReLU-67            [-1, 176, 2, 2]               0\n",
      " InvertedResidual-68            [-1, 352, 2, 2]               0\n",
      "           Conv2d-69            [-1, 176, 2, 2]          30,976\n",
      "      BatchNorm2d-70            [-1, 176, 2, 2]             352\n",
      "             ReLU-71            [-1, 176, 2, 2]               0\n",
      "           Conv2d-72            [-1, 176, 2, 2]           1,584\n",
      "      BatchNorm2d-73            [-1, 176, 2, 2]             352\n",
      "           Conv2d-74            [-1, 176, 2, 2]          30,976\n",
      "      BatchNorm2d-75            [-1, 176, 2, 2]             352\n",
      "             ReLU-76            [-1, 176, 2, 2]               0\n",
      " InvertedResidual-77            [-1, 352, 2, 2]               0\n",
      "           Conv2d-78            [-1, 176, 2, 2]          30,976\n",
      "      BatchNorm2d-79            [-1, 176, 2, 2]             352\n",
      "             ReLU-80            [-1, 176, 2, 2]               0\n",
      "           Conv2d-81            [-1, 176, 2, 2]           1,584\n",
      "      BatchNorm2d-82            [-1, 176, 2, 2]             352\n",
      "           Conv2d-83            [-1, 176, 2, 2]          30,976\n",
      "      BatchNorm2d-84            [-1, 176, 2, 2]             352\n",
      "             ReLU-85            [-1, 176, 2, 2]               0\n",
      " InvertedResidual-86            [-1, 352, 2, 2]               0\n",
      "           Conv2d-87            [-1, 176, 2, 2]          30,976\n",
      "      BatchNorm2d-88            [-1, 176, 2, 2]             352\n",
      "             ReLU-89            [-1, 176, 2, 2]               0\n",
      "           Conv2d-90            [-1, 176, 2, 2]           1,584\n",
      "      BatchNorm2d-91            [-1, 176, 2, 2]             352\n",
      "           Conv2d-92            [-1, 176, 2, 2]          30,976\n",
      "      BatchNorm2d-93            [-1, 176, 2, 2]             352\n",
      "             ReLU-94            [-1, 176, 2, 2]               0\n",
      " InvertedResidual-95            [-1, 352, 2, 2]               0\n",
      "           Conv2d-96            [-1, 176, 2, 2]          30,976\n",
      "      BatchNorm2d-97            [-1, 176, 2, 2]             352\n",
      "             ReLU-98            [-1, 176, 2, 2]               0\n",
      "           Conv2d-99            [-1, 176, 2, 2]           1,584\n",
      "     BatchNorm2d-100            [-1, 176, 2, 2]             352\n",
      "          Conv2d-101            [-1, 176, 2, 2]          30,976\n",
      "     BatchNorm2d-102            [-1, 176, 2, 2]             352\n",
      "            ReLU-103            [-1, 176, 2, 2]               0\n",
      "InvertedResidual-104            [-1, 352, 2, 2]               0\n",
      "          Conv2d-105            [-1, 176, 2, 2]          30,976\n",
      "     BatchNorm2d-106            [-1, 176, 2, 2]             352\n",
      "            ReLU-107            [-1, 176, 2, 2]               0\n",
      "          Conv2d-108            [-1, 176, 2, 2]           1,584\n",
      "     BatchNorm2d-109            [-1, 176, 2, 2]             352\n",
      "          Conv2d-110            [-1, 176, 2, 2]          30,976\n",
      "     BatchNorm2d-111            [-1, 176, 2, 2]             352\n",
      "            ReLU-112            [-1, 176, 2, 2]               0\n",
      "InvertedResidual-113            [-1, 352, 2, 2]               0\n",
      "          Conv2d-114            [-1, 176, 2, 2]          30,976\n",
      "     BatchNorm2d-115            [-1, 176, 2, 2]             352\n",
      "            ReLU-116            [-1, 176, 2, 2]               0\n",
      "          Conv2d-117            [-1, 176, 2, 2]           1,584\n",
      "     BatchNorm2d-118            [-1, 176, 2, 2]             352\n",
      "          Conv2d-119            [-1, 176, 2, 2]          30,976\n",
      "     BatchNorm2d-120            [-1, 176, 2, 2]             352\n",
      "            ReLU-121            [-1, 176, 2, 2]               0\n",
      "InvertedResidual-122            [-1, 352, 2, 2]               0\n",
      "          Conv2d-123            [-1, 352, 1, 1]           3,168\n",
      "     BatchNorm2d-124            [-1, 352, 1, 1]             704\n",
      "          Conv2d-125            [-1, 352, 1, 1]         123,904\n",
      "     BatchNorm2d-126            [-1, 352, 1, 1]             704\n",
      "            ReLU-127            [-1, 352, 1, 1]               0\n",
      "          Conv2d-128            [-1, 352, 2, 2]         123,904\n",
      "     BatchNorm2d-129            [-1, 352, 2, 2]             704\n",
      "            ReLU-130            [-1, 352, 2, 2]               0\n",
      "          Conv2d-131            [-1, 352, 1, 1]           3,168\n",
      "     BatchNorm2d-132            [-1, 352, 1, 1]             704\n",
      "          Conv2d-133            [-1, 352, 1, 1]         123,904\n",
      "     BatchNorm2d-134            [-1, 352, 1, 1]             704\n",
      "            ReLU-135            [-1, 352, 1, 1]               0\n",
      "InvertedResidual-136            [-1, 704, 1, 1]               0\n",
      "          Conv2d-137            [-1, 352, 1, 1]         123,904\n",
      "     BatchNorm2d-138            [-1, 352, 1, 1]             704\n",
      "            ReLU-139            [-1, 352, 1, 1]               0\n",
      "          Conv2d-140            [-1, 352, 1, 1]           3,168\n",
      "     BatchNorm2d-141            [-1, 352, 1, 1]             704\n",
      "          Conv2d-142            [-1, 352, 1, 1]         123,904\n",
      "     BatchNorm2d-143            [-1, 352, 1, 1]             704\n",
      "            ReLU-144            [-1, 352, 1, 1]               0\n",
      "InvertedResidual-145            [-1, 704, 1, 1]               0\n",
      "          Conv2d-146            [-1, 352, 1, 1]         123,904\n",
      "     BatchNorm2d-147            [-1, 352, 1, 1]             704\n",
      "            ReLU-148            [-1, 352, 1, 1]               0\n",
      "          Conv2d-149            [-1, 352, 1, 1]           3,168\n",
      "     BatchNorm2d-150            [-1, 352, 1, 1]             704\n",
      "          Conv2d-151            [-1, 352, 1, 1]         123,904\n",
      "     BatchNorm2d-152            [-1, 352, 1, 1]             704\n",
      "            ReLU-153            [-1, 352, 1, 1]               0\n",
      "InvertedResidual-154            [-1, 704, 1, 1]               0\n",
      "          Conv2d-155            [-1, 352, 1, 1]         123,904\n",
      "     BatchNorm2d-156            [-1, 352, 1, 1]             704\n",
      "            ReLU-157            [-1, 352, 1, 1]               0\n",
      "          Conv2d-158            [-1, 352, 1, 1]           3,168\n",
      "     BatchNorm2d-159            [-1, 352, 1, 1]             704\n",
      "          Conv2d-160            [-1, 352, 1, 1]         123,904\n",
      "     BatchNorm2d-161            [-1, 352, 1, 1]             704\n",
      "            ReLU-162            [-1, 352, 1, 1]               0\n",
      "InvertedResidual-163            [-1, 704, 1, 1]               0\n",
      "        Identity-164            [-1, 704, 1, 1]               0\n",
      "          Linear-165                   [-1, 43]          30,315\n",
      "    ShuffleNetV2-166                   [-1, 43]               0\n",
      "================================================================\n",
      "Total params: 1,785,995\n",
      "Trainable params: 1,785,995\n",
      "Non-trainable params: 0\n",
      "----------------------------------------------------------------\n",
      "Input size (MB): 0.01\n",
      "Forward/backward pass size (MB): 1.37\n",
      "Params size (MB): 6.81\n",
      "Estimated Total Size (MB): 8.20\n",
      "----------------------------------------------------------------\n"
     ]
    }
   ],
   "source": [
    "class NetReduced(nn.Module):\n",
    "    def __init__(self):\n",
    "        super(NetReduced, self).__init__()\n",
    "        self.net = models.shufflenet_v2_x1_5()\n",
    "        self.net.trainable = False # Freeze the layers of the pretrained model\n",
    "        self.net.conv5 = Identity()\n",
    "        self.net.fc = nn.Linear(704, 43)\n",
    "\n",
    "    def forward(self, x):\n",
    "        return self.net(x)\n",
    "\n",
    "shuffreduced = NetReduced().to(device)\n",
    "summary(shuffreduced, (3, 32, 32))"
   ],
   "metadata": {
    "collapsed": false,
    "pycharm": {
     "name": "#%%\n"
    }
   }
  },
  {
   "cell_type": "markdown",
   "source": [
    "#### Section 4.2: Model performance evaluation"
   ],
   "metadata": {
    "collapsed": false,
    "pycharm": {
     "name": "#%% md\n"
    }
   }
  },
  {
   "cell_type": "code",
   "execution_count": 14,
   "outputs": [
    {
     "name": "stdout",
     "output_type": "stream",
     "text": [
      "Epoch 1 - train loss:3.530795855064915, accuracy:10.454448699951172, f1_score:8.674538612365723\n",
      "Epoch 1 - val loss:3.1678708507901145, accuracy:19.79452896118164, f1_score:16.97509765625\n",
      "Epoch 2 - train loss:2.930984519932368, accuracy:25.883405685424805, f1_score:22.107994079589844\n",
      "Epoch 2 - val loss:2.7444336187271845, accuracy:31.169872283935547, f1_score:27.11604881286621\n",
      "Epoch 3 - train loss:2.55049563434026, accuracy:35.7779426574707, f1_score:31.47150230407715\n",
      "Epoch 3 - val loss:2.430770306360154, accuracy:39.631980895996094, f1_score:35.63232421875\n",
      "Epoch 4 - train loss:2.2400659935115135, accuracy:45.12424087524414, f1_score:40.99833679199219\n",
      "Epoch 4 - val loss:2.153460729689825, accuracy:47.28136444091797, f1_score:43.31380844116211\n",
      "Epoch 5 - train loss:1.9634428391717884, accuracy:53.386226654052734, f1_score:49.334327697753906\n",
      "Epoch 5 - val loss:1.9338504870732625, accuracy:51.917354583740234, f1_score:48.22197723388672\n",
      "Epoch 6 - train loss:1.7352579358505875, accuracy:58.758174896240234, f1_score:55.119232177734375\n",
      "Epoch 6 - val loss:1.721691375687009, accuracy:58.12443161010742, f1_score:54.663047790527344\n",
      "Epoch 7 - train loss:1.5375227666880986, accuracy:63.523014068603516, f1_score:60.20854187011719\n",
      "Epoch 7 - val loss:1.5543877964928037, accuracy:62.17376708984375, f1_score:59.3237190246582\n",
      "Epoch 8 - train loss:1.3666418447886428, accuracy:67.97312927246094, f1_score:65.04474639892578\n",
      "Epoch 8 - val loss:1.414712735584804, accuracy:65.49908447265625, f1_score:63.02464294433594\n",
      "Epoch 9 - train loss:1.2206075550758675, accuracy:71.95477294921875, f1_score:69.47844696044922\n",
      "Epoch 9 - val loss:1.2967236496153332, accuracy:68.0088119506836, f1_score:65.82665252685547\n",
      "Epoch 10 - train loss:1.0955665711670706, accuracy:75.6124496459961, f1_score:73.56941986083984\n",
      "Epoch 10 - val loss:1.1862061591375441, accuracy:71.52301025390625, f1_score:69.55470275878906\n",
      "Epoch 11 - train loss:0.9879926590070333, accuracy:78.18531799316406, f1_score:76.39204406738281\n",
      "Epoch 11 - val loss:1.0892795806839353, accuracy:73.57486724853516, f1_score:71.78087615966797\n",
      "Epoch 12 - train loss:0.8836445698182877, accuracy:81.22762298583984, f1_score:79.7878189086914\n",
      "Epoch 12 - val loss:1.0042992915425981, accuracy:76.69413757324219, f1_score:75.03102111816406\n",
      "Epoch 13 - train loss:0.803051085096516, accuracy:83.0776138305664, f1_score:81.86844635009766\n",
      "Epoch 13 - val loss:0.9232816043354216, accuracy:78.52564239501953, f1_score:77.37535095214844\n",
      "Epoch 14 - train loss:0.718249111551128, accuracy:85.73464965820312, f1_score:84.57330322265625\n",
      "Epoch 14 - val loss:0.858135271640051, accuracy:79.68463897705078, f1_score:78.35713195800781\n",
      "Epoch 15 - train loss:0.6458989469564125, accuracy:87.68582916259766, f1_score:86.67009735107422\n",
      "Epoch 15 - val loss:0.8008482257525126, accuracy:81.17273712158203, f1_score:80.22411346435547\n",
      "Epoch 16 - train loss:0.5871132453010507, accuracy:89.09022521972656, f1_score:88.32511138916016\n",
      "Epoch 16 - val loss:0.7497747512090773, accuracy:82.91838073730469, f1_score:82.0027084350586\n",
      "Epoch 17 - train loss:0.5327076442437629, accuracy:90.63180541992188, f1_score:89.93946075439453\n",
      "Epoch 17 - val loss:0.7045676708221436, accuracy:84.70409393310547, f1_score:84.17767333984375\n",
      "Epoch 18 - train loss:0.484073133093037, accuracy:91.49916076660156, f1_score:90.88565826416016\n",
      "Epoch 18 - val loss:0.6554311343601772, accuracy:85.7514877319336, f1_score:85.18818664550781\n",
      "Epoch 19 - train loss:0.4406051360172768, accuracy:92.95658874511719, f1_score:92.48455810546875\n",
      "Epoch 19 - val loss:0.6160611680575779, accuracy:85.88885498046875, f1_score:85.16259002685547\n",
      "Epoch 20 - train loss:0.40486171576258256, accuracy:93.5938491821289, f1_score:93.1688003540039\n",
      "Epoch 20 - val loss:0.5782759487628937, accuracy:87.57726287841797, f1_score:87.14837646484375\n"
     ]
    }
   ],
   "source": [
    "optimizer = torch.optim.SGD(shuff.parameters(),lr=learning_rate)\n",
    "writer3 = SummaryWriter('runs/TLmodel')\n",
    "train_evaluate(shuff, optimizer, writer3)"
   ],
   "metadata": {
    "collapsed": false,
    "pycharm": {
     "name": "#%%\n"
    }
   }
  },
  {
   "cell_type": "code",
   "execution_count": 104,
   "outputs": [
    {
     "name": "stdout",
     "output_type": "stream",
     "text": [
      "Epoch 1 - train loss:3.7283972648725117, accuracy:4.090130805969238, f1_score:3.603311061859131\n",
      "Epoch 1 - val loss:3.658048255102975, accuracy:5.40865421295166, f1_score:4.173295021057129\n",
      "Epoch 2 - train loss:3.5928740844334643, accuracy:6.614356517791748, f1_score:5.0245137214660645\n",
      "Epoch 2 - val loss:3.566355376016526, accuracy:6.616300582885742, f1_score:5.01871919631958\n",
      "Epoch 3 - train loss:3.5160380667203093, accuracy:7.818824291229248, f1_score:5.703953742980957\n",
      "Epoch 3 - val loss:3.517203137988136, accuracy:7.26591157913208, f1_score:5.1585612297058105\n",
      "Epoch 4 - train loss:3.473716384743991, accuracy:8.59375, f1_score:6.263426303863525\n",
      "Epoch 4 - val loss:3.4733046690622964, accuracy:8.688186645507812, f1_score:6.381995677947998\n",
      "Epoch 5 - train loss:3.428969357111683, accuracy:9.904265403747559, f1_score:7.166472911834717\n",
      "Epoch 5 - val loss:3.443641878309704, accuracy:9.858631134033203, f1_score:6.768109321594238\n",
      "Epoch 6 - train loss:3.385286269122607, accuracy:11.438064575195312, f1_score:8.34172534942627\n",
      "Epoch 6 - val loss:3.3915338856833324, accuracy:10.8630952835083, f1_score:7.857115268707275\n",
      "Epoch 7 - train loss:3.3454669550673604, accuracy:12.603128433227539, f1_score:9.08505916595459\n",
      "Epoch 7 - val loss:3.3567976383935836, accuracy:11.521291732788086, f1_score:8.206395149230957\n",
      "Epoch 8 - train loss:3.3037287715363175, accuracy:13.905374526977539, f1_score:10.36052417755127\n",
      "Epoch 8 - val loss:3.3268598715464273, accuracy:13.166781425476074, f1_score:9.746597290039062\n",
      "Epoch 9 - train loss:3.26079561449077, accuracy:15.179891586303711, f1_score:11.305078506469727\n",
      "Epoch 9 - val loss:3.2609028135027205, accuracy:15.710851669311523, f1_score:11.876086235046387\n",
      "Epoch 10 - train loss:3.1885882256782216, accuracy:17.581043243408203, f1_score:13.278728485107422\n",
      "Epoch 10 - val loss:3.201982237043835, accuracy:16.514995574951172, f1_score:12.437151908874512\n",
      "Epoch 11 - train loss:3.1107615069167256, accuracy:20.05808448791504, f1_score:15.31273365020752\n",
      "Epoch 11 - val loss:3.11881076721918, accuracy:19.330930709838867, f1_score:14.80239486694336\n",
      "Epoch 12 - train loss:3.020010827338859, accuracy:22.773971557617188, f1_score:17.701160430908203\n",
      "Epoch 12 - val loss:3.0448640755244663, accuracy:21.23111343383789, f1_score:16.488025665283203\n",
      "Epoch 13 - train loss:2.933418765459975, accuracy:25.125507354736328, f1_score:19.920940399169922\n",
      "Epoch 13 - val loss:2.9509236131395613, accuracy:25.062959671020508, f1_score:19.58344078063965\n",
      "Epoch 14 - train loss:2.8351226996069085, accuracy:27.404558181762695, f1_score:21.959026336669922\n",
      "Epoch 14 - val loss:2.8658047290075395, accuracy:26.903045654296875, f1_score:20.929567337036133\n",
      "Epoch 15 - train loss:2.7403870772009027, accuracy:29.81057357788086, f1_score:24.27739143371582\n",
      "Epoch 15 - val loss:2.783229566755749, accuracy:28.010530471801758, f1_score:22.55461311340332\n",
      "Epoch 16 - train loss:2.644047822037788, accuracy:32.17378234863281, f1_score:26.75031852722168\n",
      "Epoch 16 - val loss:2.678825957434518, accuracy:30.64904022216797, f1_score:24.924095153808594\n",
      "Epoch 17 - train loss:2.5455289425915235, accuracy:34.74665069580078, f1_score:29.162851333618164\n",
      "Epoch 17 - val loss:2.5871650718507313, accuracy:32.411861419677734, f1_score:27.07262420654297\n",
      "Epoch 18 - train loss:2.447905279185674, accuracy:36.87052536010742, f1_score:31.497901916503906\n",
      "Epoch 18 - val loss:2.4965623901003884, accuracy:34.071659088134766, f1_score:29.176708221435547\n",
      "Epoch 19 - train loss:2.3517819038809162, accuracy:39.446800231933594, f1_score:34.31730651855469\n",
      "Epoch 19 - val loss:2.421013729912894, accuracy:36.24656677246094, f1_score:31.008522033691406\n",
      "Epoch 20 - train loss:2.2615300376121312, accuracy:41.71758270263672, f1_score:36.56013107299805\n",
      "Epoch 20 - val loss:2.343022653034755, accuracy:36.87328338623047, f1_score:32.23983383178711\n"
     ]
    }
   ],
   "source": [
    "optimizer = torch.optim.SGD(shuffreduced.parameters(),lr=learning_rate)\n",
    "writer4 = SummaryWriter('runs/TLmodelReduced')\n",
    "train_evaluate(shuffreduced, optimizer, writer4)"
   ],
   "metadata": {
    "collapsed": false,
    "pycharm": {
     "name": "#%%\n"
    }
   }
  },
  {
   "cell_type": "markdown",
   "source": [
    "#### Section 5: Conclusion and possible improvements"
   ],
   "metadata": {
    "collapsed": false,
    "pycharm": {
     "name": "#%% md\n"
    }
   }
  }
 ],
 "metadata": {
  "kernelspec": {
   "display_name": "Python 3",
   "language": "python",
   "name": "python3"
  },
  "language_info": {
   "codemirror_mode": {
    "name": "ipython",
    "version": 2
   },
   "file_extension": ".py",
   "mimetype": "text/x-python",
   "name": "python",
   "nbconvert_exporter": "python",
   "pygments_lexer": "ipython2",
   "version": "2.7.6"
  }
 },
 "nbformat": 4,
 "nbformat_minor": 0
}