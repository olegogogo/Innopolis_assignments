{
 "nbformat": 4,
 "nbformat_minor": 0,
 "metadata": {
  "colab": {
   "provenance": []
  },
  "kernelspec": {
   "name": "python3",
   "display_name": "Python 3"
  },
  "language_info": {
   "name": "python"
  }
 },
 "cells": [
  {
   "cell_type": "markdown",
   "source": [
    "### Week 3\n",
    "## Dynamic programming to solve MDPs"
   ],
   "metadata": {
    "id": "mpsHfwOjk-ys"
   }
  },
  {
   "cell_type": "markdown",
   "source": [
    "## Cleaning Robot Problem\n",
    "\n",
    "The main characteristics of this world are the following:\n",
    "\n",
    "- Discrete time and space\n",
    "- Fully observable\n",
    "- Infinite horizon\n",
    "- Known Transition Model\n",
    "\n",
    "<img src=\"https://drive.google.com/uc?id=1Yz6xnDuo6StlKzmj4eDqVYvZfOORBlBT\"/>\n",
    "\n",
    "The main goal for the robot in this task is to find the best way to reach the charging station.\n",
    "\n"
   ],
   "metadata": {
    "id": "Eh-qQmfCJVOA"
   }
  },
  {
   "cell_type": "markdown",
   "source": [
    "## Introduction to Dynamic Programming (DP)"
   ],
   "metadata": {
    "id": "5qbUGWMp15L0"
   }
  },
  {
   "cell_type": "markdown",
   "source": [
    "- Dynamic programming (DP) is used to compute optimal policies given a complete model of the environment\n",
    "  - This model should be a Markov Decision Process (MDP)\n",
    "  - In dynamic programming, the dynamics function, $P$ should be known\n",
    "    - i.e $ P(s'|s, a)$ should be fully defined\n",
    "    - What do we mean by this?\n",
    "    - Well, basically when given a state and action, the model of the environment will give the probabilities for all possible next states and rewards\n"
   ],
   "metadata": {
    "id": "A7EMeZcA0i5r"
   }
  },
  {
   "cell_type": "markdown",
   "source": [
    "- In DP (Dynamic programming) the objective is to determine optimal policies using optimal value functions\n",
    "  - In order to do that, we first calculate optimal value functions for each state\n",
    "  - As a recap: value functions allow us to get an idea of how good each state is, in terms of giving highest accumulated reward\n",
    "    - More formally, state-value functions are the \"expected\" future rewards starting at some state, $s$ and then following a specific policy\n",
    "   - Action-value functions are the \"expected\" future rewards starting at some state $s$ and action $a$ and then following a specific policy\n",
    "- So, that leads us to one question: how do we determine state-values and action-values?"
   ],
   "metadata": {
    "id": "50xKvwhM2W1w"
   }
  },
  {
   "cell_type": "markdown",
   "source": [
    "## The policy iteration algorithm"
   ],
   "metadata": {
    "id": "5G0JYRSB7F49"
   }
  },
  {
   "cell_type": "markdown",
   "source": [
    "use the policy iteration algorithm to find an optimal policy that maximizes the expected reward. No policy generates more reward than the optimal policy $\\pi^∗$\n",
    ". Policy iteration is guaranteed to converge and at convergence, the current policy and its utility function are the optimal policy and the optimal utility function. First of all, we define a policy\n",
    "$\\pi$ assigning an action to each state. We can assign random actions to this policy, it does not matter. Using the Bellman equation we can compute the expected utility of the policy. There is a good news. We do not really need the complete version of the Bellman equation which is:\n",
    "\n",
    "$$V{(s)} = \\ R{(s,a)} + \\gamma \\color{red}{\\max_{a^\\prime}} \\sum_{s^\\prime\\in\\text{S}} \\big[P{(s^\\prime|s,a)}  V{(s^\\prime)}\\big]$$\n",
    "\n",
    "Since we have a policy and the policy associate to each state an action, we can get rid of the\n",
    " max\n",
    " operator and use a simplified version of the Bellman equation:\n",
    "\n",
    " $$V{(s)} = \\ R{(s,\\pi(s))} + \\gamma \\sum_{s^\\prime\\in\\text{S}} \\big[P{(s^\\prime|s,\\pi(s)}  V{(s^\\prime)}\\big]$$\n"
   ],
   "metadata": {
    "id": "kt5HxAa77Vj9"
   }
  },
  {
   "cell_type": "markdown",
   "source": [
    "Once we have evaluated the policy, we can improve it. Policy improvement is the second and last step of the algorithm. Our environment has a finite number of states, therefore a finite number of policies. Each iteration returns a better policy."
   ],
   "metadata": {
    "id": "WcNx8O1FHduv"
   }
  },
  {
   "cell_type": "code",
   "source": [
    "!wget -q https://github.com/mhd-medfa/IU-Reinforcement-Learning-22-lab/raw/main/week03-mdp/T.npy  -O T.npy"
   ],
   "metadata": {
    "id": "li9qwo6mVi8_"
   },
   "execution_count": 11,
   "outputs": [
    {
     "name": "stderr",
     "output_type": "stream",
     "text": [
      "\"wget\" ­Ґ пў«пҐвбп ў­гваҐ­­Ґ© Ё«Ё ў­Ґи­Ґ©\n",
      "Є®¬ ­¤®©, ЁбЇ®«­пҐ¬®© Їа®Ја ¬¬®© Ё«Ё Ї ЄҐв­л¬ д ©«®¬.\n"
     ]
    }
   ]
  },
  {
   "cell_type": "code",
   "source": [
    "import numpy as np\n",
    "\n",
    "class MDP:\n",
    "  def __init__(self):\n",
    "        #Starting state vector\n",
    "        #The agent starts from (1, 1)\n",
    "        self.states = np.array([[0.0, 0.0, 0.0, 0.0,\n",
    "                                    0.0, 0.0, 0.0, 0.0,\n",
    "                                    1.0, 0.0, 0.0, 0.0]])\n",
    "        self.rewards = np.array([-0.04, -0.04, -0.04,  +1.0,\n",
    "                                 -0.04,   0.0, -0.04,  -1.0,\n",
    "                                 -0.04, -0.04, -0.04, -0.04])\n",
    "\n",
    "        # Probabilities Transition matrix loaded from file\n",
    "        #(It is too big to write here)\n",
    "        self.transits = np.load(\"T.npy\")\n",
    "        #Generate the first policy randomly\n",
    "        # Nan=Nothing, -1=Terminal, 0=Up, 1=Left, 2=Down, 3=Right\n",
    "        self.policy = np.random.randint(0, 4, size=(12)).astype(np.float32)\n",
    "        self.policy[5] = np.NaN\n",
    "        self.policy[3] = self.policy[7] = -1\n",
    "\n",
    "        #Utility vector\n",
    "        self.values = np.array([0.0, 0.0, 0.0,  0.0,\n",
    "                                0.0, 0.0, 0.0,  0.0,\n",
    "                                0.0, 0.0, 0.0,  0.0])\n",
    "        self.gamma = 0.999\n",
    "\n",
    "        self.epsilon = 0.0001\n",
    "        self.iteration = 0\n",
    "\n",
    "  def policy_evaluation(self, shape=(3,4)):\n",
    "    for s in range(12):\n",
    "      if not np.isnan(self.policy[s]):\n",
    "        self.states = np.zeros((1,12))\n",
    "        self.states[0,s] = 1.0\n",
    "        action = int(self.policy[s])\n",
    "        self.values[s] = self.rewards[s] + self.gamma * np.sum(np.multiply(self.values, np.dot(self.states, self.transits[:,:,action])))\n",
    "    return self.values\n",
    "\n",
    "  def expected_action(self):\n",
    "      \"\"\"Return the expected action.\n",
    "\n",
    "      It returns an action based on the\n",
    "      expected utility of doing a in state s,\n",
    "      according to T and u. This action is\n",
    "      the one that maximize the expected\n",
    "      utility.\n",
    "\n",
    "      @return expected action (int)\n",
    "      \"\"\"\n",
    "      actions = np.zeros(4)\n",
    "      for action in range(4):\n",
    "        #Expected utility of doing a in state s, according to T and u.\n",
    "        actions[action] = np.sum(np.multiply(self.values, np.dot(self.states, self.transits[:,:,action])))\n",
    "      return np.argmax(actions)\n",
    "\n",
    "def print_policy(p, shape):\n",
    "    \"\"\"Printing utility.\n",
    "\n",
    "    Print the policy actions using symbols:\n",
    "    ^, v, <, > up, down, left, right\n",
    "    * terminal states\n",
    "    # obstacles\n",
    "    \"\"\"\n",
    "    counter = 0\n",
    "    policy_string = \"\"\n",
    "    for row in range(shape[0]):\n",
    "        for col in range(shape[1]):\n",
    "            if(p[counter] == -1): policy_string += \" *  \"\n",
    "            elif(p[counter] == 0): policy_string += \" ^  \"\n",
    "            elif(p[counter] == 1): policy_string += \" <  \"\n",
    "            elif(p[counter] == 2): policy_string += \" v  \"\n",
    "            elif(p[counter] == 3): policy_string += \" >  \"\n",
    "            elif(np.isnan(p[counter])): policy_string += \" #  \"\n",
    "            counter += 1\n",
    "        policy_string += '\\n'\n",
    "    print(policy_string)"
   ],
   "metadata": {
    "id": "vK000bcrH7IO"
   },
   "execution_count": 12,
   "outputs": []
  },
  {
   "cell_type": "code",
   "source": [
    "mdp = MDP()\n",
    "\n",
    "while True:\n",
    "    mdp.iteration += 1\n",
    "    #1- Policy evaluation\n",
    "    u_old = mdp.values.copy()\n",
    "    u = mdp.policy_evaluation()\n",
    "    #Stopping criteria\n",
    "    delta = np.absolute(u - u_old).max()\n",
    "    if delta < mdp.epsilon * (1 - mdp.gamma) / mdp.gamma: break\n",
    "    for s in range(12):\n",
    "        if not np.isnan(mdp.policy[s]) and not mdp.policy[s]==-1:\n",
    "            #2- Policy improvement\n",
    "            mdp.states = np.zeros((1,12))\n",
    "            mdp.states[0,s] = 1.0\n",
    "            a = mdp.expected_action()\n",
    "            mdp.policy[s] = a\n",
    "\n",
    "\n",
    "    print_policy(mdp.policy, shape=(3,4))\n",
    "\n",
    "print(\"=================== FINAL RESULT ==================\")\n",
    "print(\"Iterations: \" + str(mdp.iteration))\n",
    "print(\"Delta: \" + str(delta))\n",
    "print(\"Gamma: \" + str(mdp.gamma))\n",
    "print(\"Epsilon: \" + str(mdp.epsilon))\n",
    "print(\"===================================================\")\n",
    "print(u[0:4])\n",
    "print(u[4:8])\n",
    "print(u[8:12])\n",
    "print(\"===================================================\")\n",
    "print_policy(mdp.policy, shape=(3,4))\n",
    "print(\"===================================================\")\n"
   ],
   "metadata": {
    "colab": {
     "base_uri": "https://localhost:8080/"
    },
    "id": "8b9WvhSbIEl5",
    "outputId": "cdadbbad-7a68-468d-93aa-1153b79b2d63"
   },
   "execution_count": 13,
   "outputs": [
    {
     "name": "stdout",
     "output_type": "stream",
     "text": [
      " ^   <   >   *  \n",
      " ^   #   <   *  \n",
      " >   <   <   v  \n",
      "\n",
      " ^   >   >   *  \n",
      " ^   #   ^   *  \n",
      " <   <   ^   v  \n",
      "\n",
      " >   >   >   *  \n",
      " ^   #   ^   *  \n",
      " <   >   ^   <  \n",
      "\n",
      " >   >   >   *  \n",
      " ^   #   ^   *  \n",
      " ^   >   ^   <  \n",
      "\n",
      " >   >   >   *  \n",
      " ^   #   ^   *  \n",
      " ^   >   ^   <  \n",
      "\n",
      " >   >   >   *  \n",
      " ^   #   ^   *  \n",
      " ^   >   ^   <  \n",
      "\n",
      " >   >   >   *  \n",
      " ^   #   ^   *  \n",
      " ^   <   ^   <  \n",
      "\n",
      " >   >   >   *  \n",
      " ^   #   ^   *  \n",
      " ^   <   ^   <  \n",
      "\n",
      " >   >   >   *  \n",
      " ^   #   ^   *  \n",
      " ^   <   ^   <  \n",
      "\n",
      " >   >   >   *  \n",
      " ^   #   ^   *  \n",
      " ^   <   <   <  \n",
      "\n",
      " >   >   >   *  \n",
      " ^   #   ^   *  \n",
      " ^   <   <   <  \n",
      "\n",
      " >   >   >   *  \n",
      " ^   #   ^   *  \n",
      " ^   <   <   <  \n",
      "\n",
      " >   >   >   *  \n",
      " ^   #   ^   *  \n",
      " ^   <   <   <  \n",
      "\n",
      " >   >   >   *  \n",
      " ^   #   ^   *  \n",
      " ^   <   <   <  \n",
      "\n",
      " >   >   >   *  \n",
      " ^   #   ^   *  \n",
      " ^   <   <   <  \n",
      "\n",
      " >   >   >   *  \n",
      " ^   #   ^   *  \n",
      " ^   <   <   <  \n",
      "\n",
      " >   >   >   *  \n",
      " ^   #   ^   *  \n",
      " ^   <   <   <  \n",
      "\n",
      " >   >   >   *  \n",
      " ^   #   ^   *  \n",
      " ^   <   <   <  \n",
      "\n",
      " >   >   >   *  \n",
      " ^   #   ^   *  \n",
      " ^   <   <   <  \n",
      "\n",
      " >   >   >   *  \n",
      " ^   #   ^   *  \n",
      " ^   <   <   <  \n",
      "\n",
      " >   >   >   *  \n",
      " ^   #   ^   *  \n",
      " ^   <   <   <  \n",
      "\n",
      "=================== FINAL RESULT ==================\n",
      "Iterations: 22\n",
      "Delta: 9.234550352177351e-08\n",
      "Gamma: 0.999\n",
      "Epsilon: 0.0001\n",
      "===================================================\n",
      "[0.80796344 0.86539911 0.91653199 1.        ]\n",
      "[ 0.75696623  0.          0.65836281 -1.        ]\n",
      "[0.69968295 0.64882105 0.60471972 0.38150427]\n",
      "===================================================\n",
      " >   >   >   *  \n",
      " ^   #   ^   *  \n",
      " ^   <   <   <  \n",
      "\n",
      "===================================================\n"
     ]
    }
   ]
  },
  {
   "cell_type": "markdown",
   "source": [
    "## Homework: The value iteration algorithm\n",
    "\n",
    "Your task is to solve the Robot Cleaning problem using the Value Iteration algorithm.\n",
    "\n",
    "1- Based on your understanding write down the pseudo-code for Value Iteration algorithm.\n",
    "\n",
    "2- Complete the implementation for value iteration algorithm. Basically you need to only complete the `MDP.state_utility()` method, comment on your results.\n",
    "\n",
    "3- Make sure to provide your detailed explanation for the result.\n",
    "\n",
    "4- Explain in detail the results you got in comparison with the Policy Iteration algorithm in your own words based on your understanding.\n",
    "\n",
    "\n",
    "**Note:** Your grade will be based on your understanding of the algorithm and your analysis to the results. Cheating will be punished by 50% deduction for the first time and will get 0 in the second time."
   ],
   "metadata": {
    "id": "wlKIE0U37MsR"
   }
  },
  {
   "cell_type": "markdown",
   "source": [
    "### Pseudo-code for Value Iteration Algorithm\n",
    "\n",
    "    ValueIteration(MDP, epsilon):\n",
    "\n",
    "    Initialize V(s) arbitrarily for all states s\n",
    "    repeat\n",
    "\n",
    "        delta = 0\n",
    "        for each state s in MDP:\n",
    "            v = V(s)\n",
    "            V(s) = max_a ∑_s' P(s'|s,a)[R(s,a,s') + γV(s')]\n",
    "            delta = max(delta, |v - V(s)|)\n",
    "\n",
    "        until delta < epsilon\n",
    "\n",
    "    return V\n"
   ],
   "metadata": {
    "collapsed": false
   }
  },
  {
   "cell_type": "code",
   "execution_count": 14,
   "metadata": {
    "id": "Ss26PsG74-hR"
   },
   "outputs": [],
   "source": [
    "import numpy as np\n",
    "import matplotlib.pyplot as plt\n",
    "\n",
    "class MDP:\n",
    "  def __init__(self):\n",
    "        #Starting state vector\n",
    "        #The agent starts from (1, 1)\n",
    "        self.states = np.array([[0.0, 0.0, 0.0, 0.0,\n",
    "                                    0.0, 0.0, 0.0, 0.0,\n",
    "                                    1.0, 0.0, 0.0, 0.0]])\n",
    "        self.rewards = np.array([-0.04, -0.04, -0.04,  +1.0,\n",
    "                                 -0.04,   0.0, -0.04,  -1.0,\n",
    "                                 -0.04, -0.04, -0.04, -0.04])\n",
    "        self.num_states = 12\n",
    "\n",
    "        # Probabilities Transition matrix loaded from file\n",
    "        #(It is too big to write here)\n",
    "        self.transits = np.load(\"T.npy\")\n",
    "        #Generate the first policy randomly\n",
    "        # Nan=Nothing, -1=Terminal, 0=Up, 1=Left, 2=Down, 3=Right\n",
    "        self.policy = np.random.randint(0, 4, size=(12)).astype(np.float32)\n",
    "        self.policy[5] = np.NaN\n",
    "        self.policy[3] = self.policy[7] = -1\n",
    "\n",
    "        #Utility vector\n",
    "        self.values = np.array([0.0, 0.0, 0.0,  0.0,\n",
    "                                0.0, 0.0, 0.0,  0.0,\n",
    "                                0.0, 0.0, 0.0,  0.0])\n",
    "        self.gamma = 0.999\n",
    "\n",
    "        self.epsilon = 0.0001\n",
    "        self.iteration = 0\n",
    "  def state_utility(self, s):\n",
    "      \"\"\"Return the state utility.\n",
    "\n",
    "      @return the utility of the state\n",
    "      \"\"\"\n",
    "      if not np.isnan(self.policy[s]):\n",
    "        # If an action is defined for state s in the policy\n",
    "        state_actions = self.transits[s, :, :]\n",
    "        action_rewards = self.rewards + self.gamma * self.values\n",
    "        action_utilities = np.sum(state_actions * action_rewards[:, None], axis=0)\n",
    "        max_utility = np.max(action_utilities)\n",
    "        return max_utility\n",
    "      else:\n",
    "        # If no action is defined for state s in the policy\n",
    "        return 0\n",
    "\n",
    "\n",
    "  def expected_action(self):\n",
    "      \"\"\"Return the expected action.\n",
    "\n",
    "      It returns an action based on the\n",
    "      expected utility of doing a in state s,\n",
    "      according to T and u. This action is\n",
    "      the one that maximize the expected\n",
    "      utility.\n",
    "\n",
    "      @return expected action (int)\n",
    "      \"\"\"\n",
    "      actions = np.zeros(4)\n",
    "      for action in range(4):\n",
    "        #Expected utility of doing a in state s, according to T and u.\n",
    "        actions[action] = np.sum(np.multiply(self.values, np.dot(self.states, self.transits[:,:,action])))\n",
    "      return np.argmax(actions)\n",
    "\n",
    "def generate_graph(utility_list):\n",
    "    \"\"\"Given a list of utility arrays (one for each iteration)\n",
    "       it generates a matplotlib graph and save it as 'output.jpg'\n",
    "    \"\"\"\n",
    "    name_list = ('(1,3)', '(2,3)', '(3,3)', '+1', '(1,2)', '#', '(3,2)', '-1', '(1,1)', '(2,1)', '(3,1)', '(4,1)')\n",
    "    color_list = ('cyan', 'teal', 'blue', 'green', 'magenta', 'black', 'yellow', 'red', 'brown', 'pink', 'gray', 'sienna')\n",
    "    counter = 0\n",
    "    index_vector = np.arange(len(utility_list))\n",
    "    for state in range(12):\n",
    "        state_list = list()\n",
    "        for utility_array in utility_list:\n",
    "             state_list.append(utility_array[state])\n",
    "        plt.plot(index_vector, state_list, color=color_list[state], label=name_list[state])\n",
    "        counter += 1\n",
    "    #Adjust the legend and the axis\n",
    "    plt.legend(loc='upper center', bbox_to_anchor=(0.5, 0.4), ncol=3, fancybox=True, shadow=True)\n",
    "    plt.ylim((-1.1, +1.1))\n",
    "    plt.xlim((1, len(utility_list)-1))\n",
    "    plt.ylabel('Utility', fontsize=15)\n",
    "    plt.xlabel('Iterations', fontsize=15)\n",
    "    plt.savefig(\"./output.jpg\", dpi=500)\n",
    "\n",
    "def print_policy(p, shape):\n",
    "    \"\"\"Printing utility.\n",
    "\n",
    "    Print the policy actions using symbols:\n",
    "    ^, v, <, > up, down, left, right\n",
    "    * terminal states\n",
    "    # obstacles\n",
    "    \"\"\"\n",
    "    counter = 0\n",
    "    policy_string = \"\"\n",
    "    for row in range(shape[0]):\n",
    "        for col in range(shape[1]):\n",
    "            if(p[counter] == -1): policy_string += \" *  \"\n",
    "            elif(p[counter] == 0): policy_string += \" ^  \"\n",
    "            elif(p[counter] == 1): policy_string += \" <  \"\n",
    "            elif(p[counter] == 2): policy_string += \" v  \"\n",
    "            elif(p[counter] == 3): policy_string += \" >  \"\n",
    "            elif(np.isnan(p[counter])): policy_string += \" #  \"\n",
    "            counter += 1\n",
    "        policy_string += '\\n'\n",
    "    print(policy_string)\n"
   ]
  },
  {
   "cell_type": "code",
   "source": [
    "mdp = MDP()\n",
    "#List containing the data for each iteation\n",
    "graph_list = list()\n",
    "\n",
    "while True:\n",
    "    delta = 0\n",
    "    # u = mdp.values\n",
    "    u_old = mdp.values.copy()\n",
    "    mdp.iteration += 1\n",
    "    graph_list.append(u_old)\n",
    "    for s in range(12):\n",
    "        mdp.states = np.zeros((1,mdp.num_states))\n",
    "        mdp.states[0,s] = 1.0\n",
    "        mdp.values[s] = mdp.state_utility(s)\n",
    "        u = mdp.values\n",
    "        delta = max(delta, np.abs(u[s] - u_old[s])) #Stopping criteria\n",
    "    if delta < mdp.epsilon * (1 - mdp.gamma) / mdp.gamma:\n",
    "            print(\"=================== FINAL RESULT ==================\")\n",
    "            print(\"Iterations: \" + str(mdp.iteration))\n",
    "            print(\"Delta: \" + str(delta))\n",
    "            print(\"Gamma: \" + str(mdp.gamma))\n",
    "            print(\"Epsilon: \" + str(mdp.epsilon))\n",
    "            print(\"===================================================\")\n",
    "            print(u[0:4])\n",
    "            print(u[4:8])\n",
    "            print(u[8:12])\n",
    "            print(\"===================================================\")\n",
    "            for ss in range(12):\n",
    "              if not np.isnan(mdp.policy[ss]) and not mdp.policy[ss]==-1:\n",
    "                  mdp.states = np.zeros((1,12))\n",
    "                  mdp.states[0,ss] = 1.0\n",
    "                  #2- Policy improvement\n",
    "                  a = mdp.expected_action()\n",
    "                  if a != mdp.policy[ss]: mdp.policy[ss] = a\n",
    "            print_policy(mdp.policy, shape=(3,4))\n",
    "            print(\"===================================================\")\n",
    "\n",
    "            break\n",
    "generate_graph(graph_list)"
   ],
   "metadata": {
    "id": "6gGsywLXVeTU",
    "colab": {
     "base_uri": "https://localhost:8080/",
     "height": 715
    },
    "outputId": "7ce74b6d-a61e-488d-b389-1aa69eca6576"
   },
   "execution_count": 15,
   "outputs": [
    {
     "name": "stdout",
     "output_type": "stream",
     "text": [
      "=================== FINAL RESULT ==================\n",
      "Iterations: 21\n",
      "Delta: 5.5841296697778375e-08\n",
      "Gamma: 0.999\n",
      "Epsilon: 0.0001\n",
      "===================================================\n",
      "[0.84881225 0.90630541 0.95748948 0.        ]\n",
      "[0.797764   0.         0.69906187 0.        ]\n",
      "[0.74042338 0.68951057 0.6453651  0.42192621]\n",
      "===================================================\n",
      " >   >   <   *  \n",
      " ^   #   ^   *  \n",
      " ^   <   <   <  \n",
      "\n",
      "===================================================\n"
     ]
    },
    {
     "data": {
      "text/plain": "<Figure size 640x480 with 1 Axes>",
      "image/png": "[encoded data removed]"
     },
     "metadata": {},
     "output_type": "display_data"
    }
   ]
  },
  {
   "cell_type": "markdown",
   "source": [
    "\n",
    "#### Observing the results\n",
    "The value function stabilizes approximately after 8 iterations. The policy derived from this iteration is deemed as the optimal policy.\n",
    "\n",
    "#### Comparison between Value and Policy Iteration\n",
    "Policy iteration algorithm exhibits quicker convergence, requiring fewer iterations compared to value iteration. Consequently, policy iteration generally concludes faster than value iteration.\n",
    "\n",
    "In scenarios with numerous actions or when an initial policy is satisfactory, policy iteration is preferred. Conversely, in situations with a limited number of actions, value iteration may offer better performance."
   ],
   "metadata": {
    "collapsed": false
   }
  }
 ]
}
