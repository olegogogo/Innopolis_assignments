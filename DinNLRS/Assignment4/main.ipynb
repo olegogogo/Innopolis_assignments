{
 "cells": [
  {
   "cell_type": "code",
   "execution_count": 1,
   "metadata": {
    "collapsed": true,
    "pycharm": {
     "name": "#%%\n"
    }
   },
   "outputs": [],
   "source": [
    "import numpy as np\n",
    "import sympy as sy\n",
    "import pandas as pd"
   ]
  },
  {
   "cell_type": "code",
   "execution_count": 50,
   "outputs": [],
   "source": [
    "# All symbols for solution\n",
    "q1, q2, q3, q4, q5, q6 = sy.symbols('q1 q2 q3 q4 q5 q6')\n",
    "dq1, dq2, dq3, dq4, dq5, dq6 = sy.symbols('dq1 dq2 dq3 dq4 dq5 dq6')\n",
    "ddq1, ddq2, ddq3, ddq4, ddq5, ddq6 = sy.symbols('ddq1 ddq2 ddq3 ddq4 ddq5 ddq6')\n",
    "L1, L2, L3 = sy.symbols('L1 L2 L3')\n",
    "m1, m2, m3, m4, m5, m6 = sy.symbols('m1 m2 m3 m4 m5 m6')\n",
    "# m1 = m2 = m = 0.3\n",
    "# L1 = 0.5* m\n",
    "# L2 = 0.3 * m\n",
    "radius = sy.symbols('r')\n",
    "q = sy.Matrix([q1, q2, q3, q4, q5, q6])\n",
    "dq = sy.Matrix([dq1, dq2, dq3, dq4, dq5, dq6])\n",
    "ddq = sy.Matrix([ddq1, ddq2, ddq3, ddq4, ddq5, ddq6])\n",
    "Ix1, Iy1, Iz1, Ix2, Iy2, Iz2, Ix3, Iy3, Iz3, Ix4, Iy4, Iz4, Ix5, Iy5, Iz5, Ix6, Iy6, Iz6 = sy.symbols('Ix1 Iy1 Iz1 Ix2 Iy2 Iz2 Ix3 Iy3 Iz3 Ix4 Iy4 Iz4 Ix5 Iy5 Iz5 Ix6 Iy6 Iz6')\n",
    "G = sy.symbols('g')"
   ],
   "metadata": {
    "collapsed": false,
    "pycharm": {
     "name": "#%%\n"
    }
   }
  },
  {
   "cell_type": "markdown",
   "source": [
    "### Functions"
   ],
   "metadata": {
    "collapsed": false,
    "pycharm": {
     "name": "#%% md\n"
    }
   }
  },
  {
   "cell_type": "code",
   "execution_count": 17,
   "outputs": [],
   "source": [
    "# Matrices of rotation and translation in symbolic view with sympy\n",
    "def Ry(q):\n",
    "    return sy.Matrix([[sy.cos(q),0,0,sy.sin(q)],\n",
    "                      [0,1,0,0],\n",
    "                      [-sy.sin(q), 0,1,sy.cos(q)],\n",
    "                      [0,0,0,1]])\n",
    "\n",
    "def Rz(q):\n",
    "    return sy.Matrix([[sy.cos(q),-sy.sin(q), 0, 0],\n",
    "                      [sy.sin(q),sy.cos(q), 0, 0],\n",
    "                      [0, 0, 1, 0],\n",
    "                      [0, 0, 0, 1]])\n",
    "\n",
    "def Tz(z):\n",
    "    return sy.Matrix([[1,0,0,0],\n",
    "                      [0,1,0,0],\n",
    "                      [0,0,1,z],\n",
    "                      [0,0,0,1]])\n",
    "def Ty(z):\n",
    "    return sy.Matrix([[1,0,0,0],\n",
    "                      [0,1,0,z],\n",
    "                      [0,0,1,0],\n",
    "                      [0,0,0,1]])\n",
    "\n",
    "def Tx(z):\n",
    "    return sy.Matrix([[1,0,0,z],\n",
    "                      [0,1,0,0],\n",
    "                      [0,0,1,0],\n",
    "                      [0,0,0,1]])\n",
    "def vectors(mtx):\n",
    "    return mtx[:3, 3], mtx[:3, :3]"
   ],
   "metadata": {
    "collapsed": false,
    "pycharm": {
     "name": "#%%\n"
    }
   }
  },
  {
   "cell_type": "code",
   "execution_count": 4,
   "outputs": [],
   "source": [
    "# My own cross product function (I had some problems with sympy cross product functions)\n",
    "def cross(a, b):\n",
    "    c = [a[1]*b[2] - a[2]*b[1],\n",
    "         a[2]*b[0] - a[0]*b[2],\n",
    "         a[0]*b[1] - a[1]*b[0]]\n",
    "\n",
    "    return sy.Matrix(c)"
   ],
   "metadata": {
    "collapsed": false,
    "pycharm": {
     "name": "#%%\n"
    }
   }
  },
  {
   "cell_type": "code",
   "execution_count": 51,
   "outputs": [],
   "source": [
    "FK = Rz(q1) @ Tz(L1) @ Ry(q2) @ Tx(L2)"
   ],
   "metadata": {
    "collapsed": false,
    "pycharm": {
     "name": "#%%\n"
    }
   }
  },
  {
   "cell_type": "code",
   "execution_count": 5,
   "outputs": [],
   "source": [
    "def ForwardKinematics(args): #from previous assignment\n",
    "    q1,q2,q3,q4,q5,q6,L1,L2,L3 = args\n",
    "    Tbase = np.identity(4)\n",
    "    return Tbase @ Rz(q1) @ Tz(L1) @ Rx(q2) @ Tz(L2) @ Rx(q3) @ Tz(L3) @ Rz(q4) @ Rx(q5) @ Rz(q6)"
   ],
   "metadata": {
    "collapsed": false,
    "pycharm": {
     "name": "#%%\n"
    }
   }
  },
  {
   "cell_type": "markdown",
   "source": [
    "### Forward Kinematics"
   ],
   "metadata": {
    "collapsed": false,
    "pycharm": {
     "name": "#%% md\n"
    }
   }
  },
  {
   "cell_type": "code",
   "execution_count": 6,
   "outputs": [
    {
     "data": {
      "text/plain": "Matrix([\n[   (((1.0*sin(q1)*sin(q2)*sin(q3) - 1.0*sin(q1)*cos(q2)*cos(q3))*cos(q4) - 1.0*sin(q4)*cos(q1))*cos(q5) + (1.0*sin(q1)*sin(q2)*cos(q3) + 1.0*sin(q1)*sin(q3)*cos(q2))*sin(q5))*sin(q6) + ((1.0*sin(q1)*sin(q2)*sin(q3) - 1.0*sin(q1)*cos(q2)*cos(q3))*sin(q4) + 1.0*cos(q1)*cos(q4))*cos(q6),    (((1.0*sin(q1)*sin(q2)*sin(q3) - 1.0*sin(q1)*cos(q2)*cos(q3))*cos(q4) - 1.0*sin(q4)*cos(q1))*cos(q5) + (1.0*sin(q1)*sin(q2)*cos(q3) + 1.0*sin(q1)*sin(q3)*cos(q2))*sin(q5))*cos(q6) - ((1.0*sin(q1)*sin(q2)*sin(q3) - 1.0*sin(q1)*cos(q2)*cos(q3))*sin(q4) + 1.0*cos(q1)*cos(q4))*sin(q6),   -((1.0*sin(q1)*sin(q2)*sin(q3) - 1.0*sin(q1)*cos(q2)*cos(q3))*cos(q4) - 1.0*sin(q4)*cos(q1))*sin(q5) + (1.0*sin(q1)*sin(q2)*cos(q3) + 1.0*sin(q1)*sin(q3)*cos(q2))*cos(q5),   1.0*L2*sin(q1)*sin(q2) + L3*(1.0*sin(q1)*sin(q2)*cos(q3) + 1.0*sin(q1)*sin(q3)*cos(q2))],\n[(((-1.0*sin(q2)*sin(q3)*cos(q1) + 1.0*cos(q1)*cos(q2)*cos(q3))*cos(q4) - 1.0*sin(q1)*sin(q4))*cos(q5) + (-1.0*sin(q2)*cos(q1)*cos(q3) - 1.0*sin(q3)*cos(q1)*cos(q2))*sin(q5))*sin(q6) + ((-1.0*sin(q2)*sin(q3)*cos(q1) + 1.0*cos(q1)*cos(q2)*cos(q3))*sin(q4) + 1.0*sin(q1)*cos(q4))*cos(q6), (((-1.0*sin(q2)*sin(q3)*cos(q1) + 1.0*cos(q1)*cos(q2)*cos(q3))*cos(q4) - 1.0*sin(q1)*sin(q4))*cos(q5) + (-1.0*sin(q2)*cos(q1)*cos(q3) - 1.0*sin(q3)*cos(q1)*cos(q2))*sin(q5))*cos(q6) - ((-1.0*sin(q2)*sin(q3)*cos(q1) + 1.0*cos(q1)*cos(q2)*cos(q3))*sin(q4) + 1.0*sin(q1)*cos(q4))*sin(q6), -((-1.0*sin(q2)*sin(q3)*cos(q1) + 1.0*cos(q1)*cos(q2)*cos(q3))*cos(q4) - 1.0*sin(q1)*sin(q4))*sin(q5) + (-1.0*sin(q2)*cos(q1)*cos(q3) - 1.0*sin(q3)*cos(q1)*cos(q2))*cos(q5), -1.0*L2*sin(q2)*cos(q1) + L3*(-1.0*sin(q2)*cos(q1)*cos(q3) - 1.0*sin(q3)*cos(q1)*cos(q2))],\n[                                                                                                  ((-1.0*sin(q2)*sin(q3) + 1.0*cos(q2)*cos(q3))*sin(q5) + (1.0*sin(q2)*cos(q3) + 1.0*sin(q3)*cos(q2))*cos(q4)*cos(q5))*sin(q6) + (1.0*sin(q2)*cos(q3) + 1.0*sin(q3)*cos(q2))*sin(q4)*cos(q6),                                                                                                   ((-1.0*sin(q2)*sin(q3) + 1.0*cos(q2)*cos(q3))*sin(q5) + (1.0*sin(q2)*cos(q3) + 1.0*sin(q3)*cos(q2))*cos(q4)*cos(q5))*cos(q6) - (1.0*sin(q2)*cos(q3) + 1.0*sin(q3)*cos(q2))*sin(q4)*sin(q6),                                                           (-1.0*sin(q2)*sin(q3) + 1.0*cos(q2)*cos(q3))*cos(q5) - (1.0*sin(q2)*cos(q3) + 1.0*sin(q3)*cos(q2))*sin(q5)*cos(q4),                 1.0*L1 + 1.0*L2*cos(q2) + L3*(-1.0*sin(q2)*sin(q3) + 1.0*cos(q2)*cos(q3))],\n[                                                                                                                                                                                                                                                                                           0,                                                                                                                                                                                                                                                                                            0,                                                                                                                                                                            0,                                                                                       1.0]])",
      "text/latex": "$\\displaystyle \\left[\\begin{matrix}\\left(\\left(\\left(1.0 \\sin{\\left(q_{1} \\right)} \\sin{\\left(q_{2} \\right)} \\sin{\\left(q_{3} \\right)} - 1.0 \\sin{\\left(q_{1} \\right)} \\cos{\\left(q_{2} \\right)} \\cos{\\left(q_{3} \\right)}\\right) \\cos{\\left(q_{4} \\right)} - 1.0 \\sin{\\left(q_{4} \\right)} \\cos{\\left(q_{1} \\right)}\\right) \\cos{\\left(q_{5} \\right)} + \\left(1.0 \\sin{\\left(q_{1} \\right)} \\sin{\\left(q_{2} \\right)} \\cos{\\left(q_{3} \\right)} + 1.0 \\sin{\\left(q_{1} \\right)} \\sin{\\left(q_{3} \\right)} \\cos{\\left(q_{2} \\right)}\\right) \\sin{\\left(q_{5} \\right)}\\right) \\sin{\\left(q_{6} \\right)} + \\left(\\left(1.0 \\sin{\\left(q_{1} \\right)} \\sin{\\left(q_{2} \\right)} \\sin{\\left(q_{3} \\right)} - 1.0 \\sin{\\left(q_{1} \\right)} \\cos{\\left(q_{2} \\right)} \\cos{\\left(q_{3} \\right)}\\right) \\sin{\\left(q_{4} \\right)} + 1.0 \\cos{\\left(q_{1} \\right)} \\cos{\\left(q_{4} \\right)}\\right) \\cos{\\left(q_{6} \\right)} & \\left(\\left(\\left(1.0 \\sin{\\left(q_{1} \\right)} \\sin{\\left(q_{2} \\right)} \\sin{\\left(q_{3} \\right)} - 1.0 \\sin{\\left(q_{1} \\right)} \\cos{\\left(q_{2} \\right)} \\cos{\\left(q_{3} \\right)}\\right) \\cos{\\left(q_{4} \\right)} - 1.0 \\sin{\\left(q_{4} \\right)} \\cos{\\left(q_{1} \\right)}\\right) \\cos{\\left(q_{5} \\right)} + \\left(1.0 \\sin{\\left(q_{1} \\right)} \\sin{\\left(q_{2} \\right)} \\cos{\\left(q_{3} \\right)} + 1.0 \\sin{\\left(q_{1} \\right)} \\sin{\\left(q_{3} \\right)} \\cos{\\left(q_{2} \\right)}\\right) \\sin{\\left(q_{5} \\right)}\\right) \\cos{\\left(q_{6} \\right)} - \\left(\\left(1.0 \\sin{\\left(q_{1} \\right)} \\sin{\\left(q_{2} \\right)} \\sin{\\left(q_{3} \\right)} - 1.0 \\sin{\\left(q_{1} \\right)} \\cos{\\left(q_{2} \\right)} \\cos{\\left(q_{3} \\right)}\\right) \\sin{\\left(q_{4} \\right)} + 1.0 \\cos{\\left(q_{1} \\right)} \\cos{\\left(q_{4} \\right)}\\right) \\sin{\\left(q_{6} \\right)} & - \\left(\\left(1.0 \\sin{\\left(q_{1} \\right)} \\sin{\\left(q_{2} \\right)} \\sin{\\left(q_{3} \\right)} - 1.0 \\sin{\\left(q_{1} \\right)} \\cos{\\left(q_{2} \\right)} \\cos{\\left(q_{3} \\right)}\\right) \\cos{\\left(q_{4} \\right)} - 1.0 \\sin{\\left(q_{4} \\right)} \\cos{\\left(q_{1} \\right)}\\right) \\sin{\\left(q_{5} \\right)} + \\left(1.0 \\sin{\\left(q_{1} \\right)} \\sin{\\left(q_{2} \\right)} \\cos{\\left(q_{3} \\right)} + 1.0 \\sin{\\left(q_{1} \\right)} \\sin{\\left(q_{3} \\right)} \\cos{\\left(q_{2} \\right)}\\right) \\cos{\\left(q_{5} \\right)} & 1.0 L_{2} \\sin{\\left(q_{1} \\right)} \\sin{\\left(q_{2} \\right)} + L_{3} \\cdot \\left(1.0 \\sin{\\left(q_{1} \\right)} \\sin{\\left(q_{2} \\right)} \\cos{\\left(q_{3} \\right)} + 1.0 \\sin{\\left(q_{1} \\right)} \\sin{\\left(q_{3} \\right)} \\cos{\\left(q_{2} \\right)}\\right)\\\\\\left(\\left(\\left(- 1.0 \\sin{\\left(q_{2} \\right)} \\sin{\\left(q_{3} \\right)} \\cos{\\left(q_{1} \\right)} + 1.0 \\cos{\\left(q_{1} \\right)} \\cos{\\left(q_{2} \\right)} \\cos{\\left(q_{3} \\right)}\\right) \\cos{\\left(q_{4} \\right)} - 1.0 \\sin{\\left(q_{1} \\right)} \\sin{\\left(q_{4} \\right)}\\right) \\cos{\\left(q_{5} \\right)} + \\left(- 1.0 \\sin{\\left(q_{2} \\right)} \\cos{\\left(q_{1} \\right)} \\cos{\\left(q_{3} \\right)} - 1.0 \\sin{\\left(q_{3} \\right)} \\cos{\\left(q_{1} \\right)} \\cos{\\left(q_{2} \\right)}\\right) \\sin{\\left(q_{5} \\right)}\\right) \\sin{\\left(q_{6} \\right)} + \\left(\\left(- 1.0 \\sin{\\left(q_{2} \\right)} \\sin{\\left(q_{3} \\right)} \\cos{\\left(q_{1} \\right)} + 1.0 \\cos{\\left(q_{1} \\right)} \\cos{\\left(q_{2} \\right)} \\cos{\\left(q_{3} \\right)}\\right) \\sin{\\left(q_{4} \\right)} + 1.0 \\sin{\\left(q_{1} \\right)} \\cos{\\left(q_{4} \\right)}\\right) \\cos{\\left(q_{6} \\right)} & \\left(\\left(\\left(- 1.0 \\sin{\\left(q_{2} \\right)} \\sin{\\left(q_{3} \\right)} \\cos{\\left(q_{1} \\right)} + 1.0 \\cos{\\left(q_{1} \\right)} \\cos{\\left(q_{2} \\right)} \\cos{\\left(q_{3} \\right)}\\right) \\cos{\\left(q_{4} \\right)} - 1.0 \\sin{\\left(q_{1} \\right)} \\sin{\\left(q_{4} \\right)}\\right) \\cos{\\left(q_{5} \\right)} + \\left(- 1.0 \\sin{\\left(q_{2} \\right)} \\cos{\\left(q_{1} \\right)} \\cos{\\left(q_{3} \\right)} - 1.0 \\sin{\\left(q_{3} \\right)} \\cos{\\left(q_{1} \\right)} \\cos{\\left(q_{2} \\right)}\\right) \\sin{\\left(q_{5} \\right)}\\right) \\cos{\\left(q_{6} \\right)} - \\left(\\left(- 1.0 \\sin{\\left(q_{2} \\right)} \\sin{\\left(q_{3} \\right)} \\cos{\\left(q_{1} \\right)} + 1.0 \\cos{\\left(q_{1} \\right)} \\cos{\\left(q_{2} \\right)} \\cos{\\left(q_{3} \\right)}\\right) \\sin{\\left(q_{4} \\right)} + 1.0 \\sin{\\left(q_{1} \\right)} \\cos{\\left(q_{4} \\right)}\\right) \\sin{\\left(q_{6} \\right)} & - \\left(\\left(- 1.0 \\sin{\\left(q_{2} \\right)} \\sin{\\left(q_{3} \\right)} \\cos{\\left(q_{1} \\right)} + 1.0 \\cos{\\left(q_{1} \\right)} \\cos{\\left(q_{2} \\right)} \\cos{\\left(q_{3} \\right)}\\right) \\cos{\\left(q_{4} \\right)} - 1.0 \\sin{\\left(q_{1} \\right)} \\sin{\\left(q_{4} \\right)}\\right) \\sin{\\left(q_{5} \\right)} + \\left(- 1.0 \\sin{\\left(q_{2} \\right)} \\cos{\\left(q_{1} \\right)} \\cos{\\left(q_{3} \\right)} - 1.0 \\sin{\\left(q_{3} \\right)} \\cos{\\left(q_{1} \\right)} \\cos{\\left(q_{2} \\right)}\\right) \\cos{\\left(q_{5} \\right)} & - 1.0 L_{2} \\sin{\\left(q_{2} \\right)} \\cos{\\left(q_{1} \\right)} + L_{3} \\left(- 1.0 \\sin{\\left(q_{2} \\right)} \\cos{\\left(q_{1} \\right)} \\cos{\\left(q_{3} \\right)} - 1.0 \\sin{\\left(q_{3} \\right)} \\cos{\\left(q_{1} \\right)} \\cos{\\left(q_{2} \\right)}\\right)\\\\\\left(\\left(- 1.0 \\sin{\\left(q_{2} \\right)} \\sin{\\left(q_{3} \\right)} + 1.0 \\cos{\\left(q_{2} \\right)} \\cos{\\left(q_{3} \\right)}\\right) \\sin{\\left(q_{5} \\right)} + \\left(1.0 \\sin{\\left(q_{2} \\right)} \\cos{\\left(q_{3} \\right)} + 1.0 \\sin{\\left(q_{3} \\right)} \\cos{\\left(q_{2} \\right)}\\right) \\cos{\\left(q_{4} \\right)} \\cos{\\left(q_{5} \\right)}\\right) \\sin{\\left(q_{6} \\right)} + \\left(1.0 \\sin{\\left(q_{2} \\right)} \\cos{\\left(q_{3} \\right)} + 1.0 \\sin{\\left(q_{3} \\right)} \\cos{\\left(q_{2} \\right)}\\right) \\sin{\\left(q_{4} \\right)} \\cos{\\left(q_{6} \\right)} & \\left(\\left(- 1.0 \\sin{\\left(q_{2} \\right)} \\sin{\\left(q_{3} \\right)} + 1.0 \\cos{\\left(q_{2} \\right)} \\cos{\\left(q_{3} \\right)}\\right) \\sin{\\left(q_{5} \\right)} + \\left(1.0 \\sin{\\left(q_{2} \\right)} \\cos{\\left(q_{3} \\right)} + 1.0 \\sin{\\left(q_{3} \\right)} \\cos{\\left(q_{2} \\right)}\\right) \\cos{\\left(q_{4} \\right)} \\cos{\\left(q_{5} \\right)}\\right) \\cos{\\left(q_{6} \\right)} - \\left(1.0 \\sin{\\left(q_{2} \\right)} \\cos{\\left(q_{3} \\right)} + 1.0 \\sin{\\left(q_{3} \\right)} \\cos{\\left(q_{2} \\right)}\\right) \\sin{\\left(q_{4} \\right)} \\sin{\\left(q_{6} \\right)} & \\left(- 1.0 \\sin{\\left(q_{2} \\right)} \\sin{\\left(q_{3} \\right)} + 1.0 \\cos{\\left(q_{2} \\right)} \\cos{\\left(q_{3} \\right)}\\right) \\cos{\\left(q_{5} \\right)} - \\left(1.0 \\sin{\\left(q_{2} \\right)} \\cos{\\left(q_{3} \\right)} + 1.0 \\sin{\\left(q_{3} \\right)} \\cos{\\left(q_{2} \\right)}\\right) \\sin{\\left(q_{5} \\right)} \\cos{\\left(q_{4} \\right)} & 1.0 L_{1} + 1.0 L_{2} \\cos{\\left(q_{2} \\right)} + L_{3} \\left(- 1.0 \\sin{\\left(q_{2} \\right)} \\sin{\\left(q_{3} \\right)} + 1.0 \\cos{\\left(q_{2} \\right)} \\cos{\\left(q_{3} \\right)}\\right)\\\\0 & 0 & 0 & 1.0\\end{matrix}\\right]$"
     },
     "execution_count": 6,
     "metadata": {},
     "output_type": "execute_result"
    }
   ],
   "source": [
    "#FK in symbolic view\n",
    "args = q1,q2,q3,q4,q5,q6,L1,L2,L3\n",
    "FK = ForwardKinematics([q1,q2,q3,q4,q5,q6,L1,L2,L3])\n",
    "FK"
   ],
   "metadata": {
    "collapsed": false,
    "pycharm": {
     "name": "#%%\n"
    }
   }
  },
  {
   "cell_type": "code",
   "execution_count": 52,
   "outputs": [
    {
     "data": {
      "text/plain": "Matrix([\n[L2*cos(q1)*cos(q2) + sin(q2)*cos(q1)],\n[L2*sin(q1)*cos(q2) + sin(q1)*sin(q2)],\n[           L1 - L2*sin(q2) + cos(q2)]])",
      "text/latex": "$\\displaystyle \\left[\\begin{matrix}L_{2} \\cos{\\left(q_{1} \\right)} \\cos{\\left(q_{2} \\right)} + \\sin{\\left(q_{2} \\right)} \\cos{\\left(q_{1} \\right)}\\\\L_{2} \\sin{\\left(q_{1} \\right)} \\cos{\\left(q_{2} \\right)} + \\sin{\\left(q_{1} \\right)} \\sin{\\left(q_{2} \\right)}\\\\L_{1} - L_{2} \\sin{\\left(q_{2} \\right)} + \\cos{\\left(q_{2} \\right)}\\end{matrix}\\right]$"
     },
     "execution_count": 52,
     "metadata": {},
     "output_type": "execute_result"
    }
   ],
   "source": [
    "On, rotation_mtx = vectors(FK)\n",
    "On"
   ],
   "metadata": {
    "collapsed": false,
    "pycharm": {
     "name": "#%%\n"
    }
   }
  },
  {
   "cell_type": "code",
   "execution_count": 53,
   "outputs": [
    {
     "data": {
      "text/plain": "Matrix([\n[cos(q1)*cos(q2), -sin(q1), 0, L2*cos(q1)*cos(q2) + sin(q2)*cos(q1)],\n[sin(q1)*cos(q2),  cos(q1), 0, L2*sin(q1)*cos(q2) + sin(q1)*sin(q2)],\n[       -sin(q2),        0, 1,            L1 - L2*sin(q2) + cos(q2)],\n[              0,        0, 0,                                    1]])",
      "text/latex": "$\\displaystyle \\left[\\begin{matrix}\\cos{\\left(q_{1} \\right)} \\cos{\\left(q_{2} \\right)} & - \\sin{\\left(q_{1} \\right)} & 0 & L_{2} \\cos{\\left(q_{1} \\right)} \\cos{\\left(q_{2} \\right)} + \\sin{\\left(q_{2} \\right)} \\cos{\\left(q_{1} \\right)}\\\\\\sin{\\left(q_{1} \\right)} \\cos{\\left(q_{2} \\right)} & \\cos{\\left(q_{1} \\right)} & 0 & L_{2} \\sin{\\left(q_{1} \\right)} \\cos{\\left(q_{2} \\right)} + \\sin{\\left(q_{1} \\right)} \\sin{\\left(q_{2} \\right)}\\\\- \\sin{\\left(q_{2} \\right)} & 0 & 1 & L_{1} - L_{2} \\sin{\\left(q_{2} \\right)} + \\cos{\\left(q_{2} \\right)}\\\\0 & 0 & 0 & 1\\end{matrix}\\right]$"
     },
     "execution_count": 53,
     "metadata": {},
     "output_type": "execute_result"
    }
   ],
   "source": [
    "FK"
   ],
   "metadata": {
    "collapsed": false,
    "pycharm": {
     "name": "#%%\n"
    }
   }
  },
  {
   "cell_type": "code",
   "execution_count": 54,
   "outputs": [
    {
     "data": {
      "text/plain": "Matrix([\n[-L2*sin(q1)*cos(q2) - sin(q1)*sin(q2), 0],\n[ L2*cos(q1)*cos(q2) + sin(q2)*cos(q1), 0],\n[                                    0, 0],\n[                                    0, 0],\n[                                    0, 0],\n[                                    1, 0]])",
      "text/latex": "$\\displaystyle \\left[\\begin{matrix}- L_{2} \\sin{\\left(q_{1} \\right)} \\cos{\\left(q_{2} \\right)} - \\sin{\\left(q_{1} \\right)} \\sin{\\left(q_{2} \\right)} & 0\\\\L_{2} \\cos{\\left(q_{1} \\right)} \\cos{\\left(q_{2} \\right)} + \\sin{\\left(q_{2} \\right)} \\cos{\\left(q_{1} \\right)} & 0\\\\0 & 0\\\\0 & 0\\\\0 & 0\\\\1 & 0\\end{matrix}\\right]$"
     },
     "execution_count": 54,
     "metadata": {},
     "output_type": "execute_result"
    }
   ],
   "source": [
    "J1 = sy.zeros(6,2)\n",
    "O1, rot1 = vectors(Rz(q1) @ Tz(L1/2)) # half of length is a translation from base to center of mass\n",
    "U1 = rot1[:, 2]\n",
    "J1[:,0] = sy.Matrix(np.concatenate((cross(U1, On-O1),U1)))\n",
    "J1"
   ],
   "metadata": {
    "collapsed": false,
    "pycharm": {
     "name": "#%%\n"
    }
   }
  },
  {
   "cell_type": "code",
   "execution_count": 55,
   "outputs": [
    {
     "data": {
      "text/plain": "Matrix([\n[-L2*sin(q1)*cos(q2) - sin(q1)*sin(q2),               0],\n[ L2*cos(q1)*cos(q2) + sin(q2)*cos(q1),               0],\n[                                    0,               0],\n[                                    0, cos(q1)*cos(q2)],\n[                                    0, sin(q1)*cos(q2)],\n[                                    1,        -sin(q2)]])",
      "text/latex": "$\\displaystyle \\left[\\begin{matrix}- L_{2} \\sin{\\left(q_{1} \\right)} \\cos{\\left(q_{2} \\right)} - \\sin{\\left(q_{1} \\right)} \\sin{\\left(q_{2} \\right)} & 0\\\\L_{2} \\cos{\\left(q_{1} \\right)} \\cos{\\left(q_{2} \\right)} + \\sin{\\left(q_{2} \\right)} \\cos{\\left(q_{1} \\right)} & 0\\\\0 & 0\\\\0 & \\cos{\\left(q_{1} \\right)} \\cos{\\left(q_{2} \\right)}\\\\0 & \\sin{\\left(q_{1} \\right)} \\cos{\\left(q_{2} \\right)}\\\\1 & - \\sin{\\left(q_{2} \\right)}\\end{matrix}\\right]$"
     },
     "execution_count": 55,
     "metadata": {},
     "output_type": "execute_result"
    }
   ],
   "source": [
    "J2 = sy.zeros(6,2)\n",
    "O1, rot1 = vectors(Rz(q1) @ Tz(L1))\n",
    "U1 = rot1[:, 2]\n",
    "J2[:,0] = sy.Matrix(np.concatenate((cross(U1, On-O1),U1)))\n",
    "O2, rot2 = vectors(Rz(q1) @ Tz(L1) @ Ry(q2) @ Tx(L2/2))\n",
    "U2 = rot2[:, 0]\n",
    "J2[:,1] = sy.Matrix(np.concatenate((cross(U2, On-O2), U2)))\n",
    "J2"
   ],
   "metadata": {
    "collapsed": false,
    "pycharm": {
     "name": "#%%\n"
    }
   }
  },
  {
   "cell_type": "markdown",
   "source": [
    "### Jacobians"
   ],
   "metadata": {
    "collapsed": false,
    "pycharm": {
     "name": "#%% md\n"
    }
   }
  },
  {
   "cell_type": "code",
   "execution_count": 8,
   "outputs": [
    {
     "data": {
      "text/plain": "Matrix([\n[1.0*L2*sin(q2)*cos(q1) - L3*(-1.0*sin(q2)*cos(q1)*cos(q3) - 1.0*sin(q3)*cos(q1)*cos(q2)),                                                                                           L3*(-1.0*sin(q2)*sin(q3) + 1.0*cos(q2)*cos(q3))*sin(q1),                                                                                                                                                                       (L3*(-1.0*sin(q2)*sin(q3) + 1.0*cos(q2)*cos(q3)) - L3*(-sin(q2)*sin(q3) + cos(q2)*cos(q3)))*sin(q1),                                               (L3*(-1.0*sin(q2)*sin(q3) + 1.0*cos(q2)*cos(q3)) - L3*(-sin(q2)*sin(q3) + cos(q2)*cos(q3)))*(-sin(q2)*cos(q1)*cos(q3) - sin(q3)*cos(q1)*cos(q2)) - (-L3*(-sin(q2)*cos(q1)*cos(q3) - sin(q3)*cos(q1)*cos(q2)) + L3*(-1.0*sin(q2)*cos(q1)*cos(q3) - 1.0*sin(q3)*cos(q1)*cos(q2)))*(-sin(q2)*sin(q3) + cos(q2)*cos(q3)),                                                                                    (L3*(-1.0*sin(q2)*sin(q3) + 1.0*cos(q2)*cos(q3)) - L3*(-sin(q2)*sin(q3) + cos(q2)*cos(q3)))*(-((-sin(q2)*sin(q3)*cos(q1) + cos(q1)*cos(q2)*cos(q3))*cos(q4) - sin(q1)*sin(q4))*sin(q5) + (-sin(q2)*cos(q1)*cos(q3) - sin(q3)*cos(q1)*cos(q2))*cos(q5)) - (-L3*(-sin(q2)*cos(q1)*cos(q3) - sin(q3)*cos(q1)*cos(q2)) + L3*(-1.0*sin(q2)*cos(q1)*cos(q3) - 1.0*sin(q3)*cos(q1)*cos(q2)))*((-sin(q2)*sin(q3) + cos(q2)*cos(q3))*cos(q5) - (sin(q2)*cos(q3) + sin(q3)*cos(q2))*sin(q5)*cos(q4)),                                                                                    (L3*(-1.0*sin(q2)*sin(q3) + 1.0*cos(q2)*cos(q3)) - L3*(-sin(q2)*sin(q3) + cos(q2)*cos(q3)))*(-((-sin(q2)*sin(q3)*cos(q1) + cos(q1)*cos(q2)*cos(q3))*cos(q4) - sin(q1)*sin(q4))*sin(q5) + (-sin(q2)*cos(q1)*cos(q3) - sin(q3)*cos(q1)*cos(q2))*cos(q5)) - (-L3*(-sin(q2)*cos(q1)*cos(q3) - sin(q3)*cos(q1)*cos(q2)) + L3*(-1.0*sin(q2)*cos(q1)*cos(q3) - 1.0*sin(q3)*cos(q1)*cos(q2)))*((-sin(q2)*sin(q3) + cos(q2)*cos(q3))*cos(q5) - (sin(q2)*cos(q3) + sin(q3)*cos(q2))*sin(q5)*cos(q4))],\n[ 1.0*L2*sin(q1)*sin(q2) + L3*(1.0*sin(q1)*sin(q2)*cos(q3) + 1.0*sin(q1)*sin(q3)*cos(q2)),                                                                                          -L3*(-1.0*sin(q2)*sin(q3) + 1.0*cos(q2)*cos(q3))*cos(q1),                                                                                                                                                                      -(L3*(-1.0*sin(q2)*sin(q3) + 1.0*cos(q2)*cos(q3)) - L3*(-sin(q2)*sin(q3) + cos(q2)*cos(q3)))*cos(q1),                                                  -(L3*(-1.0*sin(q2)*sin(q3) + 1.0*cos(q2)*cos(q3)) - L3*(-sin(q2)*sin(q3) + cos(q2)*cos(q3)))*(sin(q1)*sin(q2)*cos(q3) + sin(q1)*sin(q3)*cos(q2)) + (L3*(1.0*sin(q1)*sin(q2)*cos(q3) + 1.0*sin(q1)*sin(q3)*cos(q2)) - L3*(sin(q1)*sin(q2)*cos(q3) + sin(q1)*sin(q3)*cos(q2)))*(-sin(q2)*sin(q3) + cos(q2)*cos(q3)),                                                                                        -(L3*(-1.0*sin(q2)*sin(q3) + 1.0*cos(q2)*cos(q3)) - L3*(-sin(q2)*sin(q3) + cos(q2)*cos(q3)))*(-((sin(q1)*sin(q2)*sin(q3) - sin(q1)*cos(q2)*cos(q3))*cos(q4) - sin(q4)*cos(q1))*sin(q5) + (sin(q1)*sin(q2)*cos(q3) + sin(q1)*sin(q3)*cos(q2))*cos(q5)) + (L3*(1.0*sin(q1)*sin(q2)*cos(q3) + 1.0*sin(q1)*sin(q3)*cos(q2)) - L3*(sin(q1)*sin(q2)*cos(q3) + sin(q1)*sin(q3)*cos(q2)))*((-sin(q2)*sin(q3) + cos(q2)*cos(q3))*cos(q5) - (sin(q2)*cos(q3) + sin(q3)*cos(q2))*sin(q5)*cos(q4)),                                                                                        -(L3*(-1.0*sin(q2)*sin(q3) + 1.0*cos(q2)*cos(q3)) - L3*(-sin(q2)*sin(q3) + cos(q2)*cos(q3)))*(-((sin(q1)*sin(q2)*sin(q3) - sin(q1)*cos(q2)*cos(q3))*cos(q4) - sin(q4)*cos(q1))*sin(q5) + (sin(q1)*sin(q2)*cos(q3) + sin(q1)*sin(q3)*cos(q2))*cos(q5)) + (L3*(1.0*sin(q1)*sin(q2)*cos(q3) + 1.0*sin(q1)*sin(q3)*cos(q2)) - L3*(sin(q1)*sin(q2)*cos(q3) + sin(q1)*sin(q3)*cos(q2)))*((-sin(q2)*sin(q3) + cos(q2)*cos(q3))*cos(q5) - (sin(q2)*cos(q3) + sin(q3)*cos(q2))*sin(q5)*cos(q4))],\n[                                                                                       0, -L3*(1.0*sin(q1)*sin(q2)*cos(q3) + 1.0*sin(q1)*sin(q3)*cos(q2))*sin(q1) + L3*(-1.0*sin(q2)*cos(q1)*cos(q3) - 1.0*sin(q3)*cos(q1)*cos(q2))*cos(q1), -(L3*(1.0*sin(q1)*sin(q2)*cos(q3) + 1.0*sin(q1)*sin(q3)*cos(q2)) - L3*(sin(q1)*sin(q2)*cos(q3) + sin(q1)*sin(q3)*cos(q2)))*sin(q1) + (-L3*(-sin(q2)*cos(q1)*cos(q3) - sin(q3)*cos(q1)*cos(q2)) + L3*(-1.0*sin(q2)*cos(q1)*cos(q3) - 1.0*sin(q3)*cos(q1)*cos(q2)))*cos(q1), -(L3*(1.0*sin(q1)*sin(q2)*cos(q3) + 1.0*sin(q1)*sin(q3)*cos(q2)) - L3*(sin(q1)*sin(q2)*cos(q3) + sin(q1)*sin(q3)*cos(q2)))*(-sin(q2)*cos(q1)*cos(q3) - sin(q3)*cos(q1)*cos(q2)) + (-L3*(-sin(q2)*cos(q1)*cos(q3) - sin(q3)*cos(q1)*cos(q2)) + L3*(-1.0*sin(q2)*cos(q1)*cos(q3) - 1.0*sin(q3)*cos(q1)*cos(q2)))*(sin(q1)*sin(q2)*cos(q3) + sin(q1)*sin(q3)*cos(q2)), -(L3*(1.0*sin(q1)*sin(q2)*cos(q3) + 1.0*sin(q1)*sin(q3)*cos(q2)) - L3*(sin(q1)*sin(q2)*cos(q3) + sin(q1)*sin(q3)*cos(q2)))*(-((-sin(q2)*sin(q3)*cos(q1) + cos(q1)*cos(q2)*cos(q3))*cos(q4) - sin(q1)*sin(q4))*sin(q5) + (-sin(q2)*cos(q1)*cos(q3) - sin(q3)*cos(q1)*cos(q2))*cos(q5)) + (-L3*(-sin(q2)*cos(q1)*cos(q3) - sin(q3)*cos(q1)*cos(q2)) + L3*(-1.0*sin(q2)*cos(q1)*cos(q3) - 1.0*sin(q3)*cos(q1)*cos(q2)))*(-((sin(q1)*sin(q2)*sin(q3) - sin(q1)*cos(q2)*cos(q3))*cos(q4) - sin(q4)*cos(q1))*sin(q5) + (sin(q1)*sin(q2)*cos(q3) + sin(q1)*sin(q3)*cos(q2))*cos(q5)), -(L3*(1.0*sin(q1)*sin(q2)*cos(q3) + 1.0*sin(q1)*sin(q3)*cos(q2)) - L3*(sin(q1)*sin(q2)*cos(q3) + sin(q1)*sin(q3)*cos(q2)))*(-((-sin(q2)*sin(q3)*cos(q1) + cos(q1)*cos(q2)*cos(q3))*cos(q4) - sin(q1)*sin(q4))*sin(q5) + (-sin(q2)*cos(q1)*cos(q3) - sin(q3)*cos(q1)*cos(q2))*cos(q5)) + (-L3*(-sin(q2)*cos(q1)*cos(q3) - sin(q3)*cos(q1)*cos(q2)) + L3*(-1.0*sin(q2)*cos(q1)*cos(q3) - 1.0*sin(q3)*cos(q1)*cos(q2)))*(-((sin(q1)*sin(q2)*sin(q3) - sin(q1)*cos(q2)*cos(q3))*cos(q4) - sin(q4)*cos(q1))*sin(q5) + (sin(q1)*sin(q2)*cos(q3) + sin(q1)*sin(q3)*cos(q2))*cos(q5))],\n[                                                                                       0,                                                                                                                                           cos(q1),                                                                                                                                                                                                                                                                   cos(q1),                                                                                                                                                                                                                                                                                                                  sin(q1)*sin(q2)*cos(q3) + sin(q1)*sin(q3)*cos(q2),                                                                                                                                                                                                                                                                                                                                                                                                                        -((sin(q1)*sin(q2)*sin(q3) - sin(q1)*cos(q2)*cos(q3))*cos(q4) - sin(q4)*cos(q1))*sin(q5) + (sin(q1)*sin(q2)*cos(q3) + sin(q1)*sin(q3)*cos(q2))*cos(q5),                                                                                                                                                                                                                                                                                                                                                                                                                        -((sin(q1)*sin(q2)*sin(q3) - sin(q1)*cos(q2)*cos(q3))*cos(q4) - sin(q4)*cos(q1))*sin(q5) + (sin(q1)*sin(q2)*cos(q3) + sin(q1)*sin(q3)*cos(q2))*cos(q5)],\n[                                                                                       0,                                                                                                                                           sin(q1),                                                                                                                                                                                                                                                                   sin(q1),                                                                                                                                                                                                                                                                                                                 -sin(q2)*cos(q1)*cos(q3) - sin(q3)*cos(q1)*cos(q2),                                                                                                                                                                                                                                                                                                                                                                                                                      -((-sin(q2)*sin(q3)*cos(q1) + cos(q1)*cos(q2)*cos(q3))*cos(q4) - sin(q1)*sin(q4))*sin(q5) + (-sin(q2)*cos(q1)*cos(q3) - sin(q3)*cos(q1)*cos(q2))*cos(q5),                                                                                                                                                                                                                                                                                                                                                                                                                      -((-sin(q2)*sin(q3)*cos(q1) + cos(q1)*cos(q2)*cos(q3))*cos(q4) - sin(q1)*sin(q4))*sin(q5) + (-sin(q2)*cos(q1)*cos(q3) - sin(q3)*cos(q1)*cos(q2))*cos(q5)],\n[                                                                                       1,                                                                                                                                                 0,                                                                                                                                                                                                                                                                         0,                                                                                                                                                                                                                                                                                                                                 -sin(q2)*sin(q3) + cos(q2)*cos(q3),                                                                                                                                                                                                                                                                                                                                                                                                                                                                            (-sin(q2)*sin(q3) + cos(q2)*cos(q3))*cos(q5) - (sin(q2)*cos(q3) + sin(q3)*cos(q2))*sin(q5)*cos(q4),                                                                                                                                                                                                                                                                                                                                                                                                                                                                            (-sin(q2)*sin(q3) + cos(q2)*cos(q3))*cos(q5) - (sin(q2)*cos(q3) + sin(q3)*cos(q2))*sin(q5)*cos(q4)]])",
      "text/latex": "$\\displaystyle \\left[\\begin{matrix}1.0 L_{2} \\sin{\\left(q_{2} \\right)} \\cos{\\left(q_{1} \\right)} - L_{3} \\left(- 1.0 \\sin{\\left(q_{2} \\right)} \\cos{\\left(q_{1} \\right)} \\cos{\\left(q_{3} \\right)} - 1.0 \\sin{\\left(q_{3} \\right)} \\cos{\\left(q_{1} \\right)} \\cos{\\left(q_{2} \\right)}\\right) & L_{3} \\left(- 1.0 \\sin{\\left(q_{2} \\right)} \\sin{\\left(q_{3} \\right)} + 1.0 \\cos{\\left(q_{2} \\right)} \\cos{\\left(q_{3} \\right)}\\right) \\sin{\\left(q_{1} \\right)} & \\left(L_{3} \\left(- 1.0 \\sin{\\left(q_{2} \\right)} \\sin{\\left(q_{3} \\right)} + 1.0 \\cos{\\left(q_{2} \\right)} \\cos{\\left(q_{3} \\right)}\\right) - L_{3} \\left(- \\sin{\\left(q_{2} \\right)} \\sin{\\left(q_{3} \\right)} + \\cos{\\left(q_{2} \\right)} \\cos{\\left(q_{3} \\right)}\\right)\\right) \\sin{\\left(q_{1} \\right)} & \\left(L_{3} \\left(- 1.0 \\sin{\\left(q_{2} \\right)} \\sin{\\left(q_{3} \\right)} + 1.0 \\cos{\\left(q_{2} \\right)} \\cos{\\left(q_{3} \\right)}\\right) - L_{3} \\left(- \\sin{\\left(q_{2} \\right)} \\sin{\\left(q_{3} \\right)} + \\cos{\\left(q_{2} \\right)} \\cos{\\left(q_{3} \\right)}\\right)\\right) \\left(- \\sin{\\left(q_{2} \\right)} \\cos{\\left(q_{1} \\right)} \\cos{\\left(q_{3} \\right)} - \\sin{\\left(q_{3} \\right)} \\cos{\\left(q_{1} \\right)} \\cos{\\left(q_{2} \\right)}\\right) - \\left(- L_{3} \\left(- \\sin{\\left(q_{2} \\right)} \\cos{\\left(q_{1} \\right)} \\cos{\\left(q_{3} \\right)} - \\sin{\\left(q_{3} \\right)} \\cos{\\left(q_{1} \\right)} \\cos{\\left(q_{2} \\right)}\\right) + L_{3} \\left(- 1.0 \\sin{\\left(q_{2} \\right)} \\cos{\\left(q_{1} \\right)} \\cos{\\left(q_{3} \\right)} - 1.0 \\sin{\\left(q_{3} \\right)} \\cos{\\left(q_{1} \\right)} \\cos{\\left(q_{2} \\right)}\\right)\\right) \\left(- \\sin{\\left(q_{2} \\right)} \\sin{\\left(q_{3} \\right)} + \\cos{\\left(q_{2} \\right)} \\cos{\\left(q_{3} \\right)}\\right) & \\left(L_{3} \\left(- 1.0 \\sin{\\left(q_{2} \\right)} \\sin{\\left(q_{3} \\right)} + 1.0 \\cos{\\left(q_{2} \\right)} \\cos{\\left(q_{3} \\right)}\\right) - L_{3} \\left(- \\sin{\\left(q_{2} \\right)} \\sin{\\left(q_{3} \\right)} + \\cos{\\left(q_{2} \\right)} \\cos{\\left(q_{3} \\right)}\\right)\\right) \\left(- \\left(\\left(- \\sin{\\left(q_{2} \\right)} \\sin{\\left(q_{3} \\right)} \\cos{\\left(q_{1} \\right)} + \\cos{\\left(q_{1} \\right)} \\cos{\\left(q_{2} \\right)} \\cos{\\left(q_{3} \\right)}\\right) \\cos{\\left(q_{4} \\right)} - \\sin{\\left(q_{1} \\right)} \\sin{\\left(q_{4} \\right)}\\right) \\sin{\\left(q_{5} \\right)} + \\left(- \\sin{\\left(q_{2} \\right)} \\cos{\\left(q_{1} \\right)} \\cos{\\left(q_{3} \\right)} - \\sin{\\left(q_{3} \\right)} \\cos{\\left(q_{1} \\right)} \\cos{\\left(q_{2} \\right)}\\right) \\cos{\\left(q_{5} \\right)}\\right) - \\left(- L_{3} \\left(- \\sin{\\left(q_{2} \\right)} \\cos{\\left(q_{1} \\right)} \\cos{\\left(q_{3} \\right)} - \\sin{\\left(q_{3} \\right)} \\cos{\\left(q_{1} \\right)} \\cos{\\left(q_{2} \\right)}\\right) + L_{3} \\left(- 1.0 \\sin{\\left(q_{2} \\right)} \\cos{\\left(q_{1} \\right)} \\cos{\\left(q_{3} \\right)} - 1.0 \\sin{\\left(q_{3} \\right)} \\cos{\\left(q_{1} \\right)} \\cos{\\left(q_{2} \\right)}\\right)\\right) \\left(\\left(- \\sin{\\left(q_{2} \\right)} \\sin{\\left(q_{3} \\right)} + \\cos{\\left(q_{2} \\right)} \\cos{\\left(q_{3} \\right)}\\right) \\cos{\\left(q_{5} \\right)} - \\left(\\sin{\\left(q_{2} \\right)} \\cos{\\left(q_{3} \\right)} + \\sin{\\left(q_{3} \\right)} \\cos{\\left(q_{2} \\right)}\\right) \\sin{\\left(q_{5} \\right)} \\cos{\\left(q_{4} \\right)}\\right) & \\left(L_{3} \\left(- 1.0 \\sin{\\left(q_{2} \\right)} \\sin{\\left(q_{3} \\right)} + 1.0 \\cos{\\left(q_{2} \\right)} \\cos{\\left(q_{3} \\right)}\\right) - L_{3} \\left(- \\sin{\\left(q_{2} \\right)} \\sin{\\left(q_{3} \\right)} + \\cos{\\left(q_{2} \\right)} \\cos{\\left(q_{3} \\right)}\\right)\\right) \\left(- \\left(\\left(- \\sin{\\left(q_{2} \\right)} \\sin{\\left(q_{3} \\right)} \\cos{\\left(q_{1} \\right)} + \\cos{\\left(q_{1} \\right)} \\cos{\\left(q_{2} \\right)} \\cos{\\left(q_{3} \\right)}\\right) \\cos{\\left(q_{4} \\right)} - \\sin{\\left(q_{1} \\right)} \\sin{\\left(q_{4} \\right)}\\right) \\sin{\\left(q_{5} \\right)} + \\left(- \\sin{\\left(q_{2} \\right)} \\cos{\\left(q_{1} \\right)} \\cos{\\left(q_{3} \\right)} - \\sin{\\left(q_{3} \\right)} \\cos{\\left(q_{1} \\right)} \\cos{\\left(q_{2} \\right)}\\right) \\cos{\\left(q_{5} \\right)}\\right) - \\left(- L_{3} \\left(- \\sin{\\left(q_{2} \\right)} \\cos{\\left(q_{1} \\right)} \\cos{\\left(q_{3} \\right)} - \\sin{\\left(q_{3} \\right)} \\cos{\\left(q_{1} \\right)} \\cos{\\left(q_{2} \\right)}\\right) + L_{3} \\left(- 1.0 \\sin{\\left(q_{2} \\right)} \\cos{\\left(q_{1} \\right)} \\cos{\\left(q_{3} \\right)} - 1.0 \\sin{\\left(q_{3} \\right)} \\cos{\\left(q_{1} \\right)} \\cos{\\left(q_{2} \\right)}\\right)\\right) \\left(\\left(- \\sin{\\left(q_{2} \\right)} \\sin{\\left(q_{3} \\right)} + \\cos{\\left(q_{2} \\right)} \\cos{\\left(q_{3} \\right)}\\right) \\cos{\\left(q_{5} \\right)} - \\left(\\sin{\\left(q_{2} \\right)} \\cos{\\left(q_{3} \\right)} + \\sin{\\left(q_{3} \\right)} \\cos{\\left(q_{2} \\right)}\\right) \\sin{\\left(q_{5} \\right)} \\cos{\\left(q_{4} \\right)}\\right)\\\\1.0 L_{2} \\sin{\\left(q_{1} \\right)} \\sin{\\left(q_{2} \\right)} + L_{3} \\cdot \\left(1.0 \\sin{\\left(q_{1} \\right)} \\sin{\\left(q_{2} \\right)} \\cos{\\left(q_{3} \\right)} + 1.0 \\sin{\\left(q_{1} \\right)} \\sin{\\left(q_{3} \\right)} \\cos{\\left(q_{2} \\right)}\\right) & - L_{3} \\left(- 1.0 \\sin{\\left(q_{2} \\right)} \\sin{\\left(q_{3} \\right)} + 1.0 \\cos{\\left(q_{2} \\right)} \\cos{\\left(q_{3} \\right)}\\right) \\cos{\\left(q_{1} \\right)} & - \\left(L_{3} \\left(- 1.0 \\sin{\\left(q_{2} \\right)} \\sin{\\left(q_{3} \\right)} + 1.0 \\cos{\\left(q_{2} \\right)} \\cos{\\left(q_{3} \\right)}\\right) - L_{3} \\left(- \\sin{\\left(q_{2} \\right)} \\sin{\\left(q_{3} \\right)} + \\cos{\\left(q_{2} \\right)} \\cos{\\left(q_{3} \\right)}\\right)\\right) \\cos{\\left(q_{1} \\right)} & - \\left(L_{3} \\left(- 1.0 \\sin{\\left(q_{2} \\right)} \\sin{\\left(q_{3} \\right)} + 1.0 \\cos{\\left(q_{2} \\right)} \\cos{\\left(q_{3} \\right)}\\right) - L_{3} \\left(- \\sin{\\left(q_{2} \\right)} \\sin{\\left(q_{3} \\right)} + \\cos{\\left(q_{2} \\right)} \\cos{\\left(q_{3} \\right)}\\right)\\right) \\left(\\sin{\\left(q_{1} \\right)} \\sin{\\left(q_{2} \\right)} \\cos{\\left(q_{3} \\right)} + \\sin{\\left(q_{1} \\right)} \\sin{\\left(q_{3} \\right)} \\cos{\\left(q_{2} \\right)}\\right) + \\left(L_{3} \\cdot \\left(1.0 \\sin{\\left(q_{1} \\right)} \\sin{\\left(q_{2} \\right)} \\cos{\\left(q_{3} \\right)} + 1.0 \\sin{\\left(q_{1} \\right)} \\sin{\\left(q_{3} \\right)} \\cos{\\left(q_{2} \\right)}\\right) - L_{3} \\left(\\sin{\\left(q_{1} \\right)} \\sin{\\left(q_{2} \\right)} \\cos{\\left(q_{3} \\right)} + \\sin{\\left(q_{1} \\right)} \\sin{\\left(q_{3} \\right)} \\cos{\\left(q_{2} \\right)}\\right)\\right) \\left(- \\sin{\\left(q_{2} \\right)} \\sin{\\left(q_{3} \\right)} + \\cos{\\left(q_{2} \\right)} \\cos{\\left(q_{3} \\right)}\\right) & - \\left(L_{3} \\left(- 1.0 \\sin{\\left(q_{2} \\right)} \\sin{\\left(q_{3} \\right)} + 1.0 \\cos{\\left(q_{2} \\right)} \\cos{\\left(q_{3} \\right)}\\right) - L_{3} \\left(- \\sin{\\left(q_{2} \\right)} \\sin{\\left(q_{3} \\right)} + \\cos{\\left(q_{2} \\right)} \\cos{\\left(q_{3} \\right)}\\right)\\right) \\left(- \\left(\\left(\\sin{\\left(q_{1} \\right)} \\sin{\\left(q_{2} \\right)} \\sin{\\left(q_{3} \\right)} - \\sin{\\left(q_{1} \\right)} \\cos{\\left(q_{2} \\right)} \\cos{\\left(q_{3} \\right)}\\right) \\cos{\\left(q_{4} \\right)} - \\sin{\\left(q_{4} \\right)} \\cos{\\left(q_{1} \\right)}\\right) \\sin{\\left(q_{5} \\right)} + \\left(\\sin{\\left(q_{1} \\right)} \\sin{\\left(q_{2} \\right)} \\cos{\\left(q_{3} \\right)} + \\sin{\\left(q_{1} \\right)} \\sin{\\left(q_{3} \\right)} \\cos{\\left(q_{2} \\right)}\\right) \\cos{\\left(q_{5} \\right)}\\right) + \\left(L_{3} \\cdot \\left(1.0 \\sin{\\left(q_{1} \\right)} \\sin{\\left(q_{2} \\right)} \\cos{\\left(q_{3} \\right)} + 1.0 \\sin{\\left(q_{1} \\right)} \\sin{\\left(q_{3} \\right)} \\cos{\\left(q_{2} \\right)}\\right) - L_{3} \\left(\\sin{\\left(q_{1} \\right)} \\sin{\\left(q_{2} \\right)} \\cos{\\left(q_{3} \\right)} + \\sin{\\left(q_{1} \\right)} \\sin{\\left(q_{3} \\right)} \\cos{\\left(q_{2} \\right)}\\right)\\right) \\left(\\left(- \\sin{\\left(q_{2} \\right)} \\sin{\\left(q_{3} \\right)} + \\cos{\\left(q_{2} \\right)} \\cos{\\left(q_{3} \\right)}\\right) \\cos{\\left(q_{5} \\right)} - \\left(\\sin{\\left(q_{2} \\right)} \\cos{\\left(q_{3} \\right)} + \\sin{\\left(q_{3} \\right)} \\cos{\\left(q_{2} \\right)}\\right) \\sin{\\left(q_{5} \\right)} \\cos{\\left(q_{4} \\right)}\\right) & - \\left(L_{3} \\left(- 1.0 \\sin{\\left(q_{2} \\right)} \\sin{\\left(q_{3} \\right)} + 1.0 \\cos{\\left(q_{2} \\right)} \\cos{\\left(q_{3} \\right)}\\right) - L_{3} \\left(- \\sin{\\left(q_{2} \\right)} \\sin{\\left(q_{3} \\right)} + \\cos{\\left(q_{2} \\right)} \\cos{\\left(q_{3} \\right)}\\right)\\right) \\left(- \\left(\\left(\\sin{\\left(q_{1} \\right)} \\sin{\\left(q_{2} \\right)} \\sin{\\left(q_{3} \\right)} - \\sin{\\left(q_{1} \\right)} \\cos{\\left(q_{2} \\right)} \\cos{\\left(q_{3} \\right)}\\right) \\cos{\\left(q_{4} \\right)} - \\sin{\\left(q_{4} \\right)} \\cos{\\left(q_{1} \\right)}\\right) \\sin{\\left(q_{5} \\right)} + \\left(\\sin{\\left(q_{1} \\right)} \\sin{\\left(q_{2} \\right)} \\cos{\\left(q_{3} \\right)} + \\sin{\\left(q_{1} \\right)} \\sin{\\left(q_{3} \\right)} \\cos{\\left(q_{2} \\right)}\\right) \\cos{\\left(q_{5} \\right)}\\right) + \\left(L_{3} \\cdot \\left(1.0 \\sin{\\left(q_{1} \\right)} \\sin{\\left(q_{2} \\right)} \\cos{\\left(q_{3} \\right)} + 1.0 \\sin{\\left(q_{1} \\right)} \\sin{\\left(q_{3} \\right)} \\cos{\\left(q_{2} \\right)}\\right) - L_{3} \\left(\\sin{\\left(q_{1} \\right)} \\sin{\\left(q_{2} \\right)} \\cos{\\left(q_{3} \\right)} + \\sin{\\left(q_{1} \\right)} \\sin{\\left(q_{3} \\right)} \\cos{\\left(q_{2} \\right)}\\right)\\right) \\left(\\left(- \\sin{\\left(q_{2} \\right)} \\sin{\\left(q_{3} \\right)} + \\cos{\\left(q_{2} \\right)} \\cos{\\left(q_{3} \\right)}\\right) \\cos{\\left(q_{5} \\right)} - \\left(\\sin{\\left(q_{2} \\right)} \\cos{\\left(q_{3} \\right)} + \\sin{\\left(q_{3} \\right)} \\cos{\\left(q_{2} \\right)}\\right) \\sin{\\left(q_{5} \\right)} \\cos{\\left(q_{4} \\right)}\\right)\\\\0 & - L_{3} \\cdot \\left(1.0 \\sin{\\left(q_{1} \\right)} \\sin{\\left(q_{2} \\right)} \\cos{\\left(q_{3} \\right)} + 1.0 \\sin{\\left(q_{1} \\right)} \\sin{\\left(q_{3} \\right)} \\cos{\\left(q_{2} \\right)}\\right) \\sin{\\left(q_{1} \\right)} + L_{3} \\left(- 1.0 \\sin{\\left(q_{2} \\right)} \\cos{\\left(q_{1} \\right)} \\cos{\\left(q_{3} \\right)} - 1.0 \\sin{\\left(q_{3} \\right)} \\cos{\\left(q_{1} \\right)} \\cos{\\left(q_{2} \\right)}\\right) \\cos{\\left(q_{1} \\right)} & - \\left(L_{3} \\cdot \\left(1.0 \\sin{\\left(q_{1} \\right)} \\sin{\\left(q_{2} \\right)} \\cos{\\left(q_{3} \\right)} + 1.0 \\sin{\\left(q_{1} \\right)} \\sin{\\left(q_{3} \\right)} \\cos{\\left(q_{2} \\right)}\\right) - L_{3} \\left(\\sin{\\left(q_{1} \\right)} \\sin{\\left(q_{2} \\right)} \\cos{\\left(q_{3} \\right)} + \\sin{\\left(q_{1} \\right)} \\sin{\\left(q_{3} \\right)} \\cos{\\left(q_{2} \\right)}\\right)\\right) \\sin{\\left(q_{1} \\right)} + \\left(- L_{3} \\left(- \\sin{\\left(q_{2} \\right)} \\cos{\\left(q_{1} \\right)} \\cos{\\left(q_{3} \\right)} - \\sin{\\left(q_{3} \\right)} \\cos{\\left(q_{1} \\right)} \\cos{\\left(q_{2} \\right)}\\right) + L_{3} \\left(- 1.0 \\sin{\\left(q_{2} \\right)} \\cos{\\left(q_{1} \\right)} \\cos{\\left(q_{3} \\right)} - 1.0 \\sin{\\left(q_{3} \\right)} \\cos{\\left(q_{1} \\right)} \\cos{\\left(q_{2} \\right)}\\right)\\right) \\cos{\\left(q_{1} \\right)} & - \\left(L_{3} \\cdot \\left(1.0 \\sin{\\left(q_{1} \\right)} \\sin{\\left(q_{2} \\right)} \\cos{\\left(q_{3} \\right)} + 1.0 \\sin{\\left(q_{1} \\right)} \\sin{\\left(q_{3} \\right)} \\cos{\\left(q_{2} \\right)}\\right) - L_{3} \\left(\\sin{\\left(q_{1} \\right)} \\sin{\\left(q_{2} \\right)} \\cos{\\left(q_{3} \\right)} + \\sin{\\left(q_{1} \\right)} \\sin{\\left(q_{3} \\right)} \\cos{\\left(q_{2} \\right)}\\right)\\right) \\left(- \\sin{\\left(q_{2} \\right)} \\cos{\\left(q_{1} \\right)} \\cos{\\left(q_{3} \\right)} - \\sin{\\left(q_{3} \\right)} \\cos{\\left(q_{1} \\right)} \\cos{\\left(q_{2} \\right)}\\right) + \\left(- L_{3} \\left(- \\sin{\\left(q_{2} \\right)} \\cos{\\left(q_{1} \\right)} \\cos{\\left(q_{3} \\right)} - \\sin{\\left(q_{3} \\right)} \\cos{\\left(q_{1} \\right)} \\cos{\\left(q_{2} \\right)}\\right) + L_{3} \\left(- 1.0 \\sin{\\left(q_{2} \\right)} \\cos{\\left(q_{1} \\right)} \\cos{\\left(q_{3} \\right)} - 1.0 \\sin{\\left(q_{3} \\right)} \\cos{\\left(q_{1} \\right)} \\cos{\\left(q_{2} \\right)}\\right)\\right) \\left(\\sin{\\left(q_{1} \\right)} \\sin{\\left(q_{2} \\right)} \\cos{\\left(q_{3} \\right)} + \\sin{\\left(q_{1} \\right)} \\sin{\\left(q_{3} \\right)} \\cos{\\left(q_{2} \\right)}\\right) & - \\left(L_{3} \\cdot \\left(1.0 \\sin{\\left(q_{1} \\right)} \\sin{\\left(q_{2} \\right)} \\cos{\\left(q_{3} \\right)} + 1.0 \\sin{\\left(q_{1} \\right)} \\sin{\\left(q_{3} \\right)} \\cos{\\left(q_{2} \\right)}\\right) - L_{3} \\left(\\sin{\\left(q_{1} \\right)} \\sin{\\left(q_{2} \\right)} \\cos{\\left(q_{3} \\right)} + \\sin{\\left(q_{1} \\right)} \\sin{\\left(q_{3} \\right)} \\cos{\\left(q_{2} \\right)}\\right)\\right) \\left(- \\left(\\left(- \\sin{\\left(q_{2} \\right)} \\sin{\\left(q_{3} \\right)} \\cos{\\left(q_{1} \\right)} + \\cos{\\left(q_{1} \\right)} \\cos{\\left(q_{2} \\right)} \\cos{\\left(q_{3} \\right)}\\right) \\cos{\\left(q_{4} \\right)} - \\sin{\\left(q_{1} \\right)} \\sin{\\left(q_{4} \\right)}\\right) \\sin{\\left(q_{5} \\right)} + \\left(- \\sin{\\left(q_{2} \\right)} \\cos{\\left(q_{1} \\right)} \\cos{\\left(q_{3} \\right)} - \\sin{\\left(q_{3} \\right)} \\cos{\\left(q_{1} \\right)} \\cos{\\left(q_{2} \\right)}\\right) \\cos{\\left(q_{5} \\right)}\\right) + \\left(- L_{3} \\left(- \\sin{\\left(q_{2} \\right)} \\cos{\\left(q_{1} \\right)} \\cos{\\left(q_{3} \\right)} - \\sin{\\left(q_{3} \\right)} \\cos{\\left(q_{1} \\right)} \\cos{\\left(q_{2} \\right)}\\right) + L_{3} \\left(- 1.0 \\sin{\\left(q_{2} \\right)} \\cos{\\left(q_{1} \\right)} \\cos{\\left(q_{3} \\right)} - 1.0 \\sin{\\left(q_{3} \\right)} \\cos{\\left(q_{1} \\right)} \\cos{\\left(q_{2} \\right)}\\right)\\right) \\left(- \\left(\\left(\\sin{\\left(q_{1} \\right)} \\sin{\\left(q_{2} \\right)} \\sin{\\left(q_{3} \\right)} - \\sin{\\left(q_{1} \\right)} \\cos{\\left(q_{2} \\right)} \\cos{\\left(q_{3} \\right)}\\right) \\cos{\\left(q_{4} \\right)} - \\sin{\\left(q_{4} \\right)} \\cos{\\left(q_{1} \\right)}\\right) \\sin{\\left(q_{5} \\right)} + \\left(\\sin{\\left(q_{1} \\right)} \\sin{\\left(q_{2} \\right)} \\cos{\\left(q_{3} \\right)} + \\sin{\\left(q_{1} \\right)} \\sin{\\left(q_{3} \\right)} \\cos{\\left(q_{2} \\right)}\\right) \\cos{\\left(q_{5} \\right)}\\right) & - \\left(L_{3} \\cdot \\left(1.0 \\sin{\\left(q_{1} \\right)} \\sin{\\left(q_{2} \\right)} \\cos{\\left(q_{3} \\right)} + 1.0 \\sin{\\left(q_{1} \\right)} \\sin{\\left(q_{3} \\right)} \\cos{\\left(q_{2} \\right)}\\right) - L_{3} \\left(\\sin{\\left(q_{1} \\right)} \\sin{\\left(q_{2} \\right)} \\cos{\\left(q_{3} \\right)} + \\sin{\\left(q_{1} \\right)} \\sin{\\left(q_{3} \\right)} \\cos{\\left(q_{2} \\right)}\\right)\\right) \\left(- \\left(\\left(- \\sin{\\left(q_{2} \\right)} \\sin{\\left(q_{3} \\right)} \\cos{\\left(q_{1} \\right)} + \\cos{\\left(q_{1} \\right)} \\cos{\\left(q_{2} \\right)} \\cos{\\left(q_{3} \\right)}\\right) \\cos{\\left(q_{4} \\right)} - \\sin{\\left(q_{1} \\right)} \\sin{\\left(q_{4} \\right)}\\right) \\sin{\\left(q_{5} \\right)} + \\left(- \\sin{\\left(q_{2} \\right)} \\cos{\\left(q_{1} \\right)} \\cos{\\left(q_{3} \\right)} - \\sin{\\left(q_{3} \\right)} \\cos{\\left(q_{1} \\right)} \\cos{\\left(q_{2} \\right)}\\right) \\cos{\\left(q_{5} \\right)}\\right) + \\left(- L_{3} \\left(- \\sin{\\left(q_{2} \\right)} \\cos{\\left(q_{1} \\right)} \\cos{\\left(q_{3} \\right)} - \\sin{\\left(q_{3} \\right)} \\cos{\\left(q_{1} \\right)} \\cos{\\left(q_{2} \\right)}\\right) + L_{3} \\left(- 1.0 \\sin{\\left(q_{2} \\right)} \\cos{\\left(q_{1} \\right)} \\cos{\\left(q_{3} \\right)} - 1.0 \\sin{\\left(q_{3} \\right)} \\cos{\\left(q_{1} \\right)} \\cos{\\left(q_{2} \\right)}\\right)\\right) \\left(- \\left(\\left(\\sin{\\left(q_{1} \\right)} \\sin{\\left(q_{2} \\right)} \\sin{\\left(q_{3} \\right)} - \\sin{\\left(q_{1} \\right)} \\cos{\\left(q_{2} \\right)} \\cos{\\left(q_{3} \\right)}\\right) \\cos{\\left(q_{4} \\right)} - \\sin{\\left(q_{4} \\right)} \\cos{\\left(q_{1} \\right)}\\right) \\sin{\\left(q_{5} \\right)} + \\left(\\sin{\\left(q_{1} \\right)} \\sin{\\left(q_{2} \\right)} \\cos{\\left(q_{3} \\right)} + \\sin{\\left(q_{1} \\right)} \\sin{\\left(q_{3} \\right)} \\cos{\\left(q_{2} \\right)}\\right) \\cos{\\left(q_{5} \\right)}\\right)\\\\0 & \\cos{\\left(q_{1} \\right)} & \\cos{\\left(q_{1} \\right)} & \\sin{\\left(q_{1} \\right)} \\sin{\\left(q_{2} \\right)} \\cos{\\left(q_{3} \\right)} + \\sin{\\left(q_{1} \\right)} \\sin{\\left(q_{3} \\right)} \\cos{\\left(q_{2} \\right)} & - \\left(\\left(\\sin{\\left(q_{1} \\right)} \\sin{\\left(q_{2} \\right)} \\sin{\\left(q_{3} \\right)} - \\sin{\\left(q_{1} \\right)} \\cos{\\left(q_{2} \\right)} \\cos{\\left(q_{3} \\right)}\\right) \\cos{\\left(q_{4} \\right)} - \\sin{\\left(q_{4} \\right)} \\cos{\\left(q_{1} \\right)}\\right) \\sin{\\left(q_{5} \\right)} + \\left(\\sin{\\left(q_{1} \\right)} \\sin{\\left(q_{2} \\right)} \\cos{\\left(q_{3} \\right)} + \\sin{\\left(q_{1} \\right)} \\sin{\\left(q_{3} \\right)} \\cos{\\left(q_{2} \\right)}\\right) \\cos{\\left(q_{5} \\right)} & - \\left(\\left(\\sin{\\left(q_{1} \\right)} \\sin{\\left(q_{2} \\right)} \\sin{\\left(q_{3} \\right)} - \\sin{\\left(q_{1} \\right)} \\cos{\\left(q_{2} \\right)} \\cos{\\left(q_{3} \\right)}\\right) \\cos{\\left(q_{4} \\right)} - \\sin{\\left(q_{4} \\right)} \\cos{\\left(q_{1} \\right)}\\right) \\sin{\\left(q_{5} \\right)} + \\left(\\sin{\\left(q_{1} \\right)} \\sin{\\left(q_{2} \\right)} \\cos{\\left(q_{3} \\right)} + \\sin{\\left(q_{1} \\right)} \\sin{\\left(q_{3} \\right)} \\cos{\\left(q_{2} \\right)}\\right) \\cos{\\left(q_{5} \\right)}\\\\0 & \\sin{\\left(q_{1} \\right)} & \\sin{\\left(q_{1} \\right)} & - \\sin{\\left(q_{2} \\right)} \\cos{\\left(q_{1} \\right)} \\cos{\\left(q_{3} \\right)} - \\sin{\\left(q_{3} \\right)} \\cos{\\left(q_{1} \\right)} \\cos{\\left(q_{2} \\right)} & - \\left(\\left(- \\sin{\\left(q_{2} \\right)} \\sin{\\left(q_{3} \\right)} \\cos{\\left(q_{1} \\right)} + \\cos{\\left(q_{1} \\right)} \\cos{\\left(q_{2} \\right)} \\cos{\\left(q_{3} \\right)}\\right) \\cos{\\left(q_{4} \\right)} - \\sin{\\left(q_{1} \\right)} \\sin{\\left(q_{4} \\right)}\\right) \\sin{\\left(q_{5} \\right)} + \\left(- \\sin{\\left(q_{2} \\right)} \\cos{\\left(q_{1} \\right)} \\cos{\\left(q_{3} \\right)} - \\sin{\\left(q_{3} \\right)} \\cos{\\left(q_{1} \\right)} \\cos{\\left(q_{2} \\right)}\\right) \\cos{\\left(q_{5} \\right)} & - \\left(\\left(- \\sin{\\left(q_{2} \\right)} \\sin{\\left(q_{3} \\right)} \\cos{\\left(q_{1} \\right)} + \\cos{\\left(q_{1} \\right)} \\cos{\\left(q_{2} \\right)} \\cos{\\left(q_{3} \\right)}\\right) \\cos{\\left(q_{4} \\right)} - \\sin{\\left(q_{1} \\right)} \\sin{\\left(q_{4} \\right)}\\right) \\sin{\\left(q_{5} \\right)} + \\left(- \\sin{\\left(q_{2} \\right)} \\cos{\\left(q_{1} \\right)} \\cos{\\left(q_{3} \\right)} - \\sin{\\left(q_{3} \\right)} \\cos{\\left(q_{1} \\right)} \\cos{\\left(q_{2} \\right)}\\right) \\cos{\\left(q_{5} \\right)}\\\\1 & 0 & 0 & - \\sin{\\left(q_{2} \\right)} \\sin{\\left(q_{3} \\right)} + \\cos{\\left(q_{2} \\right)} \\cos{\\left(q_{3} \\right)} & \\left(- \\sin{\\left(q_{2} \\right)} \\sin{\\left(q_{3} \\right)} + \\cos{\\left(q_{2} \\right)} \\cos{\\left(q_{3} \\right)}\\right) \\cos{\\left(q_{5} \\right)} - \\left(\\sin{\\left(q_{2} \\right)} \\cos{\\left(q_{3} \\right)} + \\sin{\\left(q_{3} \\right)} \\cos{\\left(q_{2} \\right)}\\right) \\sin{\\left(q_{5} \\right)} \\cos{\\left(q_{4} \\right)} & \\left(- \\sin{\\left(q_{2} \\right)} \\sin{\\left(q_{3} \\right)} + \\cos{\\left(q_{2} \\right)} \\cos{\\left(q_{3} \\right)}\\right) \\cos{\\left(q_{5} \\right)} - \\left(\\sin{\\left(q_{2} \\right)} \\cos{\\left(q_{3} \\right)} + \\sin{\\left(q_{3} \\right)} \\cos{\\left(q_{2} \\right)}\\right) \\sin{\\left(q_{5} \\right)} \\cos{\\left(q_{4} \\right)}\\end{matrix}\\right]$"
     },
     "execution_count": 8,
     "metadata": {},
     "output_type": "execute_result"
    }
   ],
   "source": [
    "# Symbolical Jacobians\n",
    "\n",
    "J1 = sy.zeros(6,6)\n",
    "O1, rot1 = vectors(Rz(q1) @ Tz(L1/2)) # half of length is a translation from base to center of mass\n",
    "U1 = rot1[:, 2]\n",
    "J1[:,0] = sy.Matrix(np.concatenate((cross(U1, On-O1),U1)))\n",
    "\n",
    "J2 = sy.zeros(6,6)\n",
    "O1, rot1 = vectors(Rz(q1) @ Tz(L1))\n",
    "U1 = rot1[:, 2]\n",
    "J2[:,0] = sy.Matrix(np.concatenate((cross(U1, On-O1),U1)))\n",
    "O2, rot2 = vectors(Rz(q1) @ Tz(L1) @ Rx(q2) @ Tz(L2/2))\n",
    "U2 = rot2[:, 0]\n",
    "J2[:,1] = sy.Matrix(np.concatenate((cross(U2, On-O2), U2)))\n",
    "\n",
    "J3 = sy.zeros(6,6)\n",
    "O1, rot1 = vectors(Rz(q1) @ Tz(L1))\n",
    "U1 = rot1[:, 2]\n",
    "J3[:,0] = sy.Matrix(np.concatenate((cross(U1, On-O1),U1)))\n",
    "O2, rot2 = vectors(Rz(q1) @ Tz(L1) @ Rx(q2) @ Tz(L2))\n",
    "U2 = rot2[:, 0]\n",
    "J3[:,1] = sy.Matrix(np.concatenate((cross(U2, On-O2),U2)))\n",
    "O3, rot3 = vectors(Rz(q1) @ Tz(L1) @ Rx(q2) @ Tz(L2) @ Rx(q3) @ Tz(L3/2))\n",
    "U3 = rot3[:, 0]\n",
    "J3[:,2] = sy.Matrix(np.concatenate((cross(U3, On-O3),U3)))\n",
    "\n",
    "J4 = sy.zeros(6,6)\n",
    "O1, rot1 = vectors(Rz(q1) @ Tz(L1))\n",
    "U1 = rot1[:, 2]\n",
    "J4[:,0] = sy.Matrix(np.concatenate((cross(U1, On-O1),U1)))\n",
    "O2, rot2 = vectors(Rz(q1) @ Tz(L1) @ Rx(q2) @ Tz(L2))\n",
    "U2 = rot2[:, 0]\n",
    "J4[:,1] = sy.Matrix(np.concatenate((cross(U2, On-O2),U2)))\n",
    "O3, rot3 = vectors(Rz(q1) @ Tz(L1) @ Rx(q2) @ Tz(L2) @ Rx(q3) @ Tz(L3))\n",
    "U3 = rot3[:, 0]\n",
    "J4[:,2] = sy.Matrix(np.concatenate((cross(U3, On-O3),U3)))\n",
    "O4, rot4 = vectors(Rz(q1) @ Tz(L1) @ Rx(q2) @ Tz(L2) @ Rx(q3) @ Tz(L3) @ Rz(q4))\n",
    "U4 = rot4[:, 2]\n",
    "J4[:,3] = sy.Matrix(np.concatenate((cross(U4, On-O4), U4)))\n",
    "\n",
    "J5 = sy.zeros(6,6)\n",
    "O1, rot1 = vectors(Rz(q1) @ Tz(L1))\n",
    "U1 = rot1[:, 2]\n",
    "J5[:,0] = sy.Matrix(np.concatenate((cross(U1, On-O1),U1)))\n",
    "O2, rot2 = vectors(Rz(q1) @ Tz(L1) @ Rx(q2) @ Tz(L2))\n",
    "U2 = rot2[:, 0]\n",
    "J5[:,1] = sy.Matrix(np.concatenate((cross(U2, On-O2),U2)))\n",
    "O3, rot3 = vectors(Rz(q1) @ Tz(L1) @ Rx(q2) @ Tz(L2) @ Rx(q3) @ Tz(L3))\n",
    "U3 = rot3[:, 0]\n",
    "J5[:,2] = sy.Matrix(np.concatenate((cross(U3, On-O3),U3)))\n",
    "O4, rot4 = vectors(Rz(q1) @ Tz(L1) @ Rx(q2) @ Tz(L2) @ Rx(q3) @ Tz(L3) @ Rz(q4))\n",
    "U4 = rot4[:, 2]\n",
    "J5[:,3] = sy.Matrix(np.concatenate((cross(U4, On-O4), U4)))\n",
    "O5, rot5 = vectors(Rz(q1) @ Tz(L1) @ Rx(q2) @ Tz(L2) @ Rx(q3) @ Tz(L3) @ Rz(q4) @ Rx(q5))\n",
    "U5 = rot5[:, 2]\n",
    "J5[:,4] = sy.Matrix(np.concatenate((cross(U5, On-O5),U5)))\n",
    "\n",
    "J6 = sy.zeros(6,6)\n",
    "O1, rot1 = vectors(Rz(q1) @ Tz(L1))\n",
    "U1 = rot1[:, 2]\n",
    "J6[:,0] = sy.Matrix(np.concatenate((cross(U1, On-O1),U1)))\n",
    "O2, rot2 = vectors(Rz(q1) @ Tz(L1) @ Rx(q2) @ Tz(L2))\n",
    "U2 = rot2[:, 0]\n",
    "J6[:,1] = sy.Matrix(np.concatenate((cross(U2, On-O2),U2)))\n",
    "O3, rot3 = vectors(Rz(q1) @ Tz(L1) @ Rx(q2) @ Tz(L2) @ Rx(q3) @ Tz(L3))\n",
    "U3 = rot3[:, 0]\n",
    "J6[:,2] = sy.Matrix(np.concatenate((cross(U3, On-O3),U3)))\n",
    "O4, rot4 = vectors(Rz(q1) @ Tz(L1) @ Rx(q2) @ Tz(L2) @ Rx(q3) @ Tz(L3) @ Rz(q4))\n",
    "U4 = rot4[:, 2]\n",
    "J6[:,3] = sy.Matrix(np.concatenate((cross(U4, On-O4), U4)))\n",
    "O5, rot5 = vectors(Rz(q1) @ Tz(L1) @ Rx(q2) @ Tz(L2) @ Rx(q3) @ Tz(L3) @ Rz(q4) @ Rx(q5))\n",
    "U5 = rot5[:, 2]\n",
    "J6[:,4] = sy.Matrix(np.concatenate((cross(U5, On-O5),U5)))\n",
    "O6, rot6 = vectors(Rz(q1) @ Tz(L1) @ Rx(q2) @ Tz(L2) @ Rx(q3) @ Tz(L3) @ Rz(q4) @ Rx(q5) @ Rz(q6))\n",
    "U6 = rot6[:, 2]\n",
    "J6[:,5] = sy.Matrix(np.concatenate((cross(U6, On-O6),U6)))\n",
    "\n",
    "J6"
   ],
   "metadata": {
    "collapsed": false,
    "pycharm": {
     "name": "#%%\n"
    }
   }
  },
  {
   "cell_type": "code",
   "execution_count": 38,
   "outputs": [],
   "source": [
    "# Rotation matrices\n",
    "R1 = Rz(q1)\n",
    "R2 = Rz(q1) @ Ry(q2)\n",
    "\n",
    "\n",
    "R1 = R1[:3,:3]\n",
    "R2 = R2[:3,:3]\n"
   ],
   "metadata": {
    "collapsed": false,
    "pycharm": {
     "name": "#%%\n"
    }
   }
  },
  {
   "cell_type": "code",
   "execution_count": 39,
   "outputs": [
    {
     "data": {
      "text/plain": "Matrix([\n[Ix6,   0,   0],\n[  0, Iy6,   0],\n[  0,   0, Iz6]])",
      "text/latex": "$\\displaystyle \\left[\\begin{matrix}Ix_{6} & 0 & 0\\\\0 & Iy_{6} & 0\\\\0 & 0 & Iz_{6}\\end{matrix}\\right]$"
     },
     "execution_count": 39,
     "metadata": {},
     "output_type": "execute_result"
    }
   ],
   "source": [
    "# Inertia tensors\n",
    "I1 = sy.Matrix([[Ix1, 0, 0], [0, Iy1, 0], [0, 0, Iz1]])\n",
    "I2 = sy.Matrix([[Ix2, 0, 0], [0, Iy2, 0], [0, 0, Iz2]])\n",
    "I3 = sy.Matrix([[Ix3, 0, 0], [0, Iy3, 0], [0, 0, Iz3]])\n",
    "I4 = sy.Matrix([[Ix4, 0, 0], [0, Iy4, 0], [0, 0, Iz4]])\n",
    "I5 = sy.Matrix([[Ix5, 0, 0], [0, Iy5, 0], [0, 0, Iz5]])\n",
    "I6 = sy.Matrix([[Ix6, 0, 0], [0, Iy6, 0], [0, 0, Iz6]])\n",
    "I6"
   ],
   "metadata": {
    "collapsed": false,
    "pycharm": {
     "name": "#%%\n"
    }
   }
  },
  {
   "cell_type": "markdown",
   "source": [
    "### Inertia matrices"
   ],
   "metadata": {
    "collapsed": false,
    "pycharm": {
     "name": "#%% md\n"
    }
   }
  },
  {
   "cell_type": "code",
   "execution_count": 40,
   "outputs": [],
   "source": [
    "M1 = m1 * J1[:3,:].T @ J1[:3,:] + J1[3:,:].T @ R1 @ I1 @ R1.T @ J1[3:,:]\n",
    "M2 = m2 * J2[:3,:].T @ J2[:3,:] + J2[3:,:].T @ R2 @ I2 @ R2.T @ J2[3:,:]\n",
    "\n",
    "M = M1 + M2"
   ],
   "metadata": {
    "collapsed": false,
    "pycharm": {
     "name": "#%%\n"
    }
   }
  },
  {
   "cell_type": "code",
   "execution_count": 41,
   "outputs": [
    {
     "data": {
      "text/plain": "Matrix([\n[Ix2*sin(q2)**2 + Iz1 + Iz2 + 2*(-sin(q1)*sin(q2) - 0.09*sin(q1)*cos(q2))*(-0.3*sin(q1)*sin(q2) - 0.027*sin(q1)*cos(q2)) + 2*(0.3*sin(q2)*cos(q1) + 0.027*cos(q1)*cos(q2))*(sin(q2)*cos(q1) + 0.09*cos(q1)*cos(q2)),                                                                                                                                                                             -Ix2*sin(q1)**2*sin(q2)*cos(q2)**2 - Ix2*sin(q2)*cos(q1)**2*cos(q2)**2 - (Ix2*sin(q2)**2 + Iz2)*sin(q2)],\n[                                                                                                                           -Ix2*(sin(q1)**2*cos(q2)**2 + sin(q2)**2 + cos(q1)**2*cos(q2)**2)*sin(q2) - Iz2*sin(q2), Ix2*(sin(q1)**2*cos(q2)**2 + sin(q2)**2 + cos(q1)**2*cos(q2)**2)*sin(q1)**2*cos(q2)**2 + Ix2*(sin(q1)**2*cos(q2)**2 + sin(q2)**2 + cos(q1)**2*cos(q2)**2)*cos(q1)**2*cos(q2)**2 - (-Ix2*(sin(q1)**2*cos(q2)**2 + sin(q2)**2 + cos(q1)**2*cos(q2)**2)*sin(q2) - Iz2*sin(q2))*sin(q2)]])",
      "text/latex": "$\\displaystyle \\left[\\begin{matrix}Ix_{2} \\sin^{2}{\\left(q_{2} \\right)} + Iz_{1} + Iz_{2} + 2 \\left(- \\sin{\\left(q_{1} \\right)} \\sin{\\left(q_{2} \\right)} - 0.09 \\sin{\\left(q_{1} \\right)} \\cos{\\left(q_{2} \\right)}\\right) \\left(- 0.3 \\sin{\\left(q_{1} \\right)} \\sin{\\left(q_{2} \\right)} - 0.027 \\sin{\\left(q_{1} \\right)} \\cos{\\left(q_{2} \\right)}\\right) + 2 \\cdot \\left(0.3 \\sin{\\left(q_{2} \\right)} \\cos{\\left(q_{1} \\right)} + 0.027 \\cos{\\left(q_{1} \\right)} \\cos{\\left(q_{2} \\right)}\\right) \\left(\\sin{\\left(q_{2} \\right)} \\cos{\\left(q_{1} \\right)} + 0.09 \\cos{\\left(q_{1} \\right)} \\cos{\\left(q_{2} \\right)}\\right) & - Ix_{2} \\sin^{2}{\\left(q_{1} \\right)} \\sin{\\left(q_{2} \\right)} \\cos^{2}{\\left(q_{2} \\right)} - Ix_{2} \\sin{\\left(q_{2} \\right)} \\cos^{2}{\\left(q_{1} \\right)} \\cos^{2}{\\left(q_{2} \\right)} - \\left(Ix_{2} \\sin^{2}{\\left(q_{2} \\right)} + Iz_{2}\\right) \\sin{\\left(q_{2} \\right)}\\\\- Ix_{2} \\left(\\sin^{2}{\\left(q_{1} \\right)} \\cos^{2}{\\left(q_{2} \\right)} + \\sin^{2}{\\left(q_{2} \\right)} + \\cos^{2}{\\left(q_{1} \\right)} \\cos^{2}{\\left(q_{2} \\right)}\\right) \\sin{\\left(q_{2} \\right)} - Iz_{2} \\sin{\\left(q_{2} \\right)} & Ix_{2} \\left(\\sin^{2}{\\left(q_{1} \\right)} \\cos^{2}{\\left(q_{2} \\right)} + \\sin^{2}{\\left(q_{2} \\right)} + \\cos^{2}{\\left(q_{1} \\right)} \\cos^{2}{\\left(q_{2} \\right)}\\right) \\sin^{2}{\\left(q_{1} \\right)} \\cos^{2}{\\left(q_{2} \\right)} + Ix_{2} \\left(\\sin^{2}{\\left(q_{1} \\right)} \\cos^{2}{\\left(q_{2} \\right)} + \\sin^{2}{\\left(q_{2} \\right)} + \\cos^{2}{\\left(q_{1} \\right)} \\cos^{2}{\\left(q_{2} \\right)}\\right) \\cos^{2}{\\left(q_{1} \\right)} \\cos^{2}{\\left(q_{2} \\right)} - \\left(- Ix_{2} \\left(\\sin^{2}{\\left(q_{1} \\right)} \\cos^{2}{\\left(q_{2} \\right)} + \\sin^{2}{\\left(q_{2} \\right)} + \\cos^{2}{\\left(q_{1} \\right)} \\cos^{2}{\\left(q_{2} \\right)}\\right) \\sin{\\left(q_{2} \\right)} - Iz_{2} \\sin{\\left(q_{2} \\right)}\\right) \\sin{\\left(q_{2} \\right)}\\end{matrix}\\right]$"
     },
     "execution_count": 41,
     "metadata": {},
     "output_type": "execute_result"
    }
   ],
   "source": [
    "M"
   ],
   "metadata": {
    "collapsed": false,
    "pycharm": {
     "name": "#%%\n"
    }
   }
  },
  {
   "cell_type": "code",
   "execution_count": 42,
   "outputs": [
    {
     "data": {
      "text/plain": "Matrix([\n[-0.5*Ix2*cos(2*q2) + 0.5*Ix2 + 1.0*Iz1 + 1.0*Iz2 + 0.054*sin(2*q2) - 0.29757*cos(2*q2) + 0.30243, (-Ix2 - Iz2)*sin(q2)],\n[                                                                            (-Ix2 - Iz2)*sin(q2), Ix2 + Iz2*sin(q2)**2]])",
      "text/latex": "$\\displaystyle \\left[\\begin{matrix}- 0.5 Ix_{2} \\cos{\\left(2 q_{2} \\right)} + 0.5 Ix_{2} + 1.0 Iz_{1} + 1.0 Iz_{2} + 0.054 \\sin{\\left(2 q_{2} \\right)} - 0.29757 \\cos{\\left(2 q_{2} \\right)} + 0.30243 & \\left(- Ix_{2} - Iz_{2}\\right) \\sin{\\left(q_{2} \\right)}\\\\\\left(- Ix_{2} - Iz_{2}\\right) \\sin{\\left(q_{2} \\right)} & Ix_{2} + Iz_{2} \\sin^{2}{\\left(q_{2} \\right)}\\end{matrix}\\right]$"
     },
     "execution_count": 42,
     "metadata": {},
     "output_type": "execute_result"
    }
   ],
   "source": [
    "sy.simplify(M)"
   ],
   "metadata": {
    "collapsed": false,
    "pycharm": {
     "name": "#%%\n"
    }
   }
  },
  {
   "cell_type": "markdown",
   "source": [
    "### Coriolis matrix"
   ],
   "metadata": {
    "collapsed": false,
    "pycharm": {
     "name": "#%% md\n"
    }
   }
  },
  {
   "cell_type": "code",
   "execution_count": 56,
   "outputs": [
    {
     "data": {
      "text/plain": "Matrix([\n[                                dq1*(1.0*(-sin(q1)*sin(q2) - 0.09*sin(q1)*cos(q2))*(-0.3*sin(q2)*cos(q1) - 0.027*cos(q1)*cos(q2)) + 1.0*(-sin(q1)*sin(q2) - 0.09*sin(q1)*cos(q2))*(0.3*sin(q2)*cos(q1) + 0.027*cos(q1)*cos(q2)) + 1.0*(-0.3*sin(q1)*sin(q2) - 0.027*sin(q1)*cos(q2))*(-sin(q2)*cos(q1) - 0.09*cos(q1)*cos(q2)) + 1.0*(-0.3*sin(q1)*sin(q2) - 0.027*sin(q1)*cos(q2))*(sin(q2)*cos(q1) + 0.09*cos(q1)*cos(q2))) + dq2*(1.0*Ix2*sin(q2)*cos(q2) + 1.0*(-sin(q1)*sin(q2) - 0.09*sin(q1)*cos(q2))*(0.027*sin(q1)*sin(q2) - 0.3*sin(q1)*cos(q2)) + 1.0*(-0.3*sin(q1)*sin(q2) - 0.027*sin(q1)*cos(q2))*(0.09*sin(q1)*sin(q2) - sin(q1)*cos(q2)) + 1.0*(-0.09*sin(q2)*cos(q1) + cos(q1)*cos(q2))*(0.3*sin(q2)*cos(q1) + 0.027*cos(q1)*cos(q2)) + 1.0*(-0.027*sin(q2)*cos(q1) + 0.3*cos(q1)*cos(q2))*(sin(q2)*cos(q1) + 0.09*cos(q1)*cos(q2))),                                                                                                                   dq1*(1.0*Ix2*sin(q2)*cos(q2) + 1.0*(-sin(q1)*sin(q2) - 0.09*sin(q1)*cos(q2))*(0.027*sin(q1)*sin(q2) - 0.3*sin(q1)*cos(q2)) + 1.0*(-0.3*sin(q1)*sin(q2) - 0.027*sin(q1)*cos(q2))*(0.09*sin(q1)*sin(q2) - sin(q1)*cos(q2)) + 1.0*(-0.09*sin(q2)*cos(q1) + cos(q1)*cos(q2))*(0.3*sin(q2)*cos(q1) + 0.027*cos(q1)*cos(q2)) + 1.0*(-0.027*sin(q2)*cos(q1) + 0.3*cos(q1)*cos(q2))*(sin(q2)*cos(q1) + 0.09*cos(q1)*cos(q2))) + dq2*(2.0*Ix2*sin(q1)**2*sin(q2)**2*cos(q2) - 1.0*Ix2*sin(q1)**2*cos(q2)**3 + 2.0*Ix2*sin(q2)**2*cos(q1)**2*cos(q2) - 2.0*Ix2*sin(q2)**2*cos(q2) - 1.0*Ix2*cos(q1)**2*cos(q2)**3 - 1.0*(Ix2*sin(q2)**2 + Iz2)*cos(q2)), 0, 0, 0, 0],\n[dq1*(-1.0*Ix2*sin(q2)*cos(q2) - 1.0*(-sin(q1)*sin(q2) - 0.09*sin(q1)*cos(q2))*(0.027*sin(q1)*sin(q2) - 0.3*sin(q1)*cos(q2)) - 1.0*(-0.3*sin(q1)*sin(q2) - 0.027*sin(q1)*cos(q2))*(0.09*sin(q1)*sin(q2) - sin(q1)*cos(q2)) - 1.0*(-0.09*sin(q2)*cos(q1) + cos(q1)*cos(q2))*(0.3*sin(q2)*cos(q1) + 0.027*cos(q1)*cos(q2)) - 1.0*(-0.027*sin(q2)*cos(q1) + 0.3*cos(q1)*cos(q2))*(sin(q2)*cos(q1) + 0.09*cos(q1)*cos(q2))) + dq2*(-0.5*Ix2*(sin(q1)**2*cos(q2)**2 + sin(q2)**2 + cos(q1)**2*cos(q2)**2)*cos(q2) - 0.5*Ix2*(-2*sin(q1)**2*sin(q2)*cos(q2) - 2*sin(q2)*cos(q1)**2*cos(q2) + 2*sin(q2)*cos(q2))*sin(q2) - 1.0*Ix2*sin(q1)**2*sin(q2)**2*cos(q2) + 0.5*Ix2*sin(q1)**2*cos(q2)**3 - 1.0*Ix2*sin(q2)**2*cos(q1)**2*cos(q2) + 1.0*Ix2*sin(q2)**2*cos(q2) + 0.5*Ix2*cos(q1)**2*cos(q2)**3 - 0.5*Iz2*cos(q2) + 0.5*(Ix2*sin(q2)**2 + Iz2)*cos(q2)), dq2*(-1.0*Ix2*(sin(q1)**2*cos(q2)**2 + sin(q2)**2 + cos(q1)**2*cos(q2)**2)*sin(q1)**2*sin(q2)*cos(q2) - 1.0*Ix2*(sin(q1)**2*cos(q2)**2 + sin(q2)**2 + cos(q1)**2*cos(q2)**2)*sin(q2)*cos(q1)**2*cos(q2) + 0.5*Ix2*(-2*sin(q1)**2*sin(q2)*cos(q2) - 2*sin(q2)*cos(q1)**2*cos(q2) + 2*sin(q2)*cos(q2))*sin(q1)**2*cos(q2)**2 + 0.5*Ix2*(-2*sin(q1)**2*sin(q2)*cos(q2) - 2*sin(q2)*cos(q1)**2*cos(q2) + 2*sin(q2)*cos(q2))*cos(q1)**2*cos(q2)**2 - 0.5*(-Ix2*(sin(q1)**2*cos(q2)**2 + sin(q2)**2 + cos(q1)**2*cos(q2)**2)*sin(q2) - Iz2*sin(q2))*cos(q2) - 0.5*(-Ix2*(sin(q1)**2*cos(q2)**2 + sin(q2)**2 + cos(q1)**2*cos(q2)**2)*cos(q2) - Ix2*(-2*sin(q1)**2*sin(q2)*cos(q2) - 2*sin(q2)*cos(q1)**2*cos(q2) + 2*sin(q2)*cos(q2))*sin(q2) - Iz2*cos(q2))*sin(q2)), 0, 0, 0, 0],\n[                                                                                                                                                                                                                                                                                                                                                                                                                                                                                                                                                                                                                                                                                                                                                                                                                                                    0,                                                                                                                                                                                                                                                                                                                                                                                                                                                                                                                                                                                                                                                                                                                                                               0, 0, 0, 0, 0],\n[                                                                                                                                                                                                                                                                                                                                                                                                                                                                                                                                                                                                                                                                                                                                                                                                                                                    0,                                                                                                                                                                                                                                                                                                                                                                                                                                                                                                                                                                                                                                                                                                                                                               0, 0, 0, 0, 0],\n[                                                                                                                                                                                                                                                                                                                                                                                                                                                                                                                                                                                                                                                                                                                                                                                                                                                    0,                                                                                                                                                                                                                                                                                                                                                                                                                                                                                                                                                                                                                                                                                                                                                               0, 0, 0, 0, 0],\n[                                                                                                                                                                                                                                                                                                                                                                                                                                                                                                                                                                                                                                                                                                                                                                                                                                                    0,                                                                                                                                                                                                                                                                                                                                                                                                                                                                                                                                                                                                                                                                                                                                                               0, 0, 0, 0, 0]])",
      "text/latex": "$\\displaystyle \\left[\\begin{matrix}dq_{1} \\cdot \\left(1.0 \\left(- \\sin{\\left(q_{1} \\right)} \\sin{\\left(q_{2} \\right)} - 0.09 \\sin{\\left(q_{1} \\right)} \\cos{\\left(q_{2} \\right)}\\right) \\left(- 0.3 \\sin{\\left(q_{2} \\right)} \\cos{\\left(q_{1} \\right)} - 0.027 \\cos{\\left(q_{1} \\right)} \\cos{\\left(q_{2} \\right)}\\right) + 1.0 \\left(- \\sin{\\left(q_{1} \\right)} \\sin{\\left(q_{2} \\right)} - 0.09 \\sin{\\left(q_{1} \\right)} \\cos{\\left(q_{2} \\right)}\\right) \\left(0.3 \\sin{\\left(q_{2} \\right)} \\cos{\\left(q_{1} \\right)} + 0.027 \\cos{\\left(q_{1} \\right)} \\cos{\\left(q_{2} \\right)}\\right) + 1.0 \\left(- 0.3 \\sin{\\left(q_{1} \\right)} \\sin{\\left(q_{2} \\right)} - 0.027 \\sin{\\left(q_{1} \\right)} \\cos{\\left(q_{2} \\right)}\\right) \\left(- \\sin{\\left(q_{2} \\right)} \\cos{\\left(q_{1} \\right)} - 0.09 \\cos{\\left(q_{1} \\right)} \\cos{\\left(q_{2} \\right)}\\right) + 1.0 \\left(- 0.3 \\sin{\\left(q_{1} \\right)} \\sin{\\left(q_{2} \\right)} - 0.027 \\sin{\\left(q_{1} \\right)} \\cos{\\left(q_{2} \\right)}\\right) \\left(\\sin{\\left(q_{2} \\right)} \\cos{\\left(q_{1} \\right)} + 0.09 \\cos{\\left(q_{1} \\right)} \\cos{\\left(q_{2} \\right)}\\right)\\right) + dq_{2} \\cdot \\left(1.0 Ix_{2} \\sin{\\left(q_{2} \\right)} \\cos{\\left(q_{2} \\right)} + 1.0 \\left(- \\sin{\\left(q_{1} \\right)} \\sin{\\left(q_{2} \\right)} - 0.09 \\sin{\\left(q_{1} \\right)} \\cos{\\left(q_{2} \\right)}\\right) \\left(0.027 \\sin{\\left(q_{1} \\right)} \\sin{\\left(q_{2} \\right)} - 0.3 \\sin{\\left(q_{1} \\right)} \\cos{\\left(q_{2} \\right)}\\right) + 1.0 \\left(- 0.3 \\sin{\\left(q_{1} \\right)} \\sin{\\left(q_{2} \\right)} - 0.027 \\sin{\\left(q_{1} \\right)} \\cos{\\left(q_{2} \\right)}\\right) \\left(0.09 \\sin{\\left(q_{1} \\right)} \\sin{\\left(q_{2} \\right)} - \\sin{\\left(q_{1} \\right)} \\cos{\\left(q_{2} \\right)}\\right) + 1.0 \\left(- 0.09 \\sin{\\left(q_{2} \\right)} \\cos{\\left(q_{1} \\right)} + \\cos{\\left(q_{1} \\right)} \\cos{\\left(q_{2} \\right)}\\right) \\left(0.3 \\sin{\\left(q_{2} \\right)} \\cos{\\left(q_{1} \\right)} + 0.027 \\cos{\\left(q_{1} \\right)} \\cos{\\left(q_{2} \\right)}\\right) + 1.0 \\left(- 0.027 \\sin{\\left(q_{2} \\right)} \\cos{\\left(q_{1} \\right)} + 0.3 \\cos{\\left(q_{1} \\right)} \\cos{\\left(q_{2} \\right)}\\right) \\left(\\sin{\\left(q_{2} \\right)} \\cos{\\left(q_{1} \\right)} + 0.09 \\cos{\\left(q_{1} \\right)} \\cos{\\left(q_{2} \\right)}\\right)\\right) & dq_{1} \\cdot \\left(1.0 Ix_{2} \\sin{\\left(q_{2} \\right)} \\cos{\\left(q_{2} \\right)} + 1.0 \\left(- \\sin{\\left(q_{1} \\right)} \\sin{\\left(q_{2} \\right)} - 0.09 \\sin{\\left(q_{1} \\right)} \\cos{\\left(q_{2} \\right)}\\right) \\left(0.027 \\sin{\\left(q_{1} \\right)} \\sin{\\left(q_{2} \\right)} - 0.3 \\sin{\\left(q_{1} \\right)} \\cos{\\left(q_{2} \\right)}\\right) + 1.0 \\left(- 0.3 \\sin{\\left(q_{1} \\right)} \\sin{\\left(q_{2} \\right)} - 0.027 \\sin{\\left(q_{1} \\right)} \\cos{\\left(q_{2} \\right)}\\right) \\left(0.09 \\sin{\\left(q_{1} \\right)} \\sin{\\left(q_{2} \\right)} - \\sin{\\left(q_{1} \\right)} \\cos{\\left(q_{2} \\right)}\\right) + 1.0 \\left(- 0.09 \\sin{\\left(q_{2} \\right)} \\cos{\\left(q_{1} \\right)} + \\cos{\\left(q_{1} \\right)} \\cos{\\left(q_{2} \\right)}\\right) \\left(0.3 \\sin{\\left(q_{2} \\right)} \\cos{\\left(q_{1} \\right)} + 0.027 \\cos{\\left(q_{1} \\right)} \\cos{\\left(q_{2} \\right)}\\right) + 1.0 \\left(- 0.027 \\sin{\\left(q_{2} \\right)} \\cos{\\left(q_{1} \\right)} + 0.3 \\cos{\\left(q_{1} \\right)} \\cos{\\left(q_{2} \\right)}\\right) \\left(\\sin{\\left(q_{2} \\right)} \\cos{\\left(q_{1} \\right)} + 0.09 \\cos{\\left(q_{1} \\right)} \\cos{\\left(q_{2} \\right)}\\right)\\right) + dq_{2} \\cdot \\left(2.0 Ix_{2} \\sin^{2}{\\left(q_{1} \\right)} \\sin^{2}{\\left(q_{2} \\right)} \\cos{\\left(q_{2} \\right)} - 1.0 Ix_{2} \\sin^{2}{\\left(q_{1} \\right)} \\cos^{3}{\\left(q_{2} \\right)} + 2.0 Ix_{2} \\sin^{2}{\\left(q_{2} \\right)} \\cos^{2}{\\left(q_{1} \\right)} \\cos{\\left(q_{2} \\right)} - 2.0 Ix_{2} \\sin^{2}{\\left(q_{2} \\right)} \\cos{\\left(q_{2} \\right)} - 1.0 Ix_{2} \\cos^{2}{\\left(q_{1} \\right)} \\cos^{3}{\\left(q_{2} \\right)} - 1.0 \\left(Ix_{2} \\sin^{2}{\\left(q_{2} \\right)} + Iz_{2}\\right) \\cos{\\left(q_{2} \\right)}\\right) & 0 & 0 & 0 & 0\\\\dq_{1} \\left(- 1.0 Ix_{2} \\sin{\\left(q_{2} \\right)} \\cos{\\left(q_{2} \\right)} - 1.0 \\left(- \\sin{\\left(q_{1} \\right)} \\sin{\\left(q_{2} \\right)} - 0.09 \\sin{\\left(q_{1} \\right)} \\cos{\\left(q_{2} \\right)}\\right) \\left(0.027 \\sin{\\left(q_{1} \\right)} \\sin{\\left(q_{2} \\right)} - 0.3 \\sin{\\left(q_{1} \\right)} \\cos{\\left(q_{2} \\right)}\\right) - 1.0 \\left(- 0.3 \\sin{\\left(q_{1} \\right)} \\sin{\\left(q_{2} \\right)} - 0.027 \\sin{\\left(q_{1} \\right)} \\cos{\\left(q_{2} \\right)}\\right) \\left(0.09 \\sin{\\left(q_{1} \\right)} \\sin{\\left(q_{2} \\right)} - \\sin{\\left(q_{1} \\right)} \\cos{\\left(q_{2} \\right)}\\right) - 1.0 \\left(- 0.09 \\sin{\\left(q_{2} \\right)} \\cos{\\left(q_{1} \\right)} + \\cos{\\left(q_{1} \\right)} \\cos{\\left(q_{2} \\right)}\\right) \\left(0.3 \\sin{\\left(q_{2} \\right)} \\cos{\\left(q_{1} \\right)} + 0.027 \\cos{\\left(q_{1} \\right)} \\cos{\\left(q_{2} \\right)}\\right) - 1.0 \\left(- 0.027 \\sin{\\left(q_{2} \\right)} \\cos{\\left(q_{1} \\right)} + 0.3 \\cos{\\left(q_{1} \\right)} \\cos{\\left(q_{2} \\right)}\\right) \\left(\\sin{\\left(q_{2} \\right)} \\cos{\\left(q_{1} \\right)} + 0.09 \\cos{\\left(q_{1} \\right)} \\cos{\\left(q_{2} \\right)}\\right)\\right) + dq_{2} \\left(- 0.5 Ix_{2} \\left(\\sin^{2}{\\left(q_{1} \\right)} \\cos^{2}{\\left(q_{2} \\right)} + \\sin^{2}{\\left(q_{2} \\right)} + \\cos^{2}{\\left(q_{1} \\right)} \\cos^{2}{\\left(q_{2} \\right)}\\right) \\cos{\\left(q_{2} \\right)} - 0.5 Ix_{2} \\left(- 2 \\sin^{2}{\\left(q_{1} \\right)} \\sin{\\left(q_{2} \\right)} \\cos{\\left(q_{2} \\right)} - 2 \\sin{\\left(q_{2} \\right)} \\cos^{2}{\\left(q_{1} \\right)} \\cos{\\left(q_{2} \\right)} + 2 \\sin{\\left(q_{2} \\right)} \\cos{\\left(q_{2} \\right)}\\right) \\sin{\\left(q_{2} \\right)} - 1.0 Ix_{2} \\sin^{2}{\\left(q_{1} \\right)} \\sin^{2}{\\left(q_{2} \\right)} \\cos{\\left(q_{2} \\right)} + 0.5 Ix_{2} \\sin^{2}{\\left(q_{1} \\right)} \\cos^{3}{\\left(q_{2} \\right)} - 1.0 Ix_{2} \\sin^{2}{\\left(q_{2} \\right)} \\cos^{2}{\\left(q_{1} \\right)} \\cos{\\left(q_{2} \\right)} + 1.0 Ix_{2} \\sin^{2}{\\left(q_{2} \\right)} \\cos{\\left(q_{2} \\right)} + 0.5 Ix_{2} \\cos^{2}{\\left(q_{1} \\right)} \\cos^{3}{\\left(q_{2} \\right)} - 0.5 Iz_{2} \\cos{\\left(q_{2} \\right)} + 0.5 \\left(Ix_{2} \\sin^{2}{\\left(q_{2} \\right)} + Iz_{2}\\right) \\cos{\\left(q_{2} \\right)}\\right) & dq_{2} \\left(- 1.0 Ix_{2} \\left(\\sin^{2}{\\left(q_{1} \\right)} \\cos^{2}{\\left(q_{2} \\right)} + \\sin^{2}{\\left(q_{2} \\right)} + \\cos^{2}{\\left(q_{1} \\right)} \\cos^{2}{\\left(q_{2} \\right)}\\right) \\sin^{2}{\\left(q_{1} \\right)} \\sin{\\left(q_{2} \\right)} \\cos{\\left(q_{2} \\right)} - 1.0 Ix_{2} \\left(\\sin^{2}{\\left(q_{1} \\right)} \\cos^{2}{\\left(q_{2} \\right)} + \\sin^{2}{\\left(q_{2} \\right)} + \\cos^{2}{\\left(q_{1} \\right)} \\cos^{2}{\\left(q_{2} \\right)}\\right) \\sin{\\left(q_{2} \\right)} \\cos^{2}{\\left(q_{1} \\right)} \\cos{\\left(q_{2} \\right)} + 0.5 Ix_{2} \\left(- 2 \\sin^{2}{\\left(q_{1} \\right)} \\sin{\\left(q_{2} \\right)} \\cos{\\left(q_{2} \\right)} - 2 \\sin{\\left(q_{2} \\right)} \\cos^{2}{\\left(q_{1} \\right)} \\cos{\\left(q_{2} \\right)} + 2 \\sin{\\left(q_{2} \\right)} \\cos{\\left(q_{2} \\right)}\\right) \\sin^{2}{\\left(q_{1} \\right)} \\cos^{2}{\\left(q_{2} \\right)} + 0.5 Ix_{2} \\left(- 2 \\sin^{2}{\\left(q_{1} \\right)} \\sin{\\left(q_{2} \\right)} \\cos{\\left(q_{2} \\right)} - 2 \\sin{\\left(q_{2} \\right)} \\cos^{2}{\\left(q_{1} \\right)} \\cos{\\left(q_{2} \\right)} + 2 \\sin{\\left(q_{2} \\right)} \\cos{\\left(q_{2} \\right)}\\right) \\cos^{2}{\\left(q_{1} \\right)} \\cos^{2}{\\left(q_{2} \\right)} - 0.5 \\left(- Ix_{2} \\left(\\sin^{2}{\\left(q_{1} \\right)} \\cos^{2}{\\left(q_{2} \\right)} + \\sin^{2}{\\left(q_{2} \\right)} + \\cos^{2}{\\left(q_{1} \\right)} \\cos^{2}{\\left(q_{2} \\right)}\\right) \\sin{\\left(q_{2} \\right)} - Iz_{2} \\sin{\\left(q_{2} \\right)}\\right) \\cos{\\left(q_{2} \\right)} - 0.5 \\left(- Ix_{2} \\left(\\sin^{2}{\\left(q_{1} \\right)} \\cos^{2}{\\left(q_{2} \\right)} + \\sin^{2}{\\left(q_{2} \\right)} + \\cos^{2}{\\left(q_{1} \\right)} \\cos^{2}{\\left(q_{2} \\right)}\\right) \\cos{\\left(q_{2} \\right)} - Ix_{2} \\left(- 2 \\sin^{2}{\\left(q_{1} \\right)} \\sin{\\left(q_{2} \\right)} \\cos{\\left(q_{2} \\right)} - 2 \\sin{\\left(q_{2} \\right)} \\cos^{2}{\\left(q_{1} \\right)} \\cos{\\left(q_{2} \\right)} + 2 \\sin{\\left(q_{2} \\right)} \\cos{\\left(q_{2} \\right)}\\right) \\sin{\\left(q_{2} \\right)} - Iz_{2} \\cos{\\left(q_{2} \\right)}\\right) \\sin{\\left(q_{2} \\right)}\\right) & 0 & 0 & 0 & 0\\\\0 & 0 & 0 & 0 & 0 & 0\\\\0 & 0 & 0 & 0 & 0 & 0\\\\0 & 0 & 0 & 0 & 0 & 0\\\\0 & 0 & 0 & 0 & 0 & 0\\end{matrix}\\right]$"
     },
     "execution_count": 56,
     "metadata": {},
     "output_type": "execute_result"
    }
   ],
   "source": [
    "C = np.zeros((6,6)).astype('object')\n",
    "\n",
    "for i in range(M.shape[0]):\n",
    "    for j in range(M.shape[1]):\n",
    "        for k in range(M.shape[0]):\n",
    "            C[i][j] += 0.5 * (sy.diff(M[i, j], q[k]) + sy.diff(M[i, k], q[j]) - sy.diff(M[j, k], q[i])) * dq[k]\n",
    "C = sy.Matrix(C)\n",
    "C"
   ],
   "metadata": {
    "collapsed": false,
    "pycharm": {
     "name": "#%%\n"
    }
   }
  },
  {
   "cell_type": "markdown",
   "source": [
    "### Gravity"
   ],
   "metadata": {
    "collapsed": false,
    "pycharm": {
     "name": "#%% md\n"
    }
   }
  },
  {
   "cell_type": "code",
   "execution_count": 57,
   "outputs": [
    {
     "data": {
      "text/plain": "Matrix([\n[0],\n[0]])",
      "text/latex": "$\\displaystyle \\left[\\begin{matrix}0\\\\0\\end{matrix}\\right]$"
     },
     "execution_count": 57,
     "metadata": {},
     "output_type": "execute_result"
    }
   ],
   "source": [
    "# gravity\n",
    "g = sy.Matrix([[0],[0]])\n",
    "g0 = sy.Matrix([[0], [0], [G]])\n",
    "J = [J1,J2]\n",
    "m = [m1,m2]\n",
    "for i in range(2):\n",
    "    for k in range(len(J)):\n",
    "        g[i] -= (J[k][:3,i].T * m[k] * g0)[0]\n",
    "g"
   ],
   "metadata": {
    "collapsed": false,
    "pycharm": {
     "name": "#%%\n"
    }
   }
  },
  {
   "cell_type": "code",
   "execution_count": 59,
   "outputs": [
    {
     "data": {
      "text/plain": "0.55"
     },
     "execution_count": 59,
     "metadata": {},
     "output_type": "execute_result"
    }
   ],
   "source": [
    "11/20"
   ],
   "metadata": {
    "collapsed": false,
    "pycharm": {
     "name": "#%%\n"
    }
   }
  },
  {
   "cell_type": "code",
   "execution_count": 60,
   "outputs": [
    {
     "data": {
      "text/plain": "0.64"
     },
     "execution_count": 60,
     "metadata": {},
     "output_type": "execute_result"
    }
   ],
   "source": [
    "16/25"
   ],
   "metadata": {
    "collapsed": false,
    "pycharm": {
     "name": "#%%\n"
    }
   }
  },
  {
   "cell_type": "code",
   "execution_count": 49,
   "outputs": [
    {
     "data": {
      "text/plain": "Matrix([\n[-sin(q1)*sin(q2) - 0.09*sin(q1)*cos(q2)],\n[ sin(q2)*cos(q1) + 0.09*cos(q1)*cos(q2)],\n[                                      0]])",
      "text/latex": "$\\displaystyle \\left[\\begin{matrix}- \\sin{\\left(q_{1} \\right)} \\sin{\\left(q_{2} \\right)} - 0.09 \\sin{\\left(q_{1} \\right)} \\cos{\\left(q_{2} \\right)}\\\\\\sin{\\left(q_{2} \\right)} \\cos{\\left(q_{1} \\right)} + 0.09 \\cos{\\left(q_{1} \\right)} \\cos{\\left(q_{2} \\right)}\\\\0\\end{matrix}\\right]$"
     },
     "execution_count": 49,
     "metadata": {},
     "output_type": "execute_result"
    }
   ],
   "source": [
    "J1[:3,0]"
   ],
   "metadata": {
    "collapsed": false,
    "pycharm": {
     "name": "#%%\n"
    }
   }
  },
  {
   "cell_type": "code",
   "execution_count": 18,
   "outputs": [
    {
     "data": {
      "text/plain": "Matrix([\n[                                                                                                                                                0],\n[g*(1.0*L3*m3*sin(q2 + q3) + 1.0*L3*m4*sin(q2 + q3) + 1.0*L3*m5*sin(q2 + q3) + 1.0*L3*m6*sin(q2 + q3) + m2*(0.5*L2*sin(q2) + 1.0*L3*sin(q2 + q3)))],\n[                                                                                                                         0.5*L3*g*m3*sin(q2 + q3)],\n[                                                                                                                                                0],\n[                                                                                                                                                0],\n[                                                                                                                                                0]])",
      "text/latex": "$\\displaystyle \\left[\\begin{matrix}0\\\\g \\left(1.0 L_{3} m_{3} \\sin{\\left(q_{2} + q_{3} \\right)} + 1.0 L_{3} m_{4} \\sin{\\left(q_{2} + q_{3} \\right)} + 1.0 L_{3} m_{5} \\sin{\\left(q_{2} + q_{3} \\right)} + 1.0 L_{3} m_{6} \\sin{\\left(q_{2} + q_{3} \\right)} + m_{2} \\cdot \\left(0.5 L_{2} \\sin{\\left(q_{2} \\right)} + 1.0 L_{3} \\sin{\\left(q_{2} + q_{3} \\right)}\\right)\\right)\\\\0.5 L_{3} g m_{3} \\sin{\\left(q_{2} + q_{3} \\right)}\\\\0\\\\0\\\\0\\end{matrix}\\right]$"
     },
     "execution_count": 18,
     "metadata": {},
     "output_type": "execute_result"
    }
   ],
   "source": [
    "# sy.simplify(g)"
   ],
   "metadata": {
    "collapsed": false,
    "pycharm": {
     "name": "#%%\n"
    }
   }
  },
  {
   "cell_type": "markdown",
   "source": [
    "### Result"
   ],
   "metadata": {
    "collapsed": false,
    "pycharm": {
     "name": "#%% md\n"
    }
   }
  },
  {
   "cell_type": "code",
   "execution_count": 15,
   "outputs": [
    {
     "data": {
      "text/plain": "(6, 1)"
     },
     "execution_count": 15,
     "metadata": {},
     "output_type": "execute_result"
    }
   ],
   "source": [
    "Torque = M * ddq + C * dq + g\n",
    "Torque.shape"
   ],
   "metadata": {
    "collapsed": false,
    "pycharm": {
     "name": "#%%\n"
    }
   }
  }
 ],
 "metadata": {
  "kernelspec": {
   "display_name": "Python 3",
   "language": "python",
   "name": "python3"
  },
  "language_info": {
   "codemirror_mode": {
    "name": "ipython",
    "version": 2
   },
   "file_extension": ".py",
   "mimetype": "text/x-python",
   "name": "python",
   "nbconvert_exporter": "python",
   "pygments_lexer": "ipython2",
   "version": "2.7.6"
  }
 },
 "nbformat": 4,
 "nbformat_minor": 0
}