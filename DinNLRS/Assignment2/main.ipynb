{
 "cells": [
  {
   "cell_type": "code",
   "execution_count": 1,
   "outputs": [],
   "source": [
    "import numpy as np\n",
    "import pandas"
   ],
   "metadata": {
    "collapsed": false,
    "pycharm": {
     "name": "#%%\n"
    }
   }
  },
  {
   "cell_type": "code",
   "execution_count": 2,
   "outputs": [],
   "source": [
    "#Matrices\n",
    "def Rx(q):\n",
    "    mtx = np.identity(4)\n",
    "    mtx[1, 1] = mtx[2, 2] = np.cos(q)\n",
    "    mtx[2, 1],  mtx[1, 2] = np.sin(q), -np.sin(q)\n",
    "    return mtx\n",
    "\n",
    "def Rz(q):\n",
    "    mtx = np.identity(4)\n",
    "    mtx[0, 0] = mtx[1, 1] = np.cos(q)\n",
    "    mtx[1, 0],  mtx[0, 1] = np.sin(q), -np.sin(q)\n",
    "    return mtx\n",
    "\n",
    "def Tz(z):\n",
    "    mtx = np.identity(4)\n",
    "    mtx[2,3] = z\n",
    "    return mtx\n",
    "def Ttool(*args):\n",
    "    x,y,z = args\n",
    "    mtx = np.identity(4)\n",
    "    mtx[0,3],mtx[1,3],mtx[2,3] = x,y,z\n",
    "    return mtx\n",
    "\n",
    "def vectors(mtx):\n",
    "    return mtx[:3,3], mtx[:3,:3]"
   ],
   "metadata": {
    "collapsed": false,
    "pycharm": {
     "name": "#%%\n"
    }
   }
  },
  {
   "cell_type": "code",
   "execution_count": 3,
   "metadata": {
    "collapsed": true,
    "pycharm": {
     "name": "#%%\n"
    }
   },
   "outputs": [],
   "source": [
    "def ForwardKinematics(*args): #from previous manipulator\n",
    "    q1,q2,q3,q4,q5,q6,L1,L2,L3,d = args\n",
    "    Tbase = np.identity(4)\n",
    "    return Tbase @ Rz(q1) @ Tz(L1) @ Rx(q2) @ Tz(L2) @ Rx(q3) @ Tz(L3) @ Rz(q4) @ Rx(q5) @ Rz(q6) @ Ttool(*d)"
   ]
  },
  {
   "cell_type": "code",
   "execution_count": 4,
   "outputs": [
    {
     "data": {
      "text/plain": "array([[ 0.46888175, -0.87822284,  0.09420481,  0.22750217],\n       [ 0.3351654 ,  0.07823014, -0.93890585, -2.26743326],\n       [ 0.81719891,  0.47181001,  0.3310306 ,  1.79883333],\n       [ 0.        ,  0.        ,  0.        ,  1.        ]])"
     },
     "execution_count": 4,
     "metadata": {},
     "output_type": "execute_result"
    }
   ],
   "source": [
    "#Solution FK\n",
    "q1,q2,q3,q4,q5,q6,L1,L2,L3,d = [0.1,np.pi/7,1.57,0,-np.pi/4,np.pi/3,1,1,1,(0,0,1)]\n",
    "FK = ForwardKinematics(*[q1,q2,q3,q4,q5,q6,L1,L2,L3,d])\n",
    "FK"
   ],
   "metadata": {
    "collapsed": false,
    "pycharm": {
     "name": "#%%\n"
    }
   }
  },
  {
   "cell_type": "code",
   "execution_count": 5,
   "outputs": [],
   "source": [
    "def Jacobian(FK, *args):\n",
    "\n",
    "    q1,q2,q3,q4,q5,q6,L1,L2,L3,d = args\n",
    "\n",
    "    On, rotation_mtx = vectors(FK)\n",
    "\n",
    "    O1, rot1 = vectors(Rz(q1) @ Tz(L1))\n",
    "    U1 = rot1[:, 2]\n",
    "    J1 = np.concatenate((np.cross(U1, On-O1),\n",
    "                         U1))\n",
    "\n",
    "    O2, rot2 = vectors(Rz(q1) @ Tz(L1) @ Rx(q2) @ Tz(L2))\n",
    "    U2 = rot2[:, 0]\n",
    "    J2 = np.concatenate((np.cross(U2, On-O2),\n",
    "                         U2))\n",
    "\n",
    "    O3, rot3 = vectors(Rz(q1) @ Tz(L1) @ Rx(q2) @ Tz(L2) @ Rx(q3) @ Tz(L3))\n",
    "    U3 = rot3[:, 0]\n",
    "    J3 = np.concatenate((np.cross(U3, On-O3),\n",
    "                         U3))\n",
    "\n",
    "    O4, rot4 = vectors(Rz(q1) @ Tz(L1) @ Rx(q2) @ Tz(L2) @ Rx(q3) @ Tz(L3) @ Rz(q4))\n",
    "    U4 = rot4[:, 2]\n",
    "    J4 = np.concatenate((np.cross(U4, On-O4),\n",
    "                         U4))\n",
    "\n",
    "    O5, rot5 = vectors(Rz(q1) @ Tz(L1) @ Rx(q2) @ Tz(L2) @ Rx(q3) @ Tz(L3) @ Rz(q4) @ Rx(q5))\n",
    "    U5 = rot5[:, 2]\n",
    "    J5 = np.concatenate((np.cross(U5, On-O5),\n",
    "                         U5))\n",
    "\n",
    "    O6, rot6 = vectors(Rz(q1) @ Tz(L1) @ Rx(q2) @ Tz(L2) @ Rx(q3) @ Tz(L3) @ Rz(q4) @ Rx(q5) @ Rz(q6))\n",
    "    U6 = rot6[:, 2]\n",
    "    J6 = np.concatenate((np.cross(U6, On-O6),\n",
    "                         U6))\n",
    "\n",
    "    return pandas.DataFrame({0:J1,1:J2,2:J3,3:J4,4:J5,5:J6})"
   ],
   "metadata": {
    "collapsed": false,
    "pycharm": {
     "name": "#%%\n"
    }
   }
  },
  {
   "cell_type": "code",
   "execution_count": 9,
   "outputs": [
    {
     "data": {
      "text/plain": "array([ 0.58957394,  0.06917146, -0.        ,  0.        ,  0.        ,\n        1.        ])"
     },
     "execution_count": 9,
     "metadata": {},
     "output_type": "execute_result"
    }
   ],
   "source": [
    "q1,q2,q3,q4,q5,q6,L1,L2,L3,d\n",
    "\n",
    "On, rotation_mtx = vectors(FK)\n",
    "\n",
    "O1, rot1 = vectors(Rz(q1) @ Tz(L1))\n",
    "U1 = rot1[:, 2]\n",
    "J1 = np.concatenate((np.cross(U1, On-O1),\n",
    "                     U1))\n",
    "J1"
   ],
   "metadata": {
    "collapsed": false,
    "pycharm": {
     "name": "#%%\n"
    }
   }
  },
  {
   "cell_type": "code",
   "execution_count": 6,
   "outputs": [
    {
     "data": {
      "text/plain": "          0         1         2             3             4             5\n0  2.267433 -0.010197  0.033048 -7.035742e-01 -1.110223e-16 -1.110223e-16\n1  0.227502  0.101625 -0.329377 -7.059289e-02  0.000000e+00  0.000000e+00\n2 -0.000000 -1.844934 -0.943620  2.775558e-17  4.163336e-17  4.163336e-17\n3  0.000000  0.995004  0.995004  8.998127e-02  9.420481e-02  9.420481e-02\n4  0.000000  0.099833  0.099833 -8.968113e-01 -9.389059e-01 -9.389059e-01\n5  1.000000  0.000000  0.000000 -4.331661e-01  3.310306e-01  3.310306e-01",
      "text/html": "<div>\n<style scoped>\n    .dataframe tbody tr th:only-of-type {\n        vertical-align: middle;\n    }\n\n    .dataframe tbody tr th {\n        vertical-align: top;\n    }\n\n    .dataframe thead th {\n        text-align: right;\n    }\n</style>\n<table border=\"1\" class=\"dataframe\">\n  <thead>\n    <tr style=\"text-align: right;\">\n      <th></th>\n      <th>0</th>\n      <th>1</th>\n      <th>2</th>\n      <th>3</th>\n      <th>4</th>\n      <th>5</th>\n    </tr>\n  </thead>\n  <tbody>\n    <tr>\n      <th>0</th>\n      <td>2.267433</td>\n      <td>-0.010197</td>\n      <td>0.033048</td>\n      <td>-7.035742e-01</td>\n      <td>-1.110223e-16</td>\n      <td>-1.110223e-16</td>\n    </tr>\n    <tr>\n      <th>1</th>\n      <td>0.227502</td>\n      <td>0.101625</td>\n      <td>-0.329377</td>\n      <td>-7.059289e-02</td>\n      <td>0.000000e+00</td>\n      <td>0.000000e+00</td>\n    </tr>\n    <tr>\n      <th>2</th>\n      <td>-0.000000</td>\n      <td>-1.844934</td>\n      <td>-0.943620</td>\n      <td>2.775558e-17</td>\n      <td>4.163336e-17</td>\n      <td>4.163336e-17</td>\n    </tr>\n    <tr>\n      <th>3</th>\n      <td>0.000000</td>\n      <td>0.995004</td>\n      <td>0.995004</td>\n      <td>8.998127e-02</td>\n      <td>9.420481e-02</td>\n      <td>9.420481e-02</td>\n    </tr>\n    <tr>\n      <th>4</th>\n      <td>0.000000</td>\n      <td>0.099833</td>\n      <td>0.099833</td>\n      <td>-8.968113e-01</td>\n      <td>-9.389059e-01</td>\n      <td>-9.389059e-01</td>\n    </tr>\n    <tr>\n      <th>5</th>\n      <td>1.000000</td>\n      <td>0.000000</td>\n      <td>0.000000</td>\n      <td>-4.331661e-01</td>\n      <td>3.310306e-01</td>\n      <td>3.310306e-01</td>\n    </tr>\n  </tbody>\n</table>\n</div>"
     },
     "execution_count": 6,
     "metadata": {},
     "output_type": "execute_result"
    }
   ],
   "source": [
    "Jacobian(FK,*[q1,q2,q3,q4,q5,q6,L1,L2,L3,d])"
   ],
   "metadata": {
    "collapsed": false,
    "pycharm": {
     "name": "#%%\n"
    }
   }
  },
  {
   "cell_type": "code",
   "execution_count": 7,
   "outputs": [
    {
     "name": "stdout",
     "output_type": "stream",
     "text": [
      "Singularity detected, det = 0.0\n"
     ]
    }
   ],
   "source": [
    "#Let's rotate one of the axis at pi/2\n",
    "q1,q2,q3,q4,q5,q6,L1,L2,L3,d = [0.1,np.pi/7,1.57,0,np.pi/2,0,1,1,1,(0,0,1)]\n",
    "FK = ForwardKinematics(*[q1,q2,q3,q4,q5,q6,L1,L2,L3,d])\n",
    "J = Jacobian(FK,*[q1,q2,q3,q4,q5,q6,L1,L2,L3,d])\n",
    "det = np.linalg.det(np.array(J, dtype = np.float32))\n",
    "if det: # If det = 0\n",
    "    print('There is no singularity, det = {}'.format(det))\n",
    "else:\n",
    "    print('Singularity detected, det = {}'.format(det))"
   ],
   "metadata": {
    "collapsed": false,
    "pycharm": {
     "name": "#%%\n"
    }
   }
  },
  {
   "cell_type": "code",
   "execution_count": 8,
   "outputs": [
    {
     "name": "stdout",
     "output_type": "stream",
     "text": [
      "There is no singularity, det = 1.2603033672783034e-20\n"
     ]
    }
   ],
   "source": [
    "q1,q2,q3,q4,q5,q6,L1,L2,L3,d = [0.1,0.1,0.1,0.1,0.1,0.1,1,1,1,(0,0,1)]\n",
    "FK = ForwardKinematics(*[q1,q2,q3,q4,q5,q6,L1,L2,L3,d])\n",
    "J = Jacobian(FK,*[q1,q2,q3,q4,q5,q6,L1,L2,L3,d])\n",
    "det = np.linalg.det(np.array(J, dtype = np.float32))\n",
    "if det:\n",
    "    print('There is no singularity, det = {}'.format(det))\n",
    "else:\n",
    "    print('Singularity detected, det = {}'.format(det))"
   ],
   "metadata": {
    "collapsed": false,
    "pycharm": {
     "name": "#%%\n"
    }
   }
  }
 ],
 "metadata": {
  "kernelspec": {
   "display_name": "Python 3",
   "language": "python",
   "name": "python3"
  },
  "language_info": {
   "codemirror_mode": {
    "name": "ipython",
    "version": 2
   },
   "file_extension": ".py",
   "mimetype": "text/x-python",
   "name": "python",
   "nbconvert_exporter": "python",
   "pygments_lexer": "ipython2",
   "version": "2.7.6"
  }
 },
 "nbformat": 4,
 "nbformat_minor": 0
}