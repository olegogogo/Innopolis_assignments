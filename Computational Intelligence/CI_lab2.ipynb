{
  "nbformat": 4,
  "nbformat_minor": 0,
  "metadata": {
    "colab": {
      "provenance": []
    },
    "kernelspec": {
      "name": "python3",
      "display_name": "Python 3"
    },
    "language_info": {
      "name": "python"
    }
  },
  "cells": [
    {
      "cell_type": "markdown",
      "source": [
        "#**Quadratic Programming**\n",
        "\n",
        "A quadratic program is an optimization problem with a quadratic objective and affine equality and inequality constraints. A common standard form is the following:\n",
        "\n",
        "\\begin{equation}\n",
        "\\begin{aligned}\n",
        "\\min_{x} \\quad & \\frac{1}{2}x^{T}Px + q^Tx \\\\\n",
        "\\textrm{s.t.} \\quad & Gx \\leq h\\\\\n",
        "& Ax =b\n",
        "\\end{aligned}\n",
        "\\end{equation}\n",
        "\n",
        "Concider the following optimizational problem\n",
        "\\begin{equation}\n",
        "\\begin{aligned}\n",
        "\\min_{x} \\quad & (x_1+x_2-8)^2\\\\\n",
        "\\textrm{s.t.} \\quad & x_1-x_2\\leq -6\\\\\n",
        "\\end{aligned}\n",
        "\\end{equation}\n",
        "\n",
        "We need to rewrite the quadratic equation in the proper matrix equation as above.\n",
        "First, consider the matrix notation for a general quadratic function of two variables: $x_1$ and $x_2$:\n",
        "\n",
        "\\begin{equation}\n",
        "\\begin{aligned}\n",
        "x = \\begin{bmatrix} x_1 \\\\ x_2 \\end{bmatrix} \\quad\n",
        "P = \\begin{bmatrix} p_{11} & p_{12} \\\\ p_{21} & p_{22} \\end{bmatrix} \\quad\n",
        "q^T = \\begin{bmatrix} q_1 & q_2 \\end{bmatrix}\n",
        "\\end{aligned}\n",
        "\\end{equation}\n",
        "\n",
        "Second we can extract the matrix $P$ and vector $q^T$ by parameter mapping\n",
        "\n",
        "\\begin{equation}\n",
        "\\begin{aligned}\n",
        "\\frac{1}{2}x^{T}Px + q^Tx = & \\frac{1}{2} \n",
        "\\begin{bmatrix} x_1 & x_2 \\end{bmatrix}\n",
        "\\begin{bmatrix} p_{11} & p_{12} \\\\ p_{21} & p_{22} \\end{bmatrix}\n",
        "\\begin{bmatrix} x_1 \\\\ x_2 \\end{bmatrix}+\n",
        "\\begin{bmatrix} q_1 & q_2 \\end{bmatrix}\n",
        "\\begin{bmatrix} x_1 \\\\ x_2 \\end{bmatrix}=\\\\\n",
        "& \\frac{1}{2}(p_{11}x_1^2+p_{22}x_2^2 +(p_{12}+p_{21})x_1x_2)+q_1x_1+q_2x_2\n",
        "\\end{aligned}\n",
        "\\end{equation}\n",
        "\n",
        "\\begin{equation}\n",
        "\\begin{aligned}\n",
        "(x_1+x_2-8)^2 = x_1^2+x_2^2+2x_1x_2-16x_1-16x_2+64\n",
        "\\end{aligned}\n",
        "\\end{equation}\n",
        "\n",
        "\\begin{equation}\n",
        "\\begin{aligned}\n",
        "P = \\begin{bmatrix} p_{11} & p_{12} \\\\ p_{21} & p_{22} \\end{bmatrix} =\n",
        "\\begin{bmatrix} 2 & 2 \\\\ 2 & 2 \\end{bmatrix} \\\\\n",
        "q^T = \\begin{bmatrix} q_1 & q_2 \\end{bmatrix} =\n",
        "\\begin{bmatrix} -16 & -16 \\end{bmatrix}\n",
        "\\end{aligned}\n",
        "\\end{equation}\n",
        "\n",
        "Similarly, the constraint matrix $G$ and the vector $h$ can be found:\n",
        "\n",
        "\\begin{equation}\n",
        "\\begin{aligned}\n",
        "G = \\begin{bmatrix} g_{11} & g_{12}  \\end{bmatrix} =\n",
        "\\begin{bmatrix} 1 & -1 \\end{bmatrix} \\\\\n",
        "h=\\begin{bmatrix} -6 \\end{bmatrix}\n",
        "\\end{aligned}\n",
        "\\end{equation}\n",
        "\n",
        "**Code and output**"
      ],
      "metadata": {
        "id": "UlXPVvpMlPXR"
      }
    },
    {
      "cell_type": "code",
      "source": [
        "import cvxpy as cp\n",
        "import numpy as np\n",
        "\n",
        "size_x = 2\n",
        "\n",
        "P = np.array([[2, 2], [2, 2]])\n",
        "q = np.array([[-16],[-16]])\n",
        "G = np.array([[1, -1]])\n",
        "h = np.array([[-6]])\n",
        "\n",
        "x = cp.Variable(size_x)\n",
        "prob = cp.Problem(cp.Minimize((1/2)*cp.quad_form(x, P) + q.T @ x),\n",
        "                 [G @ x <= h])\n",
        "prob.solve()\n",
        "# Print result.\n",
        "print(\"\\nThe optimal value is\", prob.value)\n",
        "print(\"A solution x is\")\n",
        "print(x.value)"
      ],
      "metadata": {
        "colab": {
          "base_uri": "https://localhost:8080/"
        },
        "id": "ugxTnz8I2w6h",
        "outputId": "e409f148-9811-42f3-989d-e658d7997533"
      },
      "execution_count": null,
      "outputs": [
        {
          "output_type": "stream",
          "name": "stdout",
          "text": [
            "\n",
            "The optimal value is -63.99999999948304\n",
            "A solution x is\n",
            "[-0.79992672  8.79994946]\n"
          ]
        }
      ]
    },
    {
      "cell_type": "markdown",
      "source": [
        "Therefore, when $x_1 = -0.8$ and $x_2 = 8.8$ the quadratic function is minimized (-64 + 64 = 0, don’t forget the constant 64). "
      ],
      "metadata": {
        "id": "xdxbjFIFf962"
      }
    },
    {
      "cell_type": "code",
      "source": [
        "print((x.value[0]+x.value[1]-8)*(x.value[0]+x.value[1]-8))\n",
        "print(x.value[0]-x.value[1])"
      ],
      "metadata": {
        "colab": {
          "base_uri": "https://localhost:8080/"
        },
        "id": "3d4zG1brgiyX",
        "outputId": "e4240041-20db-4aeb-bafa-3d2ace537d9c"
      },
      "execution_count": null,
      "outputs": [
        {
          "output_type": "stream",
          "name": "stdout",
          "text": [
            "5.169720269488514e-10\n",
            "-9.599876186517633\n"
          ]
        }
      ]
    },
    {
      "cell_type": "markdown",
      "source": [
        "Some other libraries to solve QP problems (quadprog, solveQP)"
      ],
      "metadata": {
        "id": "KHO1s2yT27aQ"
      }
    },
    {
      "cell_type": "code",
      "source": [
        "!pip install qpsolvers\n",
        "from qpsolvers import solve_qp"
      ],
      "metadata": {
        "colab": {
          "base_uri": "https://localhost:8080/"
        },
        "id": "MfKALRO51BHN",
        "outputId": "42674e5b-bc19-4a37-a1ad-a7a37d5bfd03"
      },
      "execution_count": null,
      "outputs": [
        {
          "output_type": "stream",
          "name": "stdout",
          "text": [
            "Looking in indexes: https://pypi.org/simple, https://us-python.pkg.dev/colab-wheels/public/simple/\n",
            "Collecting qpsolvers\n",
            "  Downloading qpsolvers-2.7.4-py3-none-any.whl (63 kB)\n",
            "\u001b[2K     \u001b[90m━━━━━━━━━━━━━━━━━━━━━━━━━━━━━━━━━━━━━━━━\u001b[0m \u001b[32m63.7/63.7 KB\u001b[0m \u001b[31m2.8 MB/s\u001b[0m eta \u001b[36m0:00:00\u001b[0m\n",
            "\u001b[?25hRequirement already satisfied: numpy>=1.15.4 in /usr/local/lib/python3.8/dist-packages (from qpsolvers) (1.21.6)\n",
            "Requirement already satisfied: scipy>=1.2.0 in /usr/local/lib/python3.8/dist-packages (from qpsolvers) (1.7.3)\n",
            "Installing collected packages: qpsolvers\n",
            "Successfully installed qpsolvers-2.7.4\n"
          ]
        }
      ]
    },
    {
      "cell_type": "code",
      "source": [
        "x = solve_qp(P, q, G, h, A=None, b=None, solver=\"osqp\")\n",
        "print(f\"QP solution: x = {x}\")"
      ],
      "metadata": {
        "colab": {
          "base_uri": "https://localhost:8080/"
        },
        "id": "VyESNpit1zus",
        "outputId": "c5ea297c-3509-4d57-c86e-b9fabc4e151a"
      },
      "execution_count": null,
      "outputs": [
        {
          "output_type": "stream",
          "name": "stdout",
          "text": [
            "QP solution: x = [-0.79992672  8.79994946]\n"
          ]
        },
        {
          "output_type": "stream",
          "name": "stderr",
          "text": [
            "/usr/local/lib/python3.8/dist-packages/qpsolvers/conversions/warnings.py:35: UserWarning: Converted P to scipy.sparse.csc.csc_matrix\n",
            "For best performance, build P as a scipy.sparse.csc_matrix rather than as a numpy.ndarray\n",
            "  warnings.warn(\n",
            "/usr/local/lib/python3.8/dist-packages/qpsolvers/conversions/warnings.py:35: UserWarning: Converted G to scipy.sparse.csc.csc_matrix\n",
            "For best performance, build G as a scipy.sparse.csc_matrix rather than as a numpy.ndarray\n",
            "  warnings.warn(\n"
          ]
        }
      ]
    },
    {
      "cell_type": "markdown",
      "source": [
        "## **Task 1**\n",
        "Concider the following minimization problem\n",
        "\\begin{equation}\n",
        "\\begin{aligned}\n",
        "\\min_{x} \\quad & (Ax-b)^T(Ax-b)\\\\\n",
        "\\textrm{s.t.} \\quad & Gx \\leq h\\\\\n",
        "\\end{aligned}\n",
        "\\end{equation}\n",
        "1. Firstly, lets consider this problem without constrains and try to solve it analytically and then as well as QP problem and compare the results. Take\n",
        "\\begin{equation}\n",
        "\\begin{aligned}\n",
        "A = \\begin{bmatrix} 1 & 1 \\\\ 2 & 1 \\\\ 3 & 2 \\end{bmatrix} \\quad\n",
        "b = \\begin{bmatrix} 2 \\\\ 3 \\\\ 4 \\end{bmatrix}\n",
        "\\end{aligned}\n",
        "\\end{equation}\n",
        "2. Then add the constraints $-0.9\\leq x \\leq 0.9$ and solve again"
      ],
      "metadata": {
        "id": "IfbJHXkJpWge"
      }
    },
    {
      "cell_type": "code",
      "source": [
        "A = np.array([[1, 1], [2, 1], [3, 2]])\n",
        "b = np.array([[2], [3], [4]])"
      ],
      "metadata": {
        "id": "PsY-ry1HtORS"
      },
      "execution_count": null,
      "outputs": []
    },
    {
      "cell_type": "markdown",
      "source": [
        "## Task 2. Least squares estimation\n",
        "\n",
        "A sphere is described by $\\{ x \\in \\mathbb{R}^n \\mid \\left \\| x - x_c \\right \\|_2 = r\\}$. Let's try to fit a sphere in $\\mathbb{R}^n$ for a given m number of points ($u_1, u_2,...,u_m \\in \\mathbb{R}^n$), by minimizing the following error function:\n",
        "\\begin{equation}\n",
        "    \\sum_{i=1}^m (\\left \\| u_i -x_c \\right \\|_2^2-r^2)^2\n",
        "\\end{equation} over the variables $x_c \\in \\mathbb{R}^n, \\; r \\in \\mathbb{R}$.\n",
        "Using CVXPY formulate the latter equation for $\\mathbb{R}^2$ where $n$ number of points can be generated as follows:"
      ],
      "metadata": {
        "id": "Fr2AvJYl3R-l"
      }
    },
    {
      "cell_type": "code",
      "source": [
        "import matplotlib.pyplot as plt \n",
        "import random \n",
        "\n",
        "# Generate the points\n",
        "npoints = 50\n",
        "r = 1 \n",
        "c1 = (3, 4)\n",
        "plt.figure(figsize=(5,5))\n",
        "t = np.linspace(0, 2*np.pi, npoints, endpoint=False) \n",
        "x = c1[0] + r * np.cos(t) + np.random.uniform(-0.2,0.2,t.shape[0])\n",
        "y = c1[1] + r * np.sin(t) + np.random.uniform(-0.2,0.2,t.shape[0])\n",
        "plt.scatter(x, y, c='0.8')\n",
        "U = np.vstack((x,y))\n",
        "\n",
        "plt.show()"
      ],
      "metadata": {
        "colab": {
          "base_uri": "https://localhost:8080/",
          "height": 337
        },
        "id": "Dr_P982XwWng",
        "outputId": "f349342a-b06d-4eb7-e750-7766c293cc6d"
      },
      "execution_count": null,
      "outputs": [
        {
          "output_type": "stream",
          "name": "stdout",
          "text": [
            "[2.99282898 4.01522411]\n"
          ]
        },
        {
          "output_type": "display_data",
          "data": {
            "text/plain": [
              "<Figure size 360x360 with 1 Axes>"
            ],
            "image/png": "[encoded data removed]"
          },
          "metadata": {
            "needs_background": "light"
          }
        }
      ]
    },
    {
      "cell_type": "markdown",
      "source": [
        "To help to solve the previous task:\n",
        "\\begin{equation}\n",
        "r^2  = \\frac{1}{m} \\sum_{i=1}^m  \\left \\| u_i -x_c \\right \\|_2^2\n",
        "\\end{equation}\n",
        "Formulate the problem as a least squares problem in the form : $\\min_x \\left \\| Ax -b \\right \\|_2^2$."
      ],
      "metadata": {
        "id": "lilAqE_Vi1xN"
      }
    }
  ]
}