{
 "nbformat": 4,
 "nbformat_minor": 0,
 "metadata": {
  "colab": {
   "provenance": []
  },
  "kernelspec": {
   "name": "python3",
   "display_name": "Python 3"
  },
  "language_info": {
   "name": "python"
  }
 },
 "cells": [
  {
   "cell_type": "markdown",
   "source": [
    "#**SDP**\n",
    "\n",
    "Consider a system $\\mathbf{\\dot{x}} = \\mathbf{A}\\mathbf{x} + \\mathbf{B}\\mathbf{u}$ and a Lyapunov function $V = \\mathbf{x}^\\top\\mathbf{S}\\mathbf{x}$, $\\mathbf{S} \\succ 0$.\n",
    "We need to find a state feedback controller of the form\n",
    "\\begin{equation} \n",
    "\\mathbf{u} = \\mathbf{K}\\mathbf{x}\n",
    "\\end{equation} \n",
    "such that the closed-loop system namely \n",
    "\\begin{equation} \n",
    "\\begin{gathered}\n",
    "\\mathbf{\\dot{x}} = \\mathbf{(A+BK)}\\mathbf{x}\n",
    "\\end{gathered}\n",
    "\\end{equation} is quadratically stable."
   ],
   "metadata": {
    "id": "UlXPVvpMlPXR"
   }
  },
  {
   "cell_type": "code",
   "source": [
    "import numpy as np\n",
    "import cvxpy as cp\n",
    "\n",
    "size_x = 3\n",
    "size_u = 2\n",
    "\n",
    "# A = np.array([[-2.264, 1.5279, -0.9707], [0.47, -1.1007, 0.3038], [-1.726, 1.585, -0.8657]])\n",
    "# B = np.array([[-0.332, 0.4735], [-0.03225, -0.2292], [-0.23256, 0.415154]])\n",
    "\n",
    "A = np.random.randn(size_x, size_x) - 1*np.eye(size_x)\n",
    "B = 0.3*np.random.randn(size_x, size_u)\n"
   ],
   "metadata": {
    "id": "ugxTnz8I2w6h"
   },
   "execution_count": 1,
   "outputs": []
  },
  {
   "cell_type": "code",
   "source": [
    "A"
   ],
   "metadata": {
    "id": "lEp1mXT7NqEY"
   },
   "execution_count": 2,
   "outputs": [
    {
     "data": {
      "text/plain": "array([[ 0.36894356,  0.15292637,  0.69285804],\n       [-0.50494987, -0.38948431, -0.26803575],\n       [ 0.0606505 ,  0.09300234, -1.52132639]])"
     },
     "execution_count": 2,
     "metadata": {},
     "output_type": "execute_result"
    }
   ]
  },
  {
   "cell_type": "code",
   "execution_count": 3,
   "outputs": [
    {
     "data": {
      "text/plain": "array([[ 0.02036754,  0.65383155],\n       [ 0.06005638, -0.08341639],\n       [-0.28923582,  0.09499838]])"
     },
     "execution_count": 3,
     "metadata": {},
     "output_type": "execute_result"
    }
   ],
   "source": [
    "B"
   ],
   "metadata": {
    "collapsed": false
   }
  },
  {
   "cell_type": "code",
   "source": [
    "from scipy.integrate import odeint\n",
    "import matplotlib.pyplot as plt"
   ],
   "metadata": {
    "id": "3d4zG1brgiyX"
   },
   "execution_count": null,
   "outputs": []
  },
  {
   "cell_type": "code",
   "source": [],
   "metadata": {
    "id": "GN_uvgtdbdJW"
   },
   "execution_count": null,
   "outputs": []
  }
 ]
}
